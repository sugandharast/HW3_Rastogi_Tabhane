{
 "cells": [
  {
   "cell_type": "markdown",
   "metadata": {},
   "source": [
    "# HomeWork - 3\n",
    "\n",
    "\n"
   ]
  },
  {
   "cell_type": "markdown",
   "metadata": {},
   "source": [
    "# Option 2 Data wrangling/visualization/analysis"
   ]
  },
  {
   "cell_type": "markdown",
   "metadata": {},
   "source": [
    "# Team Member : Sugandha Rastogi, Sukanya Tabhane"
   ]
  },
  {
   "cell_type": "markdown",
   "metadata": {},
   "source": [
    "Note: We are using BeautifulSoup to web sracpe two web data ,States Population and Race table from worldpopulationreview.com. We are getting two HTML table. First we are using web scrape to get the data and  create the dataframe for each. Then merging both data frames into a pandas DataFrame for further analysis."
   ]
  },
  {
   "cell_type": "code",
   "execution_count": 117,
   "metadata": {},
   "outputs": [],
   "source": [
    "import requests\n",
    "import pandas as pd\n",
    "import bs4\n",
    "import ipywidgets as widgets\n",
    "import matplotlib.pyplot as plt\n",
    "import plotly.express as px\n",
    "import numpy as np\n",
    "\n",
    "import matplotlib.pyplot as plt\n",
    "import seaborn as sns\n",
    "import sweetviz as sv"
   ]
  },
  {
   "cell_type": "code",
   "execution_count": 2,
   "metadata": {},
   "outputs": [],
   "source": [
    "from bokeh.io import output_notebook"
   ]
  },
  {
   "cell_type": "code",
   "execution_count": 3,
   "metadata": {},
   "outputs": [],
   "source": [
    "%matplotlib inline"
   ]
  },
  {
   "cell_type": "code",
   "execution_count": 4,
   "metadata": {},
   "outputs": [],
   "source": [
    "#dataset 1\n",
    "url_usstates = 'https://worldpopulationreview.com/states'\n",
    "text_usstates = requests.get(url_usstates).text"
   ]
  },
  {
   "cell_type": "code",
   "execution_count": 5,
   "metadata": {},
   "outputs": [],
   "source": [
    "soup_popbystate = bs4.BeautifulSoup(text_usstates)"
   ]
  },
  {
   "cell_type": "code",
   "execution_count": 6,
   "metadata": {},
   "outputs": [],
   "source": [
    "stats_table = soup_popbystate.table"
   ]
  },
  {
   "cell_type": "code",
   "execution_count": 7,
   "metadata": {},
   "outputs": [],
   "source": [
    "stats_table_rows = stats_table.find_all('tr')"
   ]
  },
  {
   "cell_type": "code",
   "execution_count": 8,
   "metadata": {},
   "outputs": [],
   "source": [
    "header_row = stats_table_rows[0]"
   ]
  },
  {
   "cell_type": "code",
   "execution_count": 9,
   "metadata": {},
   "outputs": [
    {
     "name": "stdout",
     "output_type": "stream",
     "text": [
      "['Rank', 'State', '2021 Population', 'Growth 2021', '2018 Population', '2010 Census', 'Growth Since 2010', '% of US', 'Density (mi²)']\n",
      "9\n"
     ]
    }
   ],
   "source": [
    "ths = header_row.find_all('th')\n",
    "header = [th.text.strip() for th in ths]\n",
    "print(header)\n",
    "print(len(header))"
   ]
  },
  {
   "cell_type": "code",
   "execution_count": 10,
   "metadata": {},
   "outputs": [
    {
     "data": {
      "text/html": [
       "<div>\n",
       "<style scoped>\n",
       "    .dataframe tbody tr th:only-of-type {\n",
       "        vertical-align: middle;\n",
       "    }\n",
       "\n",
       "    .dataframe tbody tr th {\n",
       "        vertical-align: top;\n",
       "    }\n",
       "\n",
       "    .dataframe thead th {\n",
       "        text-align: right;\n",
       "    }\n",
       "</style>\n",
       "<table border=\"1\" class=\"dataframe\">\n",
       "  <thead>\n",
       "    <tr style=\"text-align: right;\">\n",
       "      <th></th>\n",
       "      <th>Rank</th>\n",
       "      <th>State</th>\n",
       "      <th>2021 Population</th>\n",
       "      <th>Growth 2021</th>\n",
       "      <th>2018 Population</th>\n",
       "      <th>2010 Census</th>\n",
       "      <th>Growth Since 2010</th>\n",
       "      <th>% of US</th>\n",
       "      <th>Density (mi²)</th>\n",
       "    </tr>\n",
       "  </thead>\n",
       "  <tbody>\n",
       "    <tr>\n",
       "      <th>0</th>\n",
       "      <td>1</td>\n",
       "      <td>California</td>\n",
       "      <td>39,613,493</td>\n",
       "      <td>0.38%</td>\n",
       "      <td>39,461,588</td>\n",
       "      <td>37,319,502</td>\n",
       "      <td>6.15%</td>\n",
       "      <td>11.84%</td>\n",
       "      <td>254</td>\n",
       "    </tr>\n",
       "    <tr>\n",
       "      <th>1</th>\n",
       "      <td>2</td>\n",
       "      <td>Texas</td>\n",
       "      <td>29,730,311</td>\n",
       "      <td>3.85%</td>\n",
       "      <td>28,628,666</td>\n",
       "      <td>25,241,971</td>\n",
       "      <td>17.78%</td>\n",
       "      <td>8.89%</td>\n",
       "      <td>114</td>\n",
       "    </tr>\n",
       "    <tr>\n",
       "      <th>2</th>\n",
       "      <td>3</td>\n",
       "      <td>Florida</td>\n",
       "      <td>21,944,577</td>\n",
       "      <td>3.30%</td>\n",
       "      <td>21,244,317</td>\n",
       "      <td>18,845,537</td>\n",
       "      <td>16.44%</td>\n",
       "      <td>6.56%</td>\n",
       "      <td>409</td>\n",
       "    </tr>\n",
       "    <tr>\n",
       "      <th>3</th>\n",
       "      <td>4</td>\n",
       "      <td>New York</td>\n",
       "      <td>19,299,981</td>\n",
       "      <td>-1.18%</td>\n",
       "      <td>19,530,351</td>\n",
       "      <td>19,399,878</td>\n",
       "      <td>-0.51%</td>\n",
       "      <td>5.77%</td>\n",
       "      <td>410</td>\n",
       "    </tr>\n",
       "    <tr>\n",
       "      <th>4</th>\n",
       "      <td>5</td>\n",
       "      <td>Pennsylvania</td>\n",
       "      <td>12,804,123</td>\n",
       "      <td>0.03%</td>\n",
       "      <td>12,800,922</td>\n",
       "      <td>12,711,160</td>\n",
       "      <td>0.73%</td>\n",
       "      <td>3.83%</td>\n",
       "      <td>286</td>\n",
       "    </tr>\n",
       "  </tbody>\n",
       "</table>\n",
       "</div>"
      ],
      "text/plain": [
       "  Rank         State 2021 Population Growth 2021 2018 Population 2010 Census  \\\n",
       "0    1    California      39,613,493       0.38%      39,461,588  37,319,502   \n",
       "1    2         Texas      29,730,311       3.85%      28,628,666  25,241,971   \n",
       "2    3       Florida      21,944,577       3.30%      21,244,317  18,845,537   \n",
       "3    4      New York      19,299,981      -1.18%      19,530,351  19,399,878   \n",
       "4    5  Pennsylvania      12,804,123       0.03%      12,800,922  12,711,160   \n",
       "\n",
       "  Growth Since 2010 % of US Density (mi²)  \n",
       "0             6.15%  11.84%           254  \n",
       "1            17.78%   8.89%           114  \n",
       "2            16.44%   6.56%           409  \n",
       "3            -0.51%   5.77%           410  \n",
       "4             0.73%   3.83%           286  "
      ]
     },
     "execution_count": 10,
     "metadata": {},
     "output_type": "execute_result"
    }
   ],
   "source": [
    "stats_data_rows = []\n",
    "for tr in stats_table_rows:\n",
    "    tds = tr.find_all('td')\n",
    "    row = [td.text for td in tds]\n",
    "    if row:\n",
    "        stats_data_rows.append(row)\n",
    "\n",
    "\n",
    "popbystate_df = pd.DataFrame(stats_data_rows, columns = header)\n",
    "popbystate_df.head()"
   ]
  },
  {
   "cell_type": "code",
   "execution_count": 11,
   "metadata": {},
   "outputs": [
    {
     "data": {
      "text/plain": [
       "Rank                 object\n",
       "State                object\n",
       "2021 Population      object\n",
       "Growth 2021          object\n",
       "2018 Population      object\n",
       "2010 Census          object\n",
       "Growth Since 2010    object\n",
       "% of US              object\n",
       "Density (mi²)        object\n",
       "dtype: object"
      ]
     },
     "execution_count": 11,
     "metadata": {},
     "output_type": "execute_result"
    }
   ],
   "source": [
    "popbystate_df.dtypes"
   ]
  },
  {
   "cell_type": "markdown",
   "metadata": {},
   "source": [
    "All the columns of our dataframe are of string type. We need to convert all the columns to int or float except the State column for correct analysis."
   ]
  },
  {
   "cell_type": "code",
   "execution_count": 12,
   "metadata": {},
   "outputs": [],
   "source": [
    "##converting data types of variables\n",
    "popbystate_df[\"Rank\"] = popbystate_df[\"Rank\"].astype(\"int\")\n",
    "popbystate_df[\"2021 Population\"] = popbystate_df[\"2021 Population\"].str.replace(',','').astype(\"int\")\n",
    "popbystate_df[\"2018 Population\"] = popbystate_df[\"2018 Population\"].str.replace(',','').astype(\"int\")\n",
    "popbystate_df[\"2010 Census\"] = popbystate_df[\"2010 Census\"].str.replace(',','').astype(\"int\")\n",
    "popbystate_df[\"Density (mi²)\"] = popbystate_df[\"Density (mi²)\"].str.replace(',','').astype(\"int\")\n",
    "popbystate_df[\"Growth Since 2010\"]=popbystate_df[\"Growth Since 2010\"].str.replace(r'%','').astype(\"float\")\n",
    "popbystate_df[\"% of US\"]=popbystate_df[\"% of US\"].str.replace(r'%','').astype(\"float\")\n",
    "popbystate_df[\"Growth 2021\"]=popbystate_df[\"Growth 2021\"].str.replace(r'%','').astype(\"float\")"
   ]
  },
  {
   "cell_type": "code",
   "execution_count": 13,
   "metadata": {},
   "outputs": [
    {
     "data": {
      "text/plain": [
       "Rank                   int32\n",
       "State                 object\n",
       "2021 Population        int32\n",
       "Growth 2021          float64\n",
       "2018 Population        int32\n",
       "2010 Census            int32\n",
       "Growth Since 2010    float64\n",
       "% of US              float64\n",
       "Density (mi²)          int32\n",
       "dtype: object"
      ]
     },
     "execution_count": 13,
     "metadata": {},
     "output_type": "execute_result"
    }
   ],
   "source": [
    "popbystate_df.dtypes"
   ]
  },
  {
   "cell_type": "code",
   "execution_count": 14,
   "metadata": {},
   "outputs": [
    {
     "data": {
      "text/html": [
       "<div>\n",
       "<style scoped>\n",
       "    .dataframe tbody tr th:only-of-type {\n",
       "        vertical-align: middle;\n",
       "    }\n",
       "\n",
       "    .dataframe tbody tr th {\n",
       "        vertical-align: top;\n",
       "    }\n",
       "\n",
       "    .dataframe thead th {\n",
       "        text-align: right;\n",
       "    }\n",
       "</style>\n",
       "<table border=\"1\" class=\"dataframe\">\n",
       "  <thead>\n",
       "    <tr style=\"text-align: right;\">\n",
       "      <th></th>\n",
       "      <th>Rank</th>\n",
       "      <th>State</th>\n",
       "      <th>2021 Population</th>\n",
       "      <th>Growth 2021</th>\n",
       "      <th>2018 Population</th>\n",
       "      <th>2010 Census</th>\n",
       "      <th>Growth Since 2010</th>\n",
       "      <th>% of US</th>\n",
       "      <th>Density (mi²)</th>\n",
       "    </tr>\n",
       "  </thead>\n",
       "  <tbody>\n",
       "    <tr>\n",
       "      <th>51</th>\n",
       "      <td>52</td>\n",
       "      <td>Wyoming</td>\n",
       "      <td>581075</td>\n",
       "      <td>0.60</td>\n",
       "      <td>577601</td>\n",
       "      <td>564487</td>\n",
       "      <td>2.94</td>\n",
       "      <td>0.17</td>\n",
       "      <td>6</td>\n",
       "    </tr>\n",
       "    <tr>\n",
       "      <th>50</th>\n",
       "      <td>51</td>\n",
       "      <td>Vermont</td>\n",
       "      <td>623251</td>\n",
       "      <td>-0.18</td>\n",
       "      <td>624358</td>\n",
       "      <td>625879</td>\n",
       "      <td>-0.42</td>\n",
       "      <td>0.19</td>\n",
       "      <td>68</td>\n",
       "    </tr>\n",
       "    <tr>\n",
       "      <th>49</th>\n",
       "      <td>50</td>\n",
       "      <td>District of Columbia</td>\n",
       "      <td>714153</td>\n",
       "      <td>1.80</td>\n",
       "      <td>701547</td>\n",
       "      <td>605226</td>\n",
       "      <td>18.00</td>\n",
       "      <td>0.21</td>\n",
       "      <td>11707</td>\n",
       "    </tr>\n",
       "    <tr>\n",
       "      <th>48</th>\n",
       "      <td>49</td>\n",
       "      <td>Alaska</td>\n",
       "      <td>724357</td>\n",
       "      <td>-1.47</td>\n",
       "      <td>735139</td>\n",
       "      <td>713910</td>\n",
       "      <td>1.46</td>\n",
       "      <td>0.22</td>\n",
       "      <td>1</td>\n",
       "    </tr>\n",
       "    <tr>\n",
       "      <th>47</th>\n",
       "      <td>48</td>\n",
       "      <td>North Dakota</td>\n",
       "      <td>770026</td>\n",
       "      <td>1.58</td>\n",
       "      <td>758080</td>\n",
       "      <td>674715</td>\n",
       "      <td>14.13</td>\n",
       "      <td>0.23</td>\n",
       "      <td>11</td>\n",
       "    </tr>\n",
       "    <tr>\n",
       "      <th>46</th>\n",
       "      <td>47</td>\n",
       "      <td>South Dakota</td>\n",
       "      <td>896581</td>\n",
       "      <td>2.04</td>\n",
       "      <td>878698</td>\n",
       "      <td>816166</td>\n",
       "      <td>9.85</td>\n",
       "      <td>0.27</td>\n",
       "      <td>12</td>\n",
       "    </tr>\n",
       "    <tr>\n",
       "      <th>45</th>\n",
       "      <td>46</td>\n",
       "      <td>Delaware</td>\n",
       "      <td>990334</td>\n",
       "      <td>2.57</td>\n",
       "      <td>965479</td>\n",
       "      <td>899593</td>\n",
       "      <td>10.09</td>\n",
       "      <td>0.30</td>\n",
       "      <td>508</td>\n",
       "    </tr>\n",
       "    <tr>\n",
       "      <th>44</th>\n",
       "      <td>45</td>\n",
       "      <td>Rhode Island</td>\n",
       "      <td>1061509</td>\n",
       "      <td>0.30</td>\n",
       "      <td>1058287</td>\n",
       "      <td>1053959</td>\n",
       "      <td>0.72</td>\n",
       "      <td>0.32</td>\n",
       "      <td>1027</td>\n",
       "    </tr>\n",
       "    <tr>\n",
       "      <th>43</th>\n",
       "      <td>44</td>\n",
       "      <td>Montana</td>\n",
       "      <td>1085004</td>\n",
       "      <td>2.29</td>\n",
       "      <td>1060665</td>\n",
       "      <td>990697</td>\n",
       "      <td>9.52</td>\n",
       "      <td>0.32</td>\n",
       "      <td>7</td>\n",
       "    </tr>\n",
       "    <tr>\n",
       "      <th>42</th>\n",
       "      <td>43</td>\n",
       "      <td>Maine</td>\n",
       "      <td>1354522</td>\n",
       "      <td>1.15</td>\n",
       "      <td>1339057</td>\n",
       "      <td>1327629</td>\n",
       "      <td>2.03</td>\n",
       "      <td>0.40</td>\n",
       "      <td>44</td>\n",
       "    </tr>\n",
       "    <tr>\n",
       "      <th>41</th>\n",
       "      <td>42</td>\n",
       "      <td>New Hampshire</td>\n",
       "      <td>1372203</td>\n",
       "      <td>1.38</td>\n",
       "      <td>1353465</td>\n",
       "      <td>1316762</td>\n",
       "      <td>4.21</td>\n",
       "      <td>0.41</td>\n",
       "      <td>153</td>\n",
       "    </tr>\n",
       "    <tr>\n",
       "      <th>40</th>\n",
       "      <td>41</td>\n",
       "      <td>Hawaii</td>\n",
       "      <td>1406430</td>\n",
       "      <td>-1.00</td>\n",
       "      <td>1420593</td>\n",
       "      <td>1363963</td>\n",
       "      <td>3.11</td>\n",
       "      <td>0.42</td>\n",
       "      <td>219</td>\n",
       "    </tr>\n",
       "    <tr>\n",
       "      <th>39</th>\n",
       "      <td>40</td>\n",
       "      <td>West Virginia</td>\n",
       "      <td>1767859</td>\n",
       "      <td>-2.02</td>\n",
       "      <td>1804291</td>\n",
       "      <td>1854239</td>\n",
       "      <td>-4.66</td>\n",
       "      <td>0.53</td>\n",
       "      <td>74</td>\n",
       "    </tr>\n",
       "    <tr>\n",
       "      <th>38</th>\n",
       "      <td>39</td>\n",
       "      <td>Idaho</td>\n",
       "      <td>1860123</td>\n",
       "      <td>6.26</td>\n",
       "      <td>1750536</td>\n",
       "      <td>1570746</td>\n",
       "      <td>18.42</td>\n",
       "      <td>0.56</td>\n",
       "      <td>23</td>\n",
       "    </tr>\n",
       "    <tr>\n",
       "      <th>37</th>\n",
       "      <td>38</td>\n",
       "      <td>Nebraska</td>\n",
       "      <td>1951996</td>\n",
       "      <td>1.37</td>\n",
       "      <td>1925614</td>\n",
       "      <td>1829542</td>\n",
       "      <td>6.69</td>\n",
       "      <td>0.58</td>\n",
       "      <td>25</td>\n",
       "    </tr>\n",
       "    <tr>\n",
       "      <th>36</th>\n",
       "      <td>37</td>\n",
       "      <td>New Mexico</td>\n",
       "      <td>2105005</td>\n",
       "      <td>0.59</td>\n",
       "      <td>2092741</td>\n",
       "      <td>2064552</td>\n",
       "      <td>1.96</td>\n",
       "      <td>0.63</td>\n",
       "      <td>17</td>\n",
       "    </tr>\n",
       "    <tr>\n",
       "      <th>35</th>\n",
       "      <td>36</td>\n",
       "      <td>Kansas</td>\n",
       "      <td>2917224</td>\n",
       "      <td>0.20</td>\n",
       "      <td>2911359</td>\n",
       "      <td>2858190</td>\n",
       "      <td>2.07</td>\n",
       "      <td>0.87</td>\n",
       "      <td>36</td>\n",
       "    </tr>\n",
       "    <tr>\n",
       "      <th>34</th>\n",
       "      <td>35</td>\n",
       "      <td>Mississippi</td>\n",
       "      <td>2966407</td>\n",
       "      <td>-0.49</td>\n",
       "      <td>2981020</td>\n",
       "      <td>2970548</td>\n",
       "      <td>-0.14</td>\n",
       "      <td>0.89</td>\n",
       "      <td>63</td>\n",
       "    </tr>\n",
       "    <tr>\n",
       "      <th>33</th>\n",
       "      <td>34</td>\n",
       "      <td>Arkansas</td>\n",
       "      <td>3033946</td>\n",
       "      <td>0.80</td>\n",
       "      <td>3009733</td>\n",
       "      <td>2921964</td>\n",
       "      <td>3.83</td>\n",
       "      <td>0.91</td>\n",
       "      <td>58</td>\n",
       "    </tr>\n",
       "    <tr>\n",
       "      <th>32</th>\n",
       "      <td>33</td>\n",
       "      <td>Iowa</td>\n",
       "      <td>3167974</td>\n",
       "      <td>0.61</td>\n",
       "      <td>3148618</td>\n",
       "      <td>3050745</td>\n",
       "      <td>3.84</td>\n",
       "      <td>0.95</td>\n",
       "      <td>57</td>\n",
       "    </tr>\n",
       "    <tr>\n",
       "      <th>31</th>\n",
       "      <td>32</td>\n",
       "      <td>Nevada</td>\n",
       "      <td>3185786</td>\n",
       "      <td>5.23</td>\n",
       "      <td>3027341</td>\n",
       "      <td>2702405</td>\n",
       "      <td>17.89</td>\n",
       "      <td>0.95</td>\n",
       "      <td>29</td>\n",
       "    </tr>\n",
       "    <tr>\n",
       "      <th>30</th>\n",
       "      <td>31</td>\n",
       "      <td>Puerto Rico</td>\n",
       "      <td>3194374</td>\n",
       "      <td>0.03</td>\n",
       "      <td>3193354</td>\n",
       "      <td>3721525</td>\n",
       "      <td>-14.16</td>\n",
       "      <td>0.95</td>\n",
       "      <td>923</td>\n",
       "    </tr>\n",
       "    <tr>\n",
       "      <th>29</th>\n",
       "      <td>30</td>\n",
       "      <td>Utah</td>\n",
       "      <td>3310774</td>\n",
       "      <td>4.99</td>\n",
       "      <td>3153550</td>\n",
       "      <td>2775332</td>\n",
       "      <td>19.29</td>\n",
       "      <td>0.99</td>\n",
       "      <td>40</td>\n",
       "    </tr>\n",
       "    <tr>\n",
       "      <th>28</th>\n",
       "      <td>29</td>\n",
       "      <td>Connecticut</td>\n",
       "      <td>3552821</td>\n",
       "      <td>-0.52</td>\n",
       "      <td>3571520</td>\n",
       "      <td>3579114</td>\n",
       "      <td>-0.73</td>\n",
       "      <td>1.06</td>\n",
       "      <td>734</td>\n",
       "    </tr>\n",
       "    <tr>\n",
       "      <th>27</th>\n",
       "      <td>28</td>\n",
       "      <td>Oklahoma</td>\n",
       "      <td>3990443</td>\n",
       "      <td>1.27</td>\n",
       "      <td>3940235</td>\n",
       "      <td>3759944</td>\n",
       "      <td>6.13</td>\n",
       "      <td>1.19</td>\n",
       "      <td>58</td>\n",
       "    </tr>\n",
       "    <tr>\n",
       "      <th>26</th>\n",
       "      <td>27</td>\n",
       "      <td>Oregon</td>\n",
       "      <td>4289439</td>\n",
       "      <td>2.57</td>\n",
       "      <td>4181886</td>\n",
       "      <td>3837491</td>\n",
       "      <td>11.78</td>\n",
       "      <td>1.28</td>\n",
       "      <td>45</td>\n",
       "    </tr>\n",
       "    <tr>\n",
       "      <th>25</th>\n",
       "      <td>26</td>\n",
       "      <td>Kentucky</td>\n",
       "      <td>4480713</td>\n",
       "      <td>0.44</td>\n",
       "      <td>4461153</td>\n",
       "      <td>4348181</td>\n",
       "      <td>3.05</td>\n",
       "      <td>1.34</td>\n",
       "      <td>113</td>\n",
       "    </tr>\n",
       "    <tr>\n",
       "      <th>24</th>\n",
       "      <td>25</td>\n",
       "      <td>Louisiana</td>\n",
       "      <td>4627002</td>\n",
       "      <td>-0.70</td>\n",
       "      <td>4659690</td>\n",
       "      <td>4544532</td>\n",
       "      <td>1.81</td>\n",
       "      <td>1.38</td>\n",
       "      <td>107</td>\n",
       "    </tr>\n",
       "    <tr>\n",
       "      <th>23</th>\n",
       "      <td>24</td>\n",
       "      <td>Alabama</td>\n",
       "      <td>4934193</td>\n",
       "      <td>0.95</td>\n",
       "      <td>4887681</td>\n",
       "      <td>4785437</td>\n",
       "      <td>3.11</td>\n",
       "      <td>1.47</td>\n",
       "      <td>97</td>\n",
       "    </tr>\n",
       "    <tr>\n",
       "      <th>22</th>\n",
       "      <td>23</td>\n",
       "      <td>South Carolina</td>\n",
       "      <td>5277830</td>\n",
       "      <td>3.81</td>\n",
       "      <td>5084156</td>\n",
       "      <td>4635649</td>\n",
       "      <td>13.85</td>\n",
       "      <td>1.58</td>\n",
       "      <td>176</td>\n",
       "    </tr>\n",
       "    <tr>\n",
       "      <th>21</th>\n",
       "      <td>22</td>\n",
       "      <td>Minnesota</td>\n",
       "      <td>5706398</td>\n",
       "      <td>1.79</td>\n",
       "      <td>5606249</td>\n",
       "      <td>5310828</td>\n",
       "      <td>7.45</td>\n",
       "      <td>1.71</td>\n",
       "      <td>72</td>\n",
       "    </tr>\n",
       "    <tr>\n",
       "      <th>20</th>\n",
       "      <td>21</td>\n",
       "      <td>Wisconsin</td>\n",
       "      <td>5852490</td>\n",
       "      <td>0.78</td>\n",
       "      <td>5807406</td>\n",
       "      <td>5690475</td>\n",
       "      <td>2.85</td>\n",
       "      <td>1.75</td>\n",
       "      <td>108</td>\n",
       "    </tr>\n",
       "    <tr>\n",
       "      <th>19</th>\n",
       "      <td>20</td>\n",
       "      <td>Colorado</td>\n",
       "      <td>5893634</td>\n",
       "      <td>3.56</td>\n",
       "      <td>5691287</td>\n",
       "      <td>5047349</td>\n",
       "      <td>16.77</td>\n",
       "      <td>1.76</td>\n",
       "      <td>57</td>\n",
       "    </tr>\n",
       "    <tr>\n",
       "      <th>18</th>\n",
       "      <td>19</td>\n",
       "      <td>Maryland</td>\n",
       "      <td>6065436</td>\n",
       "      <td>0.49</td>\n",
       "      <td>6035802</td>\n",
       "      <td>5788645</td>\n",
       "      <td>4.78</td>\n",
       "      <td>1.81</td>\n",
       "      <td>625</td>\n",
       "    </tr>\n",
       "    <tr>\n",
       "      <th>17</th>\n",
       "      <td>18</td>\n",
       "      <td>Missouri</td>\n",
       "      <td>6169038</td>\n",
       "      <td>0.77</td>\n",
       "      <td>6121623</td>\n",
       "      <td>5995974</td>\n",
       "      <td>2.89</td>\n",
       "      <td>1.84</td>\n",
       "      <td>90</td>\n",
       "    </tr>\n",
       "    <tr>\n",
       "      <th>16</th>\n",
       "      <td>17</td>\n",
       "      <td>Indiana</td>\n",
       "      <td>6805663</td>\n",
       "      <td>1.65</td>\n",
       "      <td>6695497</td>\n",
       "      <td>6490432</td>\n",
       "      <td>4.86</td>\n",
       "      <td>2.03</td>\n",
       "      <td>190</td>\n",
       "    </tr>\n",
       "    <tr>\n",
       "      <th>15</th>\n",
       "      <td>16</td>\n",
       "      <td>Massachusetts</td>\n",
       "      <td>6912239</td>\n",
       "      <td>0.43</td>\n",
       "      <td>6882635</td>\n",
       "      <td>6566307</td>\n",
       "      <td>5.27</td>\n",
       "      <td>2.07</td>\n",
       "      <td>886</td>\n",
       "    </tr>\n",
       "    <tr>\n",
       "      <th>14</th>\n",
       "      <td>15</td>\n",
       "      <td>Tennessee</td>\n",
       "      <td>6944260</td>\n",
       "      <td>2.55</td>\n",
       "      <td>6771631</td>\n",
       "      <td>6355311</td>\n",
       "      <td>9.27</td>\n",
       "      <td>2.08</td>\n",
       "      <td>168</td>\n",
       "    </tr>\n",
       "    <tr>\n",
       "      <th>13</th>\n",
       "      <td>14</td>\n",
       "      <td>Arizona</td>\n",
       "      <td>7520103</td>\n",
       "      <td>5.06</td>\n",
       "      <td>7158024</td>\n",
       "      <td>6407172</td>\n",
       "      <td>17.37</td>\n",
       "      <td>2.25</td>\n",
       "      <td>66</td>\n",
       "    </tr>\n",
       "    <tr>\n",
       "      <th>12</th>\n",
       "      <td>13</td>\n",
       "      <td>Washington</td>\n",
       "      <td>7796941</td>\n",
       "      <td>3.63</td>\n",
       "      <td>7523869</td>\n",
       "      <td>6742830</td>\n",
       "      <td>15.63</td>\n",
       "      <td>2.33</td>\n",
       "      <td>117</td>\n",
       "    </tr>\n",
       "    <tr>\n",
       "      <th>11</th>\n",
       "      <td>12</td>\n",
       "      <td>Virginia</td>\n",
       "      <td>8603985</td>\n",
       "      <td>1.21</td>\n",
       "      <td>8501286</td>\n",
       "      <td>8023699</td>\n",
       "      <td>7.23</td>\n",
       "      <td>2.57</td>\n",
       "      <td>218</td>\n",
       "    </tr>\n",
       "    <tr>\n",
       "      <th>10</th>\n",
       "      <td>11</td>\n",
       "      <td>New Jersey</td>\n",
       "      <td>8874520</td>\n",
       "      <td>-0.13</td>\n",
       "      <td>8886025</td>\n",
       "      <td>8799446</td>\n",
       "      <td>0.85</td>\n",
       "      <td>2.65</td>\n",
       "      <td>1207</td>\n",
       "    </tr>\n",
       "    <tr>\n",
       "      <th>9</th>\n",
       "      <td>10</td>\n",
       "      <td>Michigan</td>\n",
       "      <td>9992427</td>\n",
       "      <td>0.08</td>\n",
       "      <td>9984072</td>\n",
       "      <td>9877510</td>\n",
       "      <td>1.16</td>\n",
       "      <td>2.99</td>\n",
       "      <td>177</td>\n",
       "    </tr>\n",
       "    <tr>\n",
       "      <th>8</th>\n",
       "      <td>9</td>\n",
       "      <td>North Carolina</td>\n",
       "      <td>10701022</td>\n",
       "      <td>3.08</td>\n",
       "      <td>10381615</td>\n",
       "      <td>9574323</td>\n",
       "      <td>11.77</td>\n",
       "      <td>3.20</td>\n",
       "      <td>220</td>\n",
       "    </tr>\n",
       "    <tr>\n",
       "      <th>7</th>\n",
       "      <td>8</td>\n",
       "      <td>Georgia</td>\n",
       "      <td>10830007</td>\n",
       "      <td>3.03</td>\n",
       "      <td>10511131</td>\n",
       "      <td>9711881</td>\n",
       "      <td>11.51</td>\n",
       "      <td>3.24</td>\n",
       "      <td>188</td>\n",
       "    </tr>\n",
       "    <tr>\n",
       "      <th>6</th>\n",
       "      <td>7</td>\n",
       "      <td>Ohio</td>\n",
       "      <td>11714618</td>\n",
       "      <td>0.33</td>\n",
       "      <td>11676341</td>\n",
       "      <td>11539336</td>\n",
       "      <td>1.52</td>\n",
       "      <td>3.50</td>\n",
       "      <td>287</td>\n",
       "    </tr>\n",
       "    <tr>\n",
       "      <th>5</th>\n",
       "      <td>6</td>\n",
       "      <td>Illinois</td>\n",
       "      <td>12569321</td>\n",
       "      <td>-1.21</td>\n",
       "      <td>12723071</td>\n",
       "      <td>12840503</td>\n",
       "      <td>-2.11</td>\n",
       "      <td>3.76</td>\n",
       "      <td>226</td>\n",
       "    </tr>\n",
       "    <tr>\n",
       "      <th>4</th>\n",
       "      <td>5</td>\n",
       "      <td>Pennsylvania</td>\n",
       "      <td>12804123</td>\n",
       "      <td>0.03</td>\n",
       "      <td>12800922</td>\n",
       "      <td>12711160</td>\n",
       "      <td>0.73</td>\n",
       "      <td>3.83</td>\n",
       "      <td>286</td>\n",
       "    </tr>\n",
       "    <tr>\n",
       "      <th>3</th>\n",
       "      <td>4</td>\n",
       "      <td>New York</td>\n",
       "      <td>19299981</td>\n",
       "      <td>-1.18</td>\n",
       "      <td>19530351</td>\n",
       "      <td>19399878</td>\n",
       "      <td>-0.51</td>\n",
       "      <td>5.77</td>\n",
       "      <td>410</td>\n",
       "    </tr>\n",
       "    <tr>\n",
       "      <th>2</th>\n",
       "      <td>3</td>\n",
       "      <td>Florida</td>\n",
       "      <td>21944577</td>\n",
       "      <td>3.30</td>\n",
       "      <td>21244317</td>\n",
       "      <td>18845537</td>\n",
       "      <td>16.44</td>\n",
       "      <td>6.56</td>\n",
       "      <td>409</td>\n",
       "    </tr>\n",
       "    <tr>\n",
       "      <th>1</th>\n",
       "      <td>2</td>\n",
       "      <td>Texas</td>\n",
       "      <td>29730311</td>\n",
       "      <td>3.85</td>\n",
       "      <td>28628666</td>\n",
       "      <td>25241971</td>\n",
       "      <td>17.78</td>\n",
       "      <td>8.89</td>\n",
       "      <td>114</td>\n",
       "    </tr>\n",
       "    <tr>\n",
       "      <th>0</th>\n",
       "      <td>1</td>\n",
       "      <td>California</td>\n",
       "      <td>39613493</td>\n",
       "      <td>0.38</td>\n",
       "      <td>39461588</td>\n",
       "      <td>37319502</td>\n",
       "      <td>6.15</td>\n",
       "      <td>11.84</td>\n",
       "      <td>254</td>\n",
       "    </tr>\n",
       "  </tbody>\n",
       "</table>\n",
       "</div>"
      ],
      "text/plain": [
       "    Rank                 State  2021 Population  Growth 2021  2018 Population  \\\n",
       "51    52               Wyoming           581075         0.60           577601   \n",
       "50    51               Vermont           623251        -0.18           624358   \n",
       "49    50  District of Columbia           714153         1.80           701547   \n",
       "48    49                Alaska           724357        -1.47           735139   \n",
       "47    48          North Dakota           770026         1.58           758080   \n",
       "46    47          South Dakota           896581         2.04           878698   \n",
       "45    46              Delaware           990334         2.57           965479   \n",
       "44    45          Rhode Island          1061509         0.30          1058287   \n",
       "43    44               Montana          1085004         2.29          1060665   \n",
       "42    43                 Maine          1354522         1.15          1339057   \n",
       "41    42         New Hampshire          1372203         1.38          1353465   \n",
       "40    41                Hawaii          1406430        -1.00          1420593   \n",
       "39    40         West Virginia          1767859        -2.02          1804291   \n",
       "38    39                 Idaho          1860123         6.26          1750536   \n",
       "37    38              Nebraska          1951996         1.37          1925614   \n",
       "36    37            New Mexico          2105005         0.59          2092741   \n",
       "35    36                Kansas          2917224         0.20          2911359   \n",
       "34    35           Mississippi          2966407        -0.49          2981020   \n",
       "33    34              Arkansas          3033946         0.80          3009733   \n",
       "32    33                  Iowa          3167974         0.61          3148618   \n",
       "31    32                Nevada          3185786         5.23          3027341   \n",
       "30    31           Puerto Rico          3194374         0.03          3193354   \n",
       "29    30                  Utah          3310774         4.99          3153550   \n",
       "28    29           Connecticut          3552821        -0.52          3571520   \n",
       "27    28              Oklahoma          3990443         1.27          3940235   \n",
       "26    27                Oregon          4289439         2.57          4181886   \n",
       "25    26              Kentucky          4480713         0.44          4461153   \n",
       "24    25             Louisiana          4627002        -0.70          4659690   \n",
       "23    24               Alabama          4934193         0.95          4887681   \n",
       "22    23        South Carolina          5277830         3.81          5084156   \n",
       "21    22             Minnesota          5706398         1.79          5606249   \n",
       "20    21             Wisconsin          5852490         0.78          5807406   \n",
       "19    20              Colorado          5893634         3.56          5691287   \n",
       "18    19              Maryland          6065436         0.49          6035802   \n",
       "17    18              Missouri          6169038         0.77          6121623   \n",
       "16    17               Indiana          6805663         1.65          6695497   \n",
       "15    16         Massachusetts          6912239         0.43          6882635   \n",
       "14    15             Tennessee          6944260         2.55          6771631   \n",
       "13    14               Arizona          7520103         5.06          7158024   \n",
       "12    13            Washington          7796941         3.63          7523869   \n",
       "11    12              Virginia          8603985         1.21          8501286   \n",
       "10    11            New Jersey          8874520        -0.13          8886025   \n",
       "9     10              Michigan          9992427         0.08          9984072   \n",
       "8      9        North Carolina         10701022         3.08         10381615   \n",
       "7      8               Georgia         10830007         3.03         10511131   \n",
       "6      7                  Ohio         11714618         0.33         11676341   \n",
       "5      6              Illinois         12569321        -1.21         12723071   \n",
       "4      5          Pennsylvania         12804123         0.03         12800922   \n",
       "3      4              New York         19299981        -1.18         19530351   \n",
       "2      3               Florida         21944577         3.30         21244317   \n",
       "1      2                 Texas         29730311         3.85         28628666   \n",
       "0      1            California         39613493         0.38         39461588   \n",
       "\n",
       "    2010 Census  Growth Since 2010  % of US  Density (mi²)  \n",
       "51       564487               2.94     0.17              6  \n",
       "50       625879              -0.42     0.19             68  \n",
       "49       605226              18.00     0.21          11707  \n",
       "48       713910               1.46     0.22              1  \n",
       "47       674715              14.13     0.23             11  \n",
       "46       816166               9.85     0.27             12  \n",
       "45       899593              10.09     0.30            508  \n",
       "44      1053959               0.72     0.32           1027  \n",
       "43       990697               9.52     0.32              7  \n",
       "42      1327629               2.03     0.40             44  \n",
       "41      1316762               4.21     0.41            153  \n",
       "40      1363963               3.11     0.42            219  \n",
       "39      1854239              -4.66     0.53             74  \n",
       "38      1570746              18.42     0.56             23  \n",
       "37      1829542               6.69     0.58             25  \n",
       "36      2064552               1.96     0.63             17  \n",
       "35      2858190               2.07     0.87             36  \n",
       "34      2970548              -0.14     0.89             63  \n",
       "33      2921964               3.83     0.91             58  \n",
       "32      3050745               3.84     0.95             57  \n",
       "31      2702405              17.89     0.95             29  \n",
       "30      3721525             -14.16     0.95            923  \n",
       "29      2775332              19.29     0.99             40  \n",
       "28      3579114              -0.73     1.06            734  \n",
       "27      3759944               6.13     1.19             58  \n",
       "26      3837491              11.78     1.28             45  \n",
       "25      4348181               3.05     1.34            113  \n",
       "24      4544532               1.81     1.38            107  \n",
       "23      4785437               3.11     1.47             97  \n",
       "22      4635649              13.85     1.58            176  \n",
       "21      5310828               7.45     1.71             72  \n",
       "20      5690475               2.85     1.75            108  \n",
       "19      5047349              16.77     1.76             57  \n",
       "18      5788645               4.78     1.81            625  \n",
       "17      5995974               2.89     1.84             90  \n",
       "16      6490432               4.86     2.03            190  \n",
       "15      6566307               5.27     2.07            886  \n",
       "14      6355311               9.27     2.08            168  \n",
       "13      6407172              17.37     2.25             66  \n",
       "12      6742830              15.63     2.33            117  \n",
       "11      8023699               7.23     2.57            218  \n",
       "10      8799446               0.85     2.65           1207  \n",
       "9       9877510               1.16     2.99            177  \n",
       "8       9574323              11.77     3.20            220  \n",
       "7       9711881              11.51     3.24            188  \n",
       "6      11539336               1.52     3.50            287  \n",
       "5      12840503              -2.11     3.76            226  \n",
       "4      12711160               0.73     3.83            286  \n",
       "3      19399878              -0.51     5.77            410  \n",
       "2      18845537              16.44     6.56            409  \n",
       "1      25241971              17.78     8.89            114  \n",
       "0      37319502               6.15    11.84            254  "
      ]
     },
     "execution_count": 14,
     "metadata": {},
     "output_type": "execute_result"
    }
   ],
   "source": [
    "popbystate_df.sort_values(by = ['% of US'])"
   ]
  },
  {
   "cell_type": "markdown",
   "metadata": {},
   "source": [
    "Summary: By this table we can see each state population contribution to US population in ascending order"
   ]
  },
  {
   "cell_type": "code",
   "execution_count": 124,
   "metadata": {},
   "outputs": [],
   "source": [
    "##dataset 2 : state population by race\n",
    "url_popbyrace = 'https://worldpopulationreview.com/states/states-by-race'\n",
    "text_popbyrace = requests.get(url_popbyrace).text"
   ]
  },
  {
   "cell_type": "code",
   "execution_count": 125,
   "metadata": {},
   "outputs": [],
   "source": [
    "soup_popbyrace = bs4.BeautifulSoup(text_popbyrace)"
   ]
  },
  {
   "cell_type": "code",
   "execution_count": 126,
   "metadata": {},
   "outputs": [],
   "source": [
    "stats_table = soup_popbyrace.table"
   ]
  },
  {
   "cell_type": "code",
   "execution_count": 127,
   "metadata": {},
   "outputs": [],
   "source": [
    "stats_table_rows = stats_table.find_all('tr')"
   ]
  },
  {
   "cell_type": "code",
   "execution_count": 128,
   "metadata": {},
   "outputs": [],
   "source": [
    "header_row = stats_table_rows[0]"
   ]
  },
  {
   "cell_type": "code",
   "execution_count": 129,
   "metadata": {},
   "outputs": [
    {
     "name": "stdout",
     "output_type": "stream",
     "text": [
      "['State', 'White', 'Black', 'Indian', 'Asian', 'Hawaiian', 'Other']\n",
      "7\n"
     ]
    }
   ],
   "source": [
    "ths = header_row.find_all('th')\n",
    "header = [th.text.strip() for th in ths]\n",
    "print(header)\n",
    "print(len(header))"
   ]
  },
  {
   "cell_type": "code",
   "execution_count": 130,
   "metadata": {},
   "outputs": [
    {
     "data": {
      "text/html": [
       "<div>\n",
       "<style scoped>\n",
       "    .dataframe tbody tr th:only-of-type {\n",
       "        vertical-align: middle;\n",
       "    }\n",
       "\n",
       "    .dataframe tbody tr th {\n",
       "        vertical-align: top;\n",
       "    }\n",
       "\n",
       "    .dataframe thead th {\n",
       "        text-align: right;\n",
       "    }\n",
       "</style>\n",
       "<table border=\"1\" class=\"dataframe\">\n",
       "  <thead>\n",
       "    <tr style=\"text-align: right;\">\n",
       "      <th></th>\n",
       "      <th>State</th>\n",
       "      <th>White</th>\n",
       "      <th>Black</th>\n",
       "      <th>Indian</th>\n",
       "      <th>Asian</th>\n",
       "      <th>Hawaiian</th>\n",
       "      <th>Other</th>\n",
       "    </tr>\n",
       "  </thead>\n",
       "  <tbody>\n",
       "    <tr>\n",
       "      <th>0</th>\n",
       "      <td>Alabama</td>\n",
       "      <td>68.09%</td>\n",
       "      <td>26.64%</td>\n",
       "      <td>0.52%</td>\n",
       "      <td>1.36%</td>\n",
       "      <td>0.05%</td>\n",
       "      <td>3.34%</td>\n",
       "    </tr>\n",
       "    <tr>\n",
       "      <th>1</th>\n",
       "      <td>Alaska</td>\n",
       "      <td>64.58%</td>\n",
       "      <td>3.28%</td>\n",
       "      <td>14.89%</td>\n",
       "      <td>6.23%</td>\n",
       "      <td>1.25%</td>\n",
       "      <td>9.76%</td>\n",
       "    </tr>\n",
       "    <tr>\n",
       "      <th>2</th>\n",
       "      <td>Arizona</td>\n",
       "      <td>77.22%</td>\n",
       "      <td>4.50%</td>\n",
       "      <td>4.50%</td>\n",
       "      <td>3.31%</td>\n",
       "      <td>0.21%</td>\n",
       "      <td>10.26%</td>\n",
       "    </tr>\n",
       "    <tr>\n",
       "      <th>3</th>\n",
       "      <td>Arkansas</td>\n",
       "      <td>76.72%</td>\n",
       "      <td>15.32%</td>\n",
       "      <td>0.68%</td>\n",
       "      <td>1.52%</td>\n",
       "      <td>0.29%</td>\n",
       "      <td>5.47%</td>\n",
       "    </tr>\n",
       "    <tr>\n",
       "      <th>4</th>\n",
       "      <td>California</td>\n",
       "      <td>59.70%</td>\n",
       "      <td>5.79%</td>\n",
       "      <td>0.77%</td>\n",
       "      <td>14.49%</td>\n",
       "      <td>0.40%</td>\n",
       "      <td>18.85%</td>\n",
       "    </tr>\n",
       "  </tbody>\n",
       "</table>\n",
       "</div>"
      ],
      "text/plain": [
       "        State   White   Black  Indian   Asian Hawaiian   Other\n",
       "0     Alabama  68.09%  26.64%   0.52%   1.36%    0.05%   3.34%\n",
       "1      Alaska  64.58%   3.28%  14.89%   6.23%    1.25%   9.76%\n",
       "2     Arizona  77.22%   4.50%   4.50%   3.31%    0.21%  10.26%\n",
       "3    Arkansas  76.72%  15.32%   0.68%   1.52%    0.29%   5.47%\n",
       "4  California  59.70%   5.79%   0.77%  14.49%    0.40%  18.85%"
      ]
     },
     "execution_count": 130,
     "metadata": {},
     "output_type": "execute_result"
    }
   ],
   "source": [
    "stats_data_rows = []\n",
    "for tr in stats_table_rows:\n",
    "    tds = tr.find_all('td')\n",
    "    row = [td.text for td in tds]\n",
    "    if row:\n",
    "        stats_data_rows.append(row)\n",
    "\n",
    "\n",
    "popbyrace_df = pd.DataFrame(stats_data_rows, columns = header)\n",
    "popbyrace_df.head()"
   ]
  },
  {
   "cell_type": "code",
   "execution_count": 131,
   "metadata": {},
   "outputs": [
    {
     "data": {
      "text/plain": [
       "State       object\n",
       "White       object\n",
       "Black       object\n",
       "Indian      object\n",
       "Asian       object\n",
       "Hawaiian    object\n",
       "Other       object\n",
       "dtype: object"
      ]
     },
     "execution_count": 131,
     "metadata": {},
     "output_type": "execute_result"
    }
   ],
   "source": [
    "#checking data type\n",
    "popbyrace_df.dtypes"
   ]
  },
  {
   "cell_type": "code",
   "execution_count": 132,
   "metadata": {},
   "outputs": [],
   "source": [
    "#convert data types for variables\n",
    "popbyrace_df[\"White\"]=popbyrace_df[\"White\"].str.replace(r'%','').astype(\"float\")\n",
    "popbyrace_df[\"Black\"]=popbyrace_df[\"Black\"].str.replace(r'%','').astype(\"float\")\n",
    "popbyrace_df[\"Indian\"]=popbyrace_df[\"Indian\"].str.replace(r'%','').astype(\"float\")\n",
    "popbyrace_df[\"Asian\"]=popbyrace_df[\"Asian\"].str.replace(r'%','').astype(\"float\")\n",
    "popbyrace_df[\"Hawaiian\"]=popbyrace_df[\"Hawaiian\"].str.replace(r'%','').astype(\"float\")\n",
    "popbyrace_df[\"Other\"]=popbyrace_df[\"Other\"].str.replace(r'%','').astype(\"float\")"
   ]
  },
  {
   "cell_type": "code",
   "execution_count": 30,
   "metadata": {},
   "outputs": [
    {
     "data": {
      "text/plain": [
       "State        object\n",
       "White       float64\n",
       "Black       float64\n",
       "Indian      float64\n",
       "Asian       float64\n",
       "Hawaiian    float64\n",
       "Other       float64\n",
       "dtype: object"
      ]
     },
     "execution_count": 30,
     "metadata": {},
     "output_type": "execute_result"
    }
   ],
   "source": [
    "#check data type again \n",
    "popbyrace_df.dtypes"
   ]
  },
  {
   "cell_type": "code",
   "execution_count": 31,
   "metadata": {},
   "outputs": [
    {
     "data": {
      "text/html": [
       "<div>\n",
       "<style scoped>\n",
       "    .dataframe tbody tr th:only-of-type {\n",
       "        vertical-align: middle;\n",
       "    }\n",
       "\n",
       "    .dataframe tbody tr th {\n",
       "        vertical-align: top;\n",
       "    }\n",
       "\n",
       "    .dataframe thead th {\n",
       "        text-align: right;\n",
       "    }\n",
       "</style>\n",
       "<table border=\"1\" class=\"dataframe\">\n",
       "  <thead>\n",
       "    <tr style=\"text-align: right;\">\n",
       "      <th></th>\n",
       "      <th>State</th>\n",
       "      <th>White</th>\n",
       "      <th>Black</th>\n",
       "      <th>Indian</th>\n",
       "      <th>Asian</th>\n",
       "      <th>Hawaiian</th>\n",
       "      <th>Other</th>\n",
       "    </tr>\n",
       "  </thead>\n",
       "  <tbody>\n",
       "    <tr>\n",
       "      <th>0</th>\n",
       "      <td>Alabama</td>\n",
       "      <td>68.09</td>\n",
       "      <td>26.64</td>\n",
       "      <td>0.52</td>\n",
       "      <td>1.36</td>\n",
       "      <td>0.05</td>\n",
       "      <td>3.34</td>\n",
       "    </tr>\n",
       "    <tr>\n",
       "      <th>1</th>\n",
       "      <td>Alaska</td>\n",
       "      <td>64.58</td>\n",
       "      <td>3.28</td>\n",
       "      <td>14.89</td>\n",
       "      <td>6.23</td>\n",
       "      <td>1.25</td>\n",
       "      <td>9.76</td>\n",
       "    </tr>\n",
       "    <tr>\n",
       "      <th>2</th>\n",
       "      <td>Arizona</td>\n",
       "      <td>77.22</td>\n",
       "      <td>4.50</td>\n",
       "      <td>4.50</td>\n",
       "      <td>3.31</td>\n",
       "      <td>0.21</td>\n",
       "      <td>10.26</td>\n",
       "    </tr>\n",
       "    <tr>\n",
       "      <th>3</th>\n",
       "      <td>Arkansas</td>\n",
       "      <td>76.72</td>\n",
       "      <td>15.32</td>\n",
       "      <td>0.68</td>\n",
       "      <td>1.52</td>\n",
       "      <td>0.29</td>\n",
       "      <td>5.47</td>\n",
       "    </tr>\n",
       "    <tr>\n",
       "      <th>4</th>\n",
       "      <td>California</td>\n",
       "      <td>59.70</td>\n",
       "      <td>5.79</td>\n",
       "      <td>0.77</td>\n",
       "      <td>14.49</td>\n",
       "      <td>0.40</td>\n",
       "      <td>18.85</td>\n",
       "    </tr>\n",
       "    <tr>\n",
       "      <th>5</th>\n",
       "      <td>Colorado</td>\n",
       "      <td>84.00</td>\n",
       "      <td>4.16</td>\n",
       "      <td>0.98</td>\n",
       "      <td>3.18</td>\n",
       "      <td>0.15</td>\n",
       "      <td>7.53</td>\n",
       "    </tr>\n",
       "    <tr>\n",
       "      <th>6</th>\n",
       "      <td>Connecticut</td>\n",
       "      <td>75.92</td>\n",
       "      <td>10.72</td>\n",
       "      <td>0.28</td>\n",
       "      <td>4.51</td>\n",
       "      <td>0.03</td>\n",
       "      <td>8.54</td>\n",
       "    </tr>\n",
       "    <tr>\n",
       "      <th>7</th>\n",
       "      <td>Delaware</td>\n",
       "      <td>68.76</td>\n",
       "      <td>22.18</td>\n",
       "      <td>0.39</td>\n",
       "      <td>3.87</td>\n",
       "      <td>0.06</td>\n",
       "      <td>4.75</td>\n",
       "    </tr>\n",
       "    <tr>\n",
       "      <th>8</th>\n",
       "      <td>District of Columbia</td>\n",
       "      <td>41.27</td>\n",
       "      <td>46.31</td>\n",
       "      <td>0.30</td>\n",
       "      <td>3.98</td>\n",
       "      <td>0.05</td>\n",
       "      <td>8.08</td>\n",
       "    </tr>\n",
       "    <tr>\n",
       "      <th>9</th>\n",
       "      <td>Florida</td>\n",
       "      <td>75.12</td>\n",
       "      <td>16.07</td>\n",
       "      <td>0.28</td>\n",
       "      <td>2.73</td>\n",
       "      <td>0.06</td>\n",
       "      <td>5.73</td>\n",
       "    </tr>\n",
       "    <tr>\n",
       "      <th>10</th>\n",
       "      <td>Georgia</td>\n",
       "      <td>58.62</td>\n",
       "      <td>31.61</td>\n",
       "      <td>0.36</td>\n",
       "      <td>3.98</td>\n",
       "      <td>0.06</td>\n",
       "      <td>5.36</td>\n",
       "    </tr>\n",
       "    <tr>\n",
       "      <th>11</th>\n",
       "      <td>Hawaii</td>\n",
       "      <td>24.95</td>\n",
       "      <td>1.83</td>\n",
       "      <td>0.26</td>\n",
       "      <td>37.79</td>\n",
       "      <td>10.06</td>\n",
       "      <td>25.12</td>\n",
       "    </tr>\n",
       "    <tr>\n",
       "      <th>12</th>\n",
       "      <td>Idaho</td>\n",
       "      <td>89.97</td>\n",
       "      <td>0.69</td>\n",
       "      <td>1.35</td>\n",
       "      <td>1.41</td>\n",
       "      <td>0.16</td>\n",
       "      <td>6.42</td>\n",
       "    </tr>\n",
       "    <tr>\n",
       "      <th>13</th>\n",
       "      <td>Illinois</td>\n",
       "      <td>71.53</td>\n",
       "      <td>14.20</td>\n",
       "      <td>0.26</td>\n",
       "      <td>5.47</td>\n",
       "      <td>0.04</td>\n",
       "      <td>8.50</td>\n",
       "    </tr>\n",
       "    <tr>\n",
       "      <th>14</th>\n",
       "      <td>Indiana</td>\n",
       "      <td>83.31</td>\n",
       "      <td>9.40</td>\n",
       "      <td>0.24</td>\n",
       "      <td>2.28</td>\n",
       "      <td>0.04</td>\n",
       "      <td>4.73</td>\n",
       "    </tr>\n",
       "    <tr>\n",
       "      <th>15</th>\n",
       "      <td>Iowa</td>\n",
       "      <td>90.02</td>\n",
       "      <td>3.71</td>\n",
       "      <td>0.38</td>\n",
       "      <td>2.41</td>\n",
       "      <td>0.12</td>\n",
       "      <td>3.36</td>\n",
       "    </tr>\n",
       "    <tr>\n",
       "      <th>16</th>\n",
       "      <td>Kansas</td>\n",
       "      <td>84.38</td>\n",
       "      <td>5.85</td>\n",
       "      <td>0.82</td>\n",
       "      <td>2.95</td>\n",
       "      <td>0.08</td>\n",
       "      <td>5.92</td>\n",
       "    </tr>\n",
       "    <tr>\n",
       "      <th>17</th>\n",
       "      <td>Kentucky</td>\n",
       "      <td>86.95</td>\n",
       "      <td>8.07</td>\n",
       "      <td>0.21</td>\n",
       "      <td>1.47</td>\n",
       "      <td>0.07</td>\n",
       "      <td>3.23</td>\n",
       "    </tr>\n",
       "    <tr>\n",
       "      <th>18</th>\n",
       "      <td>Louisiana</td>\n",
       "      <td>62.01</td>\n",
       "      <td>32.22</td>\n",
       "      <td>0.57</td>\n",
       "      <td>1.73</td>\n",
       "      <td>0.03</td>\n",
       "      <td>3.44</td>\n",
       "    </tr>\n",
       "    <tr>\n",
       "      <th>19</th>\n",
       "      <td>Maine</td>\n",
       "      <td>94.31</td>\n",
       "      <td>1.38</td>\n",
       "      <td>0.65</td>\n",
       "      <td>1.13</td>\n",
       "      <td>0.03</td>\n",
       "      <td>2.50</td>\n",
       "    </tr>\n",
       "    <tr>\n",
       "      <th>20</th>\n",
       "      <td>Maryland</td>\n",
       "      <td>55.54</td>\n",
       "      <td>29.89</td>\n",
       "      <td>0.28</td>\n",
       "      <td>6.28</td>\n",
       "      <td>0.05</td>\n",
       "      <td>7.96</td>\n",
       "    </tr>\n",
       "    <tr>\n",
       "      <th>21</th>\n",
       "      <td>Massachusetts</td>\n",
       "      <td>78.07</td>\n",
       "      <td>7.63</td>\n",
       "      <td>0.22</td>\n",
       "      <td>6.60</td>\n",
       "      <td>0.04</td>\n",
       "      <td>7.44</td>\n",
       "    </tr>\n",
       "    <tr>\n",
       "      <th>22</th>\n",
       "      <td>Michigan</td>\n",
       "      <td>78.41</td>\n",
       "      <td>13.79</td>\n",
       "      <td>0.54</td>\n",
       "      <td>3.13</td>\n",
       "      <td>0.03</td>\n",
       "      <td>4.10</td>\n",
       "    </tr>\n",
       "    <tr>\n",
       "      <th>23</th>\n",
       "      <td>Minnesota</td>\n",
       "      <td>82.85</td>\n",
       "      <td>6.41</td>\n",
       "      <td>1.04</td>\n",
       "      <td>4.82</td>\n",
       "      <td>0.04</td>\n",
       "      <td>4.84</td>\n",
       "    </tr>\n",
       "    <tr>\n",
       "      <th>24</th>\n",
       "      <td>Mississippi</td>\n",
       "      <td>58.41</td>\n",
       "      <td>37.72</td>\n",
       "      <td>0.48</td>\n",
       "      <td>0.99</td>\n",
       "      <td>0.02</td>\n",
       "      <td>2.38</td>\n",
       "    </tr>\n",
       "    <tr>\n",
       "      <th>25</th>\n",
       "      <td>Missouri</td>\n",
       "      <td>82.16</td>\n",
       "      <td>11.49</td>\n",
       "      <td>0.44</td>\n",
       "      <td>1.98</td>\n",
       "      <td>0.13</td>\n",
       "      <td>3.80</td>\n",
       "    </tr>\n",
       "    <tr>\n",
       "      <th>26</th>\n",
       "      <td>Montana</td>\n",
       "      <td>88.54</td>\n",
       "      <td>0.50</td>\n",
       "      <td>6.36</td>\n",
       "      <td>0.79</td>\n",
       "      <td>0.08</td>\n",
       "      <td>3.73</td>\n",
       "    </tr>\n",
       "    <tr>\n",
       "      <th>27</th>\n",
       "      <td>Nebraska</td>\n",
       "      <td>87.06</td>\n",
       "      <td>4.83</td>\n",
       "      <td>0.92</td>\n",
       "      <td>2.38</td>\n",
       "      <td>0.07</td>\n",
       "      <td>4.73</td>\n",
       "    </tr>\n",
       "    <tr>\n",
       "      <th>28</th>\n",
       "      <td>Nevada</td>\n",
       "      <td>65.59</td>\n",
       "      <td>9.12</td>\n",
       "      <td>1.28</td>\n",
       "      <td>8.15</td>\n",
       "      <td>0.67</td>\n",
       "      <td>15.18</td>\n",
       "    </tr>\n",
       "    <tr>\n",
       "      <th>29</th>\n",
       "      <td>New Hampshire</td>\n",
       "      <td>92.88</td>\n",
       "      <td>1.60</td>\n",
       "      <td>0.15</td>\n",
       "      <td>2.68</td>\n",
       "      <td>0.03</td>\n",
       "      <td>2.65</td>\n",
       "    </tr>\n",
       "    <tr>\n",
       "      <th>30</th>\n",
       "      <td>New Jersey</td>\n",
       "      <td>67.78</td>\n",
       "      <td>13.46</td>\n",
       "      <td>0.22</td>\n",
       "      <td>9.46</td>\n",
       "      <td>0.04</td>\n",
       "      <td>9.04</td>\n",
       "    </tr>\n",
       "    <tr>\n",
       "      <th>31</th>\n",
       "      <td>New Mexico</td>\n",
       "      <td>74.81</td>\n",
       "      <td>2.11</td>\n",
       "      <td>9.55</td>\n",
       "      <td>1.56</td>\n",
       "      <td>0.08</td>\n",
       "      <td>11.90</td>\n",
       "    </tr>\n",
       "    <tr>\n",
       "      <th>32</th>\n",
       "      <td>New York</td>\n",
       "      <td>63.66</td>\n",
       "      <td>15.66</td>\n",
       "      <td>0.41</td>\n",
       "      <td>8.42</td>\n",
       "      <td>0.05</td>\n",
       "      <td>11.81</td>\n",
       "    </tr>\n",
       "    <tr>\n",
       "      <th>33</th>\n",
       "      <td>North Carolina</td>\n",
       "      <td>68.68</td>\n",
       "      <td>21.44</td>\n",
       "      <td>1.21</td>\n",
       "      <td>2.85</td>\n",
       "      <td>0.07</td>\n",
       "      <td>5.75</td>\n",
       "    </tr>\n",
       "    <tr>\n",
       "      <th>34</th>\n",
       "      <td>North Dakota</td>\n",
       "      <td>86.58</td>\n",
       "      <td>2.91</td>\n",
       "      <td>5.29</td>\n",
       "      <td>1.45</td>\n",
       "      <td>0.11</td>\n",
       "      <td>3.66</td>\n",
       "    </tr>\n",
       "    <tr>\n",
       "      <th>35</th>\n",
       "      <td>Ohio</td>\n",
       "      <td>81.30</td>\n",
       "      <td>12.41</td>\n",
       "      <td>0.20</td>\n",
       "      <td>2.22</td>\n",
       "      <td>0.03</td>\n",
       "      <td>3.85</td>\n",
       "    </tr>\n",
       "    <tr>\n",
       "      <th>36</th>\n",
       "      <td>Oklahoma</td>\n",
       "      <td>72.32</td>\n",
       "      <td>7.28</td>\n",
       "      <td>7.62</td>\n",
       "      <td>2.17</td>\n",
       "      <td>0.16</td>\n",
       "      <td>10.46</td>\n",
       "    </tr>\n",
       "    <tr>\n",
       "      <th>37</th>\n",
       "      <td>Oregon</td>\n",
       "      <td>84.29</td>\n",
       "      <td>1.91</td>\n",
       "      <td>1.16</td>\n",
       "      <td>4.37</td>\n",
       "      <td>0.40</td>\n",
       "      <td>7.87</td>\n",
       "    </tr>\n",
       "    <tr>\n",
       "      <th>38</th>\n",
       "      <td>Pennsylvania</td>\n",
       "      <td>80.53</td>\n",
       "      <td>11.18</td>\n",
       "      <td>0.19</td>\n",
       "      <td>3.41</td>\n",
       "      <td>0.03</td>\n",
       "      <td>4.65</td>\n",
       "    </tr>\n",
       "    <tr>\n",
       "      <th>39</th>\n",
       "      <td>Puerto Rico</td>\n",
       "      <td>65.93</td>\n",
       "      <td>11.65</td>\n",
       "      <td>0.21</td>\n",
       "      <td>0.19</td>\n",
       "      <td>0.01</td>\n",
       "      <td>22.01</td>\n",
       "    </tr>\n",
       "    <tr>\n",
       "      <th>40</th>\n",
       "      <td>Rhode Island</td>\n",
       "      <td>80.46</td>\n",
       "      <td>6.77</td>\n",
       "      <td>0.50</td>\n",
       "      <td>3.40</td>\n",
       "      <td>0.08</td>\n",
       "      <td>8.80</td>\n",
       "    </tr>\n",
       "    <tr>\n",
       "      <th>41</th>\n",
       "      <td>South Carolina</td>\n",
       "      <td>67.16</td>\n",
       "      <td>26.77</td>\n",
       "      <td>0.35</td>\n",
       "      <td>1.57</td>\n",
       "      <td>0.08</td>\n",
       "      <td>4.07</td>\n",
       "    </tr>\n",
       "    <tr>\n",
       "      <th>42</th>\n",
       "      <td>South Dakota</td>\n",
       "      <td>84.27</td>\n",
       "      <td>2.01</td>\n",
       "      <td>8.75</td>\n",
       "      <td>1.45</td>\n",
       "      <td>0.06</td>\n",
       "      <td>3.45</td>\n",
       "    </tr>\n",
       "    <tr>\n",
       "      <th>43</th>\n",
       "      <td>Tennessee</td>\n",
       "      <td>77.58</td>\n",
       "      <td>16.76</td>\n",
       "      <td>0.27</td>\n",
       "      <td>1.75</td>\n",
       "      <td>0.06</td>\n",
       "      <td>3.58</td>\n",
       "    </tr>\n",
       "    <tr>\n",
       "      <th>44</th>\n",
       "      <td>Texas</td>\n",
       "      <td>73.97</td>\n",
       "      <td>12.13</td>\n",
       "      <td>0.50</td>\n",
       "      <td>4.80</td>\n",
       "      <td>0.09</td>\n",
       "      <td>8.51</td>\n",
       "    </tr>\n",
       "    <tr>\n",
       "      <th>45</th>\n",
       "      <td>Utah</td>\n",
       "      <td>86.43</td>\n",
       "      <td>1.19</td>\n",
       "      <td>1.09</td>\n",
       "      <td>2.32</td>\n",
       "      <td>0.89</td>\n",
       "      <td>8.08</td>\n",
       "    </tr>\n",
       "    <tr>\n",
       "      <th>46</th>\n",
       "      <td>Vermont</td>\n",
       "      <td>94.16</td>\n",
       "      <td>1.36</td>\n",
       "      <td>0.34</td>\n",
       "      <td>1.68</td>\n",
       "      <td>0.05</td>\n",
       "      <td>2.40</td>\n",
       "    </tr>\n",
       "    <tr>\n",
       "      <th>47</th>\n",
       "      <td>Virginia</td>\n",
       "      <td>67.63</td>\n",
       "      <td>19.18</td>\n",
       "      <td>0.28</td>\n",
       "      <td>6.40</td>\n",
       "      <td>0.07</td>\n",
       "      <td>6.44</td>\n",
       "    </tr>\n",
       "    <tr>\n",
       "      <th>48</th>\n",
       "      <td>Washington</td>\n",
       "      <td>75.38</td>\n",
       "      <td>3.80</td>\n",
       "      <td>1.28</td>\n",
       "      <td>8.53</td>\n",
       "      <td>0.66</td>\n",
       "      <td>10.35</td>\n",
       "    </tr>\n",
       "    <tr>\n",
       "      <th>49</th>\n",
       "      <td>West Virginia</td>\n",
       "      <td>93.08</td>\n",
       "      <td>3.69</td>\n",
       "      <td>0.20</td>\n",
       "      <td>0.80</td>\n",
       "      <td>0.02</td>\n",
       "      <td>2.21</td>\n",
       "    </tr>\n",
       "    <tr>\n",
       "      <th>50</th>\n",
       "      <td>Wisconsin</td>\n",
       "      <td>85.43</td>\n",
       "      <td>6.41</td>\n",
       "      <td>0.89</td>\n",
       "      <td>2.79</td>\n",
       "      <td>0.04</td>\n",
       "      <td>4.44</td>\n",
       "    </tr>\n",
       "    <tr>\n",
       "      <th>51</th>\n",
       "      <td>Wyoming</td>\n",
       "      <td>91.44</td>\n",
       "      <td>0.96</td>\n",
       "      <td>2.44</td>\n",
       "      <td>0.86</td>\n",
       "      <td>0.10</td>\n",
       "      <td>4.19</td>\n",
       "    </tr>\n",
       "  </tbody>\n",
       "</table>\n",
       "</div>"
      ],
      "text/plain": [
       "                   State  White  Black  Indian  Asian  Hawaiian  Other\n",
       "0                Alabama  68.09  26.64    0.52   1.36      0.05   3.34\n",
       "1                 Alaska  64.58   3.28   14.89   6.23      1.25   9.76\n",
       "2                Arizona  77.22   4.50    4.50   3.31      0.21  10.26\n",
       "3               Arkansas  76.72  15.32    0.68   1.52      0.29   5.47\n",
       "4             California  59.70   5.79    0.77  14.49      0.40  18.85\n",
       "5               Colorado  84.00   4.16    0.98   3.18      0.15   7.53\n",
       "6            Connecticut  75.92  10.72    0.28   4.51      0.03   8.54\n",
       "7               Delaware  68.76  22.18    0.39   3.87      0.06   4.75\n",
       "8   District of Columbia  41.27  46.31    0.30   3.98      0.05   8.08\n",
       "9                Florida  75.12  16.07    0.28   2.73      0.06   5.73\n",
       "10               Georgia  58.62  31.61    0.36   3.98      0.06   5.36\n",
       "11                Hawaii  24.95   1.83    0.26  37.79     10.06  25.12\n",
       "12                 Idaho  89.97   0.69    1.35   1.41      0.16   6.42\n",
       "13              Illinois  71.53  14.20    0.26   5.47      0.04   8.50\n",
       "14               Indiana  83.31   9.40    0.24   2.28      0.04   4.73\n",
       "15                  Iowa  90.02   3.71    0.38   2.41      0.12   3.36\n",
       "16                Kansas  84.38   5.85    0.82   2.95      0.08   5.92\n",
       "17              Kentucky  86.95   8.07    0.21   1.47      0.07   3.23\n",
       "18             Louisiana  62.01  32.22    0.57   1.73      0.03   3.44\n",
       "19                 Maine  94.31   1.38    0.65   1.13      0.03   2.50\n",
       "20              Maryland  55.54  29.89    0.28   6.28      0.05   7.96\n",
       "21         Massachusetts  78.07   7.63    0.22   6.60      0.04   7.44\n",
       "22              Michigan  78.41  13.79    0.54   3.13      0.03   4.10\n",
       "23             Minnesota  82.85   6.41    1.04   4.82      0.04   4.84\n",
       "24           Mississippi  58.41  37.72    0.48   0.99      0.02   2.38\n",
       "25              Missouri  82.16  11.49    0.44   1.98      0.13   3.80\n",
       "26               Montana  88.54   0.50    6.36   0.79      0.08   3.73\n",
       "27              Nebraska  87.06   4.83    0.92   2.38      0.07   4.73\n",
       "28                Nevada  65.59   9.12    1.28   8.15      0.67  15.18\n",
       "29         New Hampshire  92.88   1.60    0.15   2.68      0.03   2.65\n",
       "30            New Jersey  67.78  13.46    0.22   9.46      0.04   9.04\n",
       "31            New Mexico  74.81   2.11    9.55   1.56      0.08  11.90\n",
       "32              New York  63.66  15.66    0.41   8.42      0.05  11.81\n",
       "33        North Carolina  68.68  21.44    1.21   2.85      0.07   5.75\n",
       "34          North Dakota  86.58   2.91    5.29   1.45      0.11   3.66\n",
       "35                  Ohio  81.30  12.41    0.20   2.22      0.03   3.85\n",
       "36              Oklahoma  72.32   7.28    7.62   2.17      0.16  10.46\n",
       "37                Oregon  84.29   1.91    1.16   4.37      0.40   7.87\n",
       "38          Pennsylvania  80.53  11.18    0.19   3.41      0.03   4.65\n",
       "39           Puerto Rico  65.93  11.65    0.21   0.19      0.01  22.01\n",
       "40          Rhode Island  80.46   6.77    0.50   3.40      0.08   8.80\n",
       "41        South Carolina  67.16  26.77    0.35   1.57      0.08   4.07\n",
       "42          South Dakota  84.27   2.01    8.75   1.45      0.06   3.45\n",
       "43             Tennessee  77.58  16.76    0.27   1.75      0.06   3.58\n",
       "44                 Texas  73.97  12.13    0.50   4.80      0.09   8.51\n",
       "45                  Utah  86.43   1.19    1.09   2.32      0.89   8.08\n",
       "46               Vermont  94.16   1.36    0.34   1.68      0.05   2.40\n",
       "47              Virginia  67.63  19.18    0.28   6.40      0.07   6.44\n",
       "48            Washington  75.38   3.80    1.28   8.53      0.66  10.35\n",
       "49         West Virginia  93.08   3.69    0.20   0.80      0.02   2.21\n",
       "50             Wisconsin  85.43   6.41    0.89   2.79      0.04   4.44\n",
       "51               Wyoming  91.44   0.96    2.44   0.86      0.10   4.19"
      ]
     },
     "metadata": {},
     "output_type": "display_data"
    }
   ],
   "source": [
    "display(popbyrace_df)"
   ]
  },
  {
   "cell_type": "code",
   "execution_count": 37,
   "metadata": {},
   "outputs": [],
   "source": [
    "## merge dataset 1 and dataset 2 and creating new data frame \n",
    "df = pd.merge(popbystate_df,popbyrace_df, on= 'State')\n"
   ]
  },
  {
   "cell_type": "code",
   "execution_count": 38,
   "metadata": {},
   "outputs": [
    {
     "data": {
      "text/html": [
       "<div>\n",
       "<style scoped>\n",
       "    .dataframe tbody tr th:only-of-type {\n",
       "        vertical-align: middle;\n",
       "    }\n",
       "\n",
       "    .dataframe tbody tr th {\n",
       "        vertical-align: top;\n",
       "    }\n",
       "\n",
       "    .dataframe thead th {\n",
       "        text-align: right;\n",
       "    }\n",
       "</style>\n",
       "<table border=\"1\" class=\"dataframe\">\n",
       "  <thead>\n",
       "    <tr style=\"text-align: right;\">\n",
       "      <th></th>\n",
       "      <th>Rank</th>\n",
       "      <th>State</th>\n",
       "      <th>2021 Population</th>\n",
       "      <th>Growth 2021</th>\n",
       "      <th>2018 Population</th>\n",
       "      <th>2010 Census</th>\n",
       "      <th>Growth Since 2010</th>\n",
       "      <th>% of US</th>\n",
       "      <th>Density (mi²)</th>\n",
       "      <th>Code</th>\n",
       "      <th>White</th>\n",
       "      <th>Black</th>\n",
       "      <th>Indian</th>\n",
       "      <th>Asian</th>\n",
       "      <th>Hawaiian</th>\n",
       "      <th>Other</th>\n",
       "    </tr>\n",
       "  </thead>\n",
       "  <tbody>\n",
       "    <tr>\n",
       "      <th>0</th>\n",
       "      <td>1</td>\n",
       "      <td>California</td>\n",
       "      <td>39613493</td>\n",
       "      <td>0.38</td>\n",
       "      <td>39461588</td>\n",
       "      <td>37319502</td>\n",
       "      <td>6.15</td>\n",
       "      <td>11.84</td>\n",
       "      <td>254</td>\n",
       "      <td>CA</td>\n",
       "      <td>59.70</td>\n",
       "      <td>5.79</td>\n",
       "      <td>0.77</td>\n",
       "      <td>14.49</td>\n",
       "      <td>0.40</td>\n",
       "      <td>18.85</td>\n",
       "    </tr>\n",
       "    <tr>\n",
       "      <th>1</th>\n",
       "      <td>2</td>\n",
       "      <td>Texas</td>\n",
       "      <td>29730311</td>\n",
       "      <td>3.85</td>\n",
       "      <td>28628666</td>\n",
       "      <td>25241971</td>\n",
       "      <td>17.78</td>\n",
       "      <td>8.89</td>\n",
       "      <td>114</td>\n",
       "      <td>TX</td>\n",
       "      <td>73.97</td>\n",
       "      <td>12.13</td>\n",
       "      <td>0.50</td>\n",
       "      <td>4.80</td>\n",
       "      <td>0.09</td>\n",
       "      <td>8.51</td>\n",
       "    </tr>\n",
       "    <tr>\n",
       "      <th>2</th>\n",
       "      <td>3</td>\n",
       "      <td>Florida</td>\n",
       "      <td>21944577</td>\n",
       "      <td>3.30</td>\n",
       "      <td>21244317</td>\n",
       "      <td>18845537</td>\n",
       "      <td>16.44</td>\n",
       "      <td>6.56</td>\n",
       "      <td>409</td>\n",
       "      <td>FL</td>\n",
       "      <td>75.12</td>\n",
       "      <td>16.07</td>\n",
       "      <td>0.28</td>\n",
       "      <td>2.73</td>\n",
       "      <td>0.06</td>\n",
       "      <td>5.73</td>\n",
       "    </tr>\n",
       "    <tr>\n",
       "      <th>3</th>\n",
       "      <td>4</td>\n",
       "      <td>New York</td>\n",
       "      <td>19299981</td>\n",
       "      <td>-1.18</td>\n",
       "      <td>19530351</td>\n",
       "      <td>19399878</td>\n",
       "      <td>-0.51</td>\n",
       "      <td>5.77</td>\n",
       "      <td>410</td>\n",
       "      <td>NY</td>\n",
       "      <td>63.66</td>\n",
       "      <td>15.66</td>\n",
       "      <td>0.41</td>\n",
       "      <td>8.42</td>\n",
       "      <td>0.05</td>\n",
       "      <td>11.81</td>\n",
       "    </tr>\n",
       "    <tr>\n",
       "      <th>4</th>\n",
       "      <td>5</td>\n",
       "      <td>Pennsylvania</td>\n",
       "      <td>12804123</td>\n",
       "      <td>0.03</td>\n",
       "      <td>12800922</td>\n",
       "      <td>12711160</td>\n",
       "      <td>0.73</td>\n",
       "      <td>3.83</td>\n",
       "      <td>286</td>\n",
       "      <td>PA</td>\n",
       "      <td>80.53</td>\n",
       "      <td>11.18</td>\n",
       "      <td>0.19</td>\n",
       "      <td>3.41</td>\n",
       "      <td>0.03</td>\n",
       "      <td>4.65</td>\n",
       "    </tr>\n",
       "    <tr>\n",
       "      <th>5</th>\n",
       "      <td>6</td>\n",
       "      <td>Illinois</td>\n",
       "      <td>12569321</td>\n",
       "      <td>-1.21</td>\n",
       "      <td>12723071</td>\n",
       "      <td>12840503</td>\n",
       "      <td>-2.11</td>\n",
       "      <td>3.76</td>\n",
       "      <td>226</td>\n",
       "      <td>IL</td>\n",
       "      <td>71.53</td>\n",
       "      <td>14.20</td>\n",
       "      <td>0.26</td>\n",
       "      <td>5.47</td>\n",
       "      <td>0.04</td>\n",
       "      <td>8.50</td>\n",
       "    </tr>\n",
       "    <tr>\n",
       "      <th>6</th>\n",
       "      <td>7</td>\n",
       "      <td>Ohio</td>\n",
       "      <td>11714618</td>\n",
       "      <td>0.33</td>\n",
       "      <td>11676341</td>\n",
       "      <td>11539336</td>\n",
       "      <td>1.52</td>\n",
       "      <td>3.50</td>\n",
       "      <td>287</td>\n",
       "      <td>OH</td>\n",
       "      <td>81.30</td>\n",
       "      <td>12.41</td>\n",
       "      <td>0.20</td>\n",
       "      <td>2.22</td>\n",
       "      <td>0.03</td>\n",
       "      <td>3.85</td>\n",
       "    </tr>\n",
       "    <tr>\n",
       "      <th>7</th>\n",
       "      <td>8</td>\n",
       "      <td>Georgia</td>\n",
       "      <td>10830007</td>\n",
       "      <td>3.03</td>\n",
       "      <td>10511131</td>\n",
       "      <td>9711881</td>\n",
       "      <td>11.51</td>\n",
       "      <td>3.24</td>\n",
       "      <td>188</td>\n",
       "      <td>GA</td>\n",
       "      <td>58.62</td>\n",
       "      <td>31.61</td>\n",
       "      <td>0.36</td>\n",
       "      <td>3.98</td>\n",
       "      <td>0.06</td>\n",
       "      <td>5.36</td>\n",
       "    </tr>\n",
       "    <tr>\n",
       "      <th>8</th>\n",
       "      <td>9</td>\n",
       "      <td>North Carolina</td>\n",
       "      <td>10701022</td>\n",
       "      <td>3.08</td>\n",
       "      <td>10381615</td>\n",
       "      <td>9574323</td>\n",
       "      <td>11.77</td>\n",
       "      <td>3.20</td>\n",
       "      <td>220</td>\n",
       "      <td>NC</td>\n",
       "      <td>68.68</td>\n",
       "      <td>21.44</td>\n",
       "      <td>1.21</td>\n",
       "      <td>2.85</td>\n",
       "      <td>0.07</td>\n",
       "      <td>5.75</td>\n",
       "    </tr>\n",
       "    <tr>\n",
       "      <th>9</th>\n",
       "      <td>10</td>\n",
       "      <td>Michigan</td>\n",
       "      <td>9992427</td>\n",
       "      <td>0.08</td>\n",
       "      <td>9984072</td>\n",
       "      <td>9877510</td>\n",
       "      <td>1.16</td>\n",
       "      <td>2.99</td>\n",
       "      <td>177</td>\n",
       "      <td>MI</td>\n",
       "      <td>78.41</td>\n",
       "      <td>13.79</td>\n",
       "      <td>0.54</td>\n",
       "      <td>3.13</td>\n",
       "      <td>0.03</td>\n",
       "      <td>4.10</td>\n",
       "    </tr>\n",
       "    <tr>\n",
       "      <th>10</th>\n",
       "      <td>11</td>\n",
       "      <td>New Jersey</td>\n",
       "      <td>8874520</td>\n",
       "      <td>-0.13</td>\n",
       "      <td>8886025</td>\n",
       "      <td>8799446</td>\n",
       "      <td>0.85</td>\n",
       "      <td>2.65</td>\n",
       "      <td>1207</td>\n",
       "      <td>NJ</td>\n",
       "      <td>67.78</td>\n",
       "      <td>13.46</td>\n",
       "      <td>0.22</td>\n",
       "      <td>9.46</td>\n",
       "      <td>0.04</td>\n",
       "      <td>9.04</td>\n",
       "    </tr>\n",
       "    <tr>\n",
       "      <th>11</th>\n",
       "      <td>12</td>\n",
       "      <td>Virginia</td>\n",
       "      <td>8603985</td>\n",
       "      <td>1.21</td>\n",
       "      <td>8501286</td>\n",
       "      <td>8023699</td>\n",
       "      <td>7.23</td>\n",
       "      <td>2.57</td>\n",
       "      <td>218</td>\n",
       "      <td>VA</td>\n",
       "      <td>67.63</td>\n",
       "      <td>19.18</td>\n",
       "      <td>0.28</td>\n",
       "      <td>6.40</td>\n",
       "      <td>0.07</td>\n",
       "      <td>6.44</td>\n",
       "    </tr>\n",
       "    <tr>\n",
       "      <th>12</th>\n",
       "      <td>13</td>\n",
       "      <td>Washington</td>\n",
       "      <td>7796941</td>\n",
       "      <td>3.63</td>\n",
       "      <td>7523869</td>\n",
       "      <td>6742830</td>\n",
       "      <td>15.63</td>\n",
       "      <td>2.33</td>\n",
       "      <td>117</td>\n",
       "      <td>WA</td>\n",
       "      <td>75.38</td>\n",
       "      <td>3.80</td>\n",
       "      <td>1.28</td>\n",
       "      <td>8.53</td>\n",
       "      <td>0.66</td>\n",
       "      <td>10.35</td>\n",
       "    </tr>\n",
       "    <tr>\n",
       "      <th>13</th>\n",
       "      <td>14</td>\n",
       "      <td>Arizona</td>\n",
       "      <td>7520103</td>\n",
       "      <td>5.06</td>\n",
       "      <td>7158024</td>\n",
       "      <td>6407172</td>\n",
       "      <td>17.37</td>\n",
       "      <td>2.25</td>\n",
       "      <td>66</td>\n",
       "      <td>AZ</td>\n",
       "      <td>77.22</td>\n",
       "      <td>4.50</td>\n",
       "      <td>4.50</td>\n",
       "      <td>3.31</td>\n",
       "      <td>0.21</td>\n",
       "      <td>10.26</td>\n",
       "    </tr>\n",
       "    <tr>\n",
       "      <th>14</th>\n",
       "      <td>15</td>\n",
       "      <td>Tennessee</td>\n",
       "      <td>6944260</td>\n",
       "      <td>2.55</td>\n",
       "      <td>6771631</td>\n",
       "      <td>6355311</td>\n",
       "      <td>9.27</td>\n",
       "      <td>2.08</td>\n",
       "      <td>168</td>\n",
       "      <td>TN</td>\n",
       "      <td>77.58</td>\n",
       "      <td>16.76</td>\n",
       "      <td>0.27</td>\n",
       "      <td>1.75</td>\n",
       "      <td>0.06</td>\n",
       "      <td>3.58</td>\n",
       "    </tr>\n",
       "    <tr>\n",
       "      <th>15</th>\n",
       "      <td>16</td>\n",
       "      <td>Massachusetts</td>\n",
       "      <td>6912239</td>\n",
       "      <td>0.43</td>\n",
       "      <td>6882635</td>\n",
       "      <td>6566307</td>\n",
       "      <td>5.27</td>\n",
       "      <td>2.07</td>\n",
       "      <td>886</td>\n",
       "      <td>MA</td>\n",
       "      <td>78.07</td>\n",
       "      <td>7.63</td>\n",
       "      <td>0.22</td>\n",
       "      <td>6.60</td>\n",
       "      <td>0.04</td>\n",
       "      <td>7.44</td>\n",
       "    </tr>\n",
       "    <tr>\n",
       "      <th>16</th>\n",
       "      <td>17</td>\n",
       "      <td>Indiana</td>\n",
       "      <td>6805663</td>\n",
       "      <td>1.65</td>\n",
       "      <td>6695497</td>\n",
       "      <td>6490432</td>\n",
       "      <td>4.86</td>\n",
       "      <td>2.03</td>\n",
       "      <td>190</td>\n",
       "      <td>IN</td>\n",
       "      <td>83.31</td>\n",
       "      <td>9.40</td>\n",
       "      <td>0.24</td>\n",
       "      <td>2.28</td>\n",
       "      <td>0.04</td>\n",
       "      <td>4.73</td>\n",
       "    </tr>\n",
       "    <tr>\n",
       "      <th>17</th>\n",
       "      <td>18</td>\n",
       "      <td>Missouri</td>\n",
       "      <td>6169038</td>\n",
       "      <td>0.77</td>\n",
       "      <td>6121623</td>\n",
       "      <td>5995974</td>\n",
       "      <td>2.89</td>\n",
       "      <td>1.84</td>\n",
       "      <td>90</td>\n",
       "      <td>MO</td>\n",
       "      <td>82.16</td>\n",
       "      <td>11.49</td>\n",
       "      <td>0.44</td>\n",
       "      <td>1.98</td>\n",
       "      <td>0.13</td>\n",
       "      <td>3.80</td>\n",
       "    </tr>\n",
       "    <tr>\n",
       "      <th>18</th>\n",
       "      <td>19</td>\n",
       "      <td>Maryland</td>\n",
       "      <td>6065436</td>\n",
       "      <td>0.49</td>\n",
       "      <td>6035802</td>\n",
       "      <td>5788645</td>\n",
       "      <td>4.78</td>\n",
       "      <td>1.81</td>\n",
       "      <td>625</td>\n",
       "      <td>MD</td>\n",
       "      <td>55.54</td>\n",
       "      <td>29.89</td>\n",
       "      <td>0.28</td>\n",
       "      <td>6.28</td>\n",
       "      <td>0.05</td>\n",
       "      <td>7.96</td>\n",
       "    </tr>\n",
       "    <tr>\n",
       "      <th>19</th>\n",
       "      <td>20</td>\n",
       "      <td>Colorado</td>\n",
       "      <td>5893634</td>\n",
       "      <td>3.56</td>\n",
       "      <td>5691287</td>\n",
       "      <td>5047349</td>\n",
       "      <td>16.77</td>\n",
       "      <td>1.76</td>\n",
       "      <td>57</td>\n",
       "      <td>CO</td>\n",
       "      <td>84.00</td>\n",
       "      <td>4.16</td>\n",
       "      <td>0.98</td>\n",
       "      <td>3.18</td>\n",
       "      <td>0.15</td>\n",
       "      <td>7.53</td>\n",
       "    </tr>\n",
       "    <tr>\n",
       "      <th>20</th>\n",
       "      <td>21</td>\n",
       "      <td>Wisconsin</td>\n",
       "      <td>5852490</td>\n",
       "      <td>0.78</td>\n",
       "      <td>5807406</td>\n",
       "      <td>5690475</td>\n",
       "      <td>2.85</td>\n",
       "      <td>1.75</td>\n",
       "      <td>108</td>\n",
       "      <td>WI</td>\n",
       "      <td>85.43</td>\n",
       "      <td>6.41</td>\n",
       "      <td>0.89</td>\n",
       "      <td>2.79</td>\n",
       "      <td>0.04</td>\n",
       "      <td>4.44</td>\n",
       "    </tr>\n",
       "    <tr>\n",
       "      <th>21</th>\n",
       "      <td>22</td>\n",
       "      <td>Minnesota</td>\n",
       "      <td>5706398</td>\n",
       "      <td>1.79</td>\n",
       "      <td>5606249</td>\n",
       "      <td>5310828</td>\n",
       "      <td>7.45</td>\n",
       "      <td>1.71</td>\n",
       "      <td>72</td>\n",
       "      <td>MN</td>\n",
       "      <td>82.85</td>\n",
       "      <td>6.41</td>\n",
       "      <td>1.04</td>\n",
       "      <td>4.82</td>\n",
       "      <td>0.04</td>\n",
       "      <td>4.84</td>\n",
       "    </tr>\n",
       "    <tr>\n",
       "      <th>22</th>\n",
       "      <td>23</td>\n",
       "      <td>South Carolina</td>\n",
       "      <td>5277830</td>\n",
       "      <td>3.81</td>\n",
       "      <td>5084156</td>\n",
       "      <td>4635649</td>\n",
       "      <td>13.85</td>\n",
       "      <td>1.58</td>\n",
       "      <td>176</td>\n",
       "      <td>SC</td>\n",
       "      <td>67.16</td>\n",
       "      <td>26.77</td>\n",
       "      <td>0.35</td>\n",
       "      <td>1.57</td>\n",
       "      <td>0.08</td>\n",
       "      <td>4.07</td>\n",
       "    </tr>\n",
       "    <tr>\n",
       "      <th>23</th>\n",
       "      <td>24</td>\n",
       "      <td>Alabama</td>\n",
       "      <td>4934193</td>\n",
       "      <td>0.95</td>\n",
       "      <td>4887681</td>\n",
       "      <td>4785437</td>\n",
       "      <td>3.11</td>\n",
       "      <td>1.47</td>\n",
       "      <td>97</td>\n",
       "      <td>AL</td>\n",
       "      <td>68.09</td>\n",
       "      <td>26.64</td>\n",
       "      <td>0.52</td>\n",
       "      <td>1.36</td>\n",
       "      <td>0.05</td>\n",
       "      <td>3.34</td>\n",
       "    </tr>\n",
       "    <tr>\n",
       "      <th>24</th>\n",
       "      <td>25</td>\n",
       "      <td>Louisiana</td>\n",
       "      <td>4627002</td>\n",
       "      <td>-0.70</td>\n",
       "      <td>4659690</td>\n",
       "      <td>4544532</td>\n",
       "      <td>1.81</td>\n",
       "      <td>1.38</td>\n",
       "      <td>107</td>\n",
       "      <td>LA</td>\n",
       "      <td>62.01</td>\n",
       "      <td>32.22</td>\n",
       "      <td>0.57</td>\n",
       "      <td>1.73</td>\n",
       "      <td>0.03</td>\n",
       "      <td>3.44</td>\n",
       "    </tr>\n",
       "    <tr>\n",
       "      <th>25</th>\n",
       "      <td>26</td>\n",
       "      <td>Kentucky</td>\n",
       "      <td>4480713</td>\n",
       "      <td>0.44</td>\n",
       "      <td>4461153</td>\n",
       "      <td>4348181</td>\n",
       "      <td>3.05</td>\n",
       "      <td>1.34</td>\n",
       "      <td>113</td>\n",
       "      <td>KY</td>\n",
       "      <td>86.95</td>\n",
       "      <td>8.07</td>\n",
       "      <td>0.21</td>\n",
       "      <td>1.47</td>\n",
       "      <td>0.07</td>\n",
       "      <td>3.23</td>\n",
       "    </tr>\n",
       "    <tr>\n",
       "      <th>26</th>\n",
       "      <td>27</td>\n",
       "      <td>Oregon</td>\n",
       "      <td>4289439</td>\n",
       "      <td>2.57</td>\n",
       "      <td>4181886</td>\n",
       "      <td>3837491</td>\n",
       "      <td>11.78</td>\n",
       "      <td>1.28</td>\n",
       "      <td>45</td>\n",
       "      <td>OR</td>\n",
       "      <td>84.29</td>\n",
       "      <td>1.91</td>\n",
       "      <td>1.16</td>\n",
       "      <td>4.37</td>\n",
       "      <td>0.40</td>\n",
       "      <td>7.87</td>\n",
       "    </tr>\n",
       "    <tr>\n",
       "      <th>27</th>\n",
       "      <td>28</td>\n",
       "      <td>Oklahoma</td>\n",
       "      <td>3990443</td>\n",
       "      <td>1.27</td>\n",
       "      <td>3940235</td>\n",
       "      <td>3759944</td>\n",
       "      <td>6.13</td>\n",
       "      <td>1.19</td>\n",
       "      <td>58</td>\n",
       "      <td>OK</td>\n",
       "      <td>72.32</td>\n",
       "      <td>7.28</td>\n",
       "      <td>7.62</td>\n",
       "      <td>2.17</td>\n",
       "      <td>0.16</td>\n",
       "      <td>10.46</td>\n",
       "    </tr>\n",
       "    <tr>\n",
       "      <th>28</th>\n",
       "      <td>29</td>\n",
       "      <td>Connecticut</td>\n",
       "      <td>3552821</td>\n",
       "      <td>-0.52</td>\n",
       "      <td>3571520</td>\n",
       "      <td>3579114</td>\n",
       "      <td>-0.73</td>\n",
       "      <td>1.06</td>\n",
       "      <td>734</td>\n",
       "      <td>CT</td>\n",
       "      <td>75.92</td>\n",
       "      <td>10.72</td>\n",
       "      <td>0.28</td>\n",
       "      <td>4.51</td>\n",
       "      <td>0.03</td>\n",
       "      <td>8.54</td>\n",
       "    </tr>\n",
       "    <tr>\n",
       "      <th>29</th>\n",
       "      <td>30</td>\n",
       "      <td>Utah</td>\n",
       "      <td>3310774</td>\n",
       "      <td>4.99</td>\n",
       "      <td>3153550</td>\n",
       "      <td>2775332</td>\n",
       "      <td>19.29</td>\n",
       "      <td>0.99</td>\n",
       "      <td>40</td>\n",
       "      <td>UT</td>\n",
       "      <td>86.43</td>\n",
       "      <td>1.19</td>\n",
       "      <td>1.09</td>\n",
       "      <td>2.32</td>\n",
       "      <td>0.89</td>\n",
       "      <td>8.08</td>\n",
       "    </tr>\n",
       "    <tr>\n",
       "      <th>30</th>\n",
       "      <td>31</td>\n",
       "      <td>Puerto Rico</td>\n",
       "      <td>3194374</td>\n",
       "      <td>0.03</td>\n",
       "      <td>3193354</td>\n",
       "      <td>3721525</td>\n",
       "      <td>-14.16</td>\n",
       "      <td>0.95</td>\n",
       "      <td>923</td>\n",
       "      <td>NaN</td>\n",
       "      <td>65.93</td>\n",
       "      <td>11.65</td>\n",
       "      <td>0.21</td>\n",
       "      <td>0.19</td>\n",
       "      <td>0.01</td>\n",
       "      <td>22.01</td>\n",
       "    </tr>\n",
       "    <tr>\n",
       "      <th>31</th>\n",
       "      <td>32</td>\n",
       "      <td>Nevada</td>\n",
       "      <td>3185786</td>\n",
       "      <td>5.23</td>\n",
       "      <td>3027341</td>\n",
       "      <td>2702405</td>\n",
       "      <td>17.89</td>\n",
       "      <td>0.95</td>\n",
       "      <td>29</td>\n",
       "      <td>NV</td>\n",
       "      <td>65.59</td>\n",
       "      <td>9.12</td>\n",
       "      <td>1.28</td>\n",
       "      <td>8.15</td>\n",
       "      <td>0.67</td>\n",
       "      <td>15.18</td>\n",
       "    </tr>\n",
       "    <tr>\n",
       "      <th>32</th>\n",
       "      <td>33</td>\n",
       "      <td>Iowa</td>\n",
       "      <td>3167974</td>\n",
       "      <td>0.61</td>\n",
       "      <td>3148618</td>\n",
       "      <td>3050745</td>\n",
       "      <td>3.84</td>\n",
       "      <td>0.95</td>\n",
       "      <td>57</td>\n",
       "      <td>IA</td>\n",
       "      <td>90.02</td>\n",
       "      <td>3.71</td>\n",
       "      <td>0.38</td>\n",
       "      <td>2.41</td>\n",
       "      <td>0.12</td>\n",
       "      <td>3.36</td>\n",
       "    </tr>\n",
       "    <tr>\n",
       "      <th>33</th>\n",
       "      <td>34</td>\n",
       "      <td>Arkansas</td>\n",
       "      <td>3033946</td>\n",
       "      <td>0.80</td>\n",
       "      <td>3009733</td>\n",
       "      <td>2921964</td>\n",
       "      <td>3.83</td>\n",
       "      <td>0.91</td>\n",
       "      <td>58</td>\n",
       "      <td>AR</td>\n",
       "      <td>76.72</td>\n",
       "      <td>15.32</td>\n",
       "      <td>0.68</td>\n",
       "      <td>1.52</td>\n",
       "      <td>0.29</td>\n",
       "      <td>5.47</td>\n",
       "    </tr>\n",
       "    <tr>\n",
       "      <th>34</th>\n",
       "      <td>35</td>\n",
       "      <td>Mississippi</td>\n",
       "      <td>2966407</td>\n",
       "      <td>-0.49</td>\n",
       "      <td>2981020</td>\n",
       "      <td>2970548</td>\n",
       "      <td>-0.14</td>\n",
       "      <td>0.89</td>\n",
       "      <td>63</td>\n",
       "      <td>MS</td>\n",
       "      <td>58.41</td>\n",
       "      <td>37.72</td>\n",
       "      <td>0.48</td>\n",
       "      <td>0.99</td>\n",
       "      <td>0.02</td>\n",
       "      <td>2.38</td>\n",
       "    </tr>\n",
       "    <tr>\n",
       "      <th>35</th>\n",
       "      <td>36</td>\n",
       "      <td>Kansas</td>\n",
       "      <td>2917224</td>\n",
       "      <td>0.20</td>\n",
       "      <td>2911359</td>\n",
       "      <td>2858190</td>\n",
       "      <td>2.07</td>\n",
       "      <td>0.87</td>\n",
       "      <td>36</td>\n",
       "      <td>KS</td>\n",
       "      <td>84.38</td>\n",
       "      <td>5.85</td>\n",
       "      <td>0.82</td>\n",
       "      <td>2.95</td>\n",
       "      <td>0.08</td>\n",
       "      <td>5.92</td>\n",
       "    </tr>\n",
       "    <tr>\n",
       "      <th>36</th>\n",
       "      <td>37</td>\n",
       "      <td>New Mexico</td>\n",
       "      <td>2105005</td>\n",
       "      <td>0.59</td>\n",
       "      <td>2092741</td>\n",
       "      <td>2064552</td>\n",
       "      <td>1.96</td>\n",
       "      <td>0.63</td>\n",
       "      <td>17</td>\n",
       "      <td>NM</td>\n",
       "      <td>74.81</td>\n",
       "      <td>2.11</td>\n",
       "      <td>9.55</td>\n",
       "      <td>1.56</td>\n",
       "      <td>0.08</td>\n",
       "      <td>11.90</td>\n",
       "    </tr>\n",
       "    <tr>\n",
       "      <th>37</th>\n",
       "      <td>38</td>\n",
       "      <td>Nebraska</td>\n",
       "      <td>1951996</td>\n",
       "      <td>1.37</td>\n",
       "      <td>1925614</td>\n",
       "      <td>1829542</td>\n",
       "      <td>6.69</td>\n",
       "      <td>0.58</td>\n",
       "      <td>25</td>\n",
       "      <td>NE</td>\n",
       "      <td>87.06</td>\n",
       "      <td>4.83</td>\n",
       "      <td>0.92</td>\n",
       "      <td>2.38</td>\n",
       "      <td>0.07</td>\n",
       "      <td>4.73</td>\n",
       "    </tr>\n",
       "    <tr>\n",
       "      <th>38</th>\n",
       "      <td>39</td>\n",
       "      <td>Idaho</td>\n",
       "      <td>1860123</td>\n",
       "      <td>6.26</td>\n",
       "      <td>1750536</td>\n",
       "      <td>1570746</td>\n",
       "      <td>18.42</td>\n",
       "      <td>0.56</td>\n",
       "      <td>23</td>\n",
       "      <td>ID</td>\n",
       "      <td>89.97</td>\n",
       "      <td>0.69</td>\n",
       "      <td>1.35</td>\n",
       "      <td>1.41</td>\n",
       "      <td>0.16</td>\n",
       "      <td>6.42</td>\n",
       "    </tr>\n",
       "    <tr>\n",
       "      <th>39</th>\n",
       "      <td>40</td>\n",
       "      <td>West Virginia</td>\n",
       "      <td>1767859</td>\n",
       "      <td>-2.02</td>\n",
       "      <td>1804291</td>\n",
       "      <td>1854239</td>\n",
       "      <td>-4.66</td>\n",
       "      <td>0.53</td>\n",
       "      <td>74</td>\n",
       "      <td>WV</td>\n",
       "      <td>93.08</td>\n",
       "      <td>3.69</td>\n",
       "      <td>0.20</td>\n",
       "      <td>0.80</td>\n",
       "      <td>0.02</td>\n",
       "      <td>2.21</td>\n",
       "    </tr>\n",
       "    <tr>\n",
       "      <th>40</th>\n",
       "      <td>41</td>\n",
       "      <td>Hawaii</td>\n",
       "      <td>1406430</td>\n",
       "      <td>-1.00</td>\n",
       "      <td>1420593</td>\n",
       "      <td>1363963</td>\n",
       "      <td>3.11</td>\n",
       "      <td>0.42</td>\n",
       "      <td>219</td>\n",
       "      <td>HI</td>\n",
       "      <td>24.95</td>\n",
       "      <td>1.83</td>\n",
       "      <td>0.26</td>\n",
       "      <td>37.79</td>\n",
       "      <td>10.06</td>\n",
       "      <td>25.12</td>\n",
       "    </tr>\n",
       "    <tr>\n",
       "      <th>41</th>\n",
       "      <td>42</td>\n",
       "      <td>New Hampshire</td>\n",
       "      <td>1372203</td>\n",
       "      <td>1.38</td>\n",
       "      <td>1353465</td>\n",
       "      <td>1316762</td>\n",
       "      <td>4.21</td>\n",
       "      <td>0.41</td>\n",
       "      <td>153</td>\n",
       "      <td>NH</td>\n",
       "      <td>92.88</td>\n",
       "      <td>1.60</td>\n",
       "      <td>0.15</td>\n",
       "      <td>2.68</td>\n",
       "      <td>0.03</td>\n",
       "      <td>2.65</td>\n",
       "    </tr>\n",
       "    <tr>\n",
       "      <th>42</th>\n",
       "      <td>43</td>\n",
       "      <td>Maine</td>\n",
       "      <td>1354522</td>\n",
       "      <td>1.15</td>\n",
       "      <td>1339057</td>\n",
       "      <td>1327629</td>\n",
       "      <td>2.03</td>\n",
       "      <td>0.40</td>\n",
       "      <td>44</td>\n",
       "      <td>ME</td>\n",
       "      <td>94.31</td>\n",
       "      <td>1.38</td>\n",
       "      <td>0.65</td>\n",
       "      <td>1.13</td>\n",
       "      <td>0.03</td>\n",
       "      <td>2.50</td>\n",
       "    </tr>\n",
       "    <tr>\n",
       "      <th>43</th>\n",
       "      <td>44</td>\n",
       "      <td>Montana</td>\n",
       "      <td>1085004</td>\n",
       "      <td>2.29</td>\n",
       "      <td>1060665</td>\n",
       "      <td>990697</td>\n",
       "      <td>9.52</td>\n",
       "      <td>0.32</td>\n",
       "      <td>7</td>\n",
       "      <td>MT</td>\n",
       "      <td>88.54</td>\n",
       "      <td>0.50</td>\n",
       "      <td>6.36</td>\n",
       "      <td>0.79</td>\n",
       "      <td>0.08</td>\n",
       "      <td>3.73</td>\n",
       "    </tr>\n",
       "    <tr>\n",
       "      <th>44</th>\n",
       "      <td>45</td>\n",
       "      <td>Rhode Island</td>\n",
       "      <td>1061509</td>\n",
       "      <td>0.30</td>\n",
       "      <td>1058287</td>\n",
       "      <td>1053959</td>\n",
       "      <td>0.72</td>\n",
       "      <td>0.32</td>\n",
       "      <td>1027</td>\n",
       "      <td>RI</td>\n",
       "      <td>80.46</td>\n",
       "      <td>6.77</td>\n",
       "      <td>0.50</td>\n",
       "      <td>3.40</td>\n",
       "      <td>0.08</td>\n",
       "      <td>8.80</td>\n",
       "    </tr>\n",
       "    <tr>\n",
       "      <th>45</th>\n",
       "      <td>46</td>\n",
       "      <td>Delaware</td>\n",
       "      <td>990334</td>\n",
       "      <td>2.57</td>\n",
       "      <td>965479</td>\n",
       "      <td>899593</td>\n",
       "      <td>10.09</td>\n",
       "      <td>0.30</td>\n",
       "      <td>508</td>\n",
       "      <td>DE</td>\n",
       "      <td>68.76</td>\n",
       "      <td>22.18</td>\n",
       "      <td>0.39</td>\n",
       "      <td>3.87</td>\n",
       "      <td>0.06</td>\n",
       "      <td>4.75</td>\n",
       "    </tr>\n",
       "    <tr>\n",
       "      <th>46</th>\n",
       "      <td>47</td>\n",
       "      <td>South Dakota</td>\n",
       "      <td>896581</td>\n",
       "      <td>2.04</td>\n",
       "      <td>878698</td>\n",
       "      <td>816166</td>\n",
       "      <td>9.85</td>\n",
       "      <td>0.27</td>\n",
       "      <td>12</td>\n",
       "      <td>SD</td>\n",
       "      <td>84.27</td>\n",
       "      <td>2.01</td>\n",
       "      <td>8.75</td>\n",
       "      <td>1.45</td>\n",
       "      <td>0.06</td>\n",
       "      <td>3.45</td>\n",
       "    </tr>\n",
       "    <tr>\n",
       "      <th>47</th>\n",
       "      <td>48</td>\n",
       "      <td>North Dakota</td>\n",
       "      <td>770026</td>\n",
       "      <td>1.58</td>\n",
       "      <td>758080</td>\n",
       "      <td>674715</td>\n",
       "      <td>14.13</td>\n",
       "      <td>0.23</td>\n",
       "      <td>11</td>\n",
       "      <td>ND</td>\n",
       "      <td>86.58</td>\n",
       "      <td>2.91</td>\n",
       "      <td>5.29</td>\n",
       "      <td>1.45</td>\n",
       "      <td>0.11</td>\n",
       "      <td>3.66</td>\n",
       "    </tr>\n",
       "    <tr>\n",
       "      <th>48</th>\n",
       "      <td>49</td>\n",
       "      <td>Alaska</td>\n",
       "      <td>724357</td>\n",
       "      <td>-1.47</td>\n",
       "      <td>735139</td>\n",
       "      <td>713910</td>\n",
       "      <td>1.46</td>\n",
       "      <td>0.22</td>\n",
       "      <td>1</td>\n",
       "      <td>AK</td>\n",
       "      <td>64.58</td>\n",
       "      <td>3.28</td>\n",
       "      <td>14.89</td>\n",
       "      <td>6.23</td>\n",
       "      <td>1.25</td>\n",
       "      <td>9.76</td>\n",
       "    </tr>\n",
       "    <tr>\n",
       "      <th>49</th>\n",
       "      <td>50</td>\n",
       "      <td>District of Columbia</td>\n",
       "      <td>714153</td>\n",
       "      <td>1.80</td>\n",
       "      <td>701547</td>\n",
       "      <td>605226</td>\n",
       "      <td>18.00</td>\n",
       "      <td>0.21</td>\n",
       "      <td>11707</td>\n",
       "      <td>DC</td>\n",
       "      <td>41.27</td>\n",
       "      <td>46.31</td>\n",
       "      <td>0.30</td>\n",
       "      <td>3.98</td>\n",
       "      <td>0.05</td>\n",
       "      <td>8.08</td>\n",
       "    </tr>\n",
       "    <tr>\n",
       "      <th>50</th>\n",
       "      <td>51</td>\n",
       "      <td>Vermont</td>\n",
       "      <td>623251</td>\n",
       "      <td>-0.18</td>\n",
       "      <td>624358</td>\n",
       "      <td>625879</td>\n",
       "      <td>-0.42</td>\n",
       "      <td>0.19</td>\n",
       "      <td>68</td>\n",
       "      <td>VT</td>\n",
       "      <td>94.16</td>\n",
       "      <td>1.36</td>\n",
       "      <td>0.34</td>\n",
       "      <td>1.68</td>\n",
       "      <td>0.05</td>\n",
       "      <td>2.40</td>\n",
       "    </tr>\n",
       "    <tr>\n",
       "      <th>51</th>\n",
       "      <td>52</td>\n",
       "      <td>Wyoming</td>\n",
       "      <td>581075</td>\n",
       "      <td>0.60</td>\n",
       "      <td>577601</td>\n",
       "      <td>564487</td>\n",
       "      <td>2.94</td>\n",
       "      <td>0.17</td>\n",
       "      <td>6</td>\n",
       "      <td>WY</td>\n",
       "      <td>91.44</td>\n",
       "      <td>0.96</td>\n",
       "      <td>2.44</td>\n",
       "      <td>0.86</td>\n",
       "      <td>0.10</td>\n",
       "      <td>4.19</td>\n",
       "    </tr>\n",
       "  </tbody>\n",
       "</table>\n",
       "</div>"
      ],
      "text/plain": [
       "    Rank                 State  2021 Population  Growth 2021  2018 Population  \\\n",
       "0      1            California         39613493         0.38         39461588   \n",
       "1      2                 Texas         29730311         3.85         28628666   \n",
       "2      3               Florida         21944577         3.30         21244317   \n",
       "3      4              New York         19299981        -1.18         19530351   \n",
       "4      5          Pennsylvania         12804123         0.03         12800922   \n",
       "5      6              Illinois         12569321        -1.21         12723071   \n",
       "6      7                  Ohio         11714618         0.33         11676341   \n",
       "7      8               Georgia         10830007         3.03         10511131   \n",
       "8      9        North Carolina         10701022         3.08         10381615   \n",
       "9     10              Michigan          9992427         0.08          9984072   \n",
       "10    11            New Jersey          8874520        -0.13          8886025   \n",
       "11    12              Virginia          8603985         1.21          8501286   \n",
       "12    13            Washington          7796941         3.63          7523869   \n",
       "13    14               Arizona          7520103         5.06          7158024   \n",
       "14    15             Tennessee          6944260         2.55          6771631   \n",
       "15    16         Massachusetts          6912239         0.43          6882635   \n",
       "16    17               Indiana          6805663         1.65          6695497   \n",
       "17    18              Missouri          6169038         0.77          6121623   \n",
       "18    19              Maryland          6065436         0.49          6035802   \n",
       "19    20              Colorado          5893634         3.56          5691287   \n",
       "20    21             Wisconsin          5852490         0.78          5807406   \n",
       "21    22             Minnesota          5706398         1.79          5606249   \n",
       "22    23        South Carolina          5277830         3.81          5084156   \n",
       "23    24               Alabama          4934193         0.95          4887681   \n",
       "24    25             Louisiana          4627002        -0.70          4659690   \n",
       "25    26              Kentucky          4480713         0.44          4461153   \n",
       "26    27                Oregon          4289439         2.57          4181886   \n",
       "27    28              Oklahoma          3990443         1.27          3940235   \n",
       "28    29           Connecticut          3552821        -0.52          3571520   \n",
       "29    30                  Utah          3310774         4.99          3153550   \n",
       "30    31           Puerto Rico          3194374         0.03          3193354   \n",
       "31    32                Nevada          3185786         5.23          3027341   \n",
       "32    33                  Iowa          3167974         0.61          3148618   \n",
       "33    34              Arkansas          3033946         0.80          3009733   \n",
       "34    35           Mississippi          2966407        -0.49          2981020   \n",
       "35    36                Kansas          2917224         0.20          2911359   \n",
       "36    37            New Mexico          2105005         0.59          2092741   \n",
       "37    38              Nebraska          1951996         1.37          1925614   \n",
       "38    39                 Idaho          1860123         6.26          1750536   \n",
       "39    40         West Virginia          1767859        -2.02          1804291   \n",
       "40    41                Hawaii          1406430        -1.00          1420593   \n",
       "41    42         New Hampshire          1372203         1.38          1353465   \n",
       "42    43                 Maine          1354522         1.15          1339057   \n",
       "43    44               Montana          1085004         2.29          1060665   \n",
       "44    45          Rhode Island          1061509         0.30          1058287   \n",
       "45    46              Delaware           990334         2.57           965479   \n",
       "46    47          South Dakota           896581         2.04           878698   \n",
       "47    48          North Dakota           770026         1.58           758080   \n",
       "48    49                Alaska           724357        -1.47           735139   \n",
       "49    50  District of Columbia           714153         1.80           701547   \n",
       "50    51               Vermont           623251        -0.18           624358   \n",
       "51    52               Wyoming           581075         0.60           577601   \n",
       "\n",
       "    2010 Census  Growth Since 2010  % of US  Density (mi²) Code  White  Black  \\\n",
       "0      37319502               6.15    11.84            254   CA  59.70   5.79   \n",
       "1      25241971              17.78     8.89            114   TX  73.97  12.13   \n",
       "2      18845537              16.44     6.56            409   FL  75.12  16.07   \n",
       "3      19399878              -0.51     5.77            410   NY  63.66  15.66   \n",
       "4      12711160               0.73     3.83            286   PA  80.53  11.18   \n",
       "5      12840503              -2.11     3.76            226   IL  71.53  14.20   \n",
       "6      11539336               1.52     3.50            287   OH  81.30  12.41   \n",
       "7       9711881              11.51     3.24            188   GA  58.62  31.61   \n",
       "8       9574323              11.77     3.20            220   NC  68.68  21.44   \n",
       "9       9877510               1.16     2.99            177   MI  78.41  13.79   \n",
       "10      8799446               0.85     2.65           1207   NJ  67.78  13.46   \n",
       "11      8023699               7.23     2.57            218   VA  67.63  19.18   \n",
       "12      6742830              15.63     2.33            117   WA  75.38   3.80   \n",
       "13      6407172              17.37     2.25             66   AZ  77.22   4.50   \n",
       "14      6355311               9.27     2.08            168   TN  77.58  16.76   \n",
       "15      6566307               5.27     2.07            886   MA  78.07   7.63   \n",
       "16      6490432               4.86     2.03            190   IN  83.31   9.40   \n",
       "17      5995974               2.89     1.84             90   MO  82.16  11.49   \n",
       "18      5788645               4.78     1.81            625   MD  55.54  29.89   \n",
       "19      5047349              16.77     1.76             57   CO  84.00   4.16   \n",
       "20      5690475               2.85     1.75            108   WI  85.43   6.41   \n",
       "21      5310828               7.45     1.71             72   MN  82.85   6.41   \n",
       "22      4635649              13.85     1.58            176   SC  67.16  26.77   \n",
       "23      4785437               3.11     1.47             97   AL  68.09  26.64   \n",
       "24      4544532               1.81     1.38            107   LA  62.01  32.22   \n",
       "25      4348181               3.05     1.34            113   KY  86.95   8.07   \n",
       "26      3837491              11.78     1.28             45   OR  84.29   1.91   \n",
       "27      3759944               6.13     1.19             58   OK  72.32   7.28   \n",
       "28      3579114              -0.73     1.06            734   CT  75.92  10.72   \n",
       "29      2775332              19.29     0.99             40   UT  86.43   1.19   \n",
       "30      3721525             -14.16     0.95            923  NaN  65.93  11.65   \n",
       "31      2702405              17.89     0.95             29   NV  65.59   9.12   \n",
       "32      3050745               3.84     0.95             57   IA  90.02   3.71   \n",
       "33      2921964               3.83     0.91             58   AR  76.72  15.32   \n",
       "34      2970548              -0.14     0.89             63   MS  58.41  37.72   \n",
       "35      2858190               2.07     0.87             36   KS  84.38   5.85   \n",
       "36      2064552               1.96     0.63             17   NM  74.81   2.11   \n",
       "37      1829542               6.69     0.58             25   NE  87.06   4.83   \n",
       "38      1570746              18.42     0.56             23   ID  89.97   0.69   \n",
       "39      1854239              -4.66     0.53             74   WV  93.08   3.69   \n",
       "40      1363963               3.11     0.42            219   HI  24.95   1.83   \n",
       "41      1316762               4.21     0.41            153   NH  92.88   1.60   \n",
       "42      1327629               2.03     0.40             44   ME  94.31   1.38   \n",
       "43       990697               9.52     0.32              7   MT  88.54   0.50   \n",
       "44      1053959               0.72     0.32           1027   RI  80.46   6.77   \n",
       "45       899593              10.09     0.30            508   DE  68.76  22.18   \n",
       "46       816166               9.85     0.27             12   SD  84.27   2.01   \n",
       "47       674715              14.13     0.23             11   ND  86.58   2.91   \n",
       "48       713910               1.46     0.22              1   AK  64.58   3.28   \n",
       "49       605226              18.00     0.21          11707   DC  41.27  46.31   \n",
       "50       625879              -0.42     0.19             68   VT  94.16   1.36   \n",
       "51       564487               2.94     0.17              6   WY  91.44   0.96   \n",
       "\n",
       "    Indian  Asian  Hawaiian  Other  \n",
       "0     0.77  14.49      0.40  18.85  \n",
       "1     0.50   4.80      0.09   8.51  \n",
       "2     0.28   2.73      0.06   5.73  \n",
       "3     0.41   8.42      0.05  11.81  \n",
       "4     0.19   3.41      0.03   4.65  \n",
       "5     0.26   5.47      0.04   8.50  \n",
       "6     0.20   2.22      0.03   3.85  \n",
       "7     0.36   3.98      0.06   5.36  \n",
       "8     1.21   2.85      0.07   5.75  \n",
       "9     0.54   3.13      0.03   4.10  \n",
       "10    0.22   9.46      0.04   9.04  \n",
       "11    0.28   6.40      0.07   6.44  \n",
       "12    1.28   8.53      0.66  10.35  \n",
       "13    4.50   3.31      0.21  10.26  \n",
       "14    0.27   1.75      0.06   3.58  \n",
       "15    0.22   6.60      0.04   7.44  \n",
       "16    0.24   2.28      0.04   4.73  \n",
       "17    0.44   1.98      0.13   3.80  \n",
       "18    0.28   6.28      0.05   7.96  \n",
       "19    0.98   3.18      0.15   7.53  \n",
       "20    0.89   2.79      0.04   4.44  \n",
       "21    1.04   4.82      0.04   4.84  \n",
       "22    0.35   1.57      0.08   4.07  \n",
       "23    0.52   1.36      0.05   3.34  \n",
       "24    0.57   1.73      0.03   3.44  \n",
       "25    0.21   1.47      0.07   3.23  \n",
       "26    1.16   4.37      0.40   7.87  \n",
       "27    7.62   2.17      0.16  10.46  \n",
       "28    0.28   4.51      0.03   8.54  \n",
       "29    1.09   2.32      0.89   8.08  \n",
       "30    0.21   0.19      0.01  22.01  \n",
       "31    1.28   8.15      0.67  15.18  \n",
       "32    0.38   2.41      0.12   3.36  \n",
       "33    0.68   1.52      0.29   5.47  \n",
       "34    0.48   0.99      0.02   2.38  \n",
       "35    0.82   2.95      0.08   5.92  \n",
       "36    9.55   1.56      0.08  11.90  \n",
       "37    0.92   2.38      0.07   4.73  \n",
       "38    1.35   1.41      0.16   6.42  \n",
       "39    0.20   0.80      0.02   2.21  \n",
       "40    0.26  37.79     10.06  25.12  \n",
       "41    0.15   2.68      0.03   2.65  \n",
       "42    0.65   1.13      0.03   2.50  \n",
       "43    6.36   0.79      0.08   3.73  \n",
       "44    0.50   3.40      0.08   8.80  \n",
       "45    0.39   3.87      0.06   4.75  \n",
       "46    8.75   1.45      0.06   3.45  \n",
       "47    5.29   1.45      0.11   3.66  \n",
       "48   14.89   6.23      1.25   9.76  \n",
       "49    0.30   3.98      0.05   8.08  \n",
       "50    0.34   1.68      0.05   2.40  \n",
       "51    2.44   0.86      0.10   4.19  "
      ]
     },
     "metadata": {},
     "output_type": "display_data"
    }
   ],
   "source": [
    "# population in order\n",
    "display(df)"
   ]
  },
  {
   "cell_type": "code",
   "execution_count": 133,
   "metadata": {},
   "outputs": [
    {
     "data": {
      "application/vnd.jupyter.widget-view+json": {
       "model_id": "65505e82a200494fb4447baa51506933",
       "version_major": 2,
       "version_minor": 0
      },
      "text/plain": [
       "HBox(children=(HTML(value=''), FloatProgress(value=0.0, layout=Layout(flex='2'), max=20.0), HTML(value='')), l…"
      ]
     },
     "metadata": {},
     "output_type": "display_data"
    },
    {
     "name": "stdout",
     "output_type": "stream",
     "text": [
      "\n"
     ]
    }
   ],
   "source": [
    "# creating  report for merged data frame\n",
    "us_stats_report = sv.analyze(df)"
   ]
  },
  {
   "cell_type": "code",
   "execution_count": 40,
   "metadata": {},
   "outputs": [
    {
     "name": "stdout",
     "output_type": "stream",
     "text": [
      "Report sweetviz_report.html was generated! NOTEBOOK/COLAB USERS: the web browser MAY not pop up, regardless, the report IS saved in your notebook/colab files.\n"
     ]
    }
   ],
   "source": [
    "# display the report\n",
    "us_stats_report.show_html(\"sweetviz_report.html\")"
   ]
  },
  {
   "cell_type": "code",
   "execution_count": 135,
   "metadata": {},
   "outputs": [
    {
     "data": {
      "text/html": [
       "<div>\n",
       "<style scoped>\n",
       "    .dataframe tbody tr th:only-of-type {\n",
       "        vertical-align: middle;\n",
       "    }\n",
       "\n",
       "    .dataframe tbody tr th {\n",
       "        vertical-align: top;\n",
       "    }\n",
       "\n",
       "    .dataframe thead th {\n",
       "        text-align: right;\n",
       "    }\n",
       "</style>\n",
       "<table border=\"1\" class=\"dataframe\">\n",
       "  <thead>\n",
       "    <tr style=\"text-align: right;\">\n",
       "      <th></th>\n",
       "      <th>State</th>\n",
       "      <th>2021 Population</th>\n",
       "      <th>Growth 2021</th>\n",
       "      <th>2018 Population</th>\n",
       "      <th>2010 Census</th>\n",
       "      <th>Growth_cat2021</th>\n",
       "      <th>Growth Since 2010</th>\n",
       "      <th>% of US</th>\n",
       "      <th>Density (mi²)</th>\n",
       "      <th>Code</th>\n",
       "      <th>White</th>\n",
       "      <th>Black</th>\n",
       "      <th>Indian</th>\n",
       "      <th>Asian</th>\n",
       "      <th>Hawaiian</th>\n",
       "      <th>Other</th>\n",
       "      <th>Growth_2018</th>\n",
       "      <th>Compare</th>\n",
       "    </tr>\n",
       "  </thead>\n",
       "  <tbody>\n",
       "    <tr>\n",
       "      <th>0</th>\n",
       "      <td>California</td>\n",
       "      <td>39613493</td>\n",
       "      <td>0.38</td>\n",
       "      <td>39461588</td>\n",
       "      <td>37319502</td>\n",
       "      <td>low</td>\n",
       "      <td>6.15</td>\n",
       "      <td>11.84</td>\n",
       "      <td>254</td>\n",
       "      <td>CA</td>\n",
       "      <td>59.70</td>\n",
       "      <td>5.79</td>\n",
       "      <td>0.77</td>\n",
       "      <td>14.49</td>\n",
       "      <td>0.40</td>\n",
       "      <td>18.85</td>\n",
       "      <td>0.057399</td>\n",
       "      <td>2010</td>\n",
       "    </tr>\n",
       "    <tr>\n",
       "      <th>1</th>\n",
       "      <td>Texas</td>\n",
       "      <td>29730311</td>\n",
       "      <td>3.85</td>\n",
       "      <td>28628666</td>\n",
       "      <td>25241971</td>\n",
       "      <td>average</td>\n",
       "      <td>17.78</td>\n",
       "      <td>8.89</td>\n",
       "      <td>114</td>\n",
       "      <td>TX</td>\n",
       "      <td>73.97</td>\n",
       "      <td>12.13</td>\n",
       "      <td>0.50</td>\n",
       "      <td>4.80</td>\n",
       "      <td>0.09</td>\n",
       "      <td>8.51</td>\n",
       "      <td>0.134169</td>\n",
       "      <td>2010</td>\n",
       "    </tr>\n",
       "    <tr>\n",
       "      <th>2</th>\n",
       "      <td>Florida</td>\n",
       "      <td>21944577</td>\n",
       "      <td>3.30</td>\n",
       "      <td>21244317</td>\n",
       "      <td>18845537</td>\n",
       "      <td>average</td>\n",
       "      <td>16.44</td>\n",
       "      <td>6.56</td>\n",
       "      <td>409</td>\n",
       "      <td>FL</td>\n",
       "      <td>75.12</td>\n",
       "      <td>16.07</td>\n",
       "      <td>0.28</td>\n",
       "      <td>2.73</td>\n",
       "      <td>0.06</td>\n",
       "      <td>5.73</td>\n",
       "      <td>0.127286</td>\n",
       "      <td>2010</td>\n",
       "    </tr>\n",
       "    <tr>\n",
       "      <th>3</th>\n",
       "      <td>New York</td>\n",
       "      <td>19299981</td>\n",
       "      <td>-1.18</td>\n",
       "      <td>19530351</td>\n",
       "      <td>19399878</td>\n",
       "      <td>very low</td>\n",
       "      <td>-0.51</td>\n",
       "      <td>5.77</td>\n",
       "      <td>410</td>\n",
       "      <td>NY</td>\n",
       "      <td>63.66</td>\n",
       "      <td>15.66</td>\n",
       "      <td>0.41</td>\n",
       "      <td>8.42</td>\n",
       "      <td>0.05</td>\n",
       "      <td>11.81</td>\n",
       "      <td>0.006725</td>\n",
       "      <td>2010</td>\n",
       "    </tr>\n",
       "    <tr>\n",
       "      <th>4</th>\n",
       "      <td>Pennsylvania</td>\n",
       "      <td>12804123</td>\n",
       "      <td>0.03</td>\n",
       "      <td>12800922</td>\n",
       "      <td>12711160</td>\n",
       "      <td>low</td>\n",
       "      <td>0.73</td>\n",
       "      <td>3.83</td>\n",
       "      <td>286</td>\n",
       "      <td>PA</td>\n",
       "      <td>80.53</td>\n",
       "      <td>11.18</td>\n",
       "      <td>0.19</td>\n",
       "      <td>3.41</td>\n",
       "      <td>0.03</td>\n",
       "      <td>4.65</td>\n",
       "      <td>0.007062</td>\n",
       "      <td>2010</td>\n",
       "    </tr>\n",
       "    <tr>\n",
       "      <th>5</th>\n",
       "      <td>Illinois</td>\n",
       "      <td>12569321</td>\n",
       "      <td>-1.21</td>\n",
       "      <td>12723071</td>\n",
       "      <td>12840503</td>\n",
       "      <td>very low</td>\n",
       "      <td>-2.11</td>\n",
       "      <td>3.76</td>\n",
       "      <td>226</td>\n",
       "      <td>IL</td>\n",
       "      <td>71.53</td>\n",
       "      <td>14.20</td>\n",
       "      <td>0.26</td>\n",
       "      <td>5.47</td>\n",
       "      <td>0.04</td>\n",
       "      <td>8.50</td>\n",
       "      <td>-0.009145</td>\n",
       "      <td>2021</td>\n",
       "    </tr>\n",
       "    <tr>\n",
       "      <th>6</th>\n",
       "      <td>Ohio</td>\n",
       "      <td>11714618</td>\n",
       "      <td>0.33</td>\n",
       "      <td>11676341</td>\n",
       "      <td>11539336</td>\n",
       "      <td>low</td>\n",
       "      <td>1.52</td>\n",
       "      <td>3.50</td>\n",
       "      <td>287</td>\n",
       "      <td>OH</td>\n",
       "      <td>81.30</td>\n",
       "      <td>12.41</td>\n",
       "      <td>0.20</td>\n",
       "      <td>2.22</td>\n",
       "      <td>0.03</td>\n",
       "      <td>3.85</td>\n",
       "      <td>0.011873</td>\n",
       "      <td>2010</td>\n",
       "    </tr>\n",
       "    <tr>\n",
       "      <th>7</th>\n",
       "      <td>Georgia</td>\n",
       "      <td>10830007</td>\n",
       "      <td>3.03</td>\n",
       "      <td>10511131</td>\n",
       "      <td>9711881</td>\n",
       "      <td>average</td>\n",
       "      <td>11.51</td>\n",
       "      <td>3.24</td>\n",
       "      <td>188</td>\n",
       "      <td>GA</td>\n",
       "      <td>58.62</td>\n",
       "      <td>31.61</td>\n",
       "      <td>0.36</td>\n",
       "      <td>3.98</td>\n",
       "      <td>0.06</td>\n",
       "      <td>5.36</td>\n",
       "      <td>0.082296</td>\n",
       "      <td>2010</td>\n",
       "    </tr>\n",
       "    <tr>\n",
       "      <th>8</th>\n",
       "      <td>North Carolina</td>\n",
       "      <td>10701022</td>\n",
       "      <td>3.08</td>\n",
       "      <td>10381615</td>\n",
       "      <td>9574323</td>\n",
       "      <td>average</td>\n",
       "      <td>11.77</td>\n",
       "      <td>3.20</td>\n",
       "      <td>220</td>\n",
       "      <td>NC</td>\n",
       "      <td>68.68</td>\n",
       "      <td>21.44</td>\n",
       "      <td>1.21</td>\n",
       "      <td>2.85</td>\n",
       "      <td>0.07</td>\n",
       "      <td>5.75</td>\n",
       "      <td>0.084318</td>\n",
       "      <td>2010</td>\n",
       "    </tr>\n",
       "    <tr>\n",
       "      <th>9</th>\n",
       "      <td>Michigan</td>\n",
       "      <td>9992427</td>\n",
       "      <td>0.08</td>\n",
       "      <td>9984072</td>\n",
       "      <td>9877510</td>\n",
       "      <td>low</td>\n",
       "      <td>1.16</td>\n",
       "      <td>2.99</td>\n",
       "      <td>177</td>\n",
       "      <td>MI</td>\n",
       "      <td>78.41</td>\n",
       "      <td>13.79</td>\n",
       "      <td>0.54</td>\n",
       "      <td>3.13</td>\n",
       "      <td>0.03</td>\n",
       "      <td>4.10</td>\n",
       "      <td>0.010788</td>\n",
       "      <td>2010</td>\n",
       "    </tr>\n",
       "    <tr>\n",
       "      <th>10</th>\n",
       "      <td>New Jersey</td>\n",
       "      <td>8874520</td>\n",
       "      <td>-0.13</td>\n",
       "      <td>8886025</td>\n",
       "      <td>8799446</td>\n",
       "      <td>very low</td>\n",
       "      <td>0.85</td>\n",
       "      <td>2.65</td>\n",
       "      <td>1207</td>\n",
       "      <td>NJ</td>\n",
       "      <td>67.78</td>\n",
       "      <td>13.46</td>\n",
       "      <td>0.22</td>\n",
       "      <td>9.46</td>\n",
       "      <td>0.04</td>\n",
       "      <td>9.04</td>\n",
       "      <td>0.009839</td>\n",
       "      <td>2010</td>\n",
       "    </tr>\n",
       "    <tr>\n",
       "      <th>11</th>\n",
       "      <td>Virginia</td>\n",
       "      <td>8603985</td>\n",
       "      <td>1.21</td>\n",
       "      <td>8501286</td>\n",
       "      <td>8023699</td>\n",
       "      <td>low</td>\n",
       "      <td>7.23</td>\n",
       "      <td>2.57</td>\n",
       "      <td>218</td>\n",
       "      <td>VA</td>\n",
       "      <td>67.63</td>\n",
       "      <td>19.18</td>\n",
       "      <td>0.28</td>\n",
       "      <td>6.40</td>\n",
       "      <td>0.07</td>\n",
       "      <td>6.44</td>\n",
       "      <td>0.059522</td>\n",
       "      <td>2010</td>\n",
       "    </tr>\n",
       "    <tr>\n",
       "      <th>12</th>\n",
       "      <td>Washington</td>\n",
       "      <td>7796941</td>\n",
       "      <td>3.63</td>\n",
       "      <td>7523869</td>\n",
       "      <td>6742830</td>\n",
       "      <td>average</td>\n",
       "      <td>15.63</td>\n",
       "      <td>2.33</td>\n",
       "      <td>117</td>\n",
       "      <td>WA</td>\n",
       "      <td>75.38</td>\n",
       "      <td>3.80</td>\n",
       "      <td>1.28</td>\n",
       "      <td>8.53</td>\n",
       "      <td>0.66</td>\n",
       "      <td>10.35</td>\n",
       "      <td>0.115833</td>\n",
       "      <td>2010</td>\n",
       "    </tr>\n",
       "    <tr>\n",
       "      <th>13</th>\n",
       "      <td>Arizona</td>\n",
       "      <td>7520103</td>\n",
       "      <td>5.06</td>\n",
       "      <td>7158024</td>\n",
       "      <td>6407172</td>\n",
       "      <td>good</td>\n",
       "      <td>17.37</td>\n",
       "      <td>2.25</td>\n",
       "      <td>66</td>\n",
       "      <td>AZ</td>\n",
       "      <td>77.22</td>\n",
       "      <td>4.50</td>\n",
       "      <td>4.50</td>\n",
       "      <td>3.31</td>\n",
       "      <td>0.21</td>\n",
       "      <td>10.26</td>\n",
       "      <td>0.117189</td>\n",
       "      <td>2010</td>\n",
       "    </tr>\n",
       "    <tr>\n",
       "      <th>14</th>\n",
       "      <td>Tennessee</td>\n",
       "      <td>6944260</td>\n",
       "      <td>2.55</td>\n",
       "      <td>6771631</td>\n",
       "      <td>6355311</td>\n",
       "      <td>average</td>\n",
       "      <td>9.27</td>\n",
       "      <td>2.08</td>\n",
       "      <td>168</td>\n",
       "      <td>TN</td>\n",
       "      <td>77.58</td>\n",
       "      <td>16.76</td>\n",
       "      <td>0.27</td>\n",
       "      <td>1.75</td>\n",
       "      <td>0.06</td>\n",
       "      <td>3.58</td>\n",
       "      <td>0.065507</td>\n",
       "      <td>2010</td>\n",
       "    </tr>\n",
       "    <tr>\n",
       "      <th>15</th>\n",
       "      <td>Massachusetts</td>\n",
       "      <td>6912239</td>\n",
       "      <td>0.43</td>\n",
       "      <td>6882635</td>\n",
       "      <td>6566307</td>\n",
       "      <td>low</td>\n",
       "      <td>5.27</td>\n",
       "      <td>2.07</td>\n",
       "      <td>886</td>\n",
       "      <td>MA</td>\n",
       "      <td>78.07</td>\n",
       "      <td>7.63</td>\n",
       "      <td>0.22</td>\n",
       "      <td>6.60</td>\n",
       "      <td>0.04</td>\n",
       "      <td>7.44</td>\n",
       "      <td>0.048174</td>\n",
       "      <td>2010</td>\n",
       "    </tr>\n",
       "    <tr>\n",
       "      <th>16</th>\n",
       "      <td>Indiana</td>\n",
       "      <td>6805663</td>\n",
       "      <td>1.65</td>\n",
       "      <td>6695497</td>\n",
       "      <td>6490432</td>\n",
       "      <td>low</td>\n",
       "      <td>4.86</td>\n",
       "      <td>2.03</td>\n",
       "      <td>190</td>\n",
       "      <td>IN</td>\n",
       "      <td>83.31</td>\n",
       "      <td>9.40</td>\n",
       "      <td>0.24</td>\n",
       "      <td>2.28</td>\n",
       "      <td>0.04</td>\n",
       "      <td>4.73</td>\n",
       "      <td>0.031595</td>\n",
       "      <td>2010</td>\n",
       "    </tr>\n",
       "    <tr>\n",
       "      <th>17</th>\n",
       "      <td>Missouri</td>\n",
       "      <td>6169038</td>\n",
       "      <td>0.77</td>\n",
       "      <td>6121623</td>\n",
       "      <td>5995974</td>\n",
       "      <td>low</td>\n",
       "      <td>2.89</td>\n",
       "      <td>1.84</td>\n",
       "      <td>90</td>\n",
       "      <td>MO</td>\n",
       "      <td>82.16</td>\n",
       "      <td>11.49</td>\n",
       "      <td>0.44</td>\n",
       "      <td>1.98</td>\n",
       "      <td>0.13</td>\n",
       "      <td>3.80</td>\n",
       "      <td>0.020956</td>\n",
       "      <td>2010</td>\n",
       "    </tr>\n",
       "    <tr>\n",
       "      <th>18</th>\n",
       "      <td>Maryland</td>\n",
       "      <td>6065436</td>\n",
       "      <td>0.49</td>\n",
       "      <td>6035802</td>\n",
       "      <td>5788645</td>\n",
       "      <td>low</td>\n",
       "      <td>4.78</td>\n",
       "      <td>1.81</td>\n",
       "      <td>625</td>\n",
       "      <td>MD</td>\n",
       "      <td>55.54</td>\n",
       "      <td>29.89</td>\n",
       "      <td>0.28</td>\n",
       "      <td>6.28</td>\n",
       "      <td>0.05</td>\n",
       "      <td>7.96</td>\n",
       "      <td>0.042697</td>\n",
       "      <td>2010</td>\n",
       "    </tr>\n",
       "    <tr>\n",
       "      <th>19</th>\n",
       "      <td>Colorado</td>\n",
       "      <td>5893634</td>\n",
       "      <td>3.56</td>\n",
       "      <td>5691287</td>\n",
       "      <td>5047349</td>\n",
       "      <td>average</td>\n",
       "      <td>16.77</td>\n",
       "      <td>1.76</td>\n",
       "      <td>57</td>\n",
       "      <td>CO</td>\n",
       "      <td>84.00</td>\n",
       "      <td>4.16</td>\n",
       "      <td>0.98</td>\n",
       "      <td>3.18</td>\n",
       "      <td>0.15</td>\n",
       "      <td>7.53</td>\n",
       "      <td>0.127579</td>\n",
       "      <td>2010</td>\n",
       "    </tr>\n",
       "    <tr>\n",
       "      <th>20</th>\n",
       "      <td>Wisconsin</td>\n",
       "      <td>5852490</td>\n",
       "      <td>0.78</td>\n",
       "      <td>5807406</td>\n",
       "      <td>5690475</td>\n",
       "      <td>low</td>\n",
       "      <td>2.85</td>\n",
       "      <td>1.75</td>\n",
       "      <td>108</td>\n",
       "      <td>WI</td>\n",
       "      <td>85.43</td>\n",
       "      <td>6.41</td>\n",
       "      <td>0.89</td>\n",
       "      <td>2.79</td>\n",
       "      <td>0.04</td>\n",
       "      <td>4.44</td>\n",
       "      <td>0.020549</td>\n",
       "      <td>2010</td>\n",
       "    </tr>\n",
       "    <tr>\n",
       "      <th>21</th>\n",
       "      <td>Minnesota</td>\n",
       "      <td>5706398</td>\n",
       "      <td>1.79</td>\n",
       "      <td>5606249</td>\n",
       "      <td>5310828</td>\n",
       "      <td>low</td>\n",
       "      <td>7.45</td>\n",
       "      <td>1.71</td>\n",
       "      <td>72</td>\n",
       "      <td>MN</td>\n",
       "      <td>82.85</td>\n",
       "      <td>6.41</td>\n",
       "      <td>1.04</td>\n",
       "      <td>4.82</td>\n",
       "      <td>0.04</td>\n",
       "      <td>4.84</td>\n",
       "      <td>0.055626</td>\n",
       "      <td>2010</td>\n",
       "    </tr>\n",
       "    <tr>\n",
       "      <th>22</th>\n",
       "      <td>South Carolina</td>\n",
       "      <td>5277830</td>\n",
       "      <td>3.81</td>\n",
       "      <td>5084156</td>\n",
       "      <td>4635649</td>\n",
       "      <td>average</td>\n",
       "      <td>13.85</td>\n",
       "      <td>1.58</td>\n",
       "      <td>176</td>\n",
       "      <td>SC</td>\n",
       "      <td>67.16</td>\n",
       "      <td>26.77</td>\n",
       "      <td>0.35</td>\n",
       "      <td>1.57</td>\n",
       "      <td>0.08</td>\n",
       "      <td>4.07</td>\n",
       "      <td>0.096752</td>\n",
       "      <td>2010</td>\n",
       "    </tr>\n",
       "    <tr>\n",
       "      <th>23</th>\n",
       "      <td>Alabama</td>\n",
       "      <td>4934193</td>\n",
       "      <td>0.95</td>\n",
       "      <td>4887681</td>\n",
       "      <td>4785437</td>\n",
       "      <td>low</td>\n",
       "      <td>3.11</td>\n",
       "      <td>1.47</td>\n",
       "      <td>97</td>\n",
       "      <td>AL</td>\n",
       "      <td>68.09</td>\n",
       "      <td>26.64</td>\n",
       "      <td>0.52</td>\n",
       "      <td>1.36</td>\n",
       "      <td>0.05</td>\n",
       "      <td>3.34</td>\n",
       "      <td>0.021366</td>\n",
       "      <td>2010</td>\n",
       "    </tr>\n",
       "    <tr>\n",
       "      <th>24</th>\n",
       "      <td>Louisiana</td>\n",
       "      <td>4627002</td>\n",
       "      <td>-0.70</td>\n",
       "      <td>4659690</td>\n",
       "      <td>4544532</td>\n",
       "      <td>very low</td>\n",
       "      <td>1.81</td>\n",
       "      <td>1.38</td>\n",
       "      <td>107</td>\n",
       "      <td>LA</td>\n",
       "      <td>62.01</td>\n",
       "      <td>32.22</td>\n",
       "      <td>0.57</td>\n",
       "      <td>1.73</td>\n",
       "      <td>0.03</td>\n",
       "      <td>3.44</td>\n",
       "      <td>0.025340</td>\n",
       "      <td>2010</td>\n",
       "    </tr>\n",
       "    <tr>\n",
       "      <th>25</th>\n",
       "      <td>Kentucky</td>\n",
       "      <td>4480713</td>\n",
       "      <td>0.44</td>\n",
       "      <td>4461153</td>\n",
       "      <td>4348181</td>\n",
       "      <td>low</td>\n",
       "      <td>3.05</td>\n",
       "      <td>1.34</td>\n",
       "      <td>113</td>\n",
       "      <td>KY</td>\n",
       "      <td>86.95</td>\n",
       "      <td>8.07</td>\n",
       "      <td>0.21</td>\n",
       "      <td>1.47</td>\n",
       "      <td>0.07</td>\n",
       "      <td>3.23</td>\n",
       "      <td>0.025981</td>\n",
       "      <td>2010</td>\n",
       "    </tr>\n",
       "    <tr>\n",
       "      <th>26</th>\n",
       "      <td>Oregon</td>\n",
       "      <td>4289439</td>\n",
       "      <td>2.57</td>\n",
       "      <td>4181886</td>\n",
       "      <td>3837491</td>\n",
       "      <td>average</td>\n",
       "      <td>11.78</td>\n",
       "      <td>1.28</td>\n",
       "      <td>45</td>\n",
       "      <td>OR</td>\n",
       "      <td>84.29</td>\n",
       "      <td>1.91</td>\n",
       "      <td>1.16</td>\n",
       "      <td>4.37</td>\n",
       "      <td>0.40</td>\n",
       "      <td>7.87</td>\n",
       "      <td>0.089745</td>\n",
       "      <td>2010</td>\n",
       "    </tr>\n",
       "    <tr>\n",
       "      <th>27</th>\n",
       "      <td>Oklahoma</td>\n",
       "      <td>3990443</td>\n",
       "      <td>1.27</td>\n",
       "      <td>3940235</td>\n",
       "      <td>3759944</td>\n",
       "      <td>low</td>\n",
       "      <td>6.13</td>\n",
       "      <td>1.19</td>\n",
       "      <td>58</td>\n",
       "      <td>OK</td>\n",
       "      <td>72.32</td>\n",
       "      <td>7.28</td>\n",
       "      <td>7.62</td>\n",
       "      <td>2.17</td>\n",
       "      <td>0.16</td>\n",
       "      <td>10.46</td>\n",
       "      <td>0.047950</td>\n",
       "      <td>2010</td>\n",
       "    </tr>\n",
       "    <tr>\n",
       "      <th>28</th>\n",
       "      <td>Connecticut</td>\n",
       "      <td>3552821</td>\n",
       "      <td>-0.52</td>\n",
       "      <td>3571520</td>\n",
       "      <td>3579114</td>\n",
       "      <td>very low</td>\n",
       "      <td>-0.73</td>\n",
       "      <td>1.06</td>\n",
       "      <td>734</td>\n",
       "      <td>CT</td>\n",
       "      <td>75.92</td>\n",
       "      <td>10.72</td>\n",
       "      <td>0.28</td>\n",
       "      <td>4.51</td>\n",
       "      <td>0.03</td>\n",
       "      <td>8.54</td>\n",
       "      <td>-0.002122</td>\n",
       "      <td>2021</td>\n",
       "    </tr>\n",
       "    <tr>\n",
       "      <th>29</th>\n",
       "      <td>Utah</td>\n",
       "      <td>3310774</td>\n",
       "      <td>4.99</td>\n",
       "      <td>3153550</td>\n",
       "      <td>2775332</td>\n",
       "      <td>average</td>\n",
       "      <td>19.29</td>\n",
       "      <td>0.99</td>\n",
       "      <td>40</td>\n",
       "      <td>UT</td>\n",
       "      <td>86.43</td>\n",
       "      <td>1.19</td>\n",
       "      <td>1.09</td>\n",
       "      <td>2.32</td>\n",
       "      <td>0.89</td>\n",
       "      <td>8.08</td>\n",
       "      <td>0.136278</td>\n",
       "      <td>2010</td>\n",
       "    </tr>\n",
       "    <tr>\n",
       "      <th>30</th>\n",
       "      <td>Puerto Rico</td>\n",
       "      <td>3194374</td>\n",
       "      <td>0.03</td>\n",
       "      <td>3193354</td>\n",
       "      <td>3721525</td>\n",
       "      <td>low</td>\n",
       "      <td>-14.16</td>\n",
       "      <td>0.95</td>\n",
       "      <td>923</td>\n",
       "      <td>NaN</td>\n",
       "      <td>65.93</td>\n",
       "      <td>11.65</td>\n",
       "      <td>0.21</td>\n",
       "      <td>0.19</td>\n",
       "      <td>0.01</td>\n",
       "      <td>22.01</td>\n",
       "      <td>-0.141923</td>\n",
       "      <td>2021</td>\n",
       "    </tr>\n",
       "    <tr>\n",
       "      <th>31</th>\n",
       "      <td>Nevada</td>\n",
       "      <td>3185786</td>\n",
       "      <td>5.23</td>\n",
       "      <td>3027341</td>\n",
       "      <td>2702405</td>\n",
       "      <td>good</td>\n",
       "      <td>17.89</td>\n",
       "      <td>0.95</td>\n",
       "      <td>29</td>\n",
       "      <td>NV</td>\n",
       "      <td>65.59</td>\n",
       "      <td>9.12</td>\n",
       "      <td>1.28</td>\n",
       "      <td>8.15</td>\n",
       "      <td>0.67</td>\n",
       "      <td>15.18</td>\n",
       "      <td>0.120240</td>\n",
       "      <td>2010</td>\n",
       "    </tr>\n",
       "    <tr>\n",
       "      <th>32</th>\n",
       "      <td>Iowa</td>\n",
       "      <td>3167974</td>\n",
       "      <td>0.61</td>\n",
       "      <td>3148618</td>\n",
       "      <td>3050745</td>\n",
       "      <td>low</td>\n",
       "      <td>3.84</td>\n",
       "      <td>0.95</td>\n",
       "      <td>57</td>\n",
       "      <td>IA</td>\n",
       "      <td>90.02</td>\n",
       "      <td>3.71</td>\n",
       "      <td>0.38</td>\n",
       "      <td>2.41</td>\n",
       "      <td>0.12</td>\n",
       "      <td>3.36</td>\n",
       "      <td>0.032082</td>\n",
       "      <td>2010</td>\n",
       "    </tr>\n",
       "    <tr>\n",
       "      <th>33</th>\n",
       "      <td>Arkansas</td>\n",
       "      <td>3033946</td>\n",
       "      <td>0.80</td>\n",
       "      <td>3009733</td>\n",
       "      <td>2921964</td>\n",
       "      <td>low</td>\n",
       "      <td>3.83</td>\n",
       "      <td>0.91</td>\n",
       "      <td>58</td>\n",
       "      <td>AR</td>\n",
       "      <td>76.72</td>\n",
       "      <td>15.32</td>\n",
       "      <td>0.68</td>\n",
       "      <td>1.52</td>\n",
       "      <td>0.29</td>\n",
       "      <td>5.47</td>\n",
       "      <td>0.030038</td>\n",
       "      <td>2010</td>\n",
       "    </tr>\n",
       "    <tr>\n",
       "      <th>34</th>\n",
       "      <td>Mississippi</td>\n",
       "      <td>2966407</td>\n",
       "      <td>-0.49</td>\n",
       "      <td>2981020</td>\n",
       "      <td>2970548</td>\n",
       "      <td>very low</td>\n",
       "      <td>-0.14</td>\n",
       "      <td>0.89</td>\n",
       "      <td>63</td>\n",
       "      <td>MS</td>\n",
       "      <td>58.41</td>\n",
       "      <td>37.72</td>\n",
       "      <td>0.48</td>\n",
       "      <td>0.99</td>\n",
       "      <td>0.02</td>\n",
       "      <td>2.38</td>\n",
       "      <td>0.003525</td>\n",
       "      <td>2010</td>\n",
       "    </tr>\n",
       "    <tr>\n",
       "      <th>35</th>\n",
       "      <td>Kansas</td>\n",
       "      <td>2917224</td>\n",
       "      <td>0.20</td>\n",
       "      <td>2911359</td>\n",
       "      <td>2858190</td>\n",
       "      <td>low</td>\n",
       "      <td>2.07</td>\n",
       "      <td>0.87</td>\n",
       "      <td>36</td>\n",
       "      <td>KS</td>\n",
       "      <td>84.38</td>\n",
       "      <td>5.85</td>\n",
       "      <td>0.82</td>\n",
       "      <td>2.95</td>\n",
       "      <td>0.08</td>\n",
       "      <td>5.92</td>\n",
       "      <td>0.018602</td>\n",
       "      <td>2010</td>\n",
       "    </tr>\n",
       "    <tr>\n",
       "      <th>36</th>\n",
       "      <td>New Mexico</td>\n",
       "      <td>2105005</td>\n",
       "      <td>0.59</td>\n",
       "      <td>2092741</td>\n",
       "      <td>2064552</td>\n",
       "      <td>low</td>\n",
       "      <td>1.96</td>\n",
       "      <td>0.63</td>\n",
       "      <td>17</td>\n",
       "      <td>NM</td>\n",
       "      <td>74.81</td>\n",
       "      <td>2.11</td>\n",
       "      <td>9.55</td>\n",
       "      <td>1.56</td>\n",
       "      <td>0.08</td>\n",
       "      <td>11.90</td>\n",
       "      <td>0.013654</td>\n",
       "      <td>2010</td>\n",
       "    </tr>\n",
       "    <tr>\n",
       "      <th>37</th>\n",
       "      <td>Nebraska</td>\n",
       "      <td>1951996</td>\n",
       "      <td>1.37</td>\n",
       "      <td>1925614</td>\n",
       "      <td>1829542</td>\n",
       "      <td>low</td>\n",
       "      <td>6.69</td>\n",
       "      <td>0.58</td>\n",
       "      <td>25</td>\n",
       "      <td>NE</td>\n",
       "      <td>87.06</td>\n",
       "      <td>4.83</td>\n",
       "      <td>0.92</td>\n",
       "      <td>2.38</td>\n",
       "      <td>0.07</td>\n",
       "      <td>4.73</td>\n",
       "      <td>0.052512</td>\n",
       "      <td>2010</td>\n",
       "    </tr>\n",
       "    <tr>\n",
       "      <th>38</th>\n",
       "      <td>Idaho</td>\n",
       "      <td>1860123</td>\n",
       "      <td>6.26</td>\n",
       "      <td>1750536</td>\n",
       "      <td>1570746</td>\n",
       "      <td>good</td>\n",
       "      <td>18.42</td>\n",
       "      <td>0.56</td>\n",
       "      <td>23</td>\n",
       "      <td>ID</td>\n",
       "      <td>89.97</td>\n",
       "      <td>0.69</td>\n",
       "      <td>1.35</td>\n",
       "      <td>1.41</td>\n",
       "      <td>0.16</td>\n",
       "      <td>6.42</td>\n",
       "      <td>0.114462</td>\n",
       "      <td>2010</td>\n",
       "    </tr>\n",
       "    <tr>\n",
       "      <th>39</th>\n",
       "      <td>West Virginia</td>\n",
       "      <td>1767859</td>\n",
       "      <td>-2.02</td>\n",
       "      <td>1804291</td>\n",
       "      <td>1854239</td>\n",
       "      <td>NaN</td>\n",
       "      <td>-4.66</td>\n",
       "      <td>0.53</td>\n",
       "      <td>74</td>\n",
       "      <td>WV</td>\n",
       "      <td>93.08</td>\n",
       "      <td>3.69</td>\n",
       "      <td>0.20</td>\n",
       "      <td>0.80</td>\n",
       "      <td>0.02</td>\n",
       "      <td>2.21</td>\n",
       "      <td>-0.026937</td>\n",
       "      <td>2021</td>\n",
       "    </tr>\n",
       "    <tr>\n",
       "      <th>40</th>\n",
       "      <td>Hawaii</td>\n",
       "      <td>1406430</td>\n",
       "      <td>-1.00</td>\n",
       "      <td>1420593</td>\n",
       "      <td>1363963</td>\n",
       "      <td>very low</td>\n",
       "      <td>3.11</td>\n",
       "      <td>0.42</td>\n",
       "      <td>219</td>\n",
       "      <td>HI</td>\n",
       "      <td>24.95</td>\n",
       "      <td>1.83</td>\n",
       "      <td>0.26</td>\n",
       "      <td>37.79</td>\n",
       "      <td>10.06</td>\n",
       "      <td>25.12</td>\n",
       "      <td>0.041519</td>\n",
       "      <td>2010</td>\n",
       "    </tr>\n",
       "    <tr>\n",
       "      <th>41</th>\n",
       "      <td>New Hampshire</td>\n",
       "      <td>1372203</td>\n",
       "      <td>1.38</td>\n",
       "      <td>1353465</td>\n",
       "      <td>1316762</td>\n",
       "      <td>low</td>\n",
       "      <td>4.21</td>\n",
       "      <td>0.41</td>\n",
       "      <td>153</td>\n",
       "      <td>NH</td>\n",
       "      <td>92.88</td>\n",
       "      <td>1.60</td>\n",
       "      <td>0.15</td>\n",
       "      <td>2.68</td>\n",
       "      <td>0.03</td>\n",
       "      <td>2.65</td>\n",
       "      <td>0.027874</td>\n",
       "      <td>2010</td>\n",
       "    </tr>\n",
       "    <tr>\n",
       "      <th>42</th>\n",
       "      <td>Maine</td>\n",
       "      <td>1354522</td>\n",
       "      <td>1.15</td>\n",
       "      <td>1339057</td>\n",
       "      <td>1327629</td>\n",
       "      <td>low</td>\n",
       "      <td>2.03</td>\n",
       "      <td>0.40</td>\n",
       "      <td>44</td>\n",
       "      <td>ME</td>\n",
       "      <td>94.31</td>\n",
       "      <td>1.38</td>\n",
       "      <td>0.65</td>\n",
       "      <td>1.13</td>\n",
       "      <td>0.03</td>\n",
       "      <td>2.50</td>\n",
       "      <td>0.008608</td>\n",
       "      <td>2010</td>\n",
       "    </tr>\n",
       "    <tr>\n",
       "      <th>43</th>\n",
       "      <td>Montana</td>\n",
       "      <td>1085004</td>\n",
       "      <td>2.29</td>\n",
       "      <td>1060665</td>\n",
       "      <td>990697</td>\n",
       "      <td>average</td>\n",
       "      <td>9.52</td>\n",
       "      <td>0.32</td>\n",
       "      <td>7</td>\n",
       "      <td>MT</td>\n",
       "      <td>88.54</td>\n",
       "      <td>0.50</td>\n",
       "      <td>6.36</td>\n",
       "      <td>0.79</td>\n",
       "      <td>0.08</td>\n",
       "      <td>3.73</td>\n",
       "      <td>0.070625</td>\n",
       "      <td>2010</td>\n",
       "    </tr>\n",
       "    <tr>\n",
       "      <th>44</th>\n",
       "      <td>Rhode Island</td>\n",
       "      <td>1061509</td>\n",
       "      <td>0.30</td>\n",
       "      <td>1058287</td>\n",
       "      <td>1053959</td>\n",
       "      <td>low</td>\n",
       "      <td>0.72</td>\n",
       "      <td>0.32</td>\n",
       "      <td>1027</td>\n",
       "      <td>RI</td>\n",
       "      <td>80.46</td>\n",
       "      <td>6.77</td>\n",
       "      <td>0.50</td>\n",
       "      <td>3.40</td>\n",
       "      <td>0.08</td>\n",
       "      <td>8.80</td>\n",
       "      <td>0.004106</td>\n",
       "      <td>2010</td>\n",
       "    </tr>\n",
       "    <tr>\n",
       "      <th>45</th>\n",
       "      <td>Delaware</td>\n",
       "      <td>990334</td>\n",
       "      <td>2.57</td>\n",
       "      <td>965479</td>\n",
       "      <td>899593</td>\n",
       "      <td>average</td>\n",
       "      <td>10.09</td>\n",
       "      <td>0.30</td>\n",
       "      <td>508</td>\n",
       "      <td>DE</td>\n",
       "      <td>68.76</td>\n",
       "      <td>22.18</td>\n",
       "      <td>0.39</td>\n",
       "      <td>3.87</td>\n",
       "      <td>0.06</td>\n",
       "      <td>4.75</td>\n",
       "      <td>0.073240</td>\n",
       "      <td>2010</td>\n",
       "    </tr>\n",
       "    <tr>\n",
       "      <th>46</th>\n",
       "      <td>South Dakota</td>\n",
       "      <td>896581</td>\n",
       "      <td>2.04</td>\n",
       "      <td>878698</td>\n",
       "      <td>816166</td>\n",
       "      <td>average</td>\n",
       "      <td>9.85</td>\n",
       "      <td>0.27</td>\n",
       "      <td>12</td>\n",
       "      <td>SD</td>\n",
       "      <td>84.27</td>\n",
       "      <td>2.01</td>\n",
       "      <td>8.75</td>\n",
       "      <td>1.45</td>\n",
       "      <td>0.06</td>\n",
       "      <td>3.45</td>\n",
       "      <td>0.076617</td>\n",
       "      <td>2010</td>\n",
       "    </tr>\n",
       "    <tr>\n",
       "      <th>47</th>\n",
       "      <td>North Dakota</td>\n",
       "      <td>770026</td>\n",
       "      <td>1.58</td>\n",
       "      <td>758080</td>\n",
       "      <td>674715</td>\n",
       "      <td>low</td>\n",
       "      <td>14.13</td>\n",
       "      <td>0.23</td>\n",
       "      <td>11</td>\n",
       "      <td>ND</td>\n",
       "      <td>86.58</td>\n",
       "      <td>2.91</td>\n",
       "      <td>5.29</td>\n",
       "      <td>1.45</td>\n",
       "      <td>0.11</td>\n",
       "      <td>3.66</td>\n",
       "      <td>0.123556</td>\n",
       "      <td>2010</td>\n",
       "    </tr>\n",
       "    <tr>\n",
       "      <th>48</th>\n",
       "      <td>Alaska</td>\n",
       "      <td>724357</td>\n",
       "      <td>-1.47</td>\n",
       "      <td>735139</td>\n",
       "      <td>713910</td>\n",
       "      <td>very low</td>\n",
       "      <td>1.46</td>\n",
       "      <td>0.22</td>\n",
       "      <td>1</td>\n",
       "      <td>AK</td>\n",
       "      <td>64.58</td>\n",
       "      <td>3.28</td>\n",
       "      <td>14.89</td>\n",
       "      <td>6.23</td>\n",
       "      <td>1.25</td>\n",
       "      <td>9.76</td>\n",
       "      <td>0.029736</td>\n",
       "      <td>2010</td>\n",
       "    </tr>\n",
       "    <tr>\n",
       "      <th>49</th>\n",
       "      <td>District of Columbia</td>\n",
       "      <td>714153</td>\n",
       "      <td>1.80</td>\n",
       "      <td>701547</td>\n",
       "      <td>605226</td>\n",
       "      <td>low</td>\n",
       "      <td>18.00</td>\n",
       "      <td>0.21</td>\n",
       "      <td>11707</td>\n",
       "      <td>DC</td>\n",
       "      <td>41.27</td>\n",
       "      <td>46.31</td>\n",
       "      <td>0.30</td>\n",
       "      <td>3.98</td>\n",
       "      <td>0.05</td>\n",
       "      <td>8.08</td>\n",
       "      <td>0.159149</td>\n",
       "      <td>2010</td>\n",
       "    </tr>\n",
       "    <tr>\n",
       "      <th>50</th>\n",
       "      <td>Vermont</td>\n",
       "      <td>623251</td>\n",
       "      <td>-0.18</td>\n",
       "      <td>624358</td>\n",
       "      <td>625879</td>\n",
       "      <td>very low</td>\n",
       "      <td>-0.42</td>\n",
       "      <td>0.19</td>\n",
       "      <td>68</td>\n",
       "      <td>VT</td>\n",
       "      <td>94.16</td>\n",
       "      <td>1.36</td>\n",
       "      <td>0.34</td>\n",
       "      <td>1.68</td>\n",
       "      <td>0.05</td>\n",
       "      <td>2.40</td>\n",
       "      <td>-0.002430</td>\n",
       "      <td>2021</td>\n",
       "    </tr>\n",
       "    <tr>\n",
       "      <th>51</th>\n",
       "      <td>Wyoming</td>\n",
       "      <td>581075</td>\n",
       "      <td>0.60</td>\n",
       "      <td>577601</td>\n",
       "      <td>564487</td>\n",
       "      <td>low</td>\n",
       "      <td>2.94</td>\n",
       "      <td>0.17</td>\n",
       "      <td>6</td>\n",
       "      <td>WY</td>\n",
       "      <td>91.44</td>\n",
       "      <td>0.96</td>\n",
       "      <td>2.44</td>\n",
       "      <td>0.86</td>\n",
       "      <td>0.10</td>\n",
       "      <td>4.19</td>\n",
       "      <td>0.023232</td>\n",
       "      <td>2010</td>\n",
       "    </tr>\n",
       "  </tbody>\n",
       "</table>\n",
       "</div>"
      ],
      "text/plain": [
       "                   State  2021 Population  Growth 2021  2018 Population  \\\n",
       "0             California         39613493         0.38         39461588   \n",
       "1                  Texas         29730311         3.85         28628666   \n",
       "2                Florida         21944577         3.30         21244317   \n",
       "3               New York         19299981        -1.18         19530351   \n",
       "4           Pennsylvania         12804123         0.03         12800922   \n",
       "5               Illinois         12569321        -1.21         12723071   \n",
       "6                   Ohio         11714618         0.33         11676341   \n",
       "7                Georgia         10830007         3.03         10511131   \n",
       "8         North Carolina         10701022         3.08         10381615   \n",
       "9               Michigan          9992427         0.08          9984072   \n",
       "10            New Jersey          8874520        -0.13          8886025   \n",
       "11              Virginia          8603985         1.21          8501286   \n",
       "12            Washington          7796941         3.63          7523869   \n",
       "13               Arizona          7520103         5.06          7158024   \n",
       "14             Tennessee          6944260         2.55          6771631   \n",
       "15         Massachusetts          6912239         0.43          6882635   \n",
       "16               Indiana          6805663         1.65          6695497   \n",
       "17              Missouri          6169038         0.77          6121623   \n",
       "18              Maryland          6065436         0.49          6035802   \n",
       "19              Colorado          5893634         3.56          5691287   \n",
       "20             Wisconsin          5852490         0.78          5807406   \n",
       "21             Minnesota          5706398         1.79          5606249   \n",
       "22        South Carolina          5277830         3.81          5084156   \n",
       "23               Alabama          4934193         0.95          4887681   \n",
       "24             Louisiana          4627002        -0.70          4659690   \n",
       "25              Kentucky          4480713         0.44          4461153   \n",
       "26                Oregon          4289439         2.57          4181886   \n",
       "27              Oklahoma          3990443         1.27          3940235   \n",
       "28           Connecticut          3552821        -0.52          3571520   \n",
       "29                  Utah          3310774         4.99          3153550   \n",
       "30           Puerto Rico          3194374         0.03          3193354   \n",
       "31                Nevada          3185786         5.23          3027341   \n",
       "32                  Iowa          3167974         0.61          3148618   \n",
       "33              Arkansas          3033946         0.80          3009733   \n",
       "34           Mississippi          2966407        -0.49          2981020   \n",
       "35                Kansas          2917224         0.20          2911359   \n",
       "36            New Mexico          2105005         0.59          2092741   \n",
       "37              Nebraska          1951996         1.37          1925614   \n",
       "38                 Idaho          1860123         6.26          1750536   \n",
       "39         West Virginia          1767859        -2.02          1804291   \n",
       "40                Hawaii          1406430        -1.00          1420593   \n",
       "41         New Hampshire          1372203         1.38          1353465   \n",
       "42                 Maine          1354522         1.15          1339057   \n",
       "43               Montana          1085004         2.29          1060665   \n",
       "44          Rhode Island          1061509         0.30          1058287   \n",
       "45              Delaware           990334         2.57           965479   \n",
       "46          South Dakota           896581         2.04           878698   \n",
       "47          North Dakota           770026         1.58           758080   \n",
       "48                Alaska           724357        -1.47           735139   \n",
       "49  District of Columbia           714153         1.80           701547   \n",
       "50               Vermont           623251        -0.18           624358   \n",
       "51               Wyoming           581075         0.60           577601   \n",
       "\n",
       "    2010 Census Growth_cat2021  Growth Since 2010  % of US  Density (mi²)  \\\n",
       "0      37319502            low               6.15    11.84            254   \n",
       "1      25241971        average              17.78     8.89            114   \n",
       "2      18845537        average              16.44     6.56            409   \n",
       "3      19399878       very low              -0.51     5.77            410   \n",
       "4      12711160            low               0.73     3.83            286   \n",
       "5      12840503       very low              -2.11     3.76            226   \n",
       "6      11539336            low               1.52     3.50            287   \n",
       "7       9711881        average              11.51     3.24            188   \n",
       "8       9574323        average              11.77     3.20            220   \n",
       "9       9877510            low               1.16     2.99            177   \n",
       "10      8799446       very low               0.85     2.65           1207   \n",
       "11      8023699            low               7.23     2.57            218   \n",
       "12      6742830        average              15.63     2.33            117   \n",
       "13      6407172           good              17.37     2.25             66   \n",
       "14      6355311        average               9.27     2.08            168   \n",
       "15      6566307            low               5.27     2.07            886   \n",
       "16      6490432            low               4.86     2.03            190   \n",
       "17      5995974            low               2.89     1.84             90   \n",
       "18      5788645            low               4.78     1.81            625   \n",
       "19      5047349        average              16.77     1.76             57   \n",
       "20      5690475            low               2.85     1.75            108   \n",
       "21      5310828            low               7.45     1.71             72   \n",
       "22      4635649        average              13.85     1.58            176   \n",
       "23      4785437            low               3.11     1.47             97   \n",
       "24      4544532       very low               1.81     1.38            107   \n",
       "25      4348181            low               3.05     1.34            113   \n",
       "26      3837491        average              11.78     1.28             45   \n",
       "27      3759944            low               6.13     1.19             58   \n",
       "28      3579114       very low              -0.73     1.06            734   \n",
       "29      2775332        average              19.29     0.99             40   \n",
       "30      3721525            low             -14.16     0.95            923   \n",
       "31      2702405           good              17.89     0.95             29   \n",
       "32      3050745            low               3.84     0.95             57   \n",
       "33      2921964            low               3.83     0.91             58   \n",
       "34      2970548       very low              -0.14     0.89             63   \n",
       "35      2858190            low               2.07     0.87             36   \n",
       "36      2064552            low               1.96     0.63             17   \n",
       "37      1829542            low               6.69     0.58             25   \n",
       "38      1570746           good              18.42     0.56             23   \n",
       "39      1854239            NaN              -4.66     0.53             74   \n",
       "40      1363963       very low               3.11     0.42            219   \n",
       "41      1316762            low               4.21     0.41            153   \n",
       "42      1327629            low               2.03     0.40             44   \n",
       "43       990697        average               9.52     0.32              7   \n",
       "44      1053959            low               0.72     0.32           1027   \n",
       "45       899593        average              10.09     0.30            508   \n",
       "46       816166        average               9.85     0.27             12   \n",
       "47       674715            low              14.13     0.23             11   \n",
       "48       713910       very low               1.46     0.22              1   \n",
       "49       605226            low              18.00     0.21          11707   \n",
       "50       625879       very low              -0.42     0.19             68   \n",
       "51       564487            low               2.94     0.17              6   \n",
       "\n",
       "   Code  White  Black  Indian  Asian  Hawaiian  Other  Growth_2018 Compare  \n",
       "0    CA  59.70   5.79    0.77  14.49      0.40  18.85     0.057399    2010  \n",
       "1    TX  73.97  12.13    0.50   4.80      0.09   8.51     0.134169    2010  \n",
       "2    FL  75.12  16.07    0.28   2.73      0.06   5.73     0.127286    2010  \n",
       "3    NY  63.66  15.66    0.41   8.42      0.05  11.81     0.006725    2010  \n",
       "4    PA  80.53  11.18    0.19   3.41      0.03   4.65     0.007062    2010  \n",
       "5    IL  71.53  14.20    0.26   5.47      0.04   8.50    -0.009145    2021  \n",
       "6    OH  81.30  12.41    0.20   2.22      0.03   3.85     0.011873    2010  \n",
       "7    GA  58.62  31.61    0.36   3.98      0.06   5.36     0.082296    2010  \n",
       "8    NC  68.68  21.44    1.21   2.85      0.07   5.75     0.084318    2010  \n",
       "9    MI  78.41  13.79    0.54   3.13      0.03   4.10     0.010788    2010  \n",
       "10   NJ  67.78  13.46    0.22   9.46      0.04   9.04     0.009839    2010  \n",
       "11   VA  67.63  19.18    0.28   6.40      0.07   6.44     0.059522    2010  \n",
       "12   WA  75.38   3.80    1.28   8.53      0.66  10.35     0.115833    2010  \n",
       "13   AZ  77.22   4.50    4.50   3.31      0.21  10.26     0.117189    2010  \n",
       "14   TN  77.58  16.76    0.27   1.75      0.06   3.58     0.065507    2010  \n",
       "15   MA  78.07   7.63    0.22   6.60      0.04   7.44     0.048174    2010  \n",
       "16   IN  83.31   9.40    0.24   2.28      0.04   4.73     0.031595    2010  \n",
       "17   MO  82.16  11.49    0.44   1.98      0.13   3.80     0.020956    2010  \n",
       "18   MD  55.54  29.89    0.28   6.28      0.05   7.96     0.042697    2010  \n",
       "19   CO  84.00   4.16    0.98   3.18      0.15   7.53     0.127579    2010  \n",
       "20   WI  85.43   6.41    0.89   2.79      0.04   4.44     0.020549    2010  \n",
       "21   MN  82.85   6.41    1.04   4.82      0.04   4.84     0.055626    2010  \n",
       "22   SC  67.16  26.77    0.35   1.57      0.08   4.07     0.096752    2010  \n",
       "23   AL  68.09  26.64    0.52   1.36      0.05   3.34     0.021366    2010  \n",
       "24   LA  62.01  32.22    0.57   1.73      0.03   3.44     0.025340    2010  \n",
       "25   KY  86.95   8.07    0.21   1.47      0.07   3.23     0.025981    2010  \n",
       "26   OR  84.29   1.91    1.16   4.37      0.40   7.87     0.089745    2010  \n",
       "27   OK  72.32   7.28    7.62   2.17      0.16  10.46     0.047950    2010  \n",
       "28   CT  75.92  10.72    0.28   4.51      0.03   8.54    -0.002122    2021  \n",
       "29   UT  86.43   1.19    1.09   2.32      0.89   8.08     0.136278    2010  \n",
       "30  NaN  65.93  11.65    0.21   0.19      0.01  22.01    -0.141923    2021  \n",
       "31   NV  65.59   9.12    1.28   8.15      0.67  15.18     0.120240    2010  \n",
       "32   IA  90.02   3.71    0.38   2.41      0.12   3.36     0.032082    2010  \n",
       "33   AR  76.72  15.32    0.68   1.52      0.29   5.47     0.030038    2010  \n",
       "34   MS  58.41  37.72    0.48   0.99      0.02   2.38     0.003525    2010  \n",
       "35   KS  84.38   5.85    0.82   2.95      0.08   5.92     0.018602    2010  \n",
       "36   NM  74.81   2.11    9.55   1.56      0.08  11.90     0.013654    2010  \n",
       "37   NE  87.06   4.83    0.92   2.38      0.07   4.73     0.052512    2010  \n",
       "38   ID  89.97   0.69    1.35   1.41      0.16   6.42     0.114462    2010  \n",
       "39   WV  93.08   3.69    0.20   0.80      0.02   2.21    -0.026937    2021  \n",
       "40   HI  24.95   1.83    0.26  37.79     10.06  25.12     0.041519    2010  \n",
       "41   NH  92.88   1.60    0.15   2.68      0.03   2.65     0.027874    2010  \n",
       "42   ME  94.31   1.38    0.65   1.13      0.03   2.50     0.008608    2010  \n",
       "43   MT  88.54   0.50    6.36   0.79      0.08   3.73     0.070625    2010  \n",
       "44   RI  80.46   6.77    0.50   3.40      0.08   8.80     0.004106    2010  \n",
       "45   DE  68.76  22.18    0.39   3.87      0.06   4.75     0.073240    2010  \n",
       "46   SD  84.27   2.01    8.75   1.45      0.06   3.45     0.076617    2010  \n",
       "47   ND  86.58   2.91    5.29   1.45      0.11   3.66     0.123556    2010  \n",
       "48   AK  64.58   3.28   14.89   6.23      1.25   9.76     0.029736    2010  \n",
       "49   DC  41.27  46.31    0.30   3.98      0.05   8.08     0.159149    2010  \n",
       "50   VT  94.16   1.36    0.34   1.68      0.05   2.40    -0.002430    2021  \n",
       "51   WY  91.44   0.96    2.44   0.86      0.10   4.19     0.023232    2010  "
      ]
     },
     "execution_count": 135,
     "metadata": {},
     "output_type": "execute_result"
    }
   ],
   "source": [
    "df.drop(['Rank'], axis =1)"
   ]
  },
  {
   "cell_type": "code",
   "execution_count": 136,
   "metadata": {},
   "outputs": [
    {
     "data": {
      "text/html": [
       "<div>\n",
       "<style scoped>\n",
       "    .dataframe tbody tr th:only-of-type {\n",
       "        vertical-align: middle;\n",
       "    }\n",
       "\n",
       "    .dataframe tbody tr th {\n",
       "        vertical-align: top;\n",
       "    }\n",
       "\n",
       "    .dataframe thead th {\n",
       "        text-align: right;\n",
       "    }\n",
       "</style>\n",
       "<table border=\"1\" class=\"dataframe\">\n",
       "  <thead>\n",
       "    <tr style=\"text-align: right;\">\n",
       "      <th></th>\n",
       "      <th>Rank</th>\n",
       "      <th>State</th>\n",
       "      <th>2021 Population</th>\n",
       "      <th>Growth 2021</th>\n",
       "      <th>2018 Population</th>\n",
       "      <th>2010 Census</th>\n",
       "      <th>Growth_cat2021</th>\n",
       "      <th>Growth Since 2010</th>\n",
       "      <th>% of US</th>\n",
       "      <th>Density (mi²)</th>\n",
       "      <th>Code</th>\n",
       "      <th>White</th>\n",
       "      <th>Black</th>\n",
       "      <th>Indian</th>\n",
       "      <th>Asian</th>\n",
       "      <th>Hawaiian</th>\n",
       "      <th>Other</th>\n",
       "      <th>Growth_2018</th>\n",
       "      <th>Compare</th>\n",
       "    </tr>\n",
       "  </thead>\n",
       "  <tbody>\n",
       "    <tr>\n",
       "      <th>0</th>\n",
       "      <td>1</td>\n",
       "      <td>California</td>\n",
       "      <td>39613493</td>\n",
       "      <td>0.38</td>\n",
       "      <td>39461588</td>\n",
       "      <td>37319502</td>\n",
       "      <td>low</td>\n",
       "      <td>6.15</td>\n",
       "      <td>11.84</td>\n",
       "      <td>254</td>\n",
       "      <td>CA</td>\n",
       "      <td>59.70</td>\n",
       "      <td>5.79</td>\n",
       "      <td>0.77</td>\n",
       "      <td>14.49</td>\n",
       "      <td>0.40</td>\n",
       "      <td>18.85</td>\n",
       "      <td>0.057399</td>\n",
       "      <td>2010</td>\n",
       "    </tr>\n",
       "    <tr>\n",
       "      <th>1</th>\n",
       "      <td>2</td>\n",
       "      <td>Texas</td>\n",
       "      <td>29730311</td>\n",
       "      <td>3.85</td>\n",
       "      <td>28628666</td>\n",
       "      <td>25241971</td>\n",
       "      <td>average</td>\n",
       "      <td>17.78</td>\n",
       "      <td>8.89</td>\n",
       "      <td>114</td>\n",
       "      <td>TX</td>\n",
       "      <td>73.97</td>\n",
       "      <td>12.13</td>\n",
       "      <td>0.50</td>\n",
       "      <td>4.80</td>\n",
       "      <td>0.09</td>\n",
       "      <td>8.51</td>\n",
       "      <td>0.134169</td>\n",
       "      <td>2010</td>\n",
       "    </tr>\n",
       "    <tr>\n",
       "      <th>2</th>\n",
       "      <td>3</td>\n",
       "      <td>Florida</td>\n",
       "      <td>21944577</td>\n",
       "      <td>3.30</td>\n",
       "      <td>21244317</td>\n",
       "      <td>18845537</td>\n",
       "      <td>average</td>\n",
       "      <td>16.44</td>\n",
       "      <td>6.56</td>\n",
       "      <td>409</td>\n",
       "      <td>FL</td>\n",
       "      <td>75.12</td>\n",
       "      <td>16.07</td>\n",
       "      <td>0.28</td>\n",
       "      <td>2.73</td>\n",
       "      <td>0.06</td>\n",
       "      <td>5.73</td>\n",
       "      <td>0.127286</td>\n",
       "      <td>2010</td>\n",
       "    </tr>\n",
       "    <tr>\n",
       "      <th>3</th>\n",
       "      <td>4</td>\n",
       "      <td>New York</td>\n",
       "      <td>19299981</td>\n",
       "      <td>-1.18</td>\n",
       "      <td>19530351</td>\n",
       "      <td>19399878</td>\n",
       "      <td>very low</td>\n",
       "      <td>-0.51</td>\n",
       "      <td>5.77</td>\n",
       "      <td>410</td>\n",
       "      <td>NY</td>\n",
       "      <td>63.66</td>\n",
       "      <td>15.66</td>\n",
       "      <td>0.41</td>\n",
       "      <td>8.42</td>\n",
       "      <td>0.05</td>\n",
       "      <td>11.81</td>\n",
       "      <td>0.006725</td>\n",
       "      <td>2010</td>\n",
       "    </tr>\n",
       "    <tr>\n",
       "      <th>4</th>\n",
       "      <td>5</td>\n",
       "      <td>Pennsylvania</td>\n",
       "      <td>12804123</td>\n",
       "      <td>0.03</td>\n",
       "      <td>12800922</td>\n",
       "      <td>12711160</td>\n",
       "      <td>low</td>\n",
       "      <td>0.73</td>\n",
       "      <td>3.83</td>\n",
       "      <td>286</td>\n",
       "      <td>PA</td>\n",
       "      <td>80.53</td>\n",
       "      <td>11.18</td>\n",
       "      <td>0.19</td>\n",
       "      <td>3.41</td>\n",
       "      <td>0.03</td>\n",
       "      <td>4.65</td>\n",
       "      <td>0.007062</td>\n",
       "      <td>2010</td>\n",
       "    </tr>\n",
       "    <tr>\n",
       "      <th>5</th>\n",
       "      <td>6</td>\n",
       "      <td>Illinois</td>\n",
       "      <td>12569321</td>\n",
       "      <td>-1.21</td>\n",
       "      <td>12723071</td>\n",
       "      <td>12840503</td>\n",
       "      <td>very low</td>\n",
       "      <td>-2.11</td>\n",
       "      <td>3.76</td>\n",
       "      <td>226</td>\n",
       "      <td>IL</td>\n",
       "      <td>71.53</td>\n",
       "      <td>14.20</td>\n",
       "      <td>0.26</td>\n",
       "      <td>5.47</td>\n",
       "      <td>0.04</td>\n",
       "      <td>8.50</td>\n",
       "      <td>-0.009145</td>\n",
       "      <td>2021</td>\n",
       "    </tr>\n",
       "    <tr>\n",
       "      <th>6</th>\n",
       "      <td>7</td>\n",
       "      <td>Ohio</td>\n",
       "      <td>11714618</td>\n",
       "      <td>0.33</td>\n",
       "      <td>11676341</td>\n",
       "      <td>11539336</td>\n",
       "      <td>low</td>\n",
       "      <td>1.52</td>\n",
       "      <td>3.50</td>\n",
       "      <td>287</td>\n",
       "      <td>OH</td>\n",
       "      <td>81.30</td>\n",
       "      <td>12.41</td>\n",
       "      <td>0.20</td>\n",
       "      <td>2.22</td>\n",
       "      <td>0.03</td>\n",
       "      <td>3.85</td>\n",
       "      <td>0.011873</td>\n",
       "      <td>2010</td>\n",
       "    </tr>\n",
       "    <tr>\n",
       "      <th>7</th>\n",
       "      <td>8</td>\n",
       "      <td>Georgia</td>\n",
       "      <td>10830007</td>\n",
       "      <td>3.03</td>\n",
       "      <td>10511131</td>\n",
       "      <td>9711881</td>\n",
       "      <td>average</td>\n",
       "      <td>11.51</td>\n",
       "      <td>3.24</td>\n",
       "      <td>188</td>\n",
       "      <td>GA</td>\n",
       "      <td>58.62</td>\n",
       "      <td>31.61</td>\n",
       "      <td>0.36</td>\n",
       "      <td>3.98</td>\n",
       "      <td>0.06</td>\n",
       "      <td>5.36</td>\n",
       "      <td>0.082296</td>\n",
       "      <td>2010</td>\n",
       "    </tr>\n",
       "    <tr>\n",
       "      <th>8</th>\n",
       "      <td>9</td>\n",
       "      <td>North Carolina</td>\n",
       "      <td>10701022</td>\n",
       "      <td>3.08</td>\n",
       "      <td>10381615</td>\n",
       "      <td>9574323</td>\n",
       "      <td>average</td>\n",
       "      <td>11.77</td>\n",
       "      <td>3.20</td>\n",
       "      <td>220</td>\n",
       "      <td>NC</td>\n",
       "      <td>68.68</td>\n",
       "      <td>21.44</td>\n",
       "      <td>1.21</td>\n",
       "      <td>2.85</td>\n",
       "      <td>0.07</td>\n",
       "      <td>5.75</td>\n",
       "      <td>0.084318</td>\n",
       "      <td>2010</td>\n",
       "    </tr>\n",
       "    <tr>\n",
       "      <th>9</th>\n",
       "      <td>10</td>\n",
       "      <td>Michigan</td>\n",
       "      <td>9992427</td>\n",
       "      <td>0.08</td>\n",
       "      <td>9984072</td>\n",
       "      <td>9877510</td>\n",
       "      <td>low</td>\n",
       "      <td>1.16</td>\n",
       "      <td>2.99</td>\n",
       "      <td>177</td>\n",
       "      <td>MI</td>\n",
       "      <td>78.41</td>\n",
       "      <td>13.79</td>\n",
       "      <td>0.54</td>\n",
       "      <td>3.13</td>\n",
       "      <td>0.03</td>\n",
       "      <td>4.10</td>\n",
       "      <td>0.010788</td>\n",
       "      <td>2010</td>\n",
       "    </tr>\n",
       "    <tr>\n",
       "      <th>10</th>\n",
       "      <td>11</td>\n",
       "      <td>New Jersey</td>\n",
       "      <td>8874520</td>\n",
       "      <td>-0.13</td>\n",
       "      <td>8886025</td>\n",
       "      <td>8799446</td>\n",
       "      <td>very low</td>\n",
       "      <td>0.85</td>\n",
       "      <td>2.65</td>\n",
       "      <td>1207</td>\n",
       "      <td>NJ</td>\n",
       "      <td>67.78</td>\n",
       "      <td>13.46</td>\n",
       "      <td>0.22</td>\n",
       "      <td>9.46</td>\n",
       "      <td>0.04</td>\n",
       "      <td>9.04</td>\n",
       "      <td>0.009839</td>\n",
       "      <td>2010</td>\n",
       "    </tr>\n",
       "    <tr>\n",
       "      <th>11</th>\n",
       "      <td>12</td>\n",
       "      <td>Virginia</td>\n",
       "      <td>8603985</td>\n",
       "      <td>1.21</td>\n",
       "      <td>8501286</td>\n",
       "      <td>8023699</td>\n",
       "      <td>low</td>\n",
       "      <td>7.23</td>\n",
       "      <td>2.57</td>\n",
       "      <td>218</td>\n",
       "      <td>VA</td>\n",
       "      <td>67.63</td>\n",
       "      <td>19.18</td>\n",
       "      <td>0.28</td>\n",
       "      <td>6.40</td>\n",
       "      <td>0.07</td>\n",
       "      <td>6.44</td>\n",
       "      <td>0.059522</td>\n",
       "      <td>2010</td>\n",
       "    </tr>\n",
       "    <tr>\n",
       "      <th>12</th>\n",
       "      <td>13</td>\n",
       "      <td>Washington</td>\n",
       "      <td>7796941</td>\n",
       "      <td>3.63</td>\n",
       "      <td>7523869</td>\n",
       "      <td>6742830</td>\n",
       "      <td>average</td>\n",
       "      <td>15.63</td>\n",
       "      <td>2.33</td>\n",
       "      <td>117</td>\n",
       "      <td>WA</td>\n",
       "      <td>75.38</td>\n",
       "      <td>3.80</td>\n",
       "      <td>1.28</td>\n",
       "      <td>8.53</td>\n",
       "      <td>0.66</td>\n",
       "      <td>10.35</td>\n",
       "      <td>0.115833</td>\n",
       "      <td>2010</td>\n",
       "    </tr>\n",
       "    <tr>\n",
       "      <th>13</th>\n",
       "      <td>14</td>\n",
       "      <td>Arizona</td>\n",
       "      <td>7520103</td>\n",
       "      <td>5.06</td>\n",
       "      <td>7158024</td>\n",
       "      <td>6407172</td>\n",
       "      <td>good</td>\n",
       "      <td>17.37</td>\n",
       "      <td>2.25</td>\n",
       "      <td>66</td>\n",
       "      <td>AZ</td>\n",
       "      <td>77.22</td>\n",
       "      <td>4.50</td>\n",
       "      <td>4.50</td>\n",
       "      <td>3.31</td>\n",
       "      <td>0.21</td>\n",
       "      <td>10.26</td>\n",
       "      <td>0.117189</td>\n",
       "      <td>2010</td>\n",
       "    </tr>\n",
       "    <tr>\n",
       "      <th>14</th>\n",
       "      <td>15</td>\n",
       "      <td>Tennessee</td>\n",
       "      <td>6944260</td>\n",
       "      <td>2.55</td>\n",
       "      <td>6771631</td>\n",
       "      <td>6355311</td>\n",
       "      <td>average</td>\n",
       "      <td>9.27</td>\n",
       "      <td>2.08</td>\n",
       "      <td>168</td>\n",
       "      <td>TN</td>\n",
       "      <td>77.58</td>\n",
       "      <td>16.76</td>\n",
       "      <td>0.27</td>\n",
       "      <td>1.75</td>\n",
       "      <td>0.06</td>\n",
       "      <td>3.58</td>\n",
       "      <td>0.065507</td>\n",
       "      <td>2010</td>\n",
       "    </tr>\n",
       "    <tr>\n",
       "      <th>15</th>\n",
       "      <td>16</td>\n",
       "      <td>Massachusetts</td>\n",
       "      <td>6912239</td>\n",
       "      <td>0.43</td>\n",
       "      <td>6882635</td>\n",
       "      <td>6566307</td>\n",
       "      <td>low</td>\n",
       "      <td>5.27</td>\n",
       "      <td>2.07</td>\n",
       "      <td>886</td>\n",
       "      <td>MA</td>\n",
       "      <td>78.07</td>\n",
       "      <td>7.63</td>\n",
       "      <td>0.22</td>\n",
       "      <td>6.60</td>\n",
       "      <td>0.04</td>\n",
       "      <td>7.44</td>\n",
       "      <td>0.048174</td>\n",
       "      <td>2010</td>\n",
       "    </tr>\n",
       "    <tr>\n",
       "      <th>16</th>\n",
       "      <td>17</td>\n",
       "      <td>Indiana</td>\n",
       "      <td>6805663</td>\n",
       "      <td>1.65</td>\n",
       "      <td>6695497</td>\n",
       "      <td>6490432</td>\n",
       "      <td>low</td>\n",
       "      <td>4.86</td>\n",
       "      <td>2.03</td>\n",
       "      <td>190</td>\n",
       "      <td>IN</td>\n",
       "      <td>83.31</td>\n",
       "      <td>9.40</td>\n",
       "      <td>0.24</td>\n",
       "      <td>2.28</td>\n",
       "      <td>0.04</td>\n",
       "      <td>4.73</td>\n",
       "      <td>0.031595</td>\n",
       "      <td>2010</td>\n",
       "    </tr>\n",
       "    <tr>\n",
       "      <th>17</th>\n",
       "      <td>18</td>\n",
       "      <td>Missouri</td>\n",
       "      <td>6169038</td>\n",
       "      <td>0.77</td>\n",
       "      <td>6121623</td>\n",
       "      <td>5995974</td>\n",
       "      <td>low</td>\n",
       "      <td>2.89</td>\n",
       "      <td>1.84</td>\n",
       "      <td>90</td>\n",
       "      <td>MO</td>\n",
       "      <td>82.16</td>\n",
       "      <td>11.49</td>\n",
       "      <td>0.44</td>\n",
       "      <td>1.98</td>\n",
       "      <td>0.13</td>\n",
       "      <td>3.80</td>\n",
       "      <td>0.020956</td>\n",
       "      <td>2010</td>\n",
       "    </tr>\n",
       "    <tr>\n",
       "      <th>18</th>\n",
       "      <td>19</td>\n",
       "      <td>Maryland</td>\n",
       "      <td>6065436</td>\n",
       "      <td>0.49</td>\n",
       "      <td>6035802</td>\n",
       "      <td>5788645</td>\n",
       "      <td>low</td>\n",
       "      <td>4.78</td>\n",
       "      <td>1.81</td>\n",
       "      <td>625</td>\n",
       "      <td>MD</td>\n",
       "      <td>55.54</td>\n",
       "      <td>29.89</td>\n",
       "      <td>0.28</td>\n",
       "      <td>6.28</td>\n",
       "      <td>0.05</td>\n",
       "      <td>7.96</td>\n",
       "      <td>0.042697</td>\n",
       "      <td>2010</td>\n",
       "    </tr>\n",
       "    <tr>\n",
       "      <th>19</th>\n",
       "      <td>20</td>\n",
       "      <td>Colorado</td>\n",
       "      <td>5893634</td>\n",
       "      <td>3.56</td>\n",
       "      <td>5691287</td>\n",
       "      <td>5047349</td>\n",
       "      <td>average</td>\n",
       "      <td>16.77</td>\n",
       "      <td>1.76</td>\n",
       "      <td>57</td>\n",
       "      <td>CO</td>\n",
       "      <td>84.00</td>\n",
       "      <td>4.16</td>\n",
       "      <td>0.98</td>\n",
       "      <td>3.18</td>\n",
       "      <td>0.15</td>\n",
       "      <td>7.53</td>\n",
       "      <td>0.127579</td>\n",
       "      <td>2010</td>\n",
       "    </tr>\n",
       "    <tr>\n",
       "      <th>20</th>\n",
       "      <td>21</td>\n",
       "      <td>Wisconsin</td>\n",
       "      <td>5852490</td>\n",
       "      <td>0.78</td>\n",
       "      <td>5807406</td>\n",
       "      <td>5690475</td>\n",
       "      <td>low</td>\n",
       "      <td>2.85</td>\n",
       "      <td>1.75</td>\n",
       "      <td>108</td>\n",
       "      <td>WI</td>\n",
       "      <td>85.43</td>\n",
       "      <td>6.41</td>\n",
       "      <td>0.89</td>\n",
       "      <td>2.79</td>\n",
       "      <td>0.04</td>\n",
       "      <td>4.44</td>\n",
       "      <td>0.020549</td>\n",
       "      <td>2010</td>\n",
       "    </tr>\n",
       "    <tr>\n",
       "      <th>21</th>\n",
       "      <td>22</td>\n",
       "      <td>Minnesota</td>\n",
       "      <td>5706398</td>\n",
       "      <td>1.79</td>\n",
       "      <td>5606249</td>\n",
       "      <td>5310828</td>\n",
       "      <td>low</td>\n",
       "      <td>7.45</td>\n",
       "      <td>1.71</td>\n",
       "      <td>72</td>\n",
       "      <td>MN</td>\n",
       "      <td>82.85</td>\n",
       "      <td>6.41</td>\n",
       "      <td>1.04</td>\n",
       "      <td>4.82</td>\n",
       "      <td>0.04</td>\n",
       "      <td>4.84</td>\n",
       "      <td>0.055626</td>\n",
       "      <td>2010</td>\n",
       "    </tr>\n",
       "    <tr>\n",
       "      <th>22</th>\n",
       "      <td>23</td>\n",
       "      <td>South Carolina</td>\n",
       "      <td>5277830</td>\n",
       "      <td>3.81</td>\n",
       "      <td>5084156</td>\n",
       "      <td>4635649</td>\n",
       "      <td>average</td>\n",
       "      <td>13.85</td>\n",
       "      <td>1.58</td>\n",
       "      <td>176</td>\n",
       "      <td>SC</td>\n",
       "      <td>67.16</td>\n",
       "      <td>26.77</td>\n",
       "      <td>0.35</td>\n",
       "      <td>1.57</td>\n",
       "      <td>0.08</td>\n",
       "      <td>4.07</td>\n",
       "      <td>0.096752</td>\n",
       "      <td>2010</td>\n",
       "    </tr>\n",
       "    <tr>\n",
       "      <th>23</th>\n",
       "      <td>24</td>\n",
       "      <td>Alabama</td>\n",
       "      <td>4934193</td>\n",
       "      <td>0.95</td>\n",
       "      <td>4887681</td>\n",
       "      <td>4785437</td>\n",
       "      <td>low</td>\n",
       "      <td>3.11</td>\n",
       "      <td>1.47</td>\n",
       "      <td>97</td>\n",
       "      <td>AL</td>\n",
       "      <td>68.09</td>\n",
       "      <td>26.64</td>\n",
       "      <td>0.52</td>\n",
       "      <td>1.36</td>\n",
       "      <td>0.05</td>\n",
       "      <td>3.34</td>\n",
       "      <td>0.021366</td>\n",
       "      <td>2010</td>\n",
       "    </tr>\n",
       "    <tr>\n",
       "      <th>24</th>\n",
       "      <td>25</td>\n",
       "      <td>Louisiana</td>\n",
       "      <td>4627002</td>\n",
       "      <td>-0.70</td>\n",
       "      <td>4659690</td>\n",
       "      <td>4544532</td>\n",
       "      <td>very low</td>\n",
       "      <td>1.81</td>\n",
       "      <td>1.38</td>\n",
       "      <td>107</td>\n",
       "      <td>LA</td>\n",
       "      <td>62.01</td>\n",
       "      <td>32.22</td>\n",
       "      <td>0.57</td>\n",
       "      <td>1.73</td>\n",
       "      <td>0.03</td>\n",
       "      <td>3.44</td>\n",
       "      <td>0.025340</td>\n",
       "      <td>2010</td>\n",
       "    </tr>\n",
       "    <tr>\n",
       "      <th>25</th>\n",
       "      <td>26</td>\n",
       "      <td>Kentucky</td>\n",
       "      <td>4480713</td>\n",
       "      <td>0.44</td>\n",
       "      <td>4461153</td>\n",
       "      <td>4348181</td>\n",
       "      <td>low</td>\n",
       "      <td>3.05</td>\n",
       "      <td>1.34</td>\n",
       "      <td>113</td>\n",
       "      <td>KY</td>\n",
       "      <td>86.95</td>\n",
       "      <td>8.07</td>\n",
       "      <td>0.21</td>\n",
       "      <td>1.47</td>\n",
       "      <td>0.07</td>\n",
       "      <td>3.23</td>\n",
       "      <td>0.025981</td>\n",
       "      <td>2010</td>\n",
       "    </tr>\n",
       "    <tr>\n",
       "      <th>26</th>\n",
       "      <td>27</td>\n",
       "      <td>Oregon</td>\n",
       "      <td>4289439</td>\n",
       "      <td>2.57</td>\n",
       "      <td>4181886</td>\n",
       "      <td>3837491</td>\n",
       "      <td>average</td>\n",
       "      <td>11.78</td>\n",
       "      <td>1.28</td>\n",
       "      <td>45</td>\n",
       "      <td>OR</td>\n",
       "      <td>84.29</td>\n",
       "      <td>1.91</td>\n",
       "      <td>1.16</td>\n",
       "      <td>4.37</td>\n",
       "      <td>0.40</td>\n",
       "      <td>7.87</td>\n",
       "      <td>0.089745</td>\n",
       "      <td>2010</td>\n",
       "    </tr>\n",
       "    <tr>\n",
       "      <th>27</th>\n",
       "      <td>28</td>\n",
       "      <td>Oklahoma</td>\n",
       "      <td>3990443</td>\n",
       "      <td>1.27</td>\n",
       "      <td>3940235</td>\n",
       "      <td>3759944</td>\n",
       "      <td>low</td>\n",
       "      <td>6.13</td>\n",
       "      <td>1.19</td>\n",
       "      <td>58</td>\n",
       "      <td>OK</td>\n",
       "      <td>72.32</td>\n",
       "      <td>7.28</td>\n",
       "      <td>7.62</td>\n",
       "      <td>2.17</td>\n",
       "      <td>0.16</td>\n",
       "      <td>10.46</td>\n",
       "      <td>0.047950</td>\n",
       "      <td>2010</td>\n",
       "    </tr>\n",
       "    <tr>\n",
       "      <th>28</th>\n",
       "      <td>29</td>\n",
       "      <td>Connecticut</td>\n",
       "      <td>3552821</td>\n",
       "      <td>-0.52</td>\n",
       "      <td>3571520</td>\n",
       "      <td>3579114</td>\n",
       "      <td>very low</td>\n",
       "      <td>-0.73</td>\n",
       "      <td>1.06</td>\n",
       "      <td>734</td>\n",
       "      <td>CT</td>\n",
       "      <td>75.92</td>\n",
       "      <td>10.72</td>\n",
       "      <td>0.28</td>\n",
       "      <td>4.51</td>\n",
       "      <td>0.03</td>\n",
       "      <td>8.54</td>\n",
       "      <td>-0.002122</td>\n",
       "      <td>2021</td>\n",
       "    </tr>\n",
       "    <tr>\n",
       "      <th>29</th>\n",
       "      <td>30</td>\n",
       "      <td>Utah</td>\n",
       "      <td>3310774</td>\n",
       "      <td>4.99</td>\n",
       "      <td>3153550</td>\n",
       "      <td>2775332</td>\n",
       "      <td>average</td>\n",
       "      <td>19.29</td>\n",
       "      <td>0.99</td>\n",
       "      <td>40</td>\n",
       "      <td>UT</td>\n",
       "      <td>86.43</td>\n",
       "      <td>1.19</td>\n",
       "      <td>1.09</td>\n",
       "      <td>2.32</td>\n",
       "      <td>0.89</td>\n",
       "      <td>8.08</td>\n",
       "      <td>0.136278</td>\n",
       "      <td>2010</td>\n",
       "    </tr>\n",
       "    <tr>\n",
       "      <th>30</th>\n",
       "      <td>31</td>\n",
       "      <td>Puerto Rico</td>\n",
       "      <td>3194374</td>\n",
       "      <td>0.03</td>\n",
       "      <td>3193354</td>\n",
       "      <td>3721525</td>\n",
       "      <td>low</td>\n",
       "      <td>-14.16</td>\n",
       "      <td>0.95</td>\n",
       "      <td>923</td>\n",
       "      <td>NaN</td>\n",
       "      <td>65.93</td>\n",
       "      <td>11.65</td>\n",
       "      <td>0.21</td>\n",
       "      <td>0.19</td>\n",
       "      <td>0.01</td>\n",
       "      <td>22.01</td>\n",
       "      <td>-0.141923</td>\n",
       "      <td>2021</td>\n",
       "    </tr>\n",
       "    <tr>\n",
       "      <th>31</th>\n",
       "      <td>32</td>\n",
       "      <td>Nevada</td>\n",
       "      <td>3185786</td>\n",
       "      <td>5.23</td>\n",
       "      <td>3027341</td>\n",
       "      <td>2702405</td>\n",
       "      <td>good</td>\n",
       "      <td>17.89</td>\n",
       "      <td>0.95</td>\n",
       "      <td>29</td>\n",
       "      <td>NV</td>\n",
       "      <td>65.59</td>\n",
       "      <td>9.12</td>\n",
       "      <td>1.28</td>\n",
       "      <td>8.15</td>\n",
       "      <td>0.67</td>\n",
       "      <td>15.18</td>\n",
       "      <td>0.120240</td>\n",
       "      <td>2010</td>\n",
       "    </tr>\n",
       "    <tr>\n",
       "      <th>32</th>\n",
       "      <td>33</td>\n",
       "      <td>Iowa</td>\n",
       "      <td>3167974</td>\n",
       "      <td>0.61</td>\n",
       "      <td>3148618</td>\n",
       "      <td>3050745</td>\n",
       "      <td>low</td>\n",
       "      <td>3.84</td>\n",
       "      <td>0.95</td>\n",
       "      <td>57</td>\n",
       "      <td>IA</td>\n",
       "      <td>90.02</td>\n",
       "      <td>3.71</td>\n",
       "      <td>0.38</td>\n",
       "      <td>2.41</td>\n",
       "      <td>0.12</td>\n",
       "      <td>3.36</td>\n",
       "      <td>0.032082</td>\n",
       "      <td>2010</td>\n",
       "    </tr>\n",
       "    <tr>\n",
       "      <th>33</th>\n",
       "      <td>34</td>\n",
       "      <td>Arkansas</td>\n",
       "      <td>3033946</td>\n",
       "      <td>0.80</td>\n",
       "      <td>3009733</td>\n",
       "      <td>2921964</td>\n",
       "      <td>low</td>\n",
       "      <td>3.83</td>\n",
       "      <td>0.91</td>\n",
       "      <td>58</td>\n",
       "      <td>AR</td>\n",
       "      <td>76.72</td>\n",
       "      <td>15.32</td>\n",
       "      <td>0.68</td>\n",
       "      <td>1.52</td>\n",
       "      <td>0.29</td>\n",
       "      <td>5.47</td>\n",
       "      <td>0.030038</td>\n",
       "      <td>2010</td>\n",
       "    </tr>\n",
       "    <tr>\n",
       "      <th>34</th>\n",
       "      <td>35</td>\n",
       "      <td>Mississippi</td>\n",
       "      <td>2966407</td>\n",
       "      <td>-0.49</td>\n",
       "      <td>2981020</td>\n",
       "      <td>2970548</td>\n",
       "      <td>very low</td>\n",
       "      <td>-0.14</td>\n",
       "      <td>0.89</td>\n",
       "      <td>63</td>\n",
       "      <td>MS</td>\n",
       "      <td>58.41</td>\n",
       "      <td>37.72</td>\n",
       "      <td>0.48</td>\n",
       "      <td>0.99</td>\n",
       "      <td>0.02</td>\n",
       "      <td>2.38</td>\n",
       "      <td>0.003525</td>\n",
       "      <td>2010</td>\n",
       "    </tr>\n",
       "    <tr>\n",
       "      <th>35</th>\n",
       "      <td>36</td>\n",
       "      <td>Kansas</td>\n",
       "      <td>2917224</td>\n",
       "      <td>0.20</td>\n",
       "      <td>2911359</td>\n",
       "      <td>2858190</td>\n",
       "      <td>low</td>\n",
       "      <td>2.07</td>\n",
       "      <td>0.87</td>\n",
       "      <td>36</td>\n",
       "      <td>KS</td>\n",
       "      <td>84.38</td>\n",
       "      <td>5.85</td>\n",
       "      <td>0.82</td>\n",
       "      <td>2.95</td>\n",
       "      <td>0.08</td>\n",
       "      <td>5.92</td>\n",
       "      <td>0.018602</td>\n",
       "      <td>2010</td>\n",
       "    </tr>\n",
       "    <tr>\n",
       "      <th>36</th>\n",
       "      <td>37</td>\n",
       "      <td>New Mexico</td>\n",
       "      <td>2105005</td>\n",
       "      <td>0.59</td>\n",
       "      <td>2092741</td>\n",
       "      <td>2064552</td>\n",
       "      <td>low</td>\n",
       "      <td>1.96</td>\n",
       "      <td>0.63</td>\n",
       "      <td>17</td>\n",
       "      <td>NM</td>\n",
       "      <td>74.81</td>\n",
       "      <td>2.11</td>\n",
       "      <td>9.55</td>\n",
       "      <td>1.56</td>\n",
       "      <td>0.08</td>\n",
       "      <td>11.90</td>\n",
       "      <td>0.013654</td>\n",
       "      <td>2010</td>\n",
       "    </tr>\n",
       "    <tr>\n",
       "      <th>37</th>\n",
       "      <td>38</td>\n",
       "      <td>Nebraska</td>\n",
       "      <td>1951996</td>\n",
       "      <td>1.37</td>\n",
       "      <td>1925614</td>\n",
       "      <td>1829542</td>\n",
       "      <td>low</td>\n",
       "      <td>6.69</td>\n",
       "      <td>0.58</td>\n",
       "      <td>25</td>\n",
       "      <td>NE</td>\n",
       "      <td>87.06</td>\n",
       "      <td>4.83</td>\n",
       "      <td>0.92</td>\n",
       "      <td>2.38</td>\n",
       "      <td>0.07</td>\n",
       "      <td>4.73</td>\n",
       "      <td>0.052512</td>\n",
       "      <td>2010</td>\n",
       "    </tr>\n",
       "    <tr>\n",
       "      <th>38</th>\n",
       "      <td>39</td>\n",
       "      <td>Idaho</td>\n",
       "      <td>1860123</td>\n",
       "      <td>6.26</td>\n",
       "      <td>1750536</td>\n",
       "      <td>1570746</td>\n",
       "      <td>good</td>\n",
       "      <td>18.42</td>\n",
       "      <td>0.56</td>\n",
       "      <td>23</td>\n",
       "      <td>ID</td>\n",
       "      <td>89.97</td>\n",
       "      <td>0.69</td>\n",
       "      <td>1.35</td>\n",
       "      <td>1.41</td>\n",
       "      <td>0.16</td>\n",
       "      <td>6.42</td>\n",
       "      <td>0.114462</td>\n",
       "      <td>2010</td>\n",
       "    </tr>\n",
       "    <tr>\n",
       "      <th>39</th>\n",
       "      <td>40</td>\n",
       "      <td>West Virginia</td>\n",
       "      <td>1767859</td>\n",
       "      <td>-2.02</td>\n",
       "      <td>1804291</td>\n",
       "      <td>1854239</td>\n",
       "      <td>NaN</td>\n",
       "      <td>-4.66</td>\n",
       "      <td>0.53</td>\n",
       "      <td>74</td>\n",
       "      <td>WV</td>\n",
       "      <td>93.08</td>\n",
       "      <td>3.69</td>\n",
       "      <td>0.20</td>\n",
       "      <td>0.80</td>\n",
       "      <td>0.02</td>\n",
       "      <td>2.21</td>\n",
       "      <td>-0.026937</td>\n",
       "      <td>2021</td>\n",
       "    </tr>\n",
       "    <tr>\n",
       "      <th>40</th>\n",
       "      <td>41</td>\n",
       "      <td>Hawaii</td>\n",
       "      <td>1406430</td>\n",
       "      <td>-1.00</td>\n",
       "      <td>1420593</td>\n",
       "      <td>1363963</td>\n",
       "      <td>very low</td>\n",
       "      <td>3.11</td>\n",
       "      <td>0.42</td>\n",
       "      <td>219</td>\n",
       "      <td>HI</td>\n",
       "      <td>24.95</td>\n",
       "      <td>1.83</td>\n",
       "      <td>0.26</td>\n",
       "      <td>37.79</td>\n",
       "      <td>10.06</td>\n",
       "      <td>25.12</td>\n",
       "      <td>0.041519</td>\n",
       "      <td>2010</td>\n",
       "    </tr>\n",
       "    <tr>\n",
       "      <th>41</th>\n",
       "      <td>42</td>\n",
       "      <td>New Hampshire</td>\n",
       "      <td>1372203</td>\n",
       "      <td>1.38</td>\n",
       "      <td>1353465</td>\n",
       "      <td>1316762</td>\n",
       "      <td>low</td>\n",
       "      <td>4.21</td>\n",
       "      <td>0.41</td>\n",
       "      <td>153</td>\n",
       "      <td>NH</td>\n",
       "      <td>92.88</td>\n",
       "      <td>1.60</td>\n",
       "      <td>0.15</td>\n",
       "      <td>2.68</td>\n",
       "      <td>0.03</td>\n",
       "      <td>2.65</td>\n",
       "      <td>0.027874</td>\n",
       "      <td>2010</td>\n",
       "    </tr>\n",
       "    <tr>\n",
       "      <th>42</th>\n",
       "      <td>43</td>\n",
       "      <td>Maine</td>\n",
       "      <td>1354522</td>\n",
       "      <td>1.15</td>\n",
       "      <td>1339057</td>\n",
       "      <td>1327629</td>\n",
       "      <td>low</td>\n",
       "      <td>2.03</td>\n",
       "      <td>0.40</td>\n",
       "      <td>44</td>\n",
       "      <td>ME</td>\n",
       "      <td>94.31</td>\n",
       "      <td>1.38</td>\n",
       "      <td>0.65</td>\n",
       "      <td>1.13</td>\n",
       "      <td>0.03</td>\n",
       "      <td>2.50</td>\n",
       "      <td>0.008608</td>\n",
       "      <td>2010</td>\n",
       "    </tr>\n",
       "    <tr>\n",
       "      <th>43</th>\n",
       "      <td>44</td>\n",
       "      <td>Montana</td>\n",
       "      <td>1085004</td>\n",
       "      <td>2.29</td>\n",
       "      <td>1060665</td>\n",
       "      <td>990697</td>\n",
       "      <td>average</td>\n",
       "      <td>9.52</td>\n",
       "      <td>0.32</td>\n",
       "      <td>7</td>\n",
       "      <td>MT</td>\n",
       "      <td>88.54</td>\n",
       "      <td>0.50</td>\n",
       "      <td>6.36</td>\n",
       "      <td>0.79</td>\n",
       "      <td>0.08</td>\n",
       "      <td>3.73</td>\n",
       "      <td>0.070625</td>\n",
       "      <td>2010</td>\n",
       "    </tr>\n",
       "    <tr>\n",
       "      <th>44</th>\n",
       "      <td>45</td>\n",
       "      <td>Rhode Island</td>\n",
       "      <td>1061509</td>\n",
       "      <td>0.30</td>\n",
       "      <td>1058287</td>\n",
       "      <td>1053959</td>\n",
       "      <td>low</td>\n",
       "      <td>0.72</td>\n",
       "      <td>0.32</td>\n",
       "      <td>1027</td>\n",
       "      <td>RI</td>\n",
       "      <td>80.46</td>\n",
       "      <td>6.77</td>\n",
       "      <td>0.50</td>\n",
       "      <td>3.40</td>\n",
       "      <td>0.08</td>\n",
       "      <td>8.80</td>\n",
       "      <td>0.004106</td>\n",
       "      <td>2010</td>\n",
       "    </tr>\n",
       "    <tr>\n",
       "      <th>45</th>\n",
       "      <td>46</td>\n",
       "      <td>Delaware</td>\n",
       "      <td>990334</td>\n",
       "      <td>2.57</td>\n",
       "      <td>965479</td>\n",
       "      <td>899593</td>\n",
       "      <td>average</td>\n",
       "      <td>10.09</td>\n",
       "      <td>0.30</td>\n",
       "      <td>508</td>\n",
       "      <td>DE</td>\n",
       "      <td>68.76</td>\n",
       "      <td>22.18</td>\n",
       "      <td>0.39</td>\n",
       "      <td>3.87</td>\n",
       "      <td>0.06</td>\n",
       "      <td>4.75</td>\n",
       "      <td>0.073240</td>\n",
       "      <td>2010</td>\n",
       "    </tr>\n",
       "    <tr>\n",
       "      <th>46</th>\n",
       "      <td>47</td>\n",
       "      <td>South Dakota</td>\n",
       "      <td>896581</td>\n",
       "      <td>2.04</td>\n",
       "      <td>878698</td>\n",
       "      <td>816166</td>\n",
       "      <td>average</td>\n",
       "      <td>9.85</td>\n",
       "      <td>0.27</td>\n",
       "      <td>12</td>\n",
       "      <td>SD</td>\n",
       "      <td>84.27</td>\n",
       "      <td>2.01</td>\n",
       "      <td>8.75</td>\n",
       "      <td>1.45</td>\n",
       "      <td>0.06</td>\n",
       "      <td>3.45</td>\n",
       "      <td>0.076617</td>\n",
       "      <td>2010</td>\n",
       "    </tr>\n",
       "    <tr>\n",
       "      <th>47</th>\n",
       "      <td>48</td>\n",
       "      <td>North Dakota</td>\n",
       "      <td>770026</td>\n",
       "      <td>1.58</td>\n",
       "      <td>758080</td>\n",
       "      <td>674715</td>\n",
       "      <td>low</td>\n",
       "      <td>14.13</td>\n",
       "      <td>0.23</td>\n",
       "      <td>11</td>\n",
       "      <td>ND</td>\n",
       "      <td>86.58</td>\n",
       "      <td>2.91</td>\n",
       "      <td>5.29</td>\n",
       "      <td>1.45</td>\n",
       "      <td>0.11</td>\n",
       "      <td>3.66</td>\n",
       "      <td>0.123556</td>\n",
       "      <td>2010</td>\n",
       "    </tr>\n",
       "    <tr>\n",
       "      <th>48</th>\n",
       "      <td>49</td>\n",
       "      <td>Alaska</td>\n",
       "      <td>724357</td>\n",
       "      <td>-1.47</td>\n",
       "      <td>735139</td>\n",
       "      <td>713910</td>\n",
       "      <td>very low</td>\n",
       "      <td>1.46</td>\n",
       "      <td>0.22</td>\n",
       "      <td>1</td>\n",
       "      <td>AK</td>\n",
       "      <td>64.58</td>\n",
       "      <td>3.28</td>\n",
       "      <td>14.89</td>\n",
       "      <td>6.23</td>\n",
       "      <td>1.25</td>\n",
       "      <td>9.76</td>\n",
       "      <td>0.029736</td>\n",
       "      <td>2010</td>\n",
       "    </tr>\n",
       "    <tr>\n",
       "      <th>49</th>\n",
       "      <td>50</td>\n",
       "      <td>District of Columbia</td>\n",
       "      <td>714153</td>\n",
       "      <td>1.80</td>\n",
       "      <td>701547</td>\n",
       "      <td>605226</td>\n",
       "      <td>low</td>\n",
       "      <td>18.00</td>\n",
       "      <td>0.21</td>\n",
       "      <td>11707</td>\n",
       "      <td>DC</td>\n",
       "      <td>41.27</td>\n",
       "      <td>46.31</td>\n",
       "      <td>0.30</td>\n",
       "      <td>3.98</td>\n",
       "      <td>0.05</td>\n",
       "      <td>8.08</td>\n",
       "      <td>0.159149</td>\n",
       "      <td>2010</td>\n",
       "    </tr>\n",
       "    <tr>\n",
       "      <th>50</th>\n",
       "      <td>51</td>\n",
       "      <td>Vermont</td>\n",
       "      <td>623251</td>\n",
       "      <td>-0.18</td>\n",
       "      <td>624358</td>\n",
       "      <td>625879</td>\n",
       "      <td>very low</td>\n",
       "      <td>-0.42</td>\n",
       "      <td>0.19</td>\n",
       "      <td>68</td>\n",
       "      <td>VT</td>\n",
       "      <td>94.16</td>\n",
       "      <td>1.36</td>\n",
       "      <td>0.34</td>\n",
       "      <td>1.68</td>\n",
       "      <td>0.05</td>\n",
       "      <td>2.40</td>\n",
       "      <td>-0.002430</td>\n",
       "      <td>2021</td>\n",
       "    </tr>\n",
       "    <tr>\n",
       "      <th>51</th>\n",
       "      <td>52</td>\n",
       "      <td>Wyoming</td>\n",
       "      <td>581075</td>\n",
       "      <td>0.60</td>\n",
       "      <td>577601</td>\n",
       "      <td>564487</td>\n",
       "      <td>low</td>\n",
       "      <td>2.94</td>\n",
       "      <td>0.17</td>\n",
       "      <td>6</td>\n",
       "      <td>WY</td>\n",
       "      <td>91.44</td>\n",
       "      <td>0.96</td>\n",
       "      <td>2.44</td>\n",
       "      <td>0.86</td>\n",
       "      <td>0.10</td>\n",
       "      <td>4.19</td>\n",
       "      <td>0.023232</td>\n",
       "      <td>2010</td>\n",
       "    </tr>\n",
       "  </tbody>\n",
       "</table>\n",
       "</div>"
      ],
      "text/plain": [
       "    Rank                 State  2021 Population  Growth 2021  2018 Population  \\\n",
       "0      1            California         39613493         0.38         39461588   \n",
       "1      2                 Texas         29730311         3.85         28628666   \n",
       "2      3               Florida         21944577         3.30         21244317   \n",
       "3      4              New York         19299981        -1.18         19530351   \n",
       "4      5          Pennsylvania         12804123         0.03         12800922   \n",
       "5      6              Illinois         12569321        -1.21         12723071   \n",
       "6      7                  Ohio         11714618         0.33         11676341   \n",
       "7      8               Georgia         10830007         3.03         10511131   \n",
       "8      9        North Carolina         10701022         3.08         10381615   \n",
       "9     10              Michigan          9992427         0.08          9984072   \n",
       "10    11            New Jersey          8874520        -0.13          8886025   \n",
       "11    12              Virginia          8603985         1.21          8501286   \n",
       "12    13            Washington          7796941         3.63          7523869   \n",
       "13    14               Arizona          7520103         5.06          7158024   \n",
       "14    15             Tennessee          6944260         2.55          6771631   \n",
       "15    16         Massachusetts          6912239         0.43          6882635   \n",
       "16    17               Indiana          6805663         1.65          6695497   \n",
       "17    18              Missouri          6169038         0.77          6121623   \n",
       "18    19              Maryland          6065436         0.49          6035802   \n",
       "19    20              Colorado          5893634         3.56          5691287   \n",
       "20    21             Wisconsin          5852490         0.78          5807406   \n",
       "21    22             Minnesota          5706398         1.79          5606249   \n",
       "22    23        South Carolina          5277830         3.81          5084156   \n",
       "23    24               Alabama          4934193         0.95          4887681   \n",
       "24    25             Louisiana          4627002        -0.70          4659690   \n",
       "25    26              Kentucky          4480713         0.44          4461153   \n",
       "26    27                Oregon          4289439         2.57          4181886   \n",
       "27    28              Oklahoma          3990443         1.27          3940235   \n",
       "28    29           Connecticut          3552821        -0.52          3571520   \n",
       "29    30                  Utah          3310774         4.99          3153550   \n",
       "30    31           Puerto Rico          3194374         0.03          3193354   \n",
       "31    32                Nevada          3185786         5.23          3027341   \n",
       "32    33                  Iowa          3167974         0.61          3148618   \n",
       "33    34              Arkansas          3033946         0.80          3009733   \n",
       "34    35           Mississippi          2966407        -0.49          2981020   \n",
       "35    36                Kansas          2917224         0.20          2911359   \n",
       "36    37            New Mexico          2105005         0.59          2092741   \n",
       "37    38              Nebraska          1951996         1.37          1925614   \n",
       "38    39                 Idaho          1860123         6.26          1750536   \n",
       "39    40         West Virginia          1767859        -2.02          1804291   \n",
       "40    41                Hawaii          1406430        -1.00          1420593   \n",
       "41    42         New Hampshire          1372203         1.38          1353465   \n",
       "42    43                 Maine          1354522         1.15          1339057   \n",
       "43    44               Montana          1085004         2.29          1060665   \n",
       "44    45          Rhode Island          1061509         0.30          1058287   \n",
       "45    46              Delaware           990334         2.57           965479   \n",
       "46    47          South Dakota           896581         2.04           878698   \n",
       "47    48          North Dakota           770026         1.58           758080   \n",
       "48    49                Alaska           724357        -1.47           735139   \n",
       "49    50  District of Columbia           714153         1.80           701547   \n",
       "50    51               Vermont           623251        -0.18           624358   \n",
       "51    52               Wyoming           581075         0.60           577601   \n",
       "\n",
       "    2010 Census Growth_cat2021  Growth Since 2010  % of US  Density (mi²)  \\\n",
       "0      37319502            low               6.15    11.84            254   \n",
       "1      25241971        average              17.78     8.89            114   \n",
       "2      18845537        average              16.44     6.56            409   \n",
       "3      19399878       very low              -0.51     5.77            410   \n",
       "4      12711160            low               0.73     3.83            286   \n",
       "5      12840503       very low              -2.11     3.76            226   \n",
       "6      11539336            low               1.52     3.50            287   \n",
       "7       9711881        average              11.51     3.24            188   \n",
       "8       9574323        average              11.77     3.20            220   \n",
       "9       9877510            low               1.16     2.99            177   \n",
       "10      8799446       very low               0.85     2.65           1207   \n",
       "11      8023699            low               7.23     2.57            218   \n",
       "12      6742830        average              15.63     2.33            117   \n",
       "13      6407172           good              17.37     2.25             66   \n",
       "14      6355311        average               9.27     2.08            168   \n",
       "15      6566307            low               5.27     2.07            886   \n",
       "16      6490432            low               4.86     2.03            190   \n",
       "17      5995974            low               2.89     1.84             90   \n",
       "18      5788645            low               4.78     1.81            625   \n",
       "19      5047349        average              16.77     1.76             57   \n",
       "20      5690475            low               2.85     1.75            108   \n",
       "21      5310828            low               7.45     1.71             72   \n",
       "22      4635649        average              13.85     1.58            176   \n",
       "23      4785437            low               3.11     1.47             97   \n",
       "24      4544532       very low               1.81     1.38            107   \n",
       "25      4348181            low               3.05     1.34            113   \n",
       "26      3837491        average              11.78     1.28             45   \n",
       "27      3759944            low               6.13     1.19             58   \n",
       "28      3579114       very low              -0.73     1.06            734   \n",
       "29      2775332        average              19.29     0.99             40   \n",
       "30      3721525            low             -14.16     0.95            923   \n",
       "31      2702405           good              17.89     0.95             29   \n",
       "32      3050745            low               3.84     0.95             57   \n",
       "33      2921964            low               3.83     0.91             58   \n",
       "34      2970548       very low              -0.14     0.89             63   \n",
       "35      2858190            low               2.07     0.87             36   \n",
       "36      2064552            low               1.96     0.63             17   \n",
       "37      1829542            low               6.69     0.58             25   \n",
       "38      1570746           good              18.42     0.56             23   \n",
       "39      1854239            NaN              -4.66     0.53             74   \n",
       "40      1363963       very low               3.11     0.42            219   \n",
       "41      1316762            low               4.21     0.41            153   \n",
       "42      1327629            low               2.03     0.40             44   \n",
       "43       990697        average               9.52     0.32              7   \n",
       "44      1053959            low               0.72     0.32           1027   \n",
       "45       899593        average              10.09     0.30            508   \n",
       "46       816166        average               9.85     0.27             12   \n",
       "47       674715            low              14.13     0.23             11   \n",
       "48       713910       very low               1.46     0.22              1   \n",
       "49       605226            low              18.00     0.21          11707   \n",
       "50       625879       very low              -0.42     0.19             68   \n",
       "51       564487            low               2.94     0.17              6   \n",
       "\n",
       "   Code  White  Black  Indian  Asian  Hawaiian  Other  Growth_2018 Compare  \n",
       "0    CA  59.70   5.79    0.77  14.49      0.40  18.85     0.057399    2010  \n",
       "1    TX  73.97  12.13    0.50   4.80      0.09   8.51     0.134169    2010  \n",
       "2    FL  75.12  16.07    0.28   2.73      0.06   5.73     0.127286    2010  \n",
       "3    NY  63.66  15.66    0.41   8.42      0.05  11.81     0.006725    2010  \n",
       "4    PA  80.53  11.18    0.19   3.41      0.03   4.65     0.007062    2010  \n",
       "5    IL  71.53  14.20    0.26   5.47      0.04   8.50    -0.009145    2021  \n",
       "6    OH  81.30  12.41    0.20   2.22      0.03   3.85     0.011873    2010  \n",
       "7    GA  58.62  31.61    0.36   3.98      0.06   5.36     0.082296    2010  \n",
       "8    NC  68.68  21.44    1.21   2.85      0.07   5.75     0.084318    2010  \n",
       "9    MI  78.41  13.79    0.54   3.13      0.03   4.10     0.010788    2010  \n",
       "10   NJ  67.78  13.46    0.22   9.46      0.04   9.04     0.009839    2010  \n",
       "11   VA  67.63  19.18    0.28   6.40      0.07   6.44     0.059522    2010  \n",
       "12   WA  75.38   3.80    1.28   8.53      0.66  10.35     0.115833    2010  \n",
       "13   AZ  77.22   4.50    4.50   3.31      0.21  10.26     0.117189    2010  \n",
       "14   TN  77.58  16.76    0.27   1.75      0.06   3.58     0.065507    2010  \n",
       "15   MA  78.07   7.63    0.22   6.60      0.04   7.44     0.048174    2010  \n",
       "16   IN  83.31   9.40    0.24   2.28      0.04   4.73     0.031595    2010  \n",
       "17   MO  82.16  11.49    0.44   1.98      0.13   3.80     0.020956    2010  \n",
       "18   MD  55.54  29.89    0.28   6.28      0.05   7.96     0.042697    2010  \n",
       "19   CO  84.00   4.16    0.98   3.18      0.15   7.53     0.127579    2010  \n",
       "20   WI  85.43   6.41    0.89   2.79      0.04   4.44     0.020549    2010  \n",
       "21   MN  82.85   6.41    1.04   4.82      0.04   4.84     0.055626    2010  \n",
       "22   SC  67.16  26.77    0.35   1.57      0.08   4.07     0.096752    2010  \n",
       "23   AL  68.09  26.64    0.52   1.36      0.05   3.34     0.021366    2010  \n",
       "24   LA  62.01  32.22    0.57   1.73      0.03   3.44     0.025340    2010  \n",
       "25   KY  86.95   8.07    0.21   1.47      0.07   3.23     0.025981    2010  \n",
       "26   OR  84.29   1.91    1.16   4.37      0.40   7.87     0.089745    2010  \n",
       "27   OK  72.32   7.28    7.62   2.17      0.16  10.46     0.047950    2010  \n",
       "28   CT  75.92  10.72    0.28   4.51      0.03   8.54    -0.002122    2021  \n",
       "29   UT  86.43   1.19    1.09   2.32      0.89   8.08     0.136278    2010  \n",
       "30  NaN  65.93  11.65    0.21   0.19      0.01  22.01    -0.141923    2021  \n",
       "31   NV  65.59   9.12    1.28   8.15      0.67  15.18     0.120240    2010  \n",
       "32   IA  90.02   3.71    0.38   2.41      0.12   3.36     0.032082    2010  \n",
       "33   AR  76.72  15.32    0.68   1.52      0.29   5.47     0.030038    2010  \n",
       "34   MS  58.41  37.72    0.48   0.99      0.02   2.38     0.003525    2010  \n",
       "35   KS  84.38   5.85    0.82   2.95      0.08   5.92     0.018602    2010  \n",
       "36   NM  74.81   2.11    9.55   1.56      0.08  11.90     0.013654    2010  \n",
       "37   NE  87.06   4.83    0.92   2.38      0.07   4.73     0.052512    2010  \n",
       "38   ID  89.97   0.69    1.35   1.41      0.16   6.42     0.114462    2010  \n",
       "39   WV  93.08   3.69    0.20   0.80      0.02   2.21    -0.026937    2021  \n",
       "40   HI  24.95   1.83    0.26  37.79     10.06  25.12     0.041519    2010  \n",
       "41   NH  92.88   1.60    0.15   2.68      0.03   2.65     0.027874    2010  \n",
       "42   ME  94.31   1.38    0.65   1.13      0.03   2.50     0.008608    2010  \n",
       "43   MT  88.54   0.50    6.36   0.79      0.08   3.73     0.070625    2010  \n",
       "44   RI  80.46   6.77    0.50   3.40      0.08   8.80     0.004106    2010  \n",
       "45   DE  68.76  22.18    0.39   3.87      0.06   4.75     0.073240    2010  \n",
       "46   SD  84.27   2.01    8.75   1.45      0.06   3.45     0.076617    2010  \n",
       "47   ND  86.58   2.91    5.29   1.45      0.11   3.66     0.123556    2010  \n",
       "48   AK  64.58   3.28   14.89   6.23      1.25   9.76     0.029736    2010  \n",
       "49   DC  41.27  46.31    0.30   3.98      0.05   8.08     0.159149    2010  \n",
       "50   VT  94.16   1.36    0.34   1.68      0.05   2.40    -0.002430    2021  \n",
       "51   WY  91.44   0.96    2.44   0.86      0.10   4.19     0.023232    2010  "
      ]
     },
     "metadata": {},
     "output_type": "display_data"
    }
   ],
   "source": [
    "## creating new variable to check the growth % from 2010 to 2018\n",
    "df['Growth_2018']= (df['2018 Population']-df['2010 Census'])/df['2010 Census']\n",
    "display(df)"
   ]
  },
  {
   "cell_type": "code",
   "execution_count": 137,
   "metadata": {},
   "outputs": [
    {
     "ename": "ValueError",
     "evalue": "cannot insert Growth_cat2021, already exists",
     "output_type": "error",
     "traceback": [
      "\u001b[1;31m---------------------------------------------------------------------------\u001b[0m",
      "\u001b[1;31mValueError\u001b[0m                                Traceback (most recent call last)",
      "\u001b[1;32m<ipython-input-137-9b69428e1a6a>\u001b[0m in \u001b[0;36m<module>\u001b[1;34m\u001b[0m\n\u001b[0;32m      3\u001b[0m Category=pd.cut(df['Growth 2021'], bins=[-2,0,2,5,10,15],\n\u001b[0;32m      4\u001b[0m                  labels=['very low','low','average', 'good','high'])\n\u001b[1;32m----> 5\u001b[1;33m \u001b[0mdf\u001b[0m\u001b[1;33m.\u001b[0m\u001b[0minsert\u001b[0m\u001b[1;33m(\u001b[0m\u001b[1;36m6\u001b[0m\u001b[1;33m,\u001b[0m\u001b[1;34m'Growth_cat2021'\u001b[0m\u001b[1;33m,\u001b[0m\u001b[0mCategory\u001b[0m\u001b[1;33m)\u001b[0m\u001b[1;33m\u001b[0m\u001b[1;33m\u001b[0m\u001b[0m\n\u001b[0m",
      "\u001b[1;32m~\\anaconda3\\lib\\site-packages\\pandas\\core\\frame.py\u001b[0m in \u001b[0;36minsert\u001b[1;34m(self, loc, column, value, allow_duplicates)\u001b[0m\n\u001b[0;32m   3622\u001b[0m         \u001b[0mself\u001b[0m\u001b[1;33m.\u001b[0m\u001b[0m_ensure_valid_index\u001b[0m\u001b[1;33m(\u001b[0m\u001b[0mvalue\u001b[0m\u001b[1;33m)\u001b[0m\u001b[1;33m\u001b[0m\u001b[1;33m\u001b[0m\u001b[0m\n\u001b[0;32m   3623\u001b[0m         \u001b[0mvalue\u001b[0m \u001b[1;33m=\u001b[0m \u001b[0mself\u001b[0m\u001b[1;33m.\u001b[0m\u001b[0m_sanitize_column\u001b[0m\u001b[1;33m(\u001b[0m\u001b[0mcolumn\u001b[0m\u001b[1;33m,\u001b[0m \u001b[0mvalue\u001b[0m\u001b[1;33m,\u001b[0m \u001b[0mbroadcast\u001b[0m\u001b[1;33m=\u001b[0m\u001b[1;32mFalse\u001b[0m\u001b[1;33m)\u001b[0m\u001b[1;33m\u001b[0m\u001b[1;33m\u001b[0m\u001b[0m\n\u001b[1;32m-> 3624\u001b[1;33m         \u001b[0mself\u001b[0m\u001b[1;33m.\u001b[0m\u001b[0m_mgr\u001b[0m\u001b[1;33m.\u001b[0m\u001b[0minsert\u001b[0m\u001b[1;33m(\u001b[0m\u001b[0mloc\u001b[0m\u001b[1;33m,\u001b[0m \u001b[0mcolumn\u001b[0m\u001b[1;33m,\u001b[0m \u001b[0mvalue\u001b[0m\u001b[1;33m,\u001b[0m \u001b[0mallow_duplicates\u001b[0m\u001b[1;33m=\u001b[0m\u001b[0mallow_duplicates\u001b[0m\u001b[1;33m)\u001b[0m\u001b[1;33m\u001b[0m\u001b[1;33m\u001b[0m\u001b[0m\n\u001b[0m\u001b[0;32m   3625\u001b[0m \u001b[1;33m\u001b[0m\u001b[0m\n\u001b[0;32m   3626\u001b[0m     \u001b[1;32mdef\u001b[0m \u001b[0massign\u001b[0m\u001b[1;33m(\u001b[0m\u001b[0mself\u001b[0m\u001b[1;33m,\u001b[0m \u001b[1;33m**\u001b[0m\u001b[0mkwargs\u001b[0m\u001b[1;33m)\u001b[0m \u001b[1;33m->\u001b[0m \u001b[1;34m\"DataFrame\"\u001b[0m\u001b[1;33m:\u001b[0m\u001b[1;33m\u001b[0m\u001b[1;33m\u001b[0m\u001b[0m\n",
      "\u001b[1;32m~\\anaconda3\\lib\\site-packages\\pandas\\core\\internals\\managers.py\u001b[0m in \u001b[0;36minsert\u001b[1;34m(self, loc, item, value, allow_duplicates)\u001b[0m\n\u001b[0;32m   1175\u001b[0m         \u001b[1;32mif\u001b[0m \u001b[1;32mnot\u001b[0m \u001b[0mallow_duplicates\u001b[0m \u001b[1;32mand\u001b[0m \u001b[0mitem\u001b[0m \u001b[1;32min\u001b[0m \u001b[0mself\u001b[0m\u001b[1;33m.\u001b[0m\u001b[0mitems\u001b[0m\u001b[1;33m:\u001b[0m\u001b[1;33m\u001b[0m\u001b[1;33m\u001b[0m\u001b[0m\n\u001b[0;32m   1176\u001b[0m             \u001b[1;31m# Should this be a different kind of error??\u001b[0m\u001b[1;33m\u001b[0m\u001b[1;33m\u001b[0m\u001b[1;33m\u001b[0m\u001b[0m\n\u001b[1;32m-> 1177\u001b[1;33m             \u001b[1;32mraise\u001b[0m \u001b[0mValueError\u001b[0m\u001b[1;33m(\u001b[0m\u001b[1;34mf\"cannot insert {item}, already exists\"\u001b[0m\u001b[1;33m)\u001b[0m\u001b[1;33m\u001b[0m\u001b[1;33m\u001b[0m\u001b[0m\n\u001b[0m\u001b[0;32m   1178\u001b[0m \u001b[1;33m\u001b[0m\u001b[0m\n\u001b[0;32m   1179\u001b[0m         \u001b[1;32mif\u001b[0m \u001b[1;32mnot\u001b[0m \u001b[0misinstance\u001b[0m\u001b[1;33m(\u001b[0m\u001b[0mloc\u001b[0m\u001b[1;33m,\u001b[0m \u001b[0mint\u001b[0m\u001b[1;33m)\u001b[0m\u001b[1;33m:\u001b[0m\u001b[1;33m\u001b[0m\u001b[1;33m\u001b[0m\u001b[0m\n",
      "\u001b[1;31mValueError\u001b[0m: cannot insert Growth_cat2021, already exists"
     ]
    }
   ],
   "source": [
    "## categorizing growth in categories very low, low, average, good and high as per bin.\n",
    "## bins : -2 to 0 is very low, 1 to 2 is low, 3 to 5 is average, 6 to 10 is good, 11 to 15 is high\n",
    "Category=pd.cut(df['Growth 2021'], bins=[-2,0,2,5,10,15],\n",
    "                 labels=['very low','low','average', 'good','high'])\n",
    "df.insert(6,'Growth_cat2021',Category)\n"
   ]
  },
  {
   "cell_type": "code",
   "execution_count": 138,
   "metadata": {},
   "outputs": [],
   "source": [
    "#df.drop(['Growth_category'], axis =1)"
   ]
  },
  {
   "cell_type": "markdown",
   "metadata": {},
   "source": [
    "# Visualization"
   ]
  },
  {
   "cell_type": "markdown",
   "metadata": {},
   "source": [
    "To create a choropleth map using plotly, we need the states code. Creating a dictionary of codes and mapping it with our dataframe.This will serve as the location colum for plotting map."
   ]
  },
  {
   "cell_type": "code",
   "execution_count": 139,
   "metadata": {},
   "outputs": [],
   "source": [
    "code = {'Alabama': 'AL',\n",
    "        'Alaska': 'AK',\n",
    "        'Arizona': 'AZ',\n",
    "        'Arkansas': 'AR',\n",
    "        'California': 'CA',\n",
    "        'Colorado': 'CO',\n",
    "        'Connecticut': 'CT',\n",
    "        'Delaware': 'DE',\n",
    "        'District of Columbia': 'DC',\n",
    "        'Florida': 'FL',\n",
    "        'Georgia': 'GA',\n",
    "        'Hawaii': 'HI',\n",
    "        'Idaho': 'ID',\n",
    "        'Illinois': 'IL',\n",
    "        'Indiana': 'IN',\n",
    "        'Iowa': 'IA',\n",
    "        'Kansas': 'KS',\n",
    "        'Kentucky': 'KY',\n",
    "        'Louisiana': 'LA',\n",
    "        'Maine': 'ME',\n",
    "        'Maryland': 'MD',\n",
    "        'Massachusetts': 'MA',\n",
    "        'Michigan': 'MI',\n",
    "        'Minnesota': 'MN',\n",
    "        'Mississippi': 'MS',\n",
    "        'Missouri': 'MO',\n",
    "        'Montana': 'MT',\n",
    "        'Nebraska': 'NE',\n",
    "        'Nevada': 'NV',\n",
    "        'New Hampshire': 'NH',\n",
    "        'New Jersey': 'NJ',\n",
    "        'New Mexico': 'NM',\n",
    "        'New York': 'NY',\n",
    "        'North Carolina': 'NC',\n",
    "        'North Dakota': 'ND',\n",
    "        'Ohio': 'OH',\n",
    "        'Oklahoma': 'OK',\n",
    "        'Oregon': 'OR',\n",
    "        'Pennsylvania': 'PA',\n",
    "        'Rhode Island': 'RI',\n",
    "        'South Carolina': 'SC',\n",
    "        'South Dakota': 'SD',\n",
    "        'Tennessee': 'TN',\n",
    "        'Texas': 'TX',\n",
    "        'Utah': 'UT',\n",
    "        'Vermont': 'VT',\n",
    "        'Virginia': 'VA',\n",
    "        'Washington': 'WA',\n",
    "        'West Virginia': 'WV',\n",
    "        'Wisconsin': 'WI',\n",
    "        'Wyoming': 'WY'}"
   ]
  },
  {
   "cell_type": "code",
   "execution_count": 140,
   "metadata": {},
   "outputs": [],
   "source": [
    "popbystate_df['Code'] = popbystate_df['State'].map(code)"
   ]
  },
  {
   "cell_type": "code",
   "execution_count": 142,
   "metadata": {},
   "outputs": [
    {
     "data": {
      "application/vnd.plotly.v1+json": {
       "config": {
        "plotlyServerURL": "https://plot.ly"
       },
       "data": [
        {
         "coloraxis": "coloraxis",
         "geo": "geo",
         "hovertemplate": "<b>%{hovertext}</b><br><br>Code=%{location}<br>2021 Population=%{z}<extra></extra>",
         "hovertext": [
          "California",
          "Texas",
          "Florida",
          "New York",
          "Pennsylvania",
          "Illinois",
          "Ohio",
          "Georgia",
          "North Carolina",
          "Michigan",
          "New Jersey",
          "Virginia",
          "Washington",
          "Arizona",
          "Tennessee",
          "Massachusetts",
          "Indiana",
          "Missouri",
          "Maryland",
          "Colorado",
          "Wisconsin",
          "Minnesota",
          "South Carolina",
          "Alabama",
          "Louisiana",
          "Kentucky",
          "Oregon",
          "Oklahoma",
          "Connecticut",
          "Utah",
          "Puerto Rico",
          "Nevada",
          "Iowa",
          "Arkansas",
          "Mississippi",
          "Kansas",
          "New Mexico",
          "Nebraska",
          "Idaho",
          "West Virginia",
          "Hawaii",
          "New Hampshire",
          "Maine",
          "Montana",
          "Rhode Island",
          "Delaware",
          "South Dakota",
          "North Dakota",
          "Alaska",
          "District of Columbia",
          "Vermont",
          "Wyoming"
         ],
         "locationmode": "USA-states",
         "locations": [
          "CA",
          "TX",
          "FL",
          "NY",
          "PA",
          "IL",
          "OH",
          "GA",
          "NC",
          "MI",
          "NJ",
          "VA",
          "WA",
          "AZ",
          "TN",
          "MA",
          "IN",
          "MO",
          "MD",
          "CO",
          "WI",
          "MN",
          "SC",
          "AL",
          "LA",
          "KY",
          "OR",
          "OK",
          "CT",
          "UT",
          null,
          "NV",
          "IA",
          "AR",
          "MS",
          "KS",
          "NM",
          "NE",
          "ID",
          "WV",
          "HI",
          "NH",
          "ME",
          "MT",
          "RI",
          "DE",
          "SD",
          "ND",
          "AK",
          "DC",
          "VT",
          "WY"
         ],
         "name": "",
         "type": "choropleth",
         "z": [
          39613493,
          29730311,
          21944577,
          19299981,
          12804123,
          12569321,
          11714618,
          10830007,
          10701022,
          9992427,
          8874520,
          8603985,
          7796941,
          7520103,
          6944260,
          6912239,
          6805663,
          6169038,
          6065436,
          5893634,
          5852490,
          5706398,
          5277830,
          4934193,
          4627002,
          4480713,
          4289439,
          3990443,
          3552821,
          3310774,
          3194374,
          3185786,
          3167974,
          3033946,
          2966407,
          2917224,
          2105005,
          1951996,
          1860123,
          1767859,
          1406430,
          1372203,
          1354522,
          1085004,
          1061509,
          990334,
          896581,
          770026,
          724357,
          714153,
          623251,
          581075
         ]
        },
        {
         "locationmode": "USA-states",
         "locations": [
          "CA",
          "TX",
          "FL",
          "NY",
          "PA",
          "IL",
          "OH",
          "GA",
          "NC",
          "MI",
          "NJ",
          "VA",
          "WA",
          "AZ",
          "TN",
          "MA",
          "IN",
          "MO",
          "MD",
          "CO",
          "WI",
          "MN",
          "SC",
          "AL",
          "LA",
          "KY",
          "OR",
          "OK",
          "CT",
          "UT",
          null,
          "NV",
          "IA",
          "AR",
          "MS",
          "KS",
          "NM",
          "NE",
          "ID",
          "WV",
          "HI",
          "NH",
          "ME",
          "MT",
          "RI",
          "DE",
          "SD",
          "ND",
          "AK",
          "DC",
          "VT",
          "WY"
         ],
         "mode": "text",
         "text": [
          "CA",
          "TX",
          "FL",
          "NY",
          "PA",
          "IL",
          "OH",
          "GA",
          "NC",
          "MI",
          "NJ",
          "VA",
          "WA",
          "AZ",
          "TN",
          "MA",
          "IN",
          "MO",
          "MD",
          "CO",
          "WI",
          "MN",
          "SC",
          "AL",
          "LA",
          "KY",
          "OR",
          "OK",
          "CT",
          "UT",
          "nan",
          "NV",
          "IA",
          "AR",
          "MS",
          "KS",
          "NM",
          "NE",
          "ID",
          "WV",
          "HI",
          "NH",
          "ME",
          "MT",
          "RI",
          "DE",
          "SD",
          "ND",
          "AK",
          "DC",
          "VT",
          "WY"
         ],
         "type": "scattergeo"
        }
       ],
       "layout": {
        "coloraxis": {
         "colorbar": {
          "title": {
           "text": "2021 Population"
          }
         },
         "colorscale": [
          [
           0,
           "rgb(247,251,255)"
          ],
          [
           0.125,
           "rgb(222,235,247)"
          ],
          [
           0.25,
           "rgb(198,219,239)"
          ],
          [
           0.375,
           "rgb(158,202,225)"
          ],
          [
           0.5,
           "rgb(107,174,214)"
          ],
          [
           0.625,
           "rgb(66,146,198)"
          ],
          [
           0.75,
           "rgb(33,113,181)"
          ],
          [
           0.875,
           "rgb(8,81,156)"
          ],
          [
           1,
           "rgb(8,48,107)"
          ]
         ]
        },
        "geo": {
         "center": {},
         "domain": {
          "x": [
           0,
           1
          ],
          "y": [
           0,
           1
          ]
         },
         "scope": "usa"
        },
        "legend": {
         "tracegroupgap": 0
        },
        "margin": {
         "t": 60
        },
        "template": {
         "data": {
          "bar": [
           {
            "error_x": {
             "color": "#2a3f5f"
            },
            "error_y": {
             "color": "#2a3f5f"
            },
            "marker": {
             "line": {
              "color": "#E5ECF6",
              "width": 0.5
             },
             "pattern": {
              "fillmode": "overlay",
              "size": 10,
              "solidity": 0.2
             }
            },
            "type": "bar"
           }
          ],
          "barpolar": [
           {
            "marker": {
             "line": {
              "color": "#E5ECF6",
              "width": 0.5
             },
             "pattern": {
              "fillmode": "overlay",
              "size": 10,
              "solidity": 0.2
             }
            },
            "type": "barpolar"
           }
          ],
          "carpet": [
           {
            "aaxis": {
             "endlinecolor": "#2a3f5f",
             "gridcolor": "white",
             "linecolor": "white",
             "minorgridcolor": "white",
             "startlinecolor": "#2a3f5f"
            },
            "baxis": {
             "endlinecolor": "#2a3f5f",
             "gridcolor": "white",
             "linecolor": "white",
             "minorgridcolor": "white",
             "startlinecolor": "#2a3f5f"
            },
            "type": "carpet"
           }
          ],
          "choropleth": [
           {
            "colorbar": {
             "outlinewidth": 0,
             "ticks": ""
            },
            "type": "choropleth"
           }
          ],
          "contour": [
           {
            "colorbar": {
             "outlinewidth": 0,
             "ticks": ""
            },
            "colorscale": [
             [
              0,
              "#0d0887"
             ],
             [
              0.1111111111111111,
              "#46039f"
             ],
             [
              0.2222222222222222,
              "#7201a8"
             ],
             [
              0.3333333333333333,
              "#9c179e"
             ],
             [
              0.4444444444444444,
              "#bd3786"
             ],
             [
              0.5555555555555556,
              "#d8576b"
             ],
             [
              0.6666666666666666,
              "#ed7953"
             ],
             [
              0.7777777777777778,
              "#fb9f3a"
             ],
             [
              0.8888888888888888,
              "#fdca26"
             ],
             [
              1,
              "#f0f921"
             ]
            ],
            "type": "contour"
           }
          ],
          "contourcarpet": [
           {
            "colorbar": {
             "outlinewidth": 0,
             "ticks": ""
            },
            "type": "contourcarpet"
           }
          ],
          "heatmap": [
           {
            "colorbar": {
             "outlinewidth": 0,
             "ticks": ""
            },
            "colorscale": [
             [
              0,
              "#0d0887"
             ],
             [
              0.1111111111111111,
              "#46039f"
             ],
             [
              0.2222222222222222,
              "#7201a8"
             ],
             [
              0.3333333333333333,
              "#9c179e"
             ],
             [
              0.4444444444444444,
              "#bd3786"
             ],
             [
              0.5555555555555556,
              "#d8576b"
             ],
             [
              0.6666666666666666,
              "#ed7953"
             ],
             [
              0.7777777777777778,
              "#fb9f3a"
             ],
             [
              0.8888888888888888,
              "#fdca26"
             ],
             [
              1,
              "#f0f921"
             ]
            ],
            "type": "heatmap"
           }
          ],
          "heatmapgl": [
           {
            "colorbar": {
             "outlinewidth": 0,
             "ticks": ""
            },
            "colorscale": [
             [
              0,
              "#0d0887"
             ],
             [
              0.1111111111111111,
              "#46039f"
             ],
             [
              0.2222222222222222,
              "#7201a8"
             ],
             [
              0.3333333333333333,
              "#9c179e"
             ],
             [
              0.4444444444444444,
              "#bd3786"
             ],
             [
              0.5555555555555556,
              "#d8576b"
             ],
             [
              0.6666666666666666,
              "#ed7953"
             ],
             [
              0.7777777777777778,
              "#fb9f3a"
             ],
             [
              0.8888888888888888,
              "#fdca26"
             ],
             [
              1,
              "#f0f921"
             ]
            ],
            "type": "heatmapgl"
           }
          ],
          "histogram": [
           {
            "marker": {
             "pattern": {
              "fillmode": "overlay",
              "size": 10,
              "solidity": 0.2
             }
            },
            "type": "histogram"
           }
          ],
          "histogram2d": [
           {
            "colorbar": {
             "outlinewidth": 0,
             "ticks": ""
            },
            "colorscale": [
             [
              0,
              "#0d0887"
             ],
             [
              0.1111111111111111,
              "#46039f"
             ],
             [
              0.2222222222222222,
              "#7201a8"
             ],
             [
              0.3333333333333333,
              "#9c179e"
             ],
             [
              0.4444444444444444,
              "#bd3786"
             ],
             [
              0.5555555555555556,
              "#d8576b"
             ],
             [
              0.6666666666666666,
              "#ed7953"
             ],
             [
              0.7777777777777778,
              "#fb9f3a"
             ],
             [
              0.8888888888888888,
              "#fdca26"
             ],
             [
              1,
              "#f0f921"
             ]
            ],
            "type": "histogram2d"
           }
          ],
          "histogram2dcontour": [
           {
            "colorbar": {
             "outlinewidth": 0,
             "ticks": ""
            },
            "colorscale": [
             [
              0,
              "#0d0887"
             ],
             [
              0.1111111111111111,
              "#46039f"
             ],
             [
              0.2222222222222222,
              "#7201a8"
             ],
             [
              0.3333333333333333,
              "#9c179e"
             ],
             [
              0.4444444444444444,
              "#bd3786"
             ],
             [
              0.5555555555555556,
              "#d8576b"
             ],
             [
              0.6666666666666666,
              "#ed7953"
             ],
             [
              0.7777777777777778,
              "#fb9f3a"
             ],
             [
              0.8888888888888888,
              "#fdca26"
             ],
             [
              1,
              "#f0f921"
             ]
            ],
            "type": "histogram2dcontour"
           }
          ],
          "mesh3d": [
           {
            "colorbar": {
             "outlinewidth": 0,
             "ticks": ""
            },
            "type": "mesh3d"
           }
          ],
          "parcoords": [
           {
            "line": {
             "colorbar": {
              "outlinewidth": 0,
              "ticks": ""
             }
            },
            "type": "parcoords"
           }
          ],
          "pie": [
           {
            "automargin": true,
            "type": "pie"
           }
          ],
          "scatter": [
           {
            "marker": {
             "colorbar": {
              "outlinewidth": 0,
              "ticks": ""
             }
            },
            "type": "scatter"
           }
          ],
          "scatter3d": [
           {
            "line": {
             "colorbar": {
              "outlinewidth": 0,
              "ticks": ""
             }
            },
            "marker": {
             "colorbar": {
              "outlinewidth": 0,
              "ticks": ""
             }
            },
            "type": "scatter3d"
           }
          ],
          "scattercarpet": [
           {
            "marker": {
             "colorbar": {
              "outlinewidth": 0,
              "ticks": ""
             }
            },
            "type": "scattercarpet"
           }
          ],
          "scattergeo": [
           {
            "marker": {
             "colorbar": {
              "outlinewidth": 0,
              "ticks": ""
             }
            },
            "type": "scattergeo"
           }
          ],
          "scattergl": [
           {
            "marker": {
             "colorbar": {
              "outlinewidth": 0,
              "ticks": ""
             }
            },
            "type": "scattergl"
           }
          ],
          "scattermapbox": [
           {
            "marker": {
             "colorbar": {
              "outlinewidth": 0,
              "ticks": ""
             }
            },
            "type": "scattermapbox"
           }
          ],
          "scatterpolar": [
           {
            "marker": {
             "colorbar": {
              "outlinewidth": 0,
              "ticks": ""
             }
            },
            "type": "scatterpolar"
           }
          ],
          "scatterpolargl": [
           {
            "marker": {
             "colorbar": {
              "outlinewidth": 0,
              "ticks": ""
             }
            },
            "type": "scatterpolargl"
           }
          ],
          "scatterternary": [
           {
            "marker": {
             "colorbar": {
              "outlinewidth": 0,
              "ticks": ""
             }
            },
            "type": "scatterternary"
           }
          ],
          "surface": [
           {
            "colorbar": {
             "outlinewidth": 0,
             "ticks": ""
            },
            "colorscale": [
             [
              0,
              "#0d0887"
             ],
             [
              0.1111111111111111,
              "#46039f"
             ],
             [
              0.2222222222222222,
              "#7201a8"
             ],
             [
              0.3333333333333333,
              "#9c179e"
             ],
             [
              0.4444444444444444,
              "#bd3786"
             ],
             [
              0.5555555555555556,
              "#d8576b"
             ],
             [
              0.6666666666666666,
              "#ed7953"
             ],
             [
              0.7777777777777778,
              "#fb9f3a"
             ],
             [
              0.8888888888888888,
              "#fdca26"
             ],
             [
              1,
              "#f0f921"
             ]
            ],
            "type": "surface"
           }
          ],
          "table": [
           {
            "cells": {
             "fill": {
              "color": "#EBF0F8"
             },
             "line": {
              "color": "white"
             }
            },
            "header": {
             "fill": {
              "color": "#C8D4E3"
             },
             "line": {
              "color": "white"
             }
            },
            "type": "table"
           }
          ]
         },
         "layout": {
          "annotationdefaults": {
           "arrowcolor": "#2a3f5f",
           "arrowhead": 0,
           "arrowwidth": 1
          },
          "autotypenumbers": "strict",
          "coloraxis": {
           "colorbar": {
            "outlinewidth": 0,
            "ticks": ""
           }
          },
          "colorscale": {
           "diverging": [
            [
             0,
             "#8e0152"
            ],
            [
             0.1,
             "#c51b7d"
            ],
            [
             0.2,
             "#de77ae"
            ],
            [
             0.3,
             "#f1b6da"
            ],
            [
             0.4,
             "#fde0ef"
            ],
            [
             0.5,
             "#f7f7f7"
            ],
            [
             0.6,
             "#e6f5d0"
            ],
            [
             0.7,
             "#b8e186"
            ],
            [
             0.8,
             "#7fbc41"
            ],
            [
             0.9,
             "#4d9221"
            ],
            [
             1,
             "#276419"
            ]
           ],
           "sequential": [
            [
             0,
             "#0d0887"
            ],
            [
             0.1111111111111111,
             "#46039f"
            ],
            [
             0.2222222222222222,
             "#7201a8"
            ],
            [
             0.3333333333333333,
             "#9c179e"
            ],
            [
             0.4444444444444444,
             "#bd3786"
            ],
            [
             0.5555555555555556,
             "#d8576b"
            ],
            [
             0.6666666666666666,
             "#ed7953"
            ],
            [
             0.7777777777777778,
             "#fb9f3a"
            ],
            [
             0.8888888888888888,
             "#fdca26"
            ],
            [
             1,
             "#f0f921"
            ]
           ],
           "sequentialminus": [
            [
             0,
             "#0d0887"
            ],
            [
             0.1111111111111111,
             "#46039f"
            ],
            [
             0.2222222222222222,
             "#7201a8"
            ],
            [
             0.3333333333333333,
             "#9c179e"
            ],
            [
             0.4444444444444444,
             "#bd3786"
            ],
            [
             0.5555555555555556,
             "#d8576b"
            ],
            [
             0.6666666666666666,
             "#ed7953"
            ],
            [
             0.7777777777777778,
             "#fb9f3a"
            ],
            [
             0.8888888888888888,
             "#fdca26"
            ],
            [
             1,
             "#f0f921"
            ]
           ]
          },
          "colorway": [
           "#636efa",
           "#EF553B",
           "#00cc96",
           "#ab63fa",
           "#FFA15A",
           "#19d3f3",
           "#FF6692",
           "#B6E880",
           "#FF97FF",
           "#FECB52"
          ],
          "font": {
           "color": "#2a3f5f"
          },
          "geo": {
           "bgcolor": "white",
           "lakecolor": "white",
           "landcolor": "#E5ECF6",
           "showlakes": true,
           "showland": true,
           "subunitcolor": "white"
          },
          "hoverlabel": {
           "align": "left"
          },
          "hovermode": "closest",
          "mapbox": {
           "style": "light"
          },
          "paper_bgcolor": "white",
          "plot_bgcolor": "#E5ECF6",
          "polar": {
           "angularaxis": {
            "gridcolor": "white",
            "linecolor": "white",
            "ticks": ""
           },
           "bgcolor": "#E5ECF6",
           "radialaxis": {
            "gridcolor": "white",
            "linecolor": "white",
            "ticks": ""
           }
          },
          "scene": {
           "xaxis": {
            "backgroundcolor": "#E5ECF6",
            "gridcolor": "white",
            "gridwidth": 2,
            "linecolor": "white",
            "showbackground": true,
            "ticks": "",
            "zerolinecolor": "white"
           },
           "yaxis": {
            "backgroundcolor": "#E5ECF6",
            "gridcolor": "white",
            "gridwidth": 2,
            "linecolor": "white",
            "showbackground": true,
            "ticks": "",
            "zerolinecolor": "white"
           },
           "zaxis": {
            "backgroundcolor": "#E5ECF6",
            "gridcolor": "white",
            "gridwidth": 2,
            "linecolor": "white",
            "showbackground": true,
            "ticks": "",
            "zerolinecolor": "white"
           }
          },
          "shapedefaults": {
           "line": {
            "color": "#2a3f5f"
           }
          },
          "ternary": {
           "aaxis": {
            "gridcolor": "white",
            "linecolor": "white",
            "ticks": ""
           },
           "baxis": {
            "gridcolor": "white",
            "linecolor": "white",
            "ticks": ""
           },
           "bgcolor": "#E5ECF6",
           "caxis": {
            "gridcolor": "white",
            "linecolor": "white",
            "ticks": ""
           }
          },
          "title": {
           "x": 0.05
          },
          "xaxis": {
           "automargin": true,
           "gridcolor": "white",
           "linecolor": "white",
           "ticks": "",
           "title": {
            "standoff": 15
           },
           "zerolinecolor": "white",
           "zerolinewidth": 2
          },
          "yaxis": {
           "automargin": true,
           "gridcolor": "white",
           "linecolor": "white",
           "ticks": "",
           "title": {
            "standoff": 15
           },
           "zerolinecolor": "white",
           "zerolinewidth": 2
          }
         }
        },
        "title": {
         "text": "United States Population Distribution",
         "x": 0.5,
         "xanchor": "center",
         "yanchor": "top"
        }
       }
      },
      "text/html": [
       "<div>                            <div id=\"9b0fa447-f2ce-4451-9336-5582d5de6d53\" class=\"plotly-graph-div\" style=\"height:525px; width:100%;\"></div>            <script type=\"text/javascript\">                require([\"plotly\"], function(Plotly) {                    window.PLOTLYENV=window.PLOTLYENV || {};                                    if (document.getElementById(\"9b0fa447-f2ce-4451-9336-5582d5de6d53\")) {                    Plotly.newPlot(                        \"9b0fa447-f2ce-4451-9336-5582d5de6d53\",                        [{\"coloraxis\":\"coloraxis\",\"geo\":\"geo\",\"hovertemplate\":\"<b>%{hovertext}</b><br><br>Code=%{location}<br>2021 Population=%{z}<extra></extra>\",\"hovertext\":[\"California\",\"Texas\",\"Florida\",\"New York\",\"Pennsylvania\",\"Illinois\",\"Ohio\",\"Georgia\",\"North Carolina\",\"Michigan\",\"New Jersey\",\"Virginia\",\"Washington\",\"Arizona\",\"Tennessee\",\"Massachusetts\",\"Indiana\",\"Missouri\",\"Maryland\",\"Colorado\",\"Wisconsin\",\"Minnesota\",\"South Carolina\",\"Alabama\",\"Louisiana\",\"Kentucky\",\"Oregon\",\"Oklahoma\",\"Connecticut\",\"Utah\",\"Puerto Rico\",\"Nevada\",\"Iowa\",\"Arkansas\",\"Mississippi\",\"Kansas\",\"New Mexico\",\"Nebraska\",\"Idaho\",\"West Virginia\",\"Hawaii\",\"New Hampshire\",\"Maine\",\"Montana\",\"Rhode Island\",\"Delaware\",\"South Dakota\",\"North Dakota\",\"Alaska\",\"District of Columbia\",\"Vermont\",\"Wyoming\"],\"locationmode\":\"USA-states\",\"locations\":[\"CA\",\"TX\",\"FL\",\"NY\",\"PA\",\"IL\",\"OH\",\"GA\",\"NC\",\"MI\",\"NJ\",\"VA\",\"WA\",\"AZ\",\"TN\",\"MA\",\"IN\",\"MO\",\"MD\",\"CO\",\"WI\",\"MN\",\"SC\",\"AL\",\"LA\",\"KY\",\"OR\",\"OK\",\"CT\",\"UT\",null,\"NV\",\"IA\",\"AR\",\"MS\",\"KS\",\"NM\",\"NE\",\"ID\",\"WV\",\"HI\",\"NH\",\"ME\",\"MT\",\"RI\",\"DE\",\"SD\",\"ND\",\"AK\",\"DC\",\"VT\",\"WY\"],\"name\":\"\",\"type\":\"choropleth\",\"z\":[39613493,29730311,21944577,19299981,12804123,12569321,11714618,10830007,10701022,9992427,8874520,8603985,7796941,7520103,6944260,6912239,6805663,6169038,6065436,5893634,5852490,5706398,5277830,4934193,4627002,4480713,4289439,3990443,3552821,3310774,3194374,3185786,3167974,3033946,2966407,2917224,2105005,1951996,1860123,1767859,1406430,1372203,1354522,1085004,1061509,990334,896581,770026,724357,714153,623251,581075]},{\"locationmode\":\"USA-states\",\"locations\":[\"CA\",\"TX\",\"FL\",\"NY\",\"PA\",\"IL\",\"OH\",\"GA\",\"NC\",\"MI\",\"NJ\",\"VA\",\"WA\",\"AZ\",\"TN\",\"MA\",\"IN\",\"MO\",\"MD\",\"CO\",\"WI\",\"MN\",\"SC\",\"AL\",\"LA\",\"KY\",\"OR\",\"OK\",\"CT\",\"UT\",null,\"NV\",\"IA\",\"AR\",\"MS\",\"KS\",\"NM\",\"NE\",\"ID\",\"WV\",\"HI\",\"NH\",\"ME\",\"MT\",\"RI\",\"DE\",\"SD\",\"ND\",\"AK\",\"DC\",\"VT\",\"WY\"],\"mode\":\"text\",\"text\":[\"CA\",\"TX\",\"FL\",\"NY\",\"PA\",\"IL\",\"OH\",\"GA\",\"NC\",\"MI\",\"NJ\",\"VA\",\"WA\",\"AZ\",\"TN\",\"MA\",\"IN\",\"MO\",\"MD\",\"CO\",\"WI\",\"MN\",\"SC\",\"AL\",\"LA\",\"KY\",\"OR\",\"OK\",\"CT\",\"UT\",\"nan\",\"NV\",\"IA\",\"AR\",\"MS\",\"KS\",\"NM\",\"NE\",\"ID\",\"WV\",\"HI\",\"NH\",\"ME\",\"MT\",\"RI\",\"DE\",\"SD\",\"ND\",\"AK\",\"DC\",\"VT\",\"WY\"],\"type\":\"scattergeo\"}],                        {\"coloraxis\":{\"colorbar\":{\"title\":{\"text\":\"2021 Population\"}},\"colorscale\":[[0.0,\"rgb(247,251,255)\"],[0.125,\"rgb(222,235,247)\"],[0.25,\"rgb(198,219,239)\"],[0.375,\"rgb(158,202,225)\"],[0.5,\"rgb(107,174,214)\"],[0.625,\"rgb(66,146,198)\"],[0.75,\"rgb(33,113,181)\"],[0.875,\"rgb(8,81,156)\"],[1.0,\"rgb(8,48,107)\"]]},\"geo\":{\"center\":{},\"domain\":{\"x\":[0.0,1.0],\"y\":[0.0,1.0]},\"scope\":\"usa\"},\"legend\":{\"tracegroupgap\":0},\"margin\":{\"t\":60},\"template\":{\"data\":{\"bar\":[{\"error_x\":{\"color\":\"#2a3f5f\"},\"error_y\":{\"color\":\"#2a3f5f\"},\"marker\":{\"line\":{\"color\":\"#E5ECF6\",\"width\":0.5},\"pattern\":{\"fillmode\":\"overlay\",\"size\":10,\"solidity\":0.2}},\"type\":\"bar\"}],\"barpolar\":[{\"marker\":{\"line\":{\"color\":\"#E5ECF6\",\"width\":0.5},\"pattern\":{\"fillmode\":\"overlay\",\"size\":10,\"solidity\":0.2}},\"type\":\"barpolar\"}],\"carpet\":[{\"aaxis\":{\"endlinecolor\":\"#2a3f5f\",\"gridcolor\":\"white\",\"linecolor\":\"white\",\"minorgridcolor\":\"white\",\"startlinecolor\":\"#2a3f5f\"},\"baxis\":{\"endlinecolor\":\"#2a3f5f\",\"gridcolor\":\"white\",\"linecolor\":\"white\",\"minorgridcolor\":\"white\",\"startlinecolor\":\"#2a3f5f\"},\"type\":\"carpet\"}],\"choropleth\":[{\"colorbar\":{\"outlinewidth\":0,\"ticks\":\"\"},\"type\":\"choropleth\"}],\"contour\":[{\"colorbar\":{\"outlinewidth\":0,\"ticks\":\"\"},\"colorscale\":[[0.0,\"#0d0887\"],[0.1111111111111111,\"#46039f\"],[0.2222222222222222,\"#7201a8\"],[0.3333333333333333,\"#9c179e\"],[0.4444444444444444,\"#bd3786\"],[0.5555555555555556,\"#d8576b\"],[0.6666666666666666,\"#ed7953\"],[0.7777777777777778,\"#fb9f3a\"],[0.8888888888888888,\"#fdca26\"],[1.0,\"#f0f921\"]],\"type\":\"contour\"}],\"contourcarpet\":[{\"colorbar\":{\"outlinewidth\":0,\"ticks\":\"\"},\"type\":\"contourcarpet\"}],\"heatmap\":[{\"colorbar\":{\"outlinewidth\":0,\"ticks\":\"\"},\"colorscale\":[[0.0,\"#0d0887\"],[0.1111111111111111,\"#46039f\"],[0.2222222222222222,\"#7201a8\"],[0.3333333333333333,\"#9c179e\"],[0.4444444444444444,\"#bd3786\"],[0.5555555555555556,\"#d8576b\"],[0.6666666666666666,\"#ed7953\"],[0.7777777777777778,\"#fb9f3a\"],[0.8888888888888888,\"#fdca26\"],[1.0,\"#f0f921\"]],\"type\":\"heatmap\"}],\"heatmapgl\":[{\"colorbar\":{\"outlinewidth\":0,\"ticks\":\"\"},\"colorscale\":[[0.0,\"#0d0887\"],[0.1111111111111111,\"#46039f\"],[0.2222222222222222,\"#7201a8\"],[0.3333333333333333,\"#9c179e\"],[0.4444444444444444,\"#bd3786\"],[0.5555555555555556,\"#d8576b\"],[0.6666666666666666,\"#ed7953\"],[0.7777777777777778,\"#fb9f3a\"],[0.8888888888888888,\"#fdca26\"],[1.0,\"#f0f921\"]],\"type\":\"heatmapgl\"}],\"histogram\":[{\"marker\":{\"pattern\":{\"fillmode\":\"overlay\",\"size\":10,\"solidity\":0.2}},\"type\":\"histogram\"}],\"histogram2d\":[{\"colorbar\":{\"outlinewidth\":0,\"ticks\":\"\"},\"colorscale\":[[0.0,\"#0d0887\"],[0.1111111111111111,\"#46039f\"],[0.2222222222222222,\"#7201a8\"],[0.3333333333333333,\"#9c179e\"],[0.4444444444444444,\"#bd3786\"],[0.5555555555555556,\"#d8576b\"],[0.6666666666666666,\"#ed7953\"],[0.7777777777777778,\"#fb9f3a\"],[0.8888888888888888,\"#fdca26\"],[1.0,\"#f0f921\"]],\"type\":\"histogram2d\"}],\"histogram2dcontour\":[{\"colorbar\":{\"outlinewidth\":0,\"ticks\":\"\"},\"colorscale\":[[0.0,\"#0d0887\"],[0.1111111111111111,\"#46039f\"],[0.2222222222222222,\"#7201a8\"],[0.3333333333333333,\"#9c179e\"],[0.4444444444444444,\"#bd3786\"],[0.5555555555555556,\"#d8576b\"],[0.6666666666666666,\"#ed7953\"],[0.7777777777777778,\"#fb9f3a\"],[0.8888888888888888,\"#fdca26\"],[1.0,\"#f0f921\"]],\"type\":\"histogram2dcontour\"}],\"mesh3d\":[{\"colorbar\":{\"outlinewidth\":0,\"ticks\":\"\"},\"type\":\"mesh3d\"}],\"parcoords\":[{\"line\":{\"colorbar\":{\"outlinewidth\":0,\"ticks\":\"\"}},\"type\":\"parcoords\"}],\"pie\":[{\"automargin\":true,\"type\":\"pie\"}],\"scatter\":[{\"marker\":{\"colorbar\":{\"outlinewidth\":0,\"ticks\":\"\"}},\"type\":\"scatter\"}],\"scatter3d\":[{\"line\":{\"colorbar\":{\"outlinewidth\":0,\"ticks\":\"\"}},\"marker\":{\"colorbar\":{\"outlinewidth\":0,\"ticks\":\"\"}},\"type\":\"scatter3d\"}],\"scattercarpet\":[{\"marker\":{\"colorbar\":{\"outlinewidth\":0,\"ticks\":\"\"}},\"type\":\"scattercarpet\"}],\"scattergeo\":[{\"marker\":{\"colorbar\":{\"outlinewidth\":0,\"ticks\":\"\"}},\"type\":\"scattergeo\"}],\"scattergl\":[{\"marker\":{\"colorbar\":{\"outlinewidth\":0,\"ticks\":\"\"}},\"type\":\"scattergl\"}],\"scattermapbox\":[{\"marker\":{\"colorbar\":{\"outlinewidth\":0,\"ticks\":\"\"}},\"type\":\"scattermapbox\"}],\"scatterpolar\":[{\"marker\":{\"colorbar\":{\"outlinewidth\":0,\"ticks\":\"\"}},\"type\":\"scatterpolar\"}],\"scatterpolargl\":[{\"marker\":{\"colorbar\":{\"outlinewidth\":0,\"ticks\":\"\"}},\"type\":\"scatterpolargl\"}],\"scatterternary\":[{\"marker\":{\"colorbar\":{\"outlinewidth\":0,\"ticks\":\"\"}},\"type\":\"scatterternary\"}],\"surface\":[{\"colorbar\":{\"outlinewidth\":0,\"ticks\":\"\"},\"colorscale\":[[0.0,\"#0d0887\"],[0.1111111111111111,\"#46039f\"],[0.2222222222222222,\"#7201a8\"],[0.3333333333333333,\"#9c179e\"],[0.4444444444444444,\"#bd3786\"],[0.5555555555555556,\"#d8576b\"],[0.6666666666666666,\"#ed7953\"],[0.7777777777777778,\"#fb9f3a\"],[0.8888888888888888,\"#fdca26\"],[1.0,\"#f0f921\"]],\"type\":\"surface\"}],\"table\":[{\"cells\":{\"fill\":{\"color\":\"#EBF0F8\"},\"line\":{\"color\":\"white\"}},\"header\":{\"fill\":{\"color\":\"#C8D4E3\"},\"line\":{\"color\":\"white\"}},\"type\":\"table\"}]},\"layout\":{\"annotationdefaults\":{\"arrowcolor\":\"#2a3f5f\",\"arrowhead\":0,\"arrowwidth\":1},\"autotypenumbers\":\"strict\",\"coloraxis\":{\"colorbar\":{\"outlinewidth\":0,\"ticks\":\"\"}},\"colorscale\":{\"diverging\":[[0,\"#8e0152\"],[0.1,\"#c51b7d\"],[0.2,\"#de77ae\"],[0.3,\"#f1b6da\"],[0.4,\"#fde0ef\"],[0.5,\"#f7f7f7\"],[0.6,\"#e6f5d0\"],[0.7,\"#b8e186\"],[0.8,\"#7fbc41\"],[0.9,\"#4d9221\"],[1,\"#276419\"]],\"sequential\":[[0.0,\"#0d0887\"],[0.1111111111111111,\"#46039f\"],[0.2222222222222222,\"#7201a8\"],[0.3333333333333333,\"#9c179e\"],[0.4444444444444444,\"#bd3786\"],[0.5555555555555556,\"#d8576b\"],[0.6666666666666666,\"#ed7953\"],[0.7777777777777778,\"#fb9f3a\"],[0.8888888888888888,\"#fdca26\"],[1.0,\"#f0f921\"]],\"sequentialminus\":[[0.0,\"#0d0887\"],[0.1111111111111111,\"#46039f\"],[0.2222222222222222,\"#7201a8\"],[0.3333333333333333,\"#9c179e\"],[0.4444444444444444,\"#bd3786\"],[0.5555555555555556,\"#d8576b\"],[0.6666666666666666,\"#ed7953\"],[0.7777777777777778,\"#fb9f3a\"],[0.8888888888888888,\"#fdca26\"],[1.0,\"#f0f921\"]]},\"colorway\":[\"#636efa\",\"#EF553B\",\"#00cc96\",\"#ab63fa\",\"#FFA15A\",\"#19d3f3\",\"#FF6692\",\"#B6E880\",\"#FF97FF\",\"#FECB52\"],\"font\":{\"color\":\"#2a3f5f\"},\"geo\":{\"bgcolor\":\"white\",\"lakecolor\":\"white\",\"landcolor\":\"#E5ECF6\",\"showlakes\":true,\"showland\":true,\"subunitcolor\":\"white\"},\"hoverlabel\":{\"align\":\"left\"},\"hovermode\":\"closest\",\"mapbox\":{\"style\":\"light\"},\"paper_bgcolor\":\"white\",\"plot_bgcolor\":\"#E5ECF6\",\"polar\":{\"angularaxis\":{\"gridcolor\":\"white\",\"linecolor\":\"white\",\"ticks\":\"\"},\"bgcolor\":\"#E5ECF6\",\"radialaxis\":{\"gridcolor\":\"white\",\"linecolor\":\"white\",\"ticks\":\"\"}},\"scene\":{\"xaxis\":{\"backgroundcolor\":\"#E5ECF6\",\"gridcolor\":\"white\",\"gridwidth\":2,\"linecolor\":\"white\",\"showbackground\":true,\"ticks\":\"\",\"zerolinecolor\":\"white\"},\"yaxis\":{\"backgroundcolor\":\"#E5ECF6\",\"gridcolor\":\"white\",\"gridwidth\":2,\"linecolor\":\"white\",\"showbackground\":true,\"ticks\":\"\",\"zerolinecolor\":\"white\"},\"zaxis\":{\"backgroundcolor\":\"#E5ECF6\",\"gridcolor\":\"white\",\"gridwidth\":2,\"linecolor\":\"white\",\"showbackground\":true,\"ticks\":\"\",\"zerolinecolor\":\"white\"}},\"shapedefaults\":{\"line\":{\"color\":\"#2a3f5f\"}},\"ternary\":{\"aaxis\":{\"gridcolor\":\"white\",\"linecolor\":\"white\",\"ticks\":\"\"},\"baxis\":{\"gridcolor\":\"white\",\"linecolor\":\"white\",\"ticks\":\"\"},\"bgcolor\":\"#E5ECF6\",\"caxis\":{\"gridcolor\":\"white\",\"linecolor\":\"white\",\"ticks\":\"\"}},\"title\":{\"x\":0.05},\"xaxis\":{\"automargin\":true,\"gridcolor\":\"white\",\"linecolor\":\"white\",\"ticks\":\"\",\"title\":{\"standoff\":15},\"zerolinecolor\":\"white\",\"zerolinewidth\":2},\"yaxis\":{\"automargin\":true,\"gridcolor\":\"white\",\"linecolor\":\"white\",\"ticks\":\"\",\"title\":{\"standoff\":15},\"zerolinecolor\":\"white\",\"zerolinewidth\":2}}},\"title\":{\"text\":\"United States Population Distribution\",\"x\":0.5,\"xanchor\":\"center\",\"yanchor\":\"top\"}},                        {\"responsive\": true}                    ).then(function(){\n",
       "                            \n",
       "var gd = document.getElementById('9b0fa447-f2ce-4451-9336-5582d5de6d53');\n",
       "var x = new MutationObserver(function (mutations, observer) {{\n",
       "        var display = window.getComputedStyle(gd).display;\n",
       "        if (!display || display === 'none') {{\n",
       "            console.log([gd, 'removed!']);\n",
       "            Plotly.purge(gd);\n",
       "            observer.disconnect();\n",
       "        }}\n",
       "}});\n",
       "\n",
       "// Listen for the removal of the full notebook cells\n",
       "var notebookContainer = gd.closest('#notebook-container');\n",
       "if (notebookContainer) {{\n",
       "    x.observe(notebookContainer, {childList: true});\n",
       "}}\n",
       "\n",
       "// Listen for the clearing of the current output cell\n",
       "var outputEl = gd.closest('.output');\n",
       "if (outputEl) {{\n",
       "    x.observe(outputEl, {childList: true});\n",
       "}}\n",
       "\n",
       "                        })                };                });            </script>        </div>"
      ]
     },
     "metadata": {},
     "output_type": "display_data"
    }
   ],
   "source": [
    "fig = px.choropleth(popbystate_df,\n",
    "                    locations='Code', # DataFrame column with locations\n",
    "                    color='2021 Population', # DataFrame column with color values\n",
    "                    color_continuous_scale='blues',\n",
    "                    hover_name='State',  # DataFrame column hover info\n",
    "                    locationmode='USA-states',  # Set to plot as US States\n",
    "                    labels={'2021 Population':'2021 Population'},\n",
    "                    scope='usa') # Plot only the USA \n",
    "\n",
    "# Using add_scattergeo to add text labels to each state \n",
    "fig.add_scattergeo(locations=popbystate_df['Code'],\n",
    "                   locationmode='USA-states',\n",
    "                   text=popbystate_df['Code'],\n",
    "                   mode='text'\n",
    "                  )\n",
    "fig.update_layout(\n",
    "    title={'text':'United States Population Distribution',\n",
    "           'xanchor':'center',\n",
    "           'yanchor':'top',\n",
    "           'x':0.5})"
   ]
  },
  {
   "cell_type": "markdown",
   "metadata": {},
   "source": [
    "Darker areas in the above map indicate highly populated states, while lighter areas indicate less populated states.\n",
    "\n",
    "This is an interactive map so we can move it, zoom, and get hover annotations based on what we input to the hover_name option."
   ]
  },
  {
   "cell_type": "markdown",
   "metadata": {},
   "source": [
    "# IPyWidgets"
   ]
  },
  {
   "cell_type": "markdown",
   "metadata": {},
   "source": [
    "Using ipy widgets to create Dropdown widget to create a bar graph as the user wants it."
   ]
  },
  {
   "cell_type": "markdown",
   "metadata": {},
   "source": [
    "We have put the column names into a list and using this list to populate a Dropdown widget.we have created the widgets - one for the x axis and one for the y axis."
   ]
  },
  {
   "cell_type": "code",
   "execution_count": 143,
   "metadata": {},
   "outputs": [
    {
     "data": {
      "text/plain": [
       "['Rank',\n",
       " 'State',\n",
       " '2021 Population',\n",
       " 'Growth 2021',\n",
       " '2018 Population',\n",
       " '2010 Census',\n",
       " 'Growth_cat2021',\n",
       " 'Growth Since 2010',\n",
       " '% of US',\n",
       " 'Density (mi²)',\n",
       " 'Code',\n",
       " 'White',\n",
       " 'Black',\n",
       " 'Indian',\n",
       " 'Asian',\n",
       " 'Hawaiian',\n",
       " 'Other',\n",
       " 'Growth_2018',\n",
       " 'Compare']"
      ]
     },
     "execution_count": 143,
     "metadata": {},
     "output_type": "execute_result"
    }
   ],
   "source": [
    "data_cols = df.columns.to_list()\n",
    "data_cols"
   ]
  },
  {
   "cell_type": "code",
   "execution_count": 144,
   "metadata": {},
   "outputs": [],
   "source": [
    "pick_col_x = widgets.Dropdown(\n",
    "    options=data_cols,\n",
    "    description='X variable',\n",
    ")"
   ]
  },
  {
   "cell_type": "code",
   "execution_count": 145,
   "metadata": {},
   "outputs": [],
   "source": [
    "pick_col_y = widgets.Dropdown(\n",
    "    options=data_cols,\n",
    "    description='Y variable',\n",
    ")"
   ]
  },
  {
   "cell_type": "code",
   "execution_count": 146,
   "metadata": {},
   "outputs": [],
   "source": [
    "def create_bar(col_1, col_2):\n",
    "    \n",
    "    fig = px.bar(df, x=col_1, y=col_2)\n",
    "    fig.show()"
   ]
  },
  {
   "cell_type": "code",
   "execution_count": 147,
   "metadata": {},
   "outputs": [
    {
     "data": {
      "application/vnd.jupyter.widget-view+json": {
       "model_id": "9d223aa12fea48d386ffcfad32c3f8ac",
       "version_major": 2,
       "version_minor": 0
      },
      "text/plain": [
       "interactive(children=(Dropdown(description='X variable', options=('Rank', 'State', '2021 Population', 'Growth …"
      ]
     },
     "metadata": {},
     "output_type": "display_data"
    }
   ],
   "source": [
    "widgets.interact(create_bar, col_1=pick_col_x, col_2=pick_col_y);"
   ]
  },
  {
   "cell_type": "markdown",
   "metadata": {},
   "source": [
    "** Summary : If we choose X Variable Growth 2021 and Y variable State, We can see there are some states like Alaska, vermont, Hawaii, West virginia, Mississipi, Connecticut, Louisiana, New Jersey, illionis and Newyork and negative growth in popultaion. While Idhao, Nevada, Utah, Arizona and texas has highest growth in population. Similar Way we can change the variables and find the realtionship between two variables.\n"
   ]
  },
  {
   "cell_type": "code",
   "execution_count": 148,
   "metadata": {},
   "outputs": [
    {
     "data": {
      "text/html": [
       "<div>\n",
       "<style scoped>\n",
       "    .dataframe tbody tr th:only-of-type {\n",
       "        vertical-align: middle;\n",
       "    }\n",
       "\n",
       "    .dataframe tbody tr th {\n",
       "        vertical-align: top;\n",
       "    }\n",
       "\n",
       "    .dataframe thead th {\n",
       "        text-align: right;\n",
       "    }\n",
       "</style>\n",
       "<table border=\"1\" class=\"dataframe\">\n",
       "  <thead>\n",
       "    <tr style=\"text-align: right;\">\n",
       "      <th></th>\n",
       "      <th>Rank</th>\n",
       "      <th>State</th>\n",
       "      <th>2021 Population</th>\n",
       "      <th>Growth 2021</th>\n",
       "      <th>2018 Population</th>\n",
       "      <th>2010 Census</th>\n",
       "      <th>Growth_cat2021</th>\n",
       "      <th>Growth Since 2010</th>\n",
       "      <th>% of US</th>\n",
       "      <th>Density (mi²)</th>\n",
       "      <th>Code</th>\n",
       "      <th>White</th>\n",
       "      <th>Black</th>\n",
       "      <th>Indian</th>\n",
       "      <th>Asian</th>\n",
       "      <th>Hawaiian</th>\n",
       "      <th>Other</th>\n",
       "      <th>Growth_2018</th>\n",
       "      <th>Compare</th>\n",
       "    </tr>\n",
       "  </thead>\n",
       "  <tbody>\n",
       "    <tr>\n",
       "      <th>38</th>\n",
       "      <td>39</td>\n",
       "      <td>Idaho</td>\n",
       "      <td>1860123</td>\n",
       "      <td>6.26</td>\n",
       "      <td>1750536</td>\n",
       "      <td>1570746</td>\n",
       "      <td>good</td>\n",
       "      <td>18.42</td>\n",
       "      <td>0.56</td>\n",
       "      <td>23</td>\n",
       "      <td>ID</td>\n",
       "      <td>89.97</td>\n",
       "      <td>0.69</td>\n",
       "      <td>1.35</td>\n",
       "      <td>1.41</td>\n",
       "      <td>0.16</td>\n",
       "      <td>6.42</td>\n",
       "      <td>0.114462</td>\n",
       "      <td>2010</td>\n",
       "    </tr>\n",
       "    <tr>\n",
       "      <th>31</th>\n",
       "      <td>32</td>\n",
       "      <td>Nevada</td>\n",
       "      <td>3185786</td>\n",
       "      <td>5.23</td>\n",
       "      <td>3027341</td>\n",
       "      <td>2702405</td>\n",
       "      <td>good</td>\n",
       "      <td>17.89</td>\n",
       "      <td>0.95</td>\n",
       "      <td>29</td>\n",
       "      <td>NV</td>\n",
       "      <td>65.59</td>\n",
       "      <td>9.12</td>\n",
       "      <td>1.28</td>\n",
       "      <td>8.15</td>\n",
       "      <td>0.67</td>\n",
       "      <td>15.18</td>\n",
       "      <td>0.120240</td>\n",
       "      <td>2010</td>\n",
       "    </tr>\n",
       "    <tr>\n",
       "      <th>13</th>\n",
       "      <td>14</td>\n",
       "      <td>Arizona</td>\n",
       "      <td>7520103</td>\n",
       "      <td>5.06</td>\n",
       "      <td>7158024</td>\n",
       "      <td>6407172</td>\n",
       "      <td>good</td>\n",
       "      <td>17.37</td>\n",
       "      <td>2.25</td>\n",
       "      <td>66</td>\n",
       "      <td>AZ</td>\n",
       "      <td>77.22</td>\n",
       "      <td>4.50</td>\n",
       "      <td>4.50</td>\n",
       "      <td>3.31</td>\n",
       "      <td>0.21</td>\n",
       "      <td>10.26</td>\n",
       "      <td>0.117189</td>\n",
       "      <td>2010</td>\n",
       "    </tr>\n",
       "    <tr>\n",
       "      <th>29</th>\n",
       "      <td>30</td>\n",
       "      <td>Utah</td>\n",
       "      <td>3310774</td>\n",
       "      <td>4.99</td>\n",
       "      <td>3153550</td>\n",
       "      <td>2775332</td>\n",
       "      <td>average</td>\n",
       "      <td>19.29</td>\n",
       "      <td>0.99</td>\n",
       "      <td>40</td>\n",
       "      <td>UT</td>\n",
       "      <td>86.43</td>\n",
       "      <td>1.19</td>\n",
       "      <td>1.09</td>\n",
       "      <td>2.32</td>\n",
       "      <td>0.89</td>\n",
       "      <td>8.08</td>\n",
       "      <td>0.136278</td>\n",
       "      <td>2010</td>\n",
       "    </tr>\n",
       "    <tr>\n",
       "      <th>1</th>\n",
       "      <td>2</td>\n",
       "      <td>Texas</td>\n",
       "      <td>29730311</td>\n",
       "      <td>3.85</td>\n",
       "      <td>28628666</td>\n",
       "      <td>25241971</td>\n",
       "      <td>average</td>\n",
       "      <td>17.78</td>\n",
       "      <td>8.89</td>\n",
       "      <td>114</td>\n",
       "      <td>TX</td>\n",
       "      <td>73.97</td>\n",
       "      <td>12.13</td>\n",
       "      <td>0.50</td>\n",
       "      <td>4.80</td>\n",
       "      <td>0.09</td>\n",
       "      <td>8.51</td>\n",
       "      <td>0.134169</td>\n",
       "      <td>2010</td>\n",
       "    </tr>\n",
       "  </tbody>\n",
       "</table>\n",
       "</div>"
      ],
      "text/plain": [
       "    Rank    State  2021 Population  Growth 2021  2018 Population  2010 Census  \\\n",
       "38    39    Idaho          1860123         6.26          1750536      1570746   \n",
       "31    32   Nevada          3185786         5.23          3027341      2702405   \n",
       "13    14  Arizona          7520103         5.06          7158024      6407172   \n",
       "29    30     Utah          3310774         4.99          3153550      2775332   \n",
       "1      2    Texas         29730311         3.85         28628666     25241971   \n",
       "\n",
       "   Growth_cat2021  Growth Since 2010  % of US  Density (mi²) Code  White  \\\n",
       "38           good              18.42     0.56             23   ID  89.97   \n",
       "31           good              17.89     0.95             29   NV  65.59   \n",
       "13           good              17.37     2.25             66   AZ  77.22   \n",
       "29        average              19.29     0.99             40   UT  86.43   \n",
       "1         average              17.78     8.89            114   TX  73.97   \n",
       "\n",
       "    Black  Indian  Asian  Hawaiian  Other  Growth_2018 Compare  \n",
       "38   0.69    1.35   1.41      0.16   6.42     0.114462    2010  \n",
       "31   9.12    1.28   8.15      0.67  15.18     0.120240    2010  \n",
       "13   4.50    4.50   3.31      0.21  10.26     0.117189    2010  \n",
       "29   1.19    1.09   2.32      0.89   8.08     0.136278    2010  \n",
       "1   12.13    0.50   4.80      0.09   8.51     0.134169    2010  "
      ]
     },
     "execution_count": 148,
     "metadata": {},
     "output_type": "execute_result"
    }
   ],
   "source": [
    "## sorting in descending order by Growth 2021\n",
    "df.sort_values(by = ['Growth 2021'], ascending=False).head()"
   ]
  },
  {
   "cell_type": "markdown",
   "metadata": {},
   "source": [
    "# Plotting using Seaborn"
   ]
  },
  {
   "cell_type": "markdown",
   "metadata": {},
   "source": []
  },
  {
   "cell_type": "code",
   "execution_count": 149,
   "metadata": {},
   "outputs": [
    {
     "data": {
      "text/plain": [
       "<seaborn.axisgrid.FacetGrid at 0x253cd2d10d0>"
      ]
     },
     "execution_count": 149,
     "metadata": {},
     "output_type": "execute_result"
    },
    {
     "data": {
      "image/png": "[encoded data removed]",
      "text/plain": [
       "<Figure size 500x500 with 1 Axes>"
      ]
     },
     "metadata": {},
     "output_type": "display_data"
    }
   ],
   "source": [
    "##plot to check how many states belong in each growth category\n",
    "sns.set_theme(style=\"ticks\", color_codes=True)\n",
    "\n",
    "sns.catplot(x=\"Growth_cat2021\", y='2021 Population',kind = \"swarm\", data=df)"
   ]
  },
  {
   "cell_type": "markdown",
   "metadata": {},
   "source": [
    "**Summary- bins : -2 to 0 is very low, 1 to 2 is low, 3 to 5 is average, 6 to 10 is good, 11 to 15 is high(in percentage)\n",
    "Summary: there is low growth in 2021 population in most of the states. There are 9 states that has very low population growth in 2021. 3 states has good growth in population. 13 states has average growth in population and remaining has low growth."
   ]
  },
  {
   "cell_type": "code",
   "execution_count": 150,
   "metadata": {},
   "outputs": [
    {
     "data": {
      "text/html": [
       "<div>\n",
       "<style scoped>\n",
       "    .dataframe tbody tr th:only-of-type {\n",
       "        vertical-align: middle;\n",
       "    }\n",
       "\n",
       "    .dataframe tbody tr th {\n",
       "        vertical-align: top;\n",
       "    }\n",
       "\n",
       "    .dataframe thead th {\n",
       "        text-align: right;\n",
       "    }\n",
       "</style>\n",
       "<table border=\"1\" class=\"dataframe\">\n",
       "  <thead>\n",
       "    <tr style=\"text-align: right;\">\n",
       "      <th></th>\n",
       "      <th>Rank</th>\n",
       "      <th>State</th>\n",
       "      <th>2021 Population</th>\n",
       "      <th>Growth 2021</th>\n",
       "      <th>2018 Population</th>\n",
       "      <th>2010 Census</th>\n",
       "      <th>Growth_cat2021</th>\n",
       "      <th>Growth Since 2010</th>\n",
       "      <th>% of US</th>\n",
       "      <th>Density (mi²)</th>\n",
       "      <th>Code</th>\n",
       "      <th>White</th>\n",
       "      <th>Black</th>\n",
       "      <th>Indian</th>\n",
       "      <th>Asian</th>\n",
       "      <th>Hawaiian</th>\n",
       "      <th>Other</th>\n",
       "      <th>Growth_2018</th>\n",
       "      <th>Compare</th>\n",
       "    </tr>\n",
       "  </thead>\n",
       "  <tbody>\n",
       "    <tr>\n",
       "      <th>0</th>\n",
       "      <td>1</td>\n",
       "      <td>California</td>\n",
       "      <td>39613493</td>\n",
       "      <td>0.38</td>\n",
       "      <td>39461588</td>\n",
       "      <td>37319502</td>\n",
       "      <td>low</td>\n",
       "      <td>6.15</td>\n",
       "      <td>11.84</td>\n",
       "      <td>254</td>\n",
       "      <td>CA</td>\n",
       "      <td>59.70</td>\n",
       "      <td>5.79</td>\n",
       "      <td>0.77</td>\n",
       "      <td>14.49</td>\n",
       "      <td>0.40</td>\n",
       "      <td>18.85</td>\n",
       "      <td>0.057399</td>\n",
       "      <td>2010</td>\n",
       "    </tr>\n",
       "    <tr>\n",
       "      <th>1</th>\n",
       "      <td>2</td>\n",
       "      <td>Texas</td>\n",
       "      <td>29730311</td>\n",
       "      <td>3.85</td>\n",
       "      <td>28628666</td>\n",
       "      <td>25241971</td>\n",
       "      <td>average</td>\n",
       "      <td>17.78</td>\n",
       "      <td>8.89</td>\n",
       "      <td>114</td>\n",
       "      <td>TX</td>\n",
       "      <td>73.97</td>\n",
       "      <td>12.13</td>\n",
       "      <td>0.50</td>\n",
       "      <td>4.80</td>\n",
       "      <td>0.09</td>\n",
       "      <td>8.51</td>\n",
       "      <td>0.134169</td>\n",
       "      <td>2010</td>\n",
       "    </tr>\n",
       "    <tr>\n",
       "      <th>2</th>\n",
       "      <td>3</td>\n",
       "      <td>Florida</td>\n",
       "      <td>21944577</td>\n",
       "      <td>3.30</td>\n",
       "      <td>21244317</td>\n",
       "      <td>18845537</td>\n",
       "      <td>average</td>\n",
       "      <td>16.44</td>\n",
       "      <td>6.56</td>\n",
       "      <td>409</td>\n",
       "      <td>FL</td>\n",
       "      <td>75.12</td>\n",
       "      <td>16.07</td>\n",
       "      <td>0.28</td>\n",
       "      <td>2.73</td>\n",
       "      <td>0.06</td>\n",
       "      <td>5.73</td>\n",
       "      <td>0.127286</td>\n",
       "      <td>2010</td>\n",
       "    </tr>\n",
       "    <tr>\n",
       "      <th>3</th>\n",
       "      <td>4</td>\n",
       "      <td>New York</td>\n",
       "      <td>19299981</td>\n",
       "      <td>-1.18</td>\n",
       "      <td>19530351</td>\n",
       "      <td>19399878</td>\n",
       "      <td>very low</td>\n",
       "      <td>-0.51</td>\n",
       "      <td>5.77</td>\n",
       "      <td>410</td>\n",
       "      <td>NY</td>\n",
       "      <td>63.66</td>\n",
       "      <td>15.66</td>\n",
       "      <td>0.41</td>\n",
       "      <td>8.42</td>\n",
       "      <td>0.05</td>\n",
       "      <td>11.81</td>\n",
       "      <td>0.006725</td>\n",
       "      <td>2010</td>\n",
       "    </tr>\n",
       "    <tr>\n",
       "      <th>4</th>\n",
       "      <td>5</td>\n",
       "      <td>Pennsylvania</td>\n",
       "      <td>12804123</td>\n",
       "      <td>0.03</td>\n",
       "      <td>12800922</td>\n",
       "      <td>12711160</td>\n",
       "      <td>low</td>\n",
       "      <td>0.73</td>\n",
       "      <td>3.83</td>\n",
       "      <td>286</td>\n",
       "      <td>PA</td>\n",
       "      <td>80.53</td>\n",
       "      <td>11.18</td>\n",
       "      <td>0.19</td>\n",
       "      <td>3.41</td>\n",
       "      <td>0.03</td>\n",
       "      <td>4.65</td>\n",
       "      <td>0.007062</td>\n",
       "      <td>2010</td>\n",
       "    </tr>\n",
       "    <tr>\n",
       "      <th>5</th>\n",
       "      <td>6</td>\n",
       "      <td>Illinois</td>\n",
       "      <td>12569321</td>\n",
       "      <td>-1.21</td>\n",
       "      <td>12723071</td>\n",
       "      <td>12840503</td>\n",
       "      <td>very low</td>\n",
       "      <td>-2.11</td>\n",
       "      <td>3.76</td>\n",
       "      <td>226</td>\n",
       "      <td>IL</td>\n",
       "      <td>71.53</td>\n",
       "      <td>14.20</td>\n",
       "      <td>0.26</td>\n",
       "      <td>5.47</td>\n",
       "      <td>0.04</td>\n",
       "      <td>8.50</td>\n",
       "      <td>-0.009145</td>\n",
       "      <td>2021</td>\n",
       "    </tr>\n",
       "    <tr>\n",
       "      <th>6</th>\n",
       "      <td>7</td>\n",
       "      <td>Ohio</td>\n",
       "      <td>11714618</td>\n",
       "      <td>0.33</td>\n",
       "      <td>11676341</td>\n",
       "      <td>11539336</td>\n",
       "      <td>low</td>\n",
       "      <td>1.52</td>\n",
       "      <td>3.50</td>\n",
       "      <td>287</td>\n",
       "      <td>OH</td>\n",
       "      <td>81.30</td>\n",
       "      <td>12.41</td>\n",
       "      <td>0.20</td>\n",
       "      <td>2.22</td>\n",
       "      <td>0.03</td>\n",
       "      <td>3.85</td>\n",
       "      <td>0.011873</td>\n",
       "      <td>2010</td>\n",
       "    </tr>\n",
       "    <tr>\n",
       "      <th>7</th>\n",
       "      <td>8</td>\n",
       "      <td>Georgia</td>\n",
       "      <td>10830007</td>\n",
       "      <td>3.03</td>\n",
       "      <td>10511131</td>\n",
       "      <td>9711881</td>\n",
       "      <td>average</td>\n",
       "      <td>11.51</td>\n",
       "      <td>3.24</td>\n",
       "      <td>188</td>\n",
       "      <td>GA</td>\n",
       "      <td>58.62</td>\n",
       "      <td>31.61</td>\n",
       "      <td>0.36</td>\n",
       "      <td>3.98</td>\n",
       "      <td>0.06</td>\n",
       "      <td>5.36</td>\n",
       "      <td>0.082296</td>\n",
       "      <td>2010</td>\n",
       "    </tr>\n",
       "    <tr>\n",
       "      <th>8</th>\n",
       "      <td>9</td>\n",
       "      <td>North Carolina</td>\n",
       "      <td>10701022</td>\n",
       "      <td>3.08</td>\n",
       "      <td>10381615</td>\n",
       "      <td>9574323</td>\n",
       "      <td>average</td>\n",
       "      <td>11.77</td>\n",
       "      <td>3.20</td>\n",
       "      <td>220</td>\n",
       "      <td>NC</td>\n",
       "      <td>68.68</td>\n",
       "      <td>21.44</td>\n",
       "      <td>1.21</td>\n",
       "      <td>2.85</td>\n",
       "      <td>0.07</td>\n",
       "      <td>5.75</td>\n",
       "      <td>0.084318</td>\n",
       "      <td>2010</td>\n",
       "    </tr>\n",
       "    <tr>\n",
       "      <th>9</th>\n",
       "      <td>10</td>\n",
       "      <td>Michigan</td>\n",
       "      <td>9992427</td>\n",
       "      <td>0.08</td>\n",
       "      <td>9984072</td>\n",
       "      <td>9877510</td>\n",
       "      <td>low</td>\n",
       "      <td>1.16</td>\n",
       "      <td>2.99</td>\n",
       "      <td>177</td>\n",
       "      <td>MI</td>\n",
       "      <td>78.41</td>\n",
       "      <td>13.79</td>\n",
       "      <td>0.54</td>\n",
       "      <td>3.13</td>\n",
       "      <td>0.03</td>\n",
       "      <td>4.10</td>\n",
       "      <td>0.010788</td>\n",
       "      <td>2010</td>\n",
       "    </tr>\n",
       "    <tr>\n",
       "      <th>10</th>\n",
       "      <td>11</td>\n",
       "      <td>New Jersey</td>\n",
       "      <td>8874520</td>\n",
       "      <td>-0.13</td>\n",
       "      <td>8886025</td>\n",
       "      <td>8799446</td>\n",
       "      <td>very low</td>\n",
       "      <td>0.85</td>\n",
       "      <td>2.65</td>\n",
       "      <td>1207</td>\n",
       "      <td>NJ</td>\n",
       "      <td>67.78</td>\n",
       "      <td>13.46</td>\n",
       "      <td>0.22</td>\n",
       "      <td>9.46</td>\n",
       "      <td>0.04</td>\n",
       "      <td>9.04</td>\n",
       "      <td>0.009839</td>\n",
       "      <td>2010</td>\n",
       "    </tr>\n",
       "    <tr>\n",
       "      <th>11</th>\n",
       "      <td>12</td>\n",
       "      <td>Virginia</td>\n",
       "      <td>8603985</td>\n",
       "      <td>1.21</td>\n",
       "      <td>8501286</td>\n",
       "      <td>8023699</td>\n",
       "      <td>low</td>\n",
       "      <td>7.23</td>\n",
       "      <td>2.57</td>\n",
       "      <td>218</td>\n",
       "      <td>VA</td>\n",
       "      <td>67.63</td>\n",
       "      <td>19.18</td>\n",
       "      <td>0.28</td>\n",
       "      <td>6.40</td>\n",
       "      <td>0.07</td>\n",
       "      <td>6.44</td>\n",
       "      <td>0.059522</td>\n",
       "      <td>2010</td>\n",
       "    </tr>\n",
       "    <tr>\n",
       "      <th>12</th>\n",
       "      <td>13</td>\n",
       "      <td>Washington</td>\n",
       "      <td>7796941</td>\n",
       "      <td>3.63</td>\n",
       "      <td>7523869</td>\n",
       "      <td>6742830</td>\n",
       "      <td>average</td>\n",
       "      <td>15.63</td>\n",
       "      <td>2.33</td>\n",
       "      <td>117</td>\n",
       "      <td>WA</td>\n",
       "      <td>75.38</td>\n",
       "      <td>3.80</td>\n",
       "      <td>1.28</td>\n",
       "      <td>8.53</td>\n",
       "      <td>0.66</td>\n",
       "      <td>10.35</td>\n",
       "      <td>0.115833</td>\n",
       "      <td>2010</td>\n",
       "    </tr>\n",
       "    <tr>\n",
       "      <th>13</th>\n",
       "      <td>14</td>\n",
       "      <td>Arizona</td>\n",
       "      <td>7520103</td>\n",
       "      <td>5.06</td>\n",
       "      <td>7158024</td>\n",
       "      <td>6407172</td>\n",
       "      <td>good</td>\n",
       "      <td>17.37</td>\n",
       "      <td>2.25</td>\n",
       "      <td>66</td>\n",
       "      <td>AZ</td>\n",
       "      <td>77.22</td>\n",
       "      <td>4.50</td>\n",
       "      <td>4.50</td>\n",
       "      <td>3.31</td>\n",
       "      <td>0.21</td>\n",
       "      <td>10.26</td>\n",
       "      <td>0.117189</td>\n",
       "      <td>2010</td>\n",
       "    </tr>\n",
       "    <tr>\n",
       "      <th>14</th>\n",
       "      <td>15</td>\n",
       "      <td>Tennessee</td>\n",
       "      <td>6944260</td>\n",
       "      <td>2.55</td>\n",
       "      <td>6771631</td>\n",
       "      <td>6355311</td>\n",
       "      <td>average</td>\n",
       "      <td>9.27</td>\n",
       "      <td>2.08</td>\n",
       "      <td>168</td>\n",
       "      <td>TN</td>\n",
       "      <td>77.58</td>\n",
       "      <td>16.76</td>\n",
       "      <td>0.27</td>\n",
       "      <td>1.75</td>\n",
       "      <td>0.06</td>\n",
       "      <td>3.58</td>\n",
       "      <td>0.065507</td>\n",
       "      <td>2010</td>\n",
       "    </tr>\n",
       "    <tr>\n",
       "      <th>15</th>\n",
       "      <td>16</td>\n",
       "      <td>Massachusetts</td>\n",
       "      <td>6912239</td>\n",
       "      <td>0.43</td>\n",
       "      <td>6882635</td>\n",
       "      <td>6566307</td>\n",
       "      <td>low</td>\n",
       "      <td>5.27</td>\n",
       "      <td>2.07</td>\n",
       "      <td>886</td>\n",
       "      <td>MA</td>\n",
       "      <td>78.07</td>\n",
       "      <td>7.63</td>\n",
       "      <td>0.22</td>\n",
       "      <td>6.60</td>\n",
       "      <td>0.04</td>\n",
       "      <td>7.44</td>\n",
       "      <td>0.048174</td>\n",
       "      <td>2010</td>\n",
       "    </tr>\n",
       "    <tr>\n",
       "      <th>16</th>\n",
       "      <td>17</td>\n",
       "      <td>Indiana</td>\n",
       "      <td>6805663</td>\n",
       "      <td>1.65</td>\n",
       "      <td>6695497</td>\n",
       "      <td>6490432</td>\n",
       "      <td>low</td>\n",
       "      <td>4.86</td>\n",
       "      <td>2.03</td>\n",
       "      <td>190</td>\n",
       "      <td>IN</td>\n",
       "      <td>83.31</td>\n",
       "      <td>9.40</td>\n",
       "      <td>0.24</td>\n",
       "      <td>2.28</td>\n",
       "      <td>0.04</td>\n",
       "      <td>4.73</td>\n",
       "      <td>0.031595</td>\n",
       "      <td>2010</td>\n",
       "    </tr>\n",
       "    <tr>\n",
       "      <th>17</th>\n",
       "      <td>18</td>\n",
       "      <td>Missouri</td>\n",
       "      <td>6169038</td>\n",
       "      <td>0.77</td>\n",
       "      <td>6121623</td>\n",
       "      <td>5995974</td>\n",
       "      <td>low</td>\n",
       "      <td>2.89</td>\n",
       "      <td>1.84</td>\n",
       "      <td>90</td>\n",
       "      <td>MO</td>\n",
       "      <td>82.16</td>\n",
       "      <td>11.49</td>\n",
       "      <td>0.44</td>\n",
       "      <td>1.98</td>\n",
       "      <td>0.13</td>\n",
       "      <td>3.80</td>\n",
       "      <td>0.020956</td>\n",
       "      <td>2010</td>\n",
       "    </tr>\n",
       "    <tr>\n",
       "      <th>18</th>\n",
       "      <td>19</td>\n",
       "      <td>Maryland</td>\n",
       "      <td>6065436</td>\n",
       "      <td>0.49</td>\n",
       "      <td>6035802</td>\n",
       "      <td>5788645</td>\n",
       "      <td>low</td>\n",
       "      <td>4.78</td>\n",
       "      <td>1.81</td>\n",
       "      <td>625</td>\n",
       "      <td>MD</td>\n",
       "      <td>55.54</td>\n",
       "      <td>29.89</td>\n",
       "      <td>0.28</td>\n",
       "      <td>6.28</td>\n",
       "      <td>0.05</td>\n",
       "      <td>7.96</td>\n",
       "      <td>0.042697</td>\n",
       "      <td>2010</td>\n",
       "    </tr>\n",
       "    <tr>\n",
       "      <th>19</th>\n",
       "      <td>20</td>\n",
       "      <td>Colorado</td>\n",
       "      <td>5893634</td>\n",
       "      <td>3.56</td>\n",
       "      <td>5691287</td>\n",
       "      <td>5047349</td>\n",
       "      <td>average</td>\n",
       "      <td>16.77</td>\n",
       "      <td>1.76</td>\n",
       "      <td>57</td>\n",
       "      <td>CO</td>\n",
       "      <td>84.00</td>\n",
       "      <td>4.16</td>\n",
       "      <td>0.98</td>\n",
       "      <td>3.18</td>\n",
       "      <td>0.15</td>\n",
       "      <td>7.53</td>\n",
       "      <td>0.127579</td>\n",
       "      <td>2010</td>\n",
       "    </tr>\n",
       "    <tr>\n",
       "      <th>20</th>\n",
       "      <td>21</td>\n",
       "      <td>Wisconsin</td>\n",
       "      <td>5852490</td>\n",
       "      <td>0.78</td>\n",
       "      <td>5807406</td>\n",
       "      <td>5690475</td>\n",
       "      <td>low</td>\n",
       "      <td>2.85</td>\n",
       "      <td>1.75</td>\n",
       "      <td>108</td>\n",
       "      <td>WI</td>\n",
       "      <td>85.43</td>\n",
       "      <td>6.41</td>\n",
       "      <td>0.89</td>\n",
       "      <td>2.79</td>\n",
       "      <td>0.04</td>\n",
       "      <td>4.44</td>\n",
       "      <td>0.020549</td>\n",
       "      <td>2010</td>\n",
       "    </tr>\n",
       "    <tr>\n",
       "      <th>21</th>\n",
       "      <td>22</td>\n",
       "      <td>Minnesota</td>\n",
       "      <td>5706398</td>\n",
       "      <td>1.79</td>\n",
       "      <td>5606249</td>\n",
       "      <td>5310828</td>\n",
       "      <td>low</td>\n",
       "      <td>7.45</td>\n",
       "      <td>1.71</td>\n",
       "      <td>72</td>\n",
       "      <td>MN</td>\n",
       "      <td>82.85</td>\n",
       "      <td>6.41</td>\n",
       "      <td>1.04</td>\n",
       "      <td>4.82</td>\n",
       "      <td>0.04</td>\n",
       "      <td>4.84</td>\n",
       "      <td>0.055626</td>\n",
       "      <td>2010</td>\n",
       "    </tr>\n",
       "    <tr>\n",
       "      <th>22</th>\n",
       "      <td>23</td>\n",
       "      <td>South Carolina</td>\n",
       "      <td>5277830</td>\n",
       "      <td>3.81</td>\n",
       "      <td>5084156</td>\n",
       "      <td>4635649</td>\n",
       "      <td>average</td>\n",
       "      <td>13.85</td>\n",
       "      <td>1.58</td>\n",
       "      <td>176</td>\n",
       "      <td>SC</td>\n",
       "      <td>67.16</td>\n",
       "      <td>26.77</td>\n",
       "      <td>0.35</td>\n",
       "      <td>1.57</td>\n",
       "      <td>0.08</td>\n",
       "      <td>4.07</td>\n",
       "      <td>0.096752</td>\n",
       "      <td>2010</td>\n",
       "    </tr>\n",
       "    <tr>\n",
       "      <th>23</th>\n",
       "      <td>24</td>\n",
       "      <td>Alabama</td>\n",
       "      <td>4934193</td>\n",
       "      <td>0.95</td>\n",
       "      <td>4887681</td>\n",
       "      <td>4785437</td>\n",
       "      <td>low</td>\n",
       "      <td>3.11</td>\n",
       "      <td>1.47</td>\n",
       "      <td>97</td>\n",
       "      <td>AL</td>\n",
       "      <td>68.09</td>\n",
       "      <td>26.64</td>\n",
       "      <td>0.52</td>\n",
       "      <td>1.36</td>\n",
       "      <td>0.05</td>\n",
       "      <td>3.34</td>\n",
       "      <td>0.021366</td>\n",
       "      <td>2010</td>\n",
       "    </tr>\n",
       "    <tr>\n",
       "      <th>24</th>\n",
       "      <td>25</td>\n",
       "      <td>Louisiana</td>\n",
       "      <td>4627002</td>\n",
       "      <td>-0.70</td>\n",
       "      <td>4659690</td>\n",
       "      <td>4544532</td>\n",
       "      <td>very low</td>\n",
       "      <td>1.81</td>\n",
       "      <td>1.38</td>\n",
       "      <td>107</td>\n",
       "      <td>LA</td>\n",
       "      <td>62.01</td>\n",
       "      <td>32.22</td>\n",
       "      <td>0.57</td>\n",
       "      <td>1.73</td>\n",
       "      <td>0.03</td>\n",
       "      <td>3.44</td>\n",
       "      <td>0.025340</td>\n",
       "      <td>2010</td>\n",
       "    </tr>\n",
       "    <tr>\n",
       "      <th>25</th>\n",
       "      <td>26</td>\n",
       "      <td>Kentucky</td>\n",
       "      <td>4480713</td>\n",
       "      <td>0.44</td>\n",
       "      <td>4461153</td>\n",
       "      <td>4348181</td>\n",
       "      <td>low</td>\n",
       "      <td>3.05</td>\n",
       "      <td>1.34</td>\n",
       "      <td>113</td>\n",
       "      <td>KY</td>\n",
       "      <td>86.95</td>\n",
       "      <td>8.07</td>\n",
       "      <td>0.21</td>\n",
       "      <td>1.47</td>\n",
       "      <td>0.07</td>\n",
       "      <td>3.23</td>\n",
       "      <td>0.025981</td>\n",
       "      <td>2010</td>\n",
       "    </tr>\n",
       "    <tr>\n",
       "      <th>26</th>\n",
       "      <td>27</td>\n",
       "      <td>Oregon</td>\n",
       "      <td>4289439</td>\n",
       "      <td>2.57</td>\n",
       "      <td>4181886</td>\n",
       "      <td>3837491</td>\n",
       "      <td>average</td>\n",
       "      <td>11.78</td>\n",
       "      <td>1.28</td>\n",
       "      <td>45</td>\n",
       "      <td>OR</td>\n",
       "      <td>84.29</td>\n",
       "      <td>1.91</td>\n",
       "      <td>1.16</td>\n",
       "      <td>4.37</td>\n",
       "      <td>0.40</td>\n",
       "      <td>7.87</td>\n",
       "      <td>0.089745</td>\n",
       "      <td>2010</td>\n",
       "    </tr>\n",
       "    <tr>\n",
       "      <th>27</th>\n",
       "      <td>28</td>\n",
       "      <td>Oklahoma</td>\n",
       "      <td>3990443</td>\n",
       "      <td>1.27</td>\n",
       "      <td>3940235</td>\n",
       "      <td>3759944</td>\n",
       "      <td>low</td>\n",
       "      <td>6.13</td>\n",
       "      <td>1.19</td>\n",
       "      <td>58</td>\n",
       "      <td>OK</td>\n",
       "      <td>72.32</td>\n",
       "      <td>7.28</td>\n",
       "      <td>7.62</td>\n",
       "      <td>2.17</td>\n",
       "      <td>0.16</td>\n",
       "      <td>10.46</td>\n",
       "      <td>0.047950</td>\n",
       "      <td>2010</td>\n",
       "    </tr>\n",
       "    <tr>\n",
       "      <th>28</th>\n",
       "      <td>29</td>\n",
       "      <td>Connecticut</td>\n",
       "      <td>3552821</td>\n",
       "      <td>-0.52</td>\n",
       "      <td>3571520</td>\n",
       "      <td>3579114</td>\n",
       "      <td>very low</td>\n",
       "      <td>-0.73</td>\n",
       "      <td>1.06</td>\n",
       "      <td>734</td>\n",
       "      <td>CT</td>\n",
       "      <td>75.92</td>\n",
       "      <td>10.72</td>\n",
       "      <td>0.28</td>\n",
       "      <td>4.51</td>\n",
       "      <td>0.03</td>\n",
       "      <td>8.54</td>\n",
       "      <td>-0.002122</td>\n",
       "      <td>2021</td>\n",
       "    </tr>\n",
       "    <tr>\n",
       "      <th>29</th>\n",
       "      <td>30</td>\n",
       "      <td>Utah</td>\n",
       "      <td>3310774</td>\n",
       "      <td>4.99</td>\n",
       "      <td>3153550</td>\n",
       "      <td>2775332</td>\n",
       "      <td>average</td>\n",
       "      <td>19.29</td>\n",
       "      <td>0.99</td>\n",
       "      <td>40</td>\n",
       "      <td>UT</td>\n",
       "      <td>86.43</td>\n",
       "      <td>1.19</td>\n",
       "      <td>1.09</td>\n",
       "      <td>2.32</td>\n",
       "      <td>0.89</td>\n",
       "      <td>8.08</td>\n",
       "      <td>0.136278</td>\n",
       "      <td>2010</td>\n",
       "    </tr>\n",
       "    <tr>\n",
       "      <th>30</th>\n",
       "      <td>31</td>\n",
       "      <td>Puerto Rico</td>\n",
       "      <td>3194374</td>\n",
       "      <td>0.03</td>\n",
       "      <td>3193354</td>\n",
       "      <td>3721525</td>\n",
       "      <td>low</td>\n",
       "      <td>-14.16</td>\n",
       "      <td>0.95</td>\n",
       "      <td>923</td>\n",
       "      <td>NaN</td>\n",
       "      <td>65.93</td>\n",
       "      <td>11.65</td>\n",
       "      <td>0.21</td>\n",
       "      <td>0.19</td>\n",
       "      <td>0.01</td>\n",
       "      <td>22.01</td>\n",
       "      <td>-0.141923</td>\n",
       "      <td>2021</td>\n",
       "    </tr>\n",
       "    <tr>\n",
       "      <th>31</th>\n",
       "      <td>32</td>\n",
       "      <td>Nevada</td>\n",
       "      <td>3185786</td>\n",
       "      <td>5.23</td>\n",
       "      <td>3027341</td>\n",
       "      <td>2702405</td>\n",
       "      <td>good</td>\n",
       "      <td>17.89</td>\n",
       "      <td>0.95</td>\n",
       "      <td>29</td>\n",
       "      <td>NV</td>\n",
       "      <td>65.59</td>\n",
       "      <td>9.12</td>\n",
       "      <td>1.28</td>\n",
       "      <td>8.15</td>\n",
       "      <td>0.67</td>\n",
       "      <td>15.18</td>\n",
       "      <td>0.120240</td>\n",
       "      <td>2010</td>\n",
       "    </tr>\n",
       "    <tr>\n",
       "      <th>32</th>\n",
       "      <td>33</td>\n",
       "      <td>Iowa</td>\n",
       "      <td>3167974</td>\n",
       "      <td>0.61</td>\n",
       "      <td>3148618</td>\n",
       "      <td>3050745</td>\n",
       "      <td>low</td>\n",
       "      <td>3.84</td>\n",
       "      <td>0.95</td>\n",
       "      <td>57</td>\n",
       "      <td>IA</td>\n",
       "      <td>90.02</td>\n",
       "      <td>3.71</td>\n",
       "      <td>0.38</td>\n",
       "      <td>2.41</td>\n",
       "      <td>0.12</td>\n",
       "      <td>3.36</td>\n",
       "      <td>0.032082</td>\n",
       "      <td>2010</td>\n",
       "    </tr>\n",
       "    <tr>\n",
       "      <th>33</th>\n",
       "      <td>34</td>\n",
       "      <td>Arkansas</td>\n",
       "      <td>3033946</td>\n",
       "      <td>0.80</td>\n",
       "      <td>3009733</td>\n",
       "      <td>2921964</td>\n",
       "      <td>low</td>\n",
       "      <td>3.83</td>\n",
       "      <td>0.91</td>\n",
       "      <td>58</td>\n",
       "      <td>AR</td>\n",
       "      <td>76.72</td>\n",
       "      <td>15.32</td>\n",
       "      <td>0.68</td>\n",
       "      <td>1.52</td>\n",
       "      <td>0.29</td>\n",
       "      <td>5.47</td>\n",
       "      <td>0.030038</td>\n",
       "      <td>2010</td>\n",
       "    </tr>\n",
       "    <tr>\n",
       "      <th>34</th>\n",
       "      <td>35</td>\n",
       "      <td>Mississippi</td>\n",
       "      <td>2966407</td>\n",
       "      <td>-0.49</td>\n",
       "      <td>2981020</td>\n",
       "      <td>2970548</td>\n",
       "      <td>very low</td>\n",
       "      <td>-0.14</td>\n",
       "      <td>0.89</td>\n",
       "      <td>63</td>\n",
       "      <td>MS</td>\n",
       "      <td>58.41</td>\n",
       "      <td>37.72</td>\n",
       "      <td>0.48</td>\n",
       "      <td>0.99</td>\n",
       "      <td>0.02</td>\n",
       "      <td>2.38</td>\n",
       "      <td>0.003525</td>\n",
       "      <td>2010</td>\n",
       "    </tr>\n",
       "    <tr>\n",
       "      <th>35</th>\n",
       "      <td>36</td>\n",
       "      <td>Kansas</td>\n",
       "      <td>2917224</td>\n",
       "      <td>0.20</td>\n",
       "      <td>2911359</td>\n",
       "      <td>2858190</td>\n",
       "      <td>low</td>\n",
       "      <td>2.07</td>\n",
       "      <td>0.87</td>\n",
       "      <td>36</td>\n",
       "      <td>KS</td>\n",
       "      <td>84.38</td>\n",
       "      <td>5.85</td>\n",
       "      <td>0.82</td>\n",
       "      <td>2.95</td>\n",
       "      <td>0.08</td>\n",
       "      <td>5.92</td>\n",
       "      <td>0.018602</td>\n",
       "      <td>2010</td>\n",
       "    </tr>\n",
       "    <tr>\n",
       "      <th>36</th>\n",
       "      <td>37</td>\n",
       "      <td>New Mexico</td>\n",
       "      <td>2105005</td>\n",
       "      <td>0.59</td>\n",
       "      <td>2092741</td>\n",
       "      <td>2064552</td>\n",
       "      <td>low</td>\n",
       "      <td>1.96</td>\n",
       "      <td>0.63</td>\n",
       "      <td>17</td>\n",
       "      <td>NM</td>\n",
       "      <td>74.81</td>\n",
       "      <td>2.11</td>\n",
       "      <td>9.55</td>\n",
       "      <td>1.56</td>\n",
       "      <td>0.08</td>\n",
       "      <td>11.90</td>\n",
       "      <td>0.013654</td>\n",
       "      <td>2010</td>\n",
       "    </tr>\n",
       "    <tr>\n",
       "      <th>37</th>\n",
       "      <td>38</td>\n",
       "      <td>Nebraska</td>\n",
       "      <td>1951996</td>\n",
       "      <td>1.37</td>\n",
       "      <td>1925614</td>\n",
       "      <td>1829542</td>\n",
       "      <td>low</td>\n",
       "      <td>6.69</td>\n",
       "      <td>0.58</td>\n",
       "      <td>25</td>\n",
       "      <td>NE</td>\n",
       "      <td>87.06</td>\n",
       "      <td>4.83</td>\n",
       "      <td>0.92</td>\n",
       "      <td>2.38</td>\n",
       "      <td>0.07</td>\n",
       "      <td>4.73</td>\n",
       "      <td>0.052512</td>\n",
       "      <td>2010</td>\n",
       "    </tr>\n",
       "    <tr>\n",
       "      <th>38</th>\n",
       "      <td>39</td>\n",
       "      <td>Idaho</td>\n",
       "      <td>1860123</td>\n",
       "      <td>6.26</td>\n",
       "      <td>1750536</td>\n",
       "      <td>1570746</td>\n",
       "      <td>good</td>\n",
       "      <td>18.42</td>\n",
       "      <td>0.56</td>\n",
       "      <td>23</td>\n",
       "      <td>ID</td>\n",
       "      <td>89.97</td>\n",
       "      <td>0.69</td>\n",
       "      <td>1.35</td>\n",
       "      <td>1.41</td>\n",
       "      <td>0.16</td>\n",
       "      <td>6.42</td>\n",
       "      <td>0.114462</td>\n",
       "      <td>2010</td>\n",
       "    </tr>\n",
       "    <tr>\n",
       "      <th>39</th>\n",
       "      <td>40</td>\n",
       "      <td>West Virginia</td>\n",
       "      <td>1767859</td>\n",
       "      <td>-2.02</td>\n",
       "      <td>1804291</td>\n",
       "      <td>1854239</td>\n",
       "      <td>NaN</td>\n",
       "      <td>-4.66</td>\n",
       "      <td>0.53</td>\n",
       "      <td>74</td>\n",
       "      <td>WV</td>\n",
       "      <td>93.08</td>\n",
       "      <td>3.69</td>\n",
       "      <td>0.20</td>\n",
       "      <td>0.80</td>\n",
       "      <td>0.02</td>\n",
       "      <td>2.21</td>\n",
       "      <td>-0.026937</td>\n",
       "      <td>2021</td>\n",
       "    </tr>\n",
       "    <tr>\n",
       "      <th>40</th>\n",
       "      <td>41</td>\n",
       "      <td>Hawaii</td>\n",
       "      <td>1406430</td>\n",
       "      <td>-1.00</td>\n",
       "      <td>1420593</td>\n",
       "      <td>1363963</td>\n",
       "      <td>very low</td>\n",
       "      <td>3.11</td>\n",
       "      <td>0.42</td>\n",
       "      <td>219</td>\n",
       "      <td>HI</td>\n",
       "      <td>24.95</td>\n",
       "      <td>1.83</td>\n",
       "      <td>0.26</td>\n",
       "      <td>37.79</td>\n",
       "      <td>10.06</td>\n",
       "      <td>25.12</td>\n",
       "      <td>0.041519</td>\n",
       "      <td>2010</td>\n",
       "    </tr>\n",
       "    <tr>\n",
       "      <th>41</th>\n",
       "      <td>42</td>\n",
       "      <td>New Hampshire</td>\n",
       "      <td>1372203</td>\n",
       "      <td>1.38</td>\n",
       "      <td>1353465</td>\n",
       "      <td>1316762</td>\n",
       "      <td>low</td>\n",
       "      <td>4.21</td>\n",
       "      <td>0.41</td>\n",
       "      <td>153</td>\n",
       "      <td>NH</td>\n",
       "      <td>92.88</td>\n",
       "      <td>1.60</td>\n",
       "      <td>0.15</td>\n",
       "      <td>2.68</td>\n",
       "      <td>0.03</td>\n",
       "      <td>2.65</td>\n",
       "      <td>0.027874</td>\n",
       "      <td>2010</td>\n",
       "    </tr>\n",
       "    <tr>\n",
       "      <th>42</th>\n",
       "      <td>43</td>\n",
       "      <td>Maine</td>\n",
       "      <td>1354522</td>\n",
       "      <td>1.15</td>\n",
       "      <td>1339057</td>\n",
       "      <td>1327629</td>\n",
       "      <td>low</td>\n",
       "      <td>2.03</td>\n",
       "      <td>0.40</td>\n",
       "      <td>44</td>\n",
       "      <td>ME</td>\n",
       "      <td>94.31</td>\n",
       "      <td>1.38</td>\n",
       "      <td>0.65</td>\n",
       "      <td>1.13</td>\n",
       "      <td>0.03</td>\n",
       "      <td>2.50</td>\n",
       "      <td>0.008608</td>\n",
       "      <td>2010</td>\n",
       "    </tr>\n",
       "    <tr>\n",
       "      <th>43</th>\n",
       "      <td>44</td>\n",
       "      <td>Montana</td>\n",
       "      <td>1085004</td>\n",
       "      <td>2.29</td>\n",
       "      <td>1060665</td>\n",
       "      <td>990697</td>\n",
       "      <td>average</td>\n",
       "      <td>9.52</td>\n",
       "      <td>0.32</td>\n",
       "      <td>7</td>\n",
       "      <td>MT</td>\n",
       "      <td>88.54</td>\n",
       "      <td>0.50</td>\n",
       "      <td>6.36</td>\n",
       "      <td>0.79</td>\n",
       "      <td>0.08</td>\n",
       "      <td>3.73</td>\n",
       "      <td>0.070625</td>\n",
       "      <td>2010</td>\n",
       "    </tr>\n",
       "    <tr>\n",
       "      <th>44</th>\n",
       "      <td>45</td>\n",
       "      <td>Rhode Island</td>\n",
       "      <td>1061509</td>\n",
       "      <td>0.30</td>\n",
       "      <td>1058287</td>\n",
       "      <td>1053959</td>\n",
       "      <td>low</td>\n",
       "      <td>0.72</td>\n",
       "      <td>0.32</td>\n",
       "      <td>1027</td>\n",
       "      <td>RI</td>\n",
       "      <td>80.46</td>\n",
       "      <td>6.77</td>\n",
       "      <td>0.50</td>\n",
       "      <td>3.40</td>\n",
       "      <td>0.08</td>\n",
       "      <td>8.80</td>\n",
       "      <td>0.004106</td>\n",
       "      <td>2010</td>\n",
       "    </tr>\n",
       "    <tr>\n",
       "      <th>45</th>\n",
       "      <td>46</td>\n",
       "      <td>Delaware</td>\n",
       "      <td>990334</td>\n",
       "      <td>2.57</td>\n",
       "      <td>965479</td>\n",
       "      <td>899593</td>\n",
       "      <td>average</td>\n",
       "      <td>10.09</td>\n",
       "      <td>0.30</td>\n",
       "      <td>508</td>\n",
       "      <td>DE</td>\n",
       "      <td>68.76</td>\n",
       "      <td>22.18</td>\n",
       "      <td>0.39</td>\n",
       "      <td>3.87</td>\n",
       "      <td>0.06</td>\n",
       "      <td>4.75</td>\n",
       "      <td>0.073240</td>\n",
       "      <td>2010</td>\n",
       "    </tr>\n",
       "    <tr>\n",
       "      <th>46</th>\n",
       "      <td>47</td>\n",
       "      <td>South Dakota</td>\n",
       "      <td>896581</td>\n",
       "      <td>2.04</td>\n",
       "      <td>878698</td>\n",
       "      <td>816166</td>\n",
       "      <td>average</td>\n",
       "      <td>9.85</td>\n",
       "      <td>0.27</td>\n",
       "      <td>12</td>\n",
       "      <td>SD</td>\n",
       "      <td>84.27</td>\n",
       "      <td>2.01</td>\n",
       "      <td>8.75</td>\n",
       "      <td>1.45</td>\n",
       "      <td>0.06</td>\n",
       "      <td>3.45</td>\n",
       "      <td>0.076617</td>\n",
       "      <td>2010</td>\n",
       "    </tr>\n",
       "    <tr>\n",
       "      <th>47</th>\n",
       "      <td>48</td>\n",
       "      <td>North Dakota</td>\n",
       "      <td>770026</td>\n",
       "      <td>1.58</td>\n",
       "      <td>758080</td>\n",
       "      <td>674715</td>\n",
       "      <td>low</td>\n",
       "      <td>14.13</td>\n",
       "      <td>0.23</td>\n",
       "      <td>11</td>\n",
       "      <td>ND</td>\n",
       "      <td>86.58</td>\n",
       "      <td>2.91</td>\n",
       "      <td>5.29</td>\n",
       "      <td>1.45</td>\n",
       "      <td>0.11</td>\n",
       "      <td>3.66</td>\n",
       "      <td>0.123556</td>\n",
       "      <td>2010</td>\n",
       "    </tr>\n",
       "    <tr>\n",
       "      <th>48</th>\n",
       "      <td>49</td>\n",
       "      <td>Alaska</td>\n",
       "      <td>724357</td>\n",
       "      <td>-1.47</td>\n",
       "      <td>735139</td>\n",
       "      <td>713910</td>\n",
       "      <td>very low</td>\n",
       "      <td>1.46</td>\n",
       "      <td>0.22</td>\n",
       "      <td>1</td>\n",
       "      <td>AK</td>\n",
       "      <td>64.58</td>\n",
       "      <td>3.28</td>\n",
       "      <td>14.89</td>\n",
       "      <td>6.23</td>\n",
       "      <td>1.25</td>\n",
       "      <td>9.76</td>\n",
       "      <td>0.029736</td>\n",
       "      <td>2010</td>\n",
       "    </tr>\n",
       "    <tr>\n",
       "      <th>49</th>\n",
       "      <td>50</td>\n",
       "      <td>District of Columbia</td>\n",
       "      <td>714153</td>\n",
       "      <td>1.80</td>\n",
       "      <td>701547</td>\n",
       "      <td>605226</td>\n",
       "      <td>low</td>\n",
       "      <td>18.00</td>\n",
       "      <td>0.21</td>\n",
       "      <td>11707</td>\n",
       "      <td>DC</td>\n",
       "      <td>41.27</td>\n",
       "      <td>46.31</td>\n",
       "      <td>0.30</td>\n",
       "      <td>3.98</td>\n",
       "      <td>0.05</td>\n",
       "      <td>8.08</td>\n",
       "      <td>0.159149</td>\n",
       "      <td>2010</td>\n",
       "    </tr>\n",
       "    <tr>\n",
       "      <th>50</th>\n",
       "      <td>51</td>\n",
       "      <td>Vermont</td>\n",
       "      <td>623251</td>\n",
       "      <td>-0.18</td>\n",
       "      <td>624358</td>\n",
       "      <td>625879</td>\n",
       "      <td>very low</td>\n",
       "      <td>-0.42</td>\n",
       "      <td>0.19</td>\n",
       "      <td>68</td>\n",
       "      <td>VT</td>\n",
       "      <td>94.16</td>\n",
       "      <td>1.36</td>\n",
       "      <td>0.34</td>\n",
       "      <td>1.68</td>\n",
       "      <td>0.05</td>\n",
       "      <td>2.40</td>\n",
       "      <td>-0.002430</td>\n",
       "      <td>2021</td>\n",
       "    </tr>\n",
       "    <tr>\n",
       "      <th>51</th>\n",
       "      <td>52</td>\n",
       "      <td>Wyoming</td>\n",
       "      <td>581075</td>\n",
       "      <td>0.60</td>\n",
       "      <td>577601</td>\n",
       "      <td>564487</td>\n",
       "      <td>low</td>\n",
       "      <td>2.94</td>\n",
       "      <td>0.17</td>\n",
       "      <td>6</td>\n",
       "      <td>WY</td>\n",
       "      <td>91.44</td>\n",
       "      <td>0.96</td>\n",
       "      <td>2.44</td>\n",
       "      <td>0.86</td>\n",
       "      <td>0.10</td>\n",
       "      <td>4.19</td>\n",
       "      <td>0.023232</td>\n",
       "      <td>2010</td>\n",
       "    </tr>\n",
       "  </tbody>\n",
       "</table>\n",
       "</div>"
      ],
      "text/plain": [
       "    Rank                 State  2021 Population  Growth 2021  2018 Population  \\\n",
       "0      1            California         39613493         0.38         39461588   \n",
       "1      2                 Texas         29730311         3.85         28628666   \n",
       "2      3               Florida         21944577         3.30         21244317   \n",
       "3      4              New York         19299981        -1.18         19530351   \n",
       "4      5          Pennsylvania         12804123         0.03         12800922   \n",
       "5      6              Illinois         12569321        -1.21         12723071   \n",
       "6      7                  Ohio         11714618         0.33         11676341   \n",
       "7      8               Georgia         10830007         3.03         10511131   \n",
       "8      9        North Carolina         10701022         3.08         10381615   \n",
       "9     10              Michigan          9992427         0.08          9984072   \n",
       "10    11            New Jersey          8874520        -0.13          8886025   \n",
       "11    12              Virginia          8603985         1.21          8501286   \n",
       "12    13            Washington          7796941         3.63          7523869   \n",
       "13    14               Arizona          7520103         5.06          7158024   \n",
       "14    15             Tennessee          6944260         2.55          6771631   \n",
       "15    16         Massachusetts          6912239         0.43          6882635   \n",
       "16    17               Indiana          6805663         1.65          6695497   \n",
       "17    18              Missouri          6169038         0.77          6121623   \n",
       "18    19              Maryland          6065436         0.49          6035802   \n",
       "19    20              Colorado          5893634         3.56          5691287   \n",
       "20    21             Wisconsin          5852490         0.78          5807406   \n",
       "21    22             Minnesota          5706398         1.79          5606249   \n",
       "22    23        South Carolina          5277830         3.81          5084156   \n",
       "23    24               Alabama          4934193         0.95          4887681   \n",
       "24    25             Louisiana          4627002        -0.70          4659690   \n",
       "25    26              Kentucky          4480713         0.44          4461153   \n",
       "26    27                Oregon          4289439         2.57          4181886   \n",
       "27    28              Oklahoma          3990443         1.27          3940235   \n",
       "28    29           Connecticut          3552821        -0.52          3571520   \n",
       "29    30                  Utah          3310774         4.99          3153550   \n",
       "30    31           Puerto Rico          3194374         0.03          3193354   \n",
       "31    32                Nevada          3185786         5.23          3027341   \n",
       "32    33                  Iowa          3167974         0.61          3148618   \n",
       "33    34              Arkansas          3033946         0.80          3009733   \n",
       "34    35           Mississippi          2966407        -0.49          2981020   \n",
       "35    36                Kansas          2917224         0.20          2911359   \n",
       "36    37            New Mexico          2105005         0.59          2092741   \n",
       "37    38              Nebraska          1951996         1.37          1925614   \n",
       "38    39                 Idaho          1860123         6.26          1750536   \n",
       "39    40         West Virginia          1767859        -2.02          1804291   \n",
       "40    41                Hawaii          1406430        -1.00          1420593   \n",
       "41    42         New Hampshire          1372203         1.38          1353465   \n",
       "42    43                 Maine          1354522         1.15          1339057   \n",
       "43    44               Montana          1085004         2.29          1060665   \n",
       "44    45          Rhode Island          1061509         0.30          1058287   \n",
       "45    46              Delaware           990334         2.57           965479   \n",
       "46    47          South Dakota           896581         2.04           878698   \n",
       "47    48          North Dakota           770026         1.58           758080   \n",
       "48    49                Alaska           724357        -1.47           735139   \n",
       "49    50  District of Columbia           714153         1.80           701547   \n",
       "50    51               Vermont           623251        -0.18           624358   \n",
       "51    52               Wyoming           581075         0.60           577601   \n",
       "\n",
       "    2010 Census Growth_cat2021  Growth Since 2010  % of US  Density (mi²)  \\\n",
       "0      37319502            low               6.15    11.84            254   \n",
       "1      25241971        average              17.78     8.89            114   \n",
       "2      18845537        average              16.44     6.56            409   \n",
       "3      19399878       very low              -0.51     5.77            410   \n",
       "4      12711160            low               0.73     3.83            286   \n",
       "5      12840503       very low              -2.11     3.76            226   \n",
       "6      11539336            low               1.52     3.50            287   \n",
       "7       9711881        average              11.51     3.24            188   \n",
       "8       9574323        average              11.77     3.20            220   \n",
       "9       9877510            low               1.16     2.99            177   \n",
       "10      8799446       very low               0.85     2.65           1207   \n",
       "11      8023699            low               7.23     2.57            218   \n",
       "12      6742830        average              15.63     2.33            117   \n",
       "13      6407172           good              17.37     2.25             66   \n",
       "14      6355311        average               9.27     2.08            168   \n",
       "15      6566307            low               5.27     2.07            886   \n",
       "16      6490432            low               4.86     2.03            190   \n",
       "17      5995974            low               2.89     1.84             90   \n",
       "18      5788645            low               4.78     1.81            625   \n",
       "19      5047349        average              16.77     1.76             57   \n",
       "20      5690475            low               2.85     1.75            108   \n",
       "21      5310828            low               7.45     1.71             72   \n",
       "22      4635649        average              13.85     1.58            176   \n",
       "23      4785437            low               3.11     1.47             97   \n",
       "24      4544532       very low               1.81     1.38            107   \n",
       "25      4348181            low               3.05     1.34            113   \n",
       "26      3837491        average              11.78     1.28             45   \n",
       "27      3759944            low               6.13     1.19             58   \n",
       "28      3579114       very low              -0.73     1.06            734   \n",
       "29      2775332        average              19.29     0.99             40   \n",
       "30      3721525            low             -14.16     0.95            923   \n",
       "31      2702405           good              17.89     0.95             29   \n",
       "32      3050745            low               3.84     0.95             57   \n",
       "33      2921964            low               3.83     0.91             58   \n",
       "34      2970548       very low              -0.14     0.89             63   \n",
       "35      2858190            low               2.07     0.87             36   \n",
       "36      2064552            low               1.96     0.63             17   \n",
       "37      1829542            low               6.69     0.58             25   \n",
       "38      1570746           good              18.42     0.56             23   \n",
       "39      1854239            NaN              -4.66     0.53             74   \n",
       "40      1363963       very low               3.11     0.42            219   \n",
       "41      1316762            low               4.21     0.41            153   \n",
       "42      1327629            low               2.03     0.40             44   \n",
       "43       990697        average               9.52     0.32              7   \n",
       "44      1053959            low               0.72     0.32           1027   \n",
       "45       899593        average              10.09     0.30            508   \n",
       "46       816166        average               9.85     0.27             12   \n",
       "47       674715            low              14.13     0.23             11   \n",
       "48       713910       very low               1.46     0.22              1   \n",
       "49       605226            low              18.00     0.21          11707   \n",
       "50       625879       very low              -0.42     0.19             68   \n",
       "51       564487            low               2.94     0.17              6   \n",
       "\n",
       "   Code  White  Black  Indian  Asian  Hawaiian  Other  Growth_2018 Compare  \n",
       "0    CA  59.70   5.79    0.77  14.49      0.40  18.85     0.057399    2010  \n",
       "1    TX  73.97  12.13    0.50   4.80      0.09   8.51     0.134169    2010  \n",
       "2    FL  75.12  16.07    0.28   2.73      0.06   5.73     0.127286    2010  \n",
       "3    NY  63.66  15.66    0.41   8.42      0.05  11.81     0.006725    2010  \n",
       "4    PA  80.53  11.18    0.19   3.41      0.03   4.65     0.007062    2010  \n",
       "5    IL  71.53  14.20    0.26   5.47      0.04   8.50    -0.009145    2021  \n",
       "6    OH  81.30  12.41    0.20   2.22      0.03   3.85     0.011873    2010  \n",
       "7    GA  58.62  31.61    0.36   3.98      0.06   5.36     0.082296    2010  \n",
       "8    NC  68.68  21.44    1.21   2.85      0.07   5.75     0.084318    2010  \n",
       "9    MI  78.41  13.79    0.54   3.13      0.03   4.10     0.010788    2010  \n",
       "10   NJ  67.78  13.46    0.22   9.46      0.04   9.04     0.009839    2010  \n",
       "11   VA  67.63  19.18    0.28   6.40      0.07   6.44     0.059522    2010  \n",
       "12   WA  75.38   3.80    1.28   8.53      0.66  10.35     0.115833    2010  \n",
       "13   AZ  77.22   4.50    4.50   3.31      0.21  10.26     0.117189    2010  \n",
       "14   TN  77.58  16.76    0.27   1.75      0.06   3.58     0.065507    2010  \n",
       "15   MA  78.07   7.63    0.22   6.60      0.04   7.44     0.048174    2010  \n",
       "16   IN  83.31   9.40    0.24   2.28      0.04   4.73     0.031595    2010  \n",
       "17   MO  82.16  11.49    0.44   1.98      0.13   3.80     0.020956    2010  \n",
       "18   MD  55.54  29.89    0.28   6.28      0.05   7.96     0.042697    2010  \n",
       "19   CO  84.00   4.16    0.98   3.18      0.15   7.53     0.127579    2010  \n",
       "20   WI  85.43   6.41    0.89   2.79      0.04   4.44     0.020549    2010  \n",
       "21   MN  82.85   6.41    1.04   4.82      0.04   4.84     0.055626    2010  \n",
       "22   SC  67.16  26.77    0.35   1.57      0.08   4.07     0.096752    2010  \n",
       "23   AL  68.09  26.64    0.52   1.36      0.05   3.34     0.021366    2010  \n",
       "24   LA  62.01  32.22    0.57   1.73      0.03   3.44     0.025340    2010  \n",
       "25   KY  86.95   8.07    0.21   1.47      0.07   3.23     0.025981    2010  \n",
       "26   OR  84.29   1.91    1.16   4.37      0.40   7.87     0.089745    2010  \n",
       "27   OK  72.32   7.28    7.62   2.17      0.16  10.46     0.047950    2010  \n",
       "28   CT  75.92  10.72    0.28   4.51      0.03   8.54    -0.002122    2021  \n",
       "29   UT  86.43   1.19    1.09   2.32      0.89   8.08     0.136278    2010  \n",
       "30  NaN  65.93  11.65    0.21   0.19      0.01  22.01    -0.141923    2021  \n",
       "31   NV  65.59   9.12    1.28   8.15      0.67  15.18     0.120240    2010  \n",
       "32   IA  90.02   3.71    0.38   2.41      0.12   3.36     0.032082    2010  \n",
       "33   AR  76.72  15.32    0.68   1.52      0.29   5.47     0.030038    2010  \n",
       "34   MS  58.41  37.72    0.48   0.99      0.02   2.38     0.003525    2010  \n",
       "35   KS  84.38   5.85    0.82   2.95      0.08   5.92     0.018602    2010  \n",
       "36   NM  74.81   2.11    9.55   1.56      0.08  11.90     0.013654    2010  \n",
       "37   NE  87.06   4.83    0.92   2.38      0.07   4.73     0.052512    2010  \n",
       "38   ID  89.97   0.69    1.35   1.41      0.16   6.42     0.114462    2010  \n",
       "39   WV  93.08   3.69    0.20   0.80      0.02   2.21    -0.026937    2021  \n",
       "40   HI  24.95   1.83    0.26  37.79     10.06  25.12     0.041519    2010  \n",
       "41   NH  92.88   1.60    0.15   2.68      0.03   2.65     0.027874    2010  \n",
       "42   ME  94.31   1.38    0.65   1.13      0.03   2.50     0.008608    2010  \n",
       "43   MT  88.54   0.50    6.36   0.79      0.08   3.73     0.070625    2010  \n",
       "44   RI  80.46   6.77    0.50   3.40      0.08   8.80     0.004106    2010  \n",
       "45   DE  68.76  22.18    0.39   3.87      0.06   4.75     0.073240    2010  \n",
       "46   SD  84.27   2.01    8.75   1.45      0.06   3.45     0.076617    2010  \n",
       "47   ND  86.58   2.91    5.29   1.45      0.11   3.66     0.123556    2010  \n",
       "48   AK  64.58   3.28   14.89   6.23      1.25   9.76     0.029736    2010  \n",
       "49   DC  41.27  46.31    0.30   3.98      0.05   8.08     0.159149    2010  \n",
       "50   VT  94.16   1.36    0.34   1.68      0.05   2.40    -0.002430    2021  \n",
       "51   WY  91.44   0.96    2.44   0.86      0.10   4.19     0.023232    2010  "
      ]
     },
     "execution_count": 150,
     "metadata": {},
     "output_type": "execute_result"
    }
   ],
   "source": [
    "##Comparing growth of Growth since 2010 and Growth 2021 for each state\n",
    "#define conditions\n",
    "conditions = [df['Growth 2021'] > df['Growth Since 2010'], \n",
    "              df['Growth 2021'] < df['Growth Since 2010']]\n",
    "\n",
    "#define choices\n",
    "choices = ['2021', '2010']\n",
    "\n",
    "#create new column in DataFrame that displays results of comparisons\n",
    "df['Compare'] = np.select(conditions, choices, default='NA')\n",
    "\n",
    "#view the DataFrame\n",
    "df"
   ]
  },
  {
   "cell_type": "code",
   "execution_count": 173,
   "metadata": {},
   "outputs": [
    {
     "data": {
      "text/plain": [
       "<seaborn.axisgrid.FacetGrid at 0x253d5a339a0>"
      ]
     },
     "execution_count": 173,
     "metadata": {},
     "output_type": "execute_result"
    },
    {
     "data": {
      "image/png": "[encoded data removed]",
      "text/plain": [
       "<Figure size 500x500 with 1 Axes>"
      ]
     },
     "metadata": {},
     "output_type": "display_data"
    }
   ],
   "source": [
    "## Compare columns: shows the comparison in population growth in 2010 and 2021. 2010 value shows that growth was higher in 2010(Growth Since 2010) for that state \n",
    "# and 2021 shows that growth is higher in 2021.\n",
    "##Creating plot to compare the polulation growth in 2021 and 2010\n",
    "sns.set_theme(style=\"ticks\", color_codes=True)\n",
    "\n",
    "sns.catplot(x=\"Compare\", y='State', kind = \"swarm\", data=df)"
   ]
  },
  {
   "cell_type": "markdown",
   "metadata": {},
   "source": [
    "**Summary: there are only 5 states that has more population growth in 2021 than 2010. "
   ]
  },
  {
   "cell_type": "code",
   "execution_count": 152,
   "metadata": {},
   "outputs": [
    {
     "data": {
      "application/vnd.plotly.v1+json": {
       "config": {
        "plotlyServerURL": "https://plot.ly"
       },
       "data": [
        {
         "alignmentgroup": "True",
         "hovertemplate": "Compare=2010<br>State=%{x}<br>% of US=%{y}<extra></extra>",
         "legendgroup": "2010",
         "marker": {
          "color": "#636efa",
          "pattern": {
           "shape": ""
          }
         },
         "name": "2010",
         "offsetgroup": "2010",
         "orientation": "v",
         "showlegend": true,
         "textposition": "auto",
         "type": "bar",
         "x": [
          "California",
          "Texas",
          "Florida",
          "New York",
          "Pennsylvania",
          "Ohio",
          "Georgia",
          "North Carolina",
          "Michigan",
          "New Jersey",
          "Virginia",
          "Washington",
          "Arizona",
          "Tennessee",
          "Massachusetts",
          "Indiana",
          "Missouri",
          "Maryland",
          "Colorado",
          "Wisconsin",
          "Minnesota",
          "South Carolina",
          "Alabama",
          "Louisiana",
          "Kentucky",
          "Oregon",
          "Oklahoma",
          "Utah",
          "Nevada",
          "Iowa",
          "Arkansas",
          "Mississippi",
          "Kansas",
          "New Mexico",
          "Nebraska",
          "Idaho",
          "Hawaii",
          "New Hampshire",
          "Maine",
          "Montana",
          "Rhode Island",
          "Delaware",
          "South Dakota",
          "North Dakota",
          "Alaska",
          "District of Columbia",
          "Wyoming"
         ],
         "xaxis": "x",
         "y": [
          11.84,
          8.89,
          6.56,
          5.77,
          3.83,
          3.5,
          3.24,
          3.2,
          2.99,
          2.65,
          2.57,
          2.33,
          2.25,
          2.08,
          2.07,
          2.03,
          1.84,
          1.81,
          1.76,
          1.75,
          1.71,
          1.58,
          1.47,
          1.38,
          1.34,
          1.28,
          1.19,
          0.99,
          0.95,
          0.95,
          0.91,
          0.89,
          0.87,
          0.63,
          0.58,
          0.56,
          0.42,
          0.41,
          0.4,
          0.32,
          0.32,
          0.3,
          0.27,
          0.23,
          0.22,
          0.21,
          0.17
         ],
         "yaxis": "y"
        },
        {
         "alignmentgroup": "True",
         "hovertemplate": "Compare=2021<br>State=%{x}<br>% of US=%{y}<extra></extra>",
         "legendgroup": "2021",
         "marker": {
          "color": "#EF553B",
          "pattern": {
           "shape": ""
          }
         },
         "name": "2021",
         "offsetgroup": "2021",
         "orientation": "v",
         "showlegend": true,
         "textposition": "auto",
         "type": "bar",
         "x": [
          "Illinois",
          "Connecticut",
          "Puerto Rico",
          "West Virginia",
          "Vermont"
         ],
         "xaxis": "x",
         "y": [
          3.76,
          1.06,
          0.95,
          0.53,
          0.19
         ],
         "yaxis": "y"
        }
       ],
       "layout": {
        "barmode": "group",
        "legend": {
         "title": {
          "text": "Compare"
         },
         "tracegroupgap": 0
        },
        "margin": {
         "t": 60
        },
        "template": {
         "data": {
          "bar": [
           {
            "error_x": {
             "color": "#2a3f5f"
            },
            "error_y": {
             "color": "#2a3f5f"
            },
            "marker": {
             "line": {
              "color": "#E5ECF6",
              "width": 0.5
             },
             "pattern": {
              "fillmode": "overlay",
              "size": 10,
              "solidity": 0.2
             }
            },
            "type": "bar"
           }
          ],
          "barpolar": [
           {
            "marker": {
             "line": {
              "color": "#E5ECF6",
              "width": 0.5
             },
             "pattern": {
              "fillmode": "overlay",
              "size": 10,
              "solidity": 0.2
             }
            },
            "type": "barpolar"
           }
          ],
          "carpet": [
           {
            "aaxis": {
             "endlinecolor": "#2a3f5f",
             "gridcolor": "white",
             "linecolor": "white",
             "minorgridcolor": "white",
             "startlinecolor": "#2a3f5f"
            },
            "baxis": {
             "endlinecolor": "#2a3f5f",
             "gridcolor": "white",
             "linecolor": "white",
             "minorgridcolor": "white",
             "startlinecolor": "#2a3f5f"
            },
            "type": "carpet"
           }
          ],
          "choropleth": [
           {
            "colorbar": {
             "outlinewidth": 0,
             "ticks": ""
            },
            "type": "choropleth"
           }
          ],
          "contour": [
           {
            "colorbar": {
             "outlinewidth": 0,
             "ticks": ""
            },
            "colorscale": [
             [
              0,
              "#0d0887"
             ],
             [
              0.1111111111111111,
              "#46039f"
             ],
             [
              0.2222222222222222,
              "#7201a8"
             ],
             [
              0.3333333333333333,
              "#9c179e"
             ],
             [
              0.4444444444444444,
              "#bd3786"
             ],
             [
              0.5555555555555556,
              "#d8576b"
             ],
             [
              0.6666666666666666,
              "#ed7953"
             ],
             [
              0.7777777777777778,
              "#fb9f3a"
             ],
             [
              0.8888888888888888,
              "#fdca26"
             ],
             [
              1,
              "#f0f921"
             ]
            ],
            "type": "contour"
           }
          ],
          "contourcarpet": [
           {
            "colorbar": {
             "outlinewidth": 0,
             "ticks": ""
            },
            "type": "contourcarpet"
           }
          ],
          "heatmap": [
           {
            "colorbar": {
             "outlinewidth": 0,
             "ticks": ""
            },
            "colorscale": [
             [
              0,
              "#0d0887"
             ],
             [
              0.1111111111111111,
              "#46039f"
             ],
             [
              0.2222222222222222,
              "#7201a8"
             ],
             [
              0.3333333333333333,
              "#9c179e"
             ],
             [
              0.4444444444444444,
              "#bd3786"
             ],
             [
              0.5555555555555556,
              "#d8576b"
             ],
             [
              0.6666666666666666,
              "#ed7953"
             ],
             [
              0.7777777777777778,
              "#fb9f3a"
             ],
             [
              0.8888888888888888,
              "#fdca26"
             ],
             [
              1,
              "#f0f921"
             ]
            ],
            "type": "heatmap"
           }
          ],
          "heatmapgl": [
           {
            "colorbar": {
             "outlinewidth": 0,
             "ticks": ""
            },
            "colorscale": [
             [
              0,
              "#0d0887"
             ],
             [
              0.1111111111111111,
              "#46039f"
             ],
             [
              0.2222222222222222,
              "#7201a8"
             ],
             [
              0.3333333333333333,
              "#9c179e"
             ],
             [
              0.4444444444444444,
              "#bd3786"
             ],
             [
              0.5555555555555556,
              "#d8576b"
             ],
             [
              0.6666666666666666,
              "#ed7953"
             ],
             [
              0.7777777777777778,
              "#fb9f3a"
             ],
             [
              0.8888888888888888,
              "#fdca26"
             ],
             [
              1,
              "#f0f921"
             ]
            ],
            "type": "heatmapgl"
           }
          ],
          "histogram": [
           {
            "marker": {
             "pattern": {
              "fillmode": "overlay",
              "size": 10,
              "solidity": 0.2
             }
            },
            "type": "histogram"
           }
          ],
          "histogram2d": [
           {
            "colorbar": {
             "outlinewidth": 0,
             "ticks": ""
            },
            "colorscale": [
             [
              0,
              "#0d0887"
             ],
             [
              0.1111111111111111,
              "#46039f"
             ],
             [
              0.2222222222222222,
              "#7201a8"
             ],
             [
              0.3333333333333333,
              "#9c179e"
             ],
             [
              0.4444444444444444,
              "#bd3786"
             ],
             [
              0.5555555555555556,
              "#d8576b"
             ],
             [
              0.6666666666666666,
              "#ed7953"
             ],
             [
              0.7777777777777778,
              "#fb9f3a"
             ],
             [
              0.8888888888888888,
              "#fdca26"
             ],
             [
              1,
              "#f0f921"
             ]
            ],
            "type": "histogram2d"
           }
          ],
          "histogram2dcontour": [
           {
            "colorbar": {
             "outlinewidth": 0,
             "ticks": ""
            },
            "colorscale": [
             [
              0,
              "#0d0887"
             ],
             [
              0.1111111111111111,
              "#46039f"
             ],
             [
              0.2222222222222222,
              "#7201a8"
             ],
             [
              0.3333333333333333,
              "#9c179e"
             ],
             [
              0.4444444444444444,
              "#bd3786"
             ],
             [
              0.5555555555555556,
              "#d8576b"
             ],
             [
              0.6666666666666666,
              "#ed7953"
             ],
             [
              0.7777777777777778,
              "#fb9f3a"
             ],
             [
              0.8888888888888888,
              "#fdca26"
             ],
             [
              1,
              "#f0f921"
             ]
            ],
            "type": "histogram2dcontour"
           }
          ],
          "mesh3d": [
           {
            "colorbar": {
             "outlinewidth": 0,
             "ticks": ""
            },
            "type": "mesh3d"
           }
          ],
          "parcoords": [
           {
            "line": {
             "colorbar": {
              "outlinewidth": 0,
              "ticks": ""
             }
            },
            "type": "parcoords"
           }
          ],
          "pie": [
           {
            "automargin": true,
            "type": "pie"
           }
          ],
          "scatter": [
           {
            "marker": {
             "colorbar": {
              "outlinewidth": 0,
              "ticks": ""
             }
            },
            "type": "scatter"
           }
          ],
          "scatter3d": [
           {
            "line": {
             "colorbar": {
              "outlinewidth": 0,
              "ticks": ""
             }
            },
            "marker": {
             "colorbar": {
              "outlinewidth": 0,
              "ticks": ""
             }
            },
            "type": "scatter3d"
           }
          ],
          "scattercarpet": [
           {
            "marker": {
             "colorbar": {
              "outlinewidth": 0,
              "ticks": ""
             }
            },
            "type": "scattercarpet"
           }
          ],
          "scattergeo": [
           {
            "marker": {
             "colorbar": {
              "outlinewidth": 0,
              "ticks": ""
             }
            },
            "type": "scattergeo"
           }
          ],
          "scattergl": [
           {
            "marker": {
             "colorbar": {
              "outlinewidth": 0,
              "ticks": ""
             }
            },
            "type": "scattergl"
           }
          ],
          "scattermapbox": [
           {
            "marker": {
             "colorbar": {
              "outlinewidth": 0,
              "ticks": ""
             }
            },
            "type": "scattermapbox"
           }
          ],
          "scatterpolar": [
           {
            "marker": {
             "colorbar": {
              "outlinewidth": 0,
              "ticks": ""
             }
            },
            "type": "scatterpolar"
           }
          ],
          "scatterpolargl": [
           {
            "marker": {
             "colorbar": {
              "outlinewidth": 0,
              "ticks": ""
             }
            },
            "type": "scatterpolargl"
           }
          ],
          "scatterternary": [
           {
            "marker": {
             "colorbar": {
              "outlinewidth": 0,
              "ticks": ""
             }
            },
            "type": "scatterternary"
           }
          ],
          "surface": [
           {
            "colorbar": {
             "outlinewidth": 0,
             "ticks": ""
            },
            "colorscale": [
             [
              0,
              "#0d0887"
             ],
             [
              0.1111111111111111,
              "#46039f"
             ],
             [
              0.2222222222222222,
              "#7201a8"
             ],
             [
              0.3333333333333333,
              "#9c179e"
             ],
             [
              0.4444444444444444,
              "#bd3786"
             ],
             [
              0.5555555555555556,
              "#d8576b"
             ],
             [
              0.6666666666666666,
              "#ed7953"
             ],
             [
              0.7777777777777778,
              "#fb9f3a"
             ],
             [
              0.8888888888888888,
              "#fdca26"
             ],
             [
              1,
              "#f0f921"
             ]
            ],
            "type": "surface"
           }
          ],
          "table": [
           {
            "cells": {
             "fill": {
              "color": "#EBF0F8"
             },
             "line": {
              "color": "white"
             }
            },
            "header": {
             "fill": {
              "color": "#C8D4E3"
             },
             "line": {
              "color": "white"
             }
            },
            "type": "table"
           }
          ]
         },
         "layout": {
          "annotationdefaults": {
           "arrowcolor": "#2a3f5f",
           "arrowhead": 0,
           "arrowwidth": 1
          },
          "autotypenumbers": "strict",
          "coloraxis": {
           "colorbar": {
            "outlinewidth": 0,
            "ticks": ""
           }
          },
          "colorscale": {
           "diverging": [
            [
             0,
             "#8e0152"
            ],
            [
             0.1,
             "#c51b7d"
            ],
            [
             0.2,
             "#de77ae"
            ],
            [
             0.3,
             "#f1b6da"
            ],
            [
             0.4,
             "#fde0ef"
            ],
            [
             0.5,
             "#f7f7f7"
            ],
            [
             0.6,
             "#e6f5d0"
            ],
            [
             0.7,
             "#b8e186"
            ],
            [
             0.8,
             "#7fbc41"
            ],
            [
             0.9,
             "#4d9221"
            ],
            [
             1,
             "#276419"
            ]
           ],
           "sequential": [
            [
             0,
             "#0d0887"
            ],
            [
             0.1111111111111111,
             "#46039f"
            ],
            [
             0.2222222222222222,
             "#7201a8"
            ],
            [
             0.3333333333333333,
             "#9c179e"
            ],
            [
             0.4444444444444444,
             "#bd3786"
            ],
            [
             0.5555555555555556,
             "#d8576b"
            ],
            [
             0.6666666666666666,
             "#ed7953"
            ],
            [
             0.7777777777777778,
             "#fb9f3a"
            ],
            [
             0.8888888888888888,
             "#fdca26"
            ],
            [
             1,
             "#f0f921"
            ]
           ],
           "sequentialminus": [
            [
             0,
             "#0d0887"
            ],
            [
             0.1111111111111111,
             "#46039f"
            ],
            [
             0.2222222222222222,
             "#7201a8"
            ],
            [
             0.3333333333333333,
             "#9c179e"
            ],
            [
             0.4444444444444444,
             "#bd3786"
            ],
            [
             0.5555555555555556,
             "#d8576b"
            ],
            [
             0.6666666666666666,
             "#ed7953"
            ],
            [
             0.7777777777777778,
             "#fb9f3a"
            ],
            [
             0.8888888888888888,
             "#fdca26"
            ],
            [
             1,
             "#f0f921"
            ]
           ]
          },
          "colorway": [
           "#636efa",
           "#EF553B",
           "#00cc96",
           "#ab63fa",
           "#FFA15A",
           "#19d3f3",
           "#FF6692",
           "#B6E880",
           "#FF97FF",
           "#FECB52"
          ],
          "font": {
           "color": "#2a3f5f"
          },
          "geo": {
           "bgcolor": "white",
           "lakecolor": "white",
           "landcolor": "#E5ECF6",
           "showlakes": true,
           "showland": true,
           "subunitcolor": "white"
          },
          "hoverlabel": {
           "align": "left"
          },
          "hovermode": "closest",
          "mapbox": {
           "style": "light"
          },
          "paper_bgcolor": "white",
          "plot_bgcolor": "#E5ECF6",
          "polar": {
           "angularaxis": {
            "gridcolor": "white",
            "linecolor": "white",
            "ticks": ""
           },
           "bgcolor": "#E5ECF6",
           "radialaxis": {
            "gridcolor": "white",
            "linecolor": "white",
            "ticks": ""
           }
          },
          "scene": {
           "xaxis": {
            "backgroundcolor": "#E5ECF6",
            "gridcolor": "white",
            "gridwidth": 2,
            "linecolor": "white",
            "showbackground": true,
            "ticks": "",
            "zerolinecolor": "white"
           },
           "yaxis": {
            "backgroundcolor": "#E5ECF6",
            "gridcolor": "white",
            "gridwidth": 2,
            "linecolor": "white",
            "showbackground": true,
            "ticks": "",
            "zerolinecolor": "white"
           },
           "zaxis": {
            "backgroundcolor": "#E5ECF6",
            "gridcolor": "white",
            "gridwidth": 2,
            "linecolor": "white",
            "showbackground": true,
            "ticks": "",
            "zerolinecolor": "white"
           }
          },
          "shapedefaults": {
           "line": {
            "color": "#2a3f5f"
           }
          },
          "ternary": {
           "aaxis": {
            "gridcolor": "white",
            "linecolor": "white",
            "ticks": ""
           },
           "baxis": {
            "gridcolor": "white",
            "linecolor": "white",
            "ticks": ""
           },
           "bgcolor": "#E5ECF6",
           "caxis": {
            "gridcolor": "white",
            "linecolor": "white",
            "ticks": ""
           }
          },
          "title": {
           "x": 0.05
          },
          "xaxis": {
           "automargin": true,
           "gridcolor": "white",
           "linecolor": "white",
           "ticks": "",
           "title": {
            "standoff": 15
           },
           "zerolinecolor": "white",
           "zerolinewidth": 2
          },
          "yaxis": {
           "automargin": true,
           "gridcolor": "white",
           "linecolor": "white",
           "ticks": "",
           "title": {
            "standoff": 15
           },
           "zerolinecolor": "white",
           "zerolinewidth": 2
          }
         }
        },
        "xaxis": {
         "anchor": "y",
         "domain": [
          0,
          1
         ],
         "title": {
          "text": "State"
         }
        },
        "yaxis": {
         "anchor": "x",
         "domain": [
          0,
          1
         ],
         "title": {
          "text": "% of US"
         }
        }
       }
      },
      "text/html": [
       "<div>                            <div id=\"df263870-cb5d-4f88-87bb-bb6f7f4e7b40\" class=\"plotly-graph-div\" style=\"height:525px; width:100%;\"></div>            <script type=\"text/javascript\">                require([\"plotly\"], function(Plotly) {                    window.PLOTLYENV=window.PLOTLYENV || {};                                    if (document.getElementById(\"df263870-cb5d-4f88-87bb-bb6f7f4e7b40\")) {                    Plotly.newPlot(                        \"df263870-cb5d-4f88-87bb-bb6f7f4e7b40\",                        [{\"alignmentgroup\":\"True\",\"hovertemplate\":\"Compare=2010<br>State=%{x}<br>% of US=%{y}<extra></extra>\",\"legendgroup\":\"2010\",\"marker\":{\"color\":\"#636efa\",\"pattern\":{\"shape\":\"\"}},\"name\":\"2010\",\"offsetgroup\":\"2010\",\"orientation\":\"v\",\"showlegend\":true,\"textposition\":\"auto\",\"type\":\"bar\",\"x\":[\"California\",\"Texas\",\"Florida\",\"New York\",\"Pennsylvania\",\"Ohio\",\"Georgia\",\"North Carolina\",\"Michigan\",\"New Jersey\",\"Virginia\",\"Washington\",\"Arizona\",\"Tennessee\",\"Massachusetts\",\"Indiana\",\"Missouri\",\"Maryland\",\"Colorado\",\"Wisconsin\",\"Minnesota\",\"South Carolina\",\"Alabama\",\"Louisiana\",\"Kentucky\",\"Oregon\",\"Oklahoma\",\"Utah\",\"Nevada\",\"Iowa\",\"Arkansas\",\"Mississippi\",\"Kansas\",\"New Mexico\",\"Nebraska\",\"Idaho\",\"Hawaii\",\"New Hampshire\",\"Maine\",\"Montana\",\"Rhode Island\",\"Delaware\",\"South Dakota\",\"North Dakota\",\"Alaska\",\"District of Columbia\",\"Wyoming\"],\"xaxis\":\"x\",\"y\":[11.84,8.89,6.56,5.77,3.83,3.5,3.24,3.2,2.99,2.65,2.57,2.33,2.25,2.08,2.07,2.03,1.84,1.81,1.76,1.75,1.71,1.58,1.47,1.38,1.34,1.28,1.19,0.99,0.95,0.95,0.91,0.89,0.87,0.63,0.58,0.56,0.42,0.41,0.4,0.32,0.32,0.3,0.27,0.23,0.22,0.21,0.17],\"yaxis\":\"y\"},{\"alignmentgroup\":\"True\",\"hovertemplate\":\"Compare=2021<br>State=%{x}<br>% of US=%{y}<extra></extra>\",\"legendgroup\":\"2021\",\"marker\":{\"color\":\"#EF553B\",\"pattern\":{\"shape\":\"\"}},\"name\":\"2021\",\"offsetgroup\":\"2021\",\"orientation\":\"v\",\"showlegend\":true,\"textposition\":\"auto\",\"type\":\"bar\",\"x\":[\"Illinois\",\"Connecticut\",\"Puerto Rico\",\"West Virginia\",\"Vermont\"],\"xaxis\":\"x\",\"y\":[3.76,1.06,0.95,0.53,0.19],\"yaxis\":\"y\"}],                        {\"barmode\":\"group\",\"legend\":{\"title\":{\"text\":\"Compare\"},\"tracegroupgap\":0},\"margin\":{\"t\":60},\"template\":{\"data\":{\"bar\":[{\"error_x\":{\"color\":\"#2a3f5f\"},\"error_y\":{\"color\":\"#2a3f5f\"},\"marker\":{\"line\":{\"color\":\"#E5ECF6\",\"width\":0.5},\"pattern\":{\"fillmode\":\"overlay\",\"size\":10,\"solidity\":0.2}},\"type\":\"bar\"}],\"barpolar\":[{\"marker\":{\"line\":{\"color\":\"#E5ECF6\",\"width\":0.5},\"pattern\":{\"fillmode\":\"overlay\",\"size\":10,\"solidity\":0.2}},\"type\":\"barpolar\"}],\"carpet\":[{\"aaxis\":{\"endlinecolor\":\"#2a3f5f\",\"gridcolor\":\"white\",\"linecolor\":\"white\",\"minorgridcolor\":\"white\",\"startlinecolor\":\"#2a3f5f\"},\"baxis\":{\"endlinecolor\":\"#2a3f5f\",\"gridcolor\":\"white\",\"linecolor\":\"white\",\"minorgridcolor\":\"white\",\"startlinecolor\":\"#2a3f5f\"},\"type\":\"carpet\"}],\"choropleth\":[{\"colorbar\":{\"outlinewidth\":0,\"ticks\":\"\"},\"type\":\"choropleth\"}],\"contour\":[{\"colorbar\":{\"outlinewidth\":0,\"ticks\":\"\"},\"colorscale\":[[0.0,\"#0d0887\"],[0.1111111111111111,\"#46039f\"],[0.2222222222222222,\"#7201a8\"],[0.3333333333333333,\"#9c179e\"],[0.4444444444444444,\"#bd3786\"],[0.5555555555555556,\"#d8576b\"],[0.6666666666666666,\"#ed7953\"],[0.7777777777777778,\"#fb9f3a\"],[0.8888888888888888,\"#fdca26\"],[1.0,\"#f0f921\"]],\"type\":\"contour\"}],\"contourcarpet\":[{\"colorbar\":{\"outlinewidth\":0,\"ticks\":\"\"},\"type\":\"contourcarpet\"}],\"heatmap\":[{\"colorbar\":{\"outlinewidth\":0,\"ticks\":\"\"},\"colorscale\":[[0.0,\"#0d0887\"],[0.1111111111111111,\"#46039f\"],[0.2222222222222222,\"#7201a8\"],[0.3333333333333333,\"#9c179e\"],[0.4444444444444444,\"#bd3786\"],[0.5555555555555556,\"#d8576b\"],[0.6666666666666666,\"#ed7953\"],[0.7777777777777778,\"#fb9f3a\"],[0.8888888888888888,\"#fdca26\"],[1.0,\"#f0f921\"]],\"type\":\"heatmap\"}],\"heatmapgl\":[{\"colorbar\":{\"outlinewidth\":0,\"ticks\":\"\"},\"colorscale\":[[0.0,\"#0d0887\"],[0.1111111111111111,\"#46039f\"],[0.2222222222222222,\"#7201a8\"],[0.3333333333333333,\"#9c179e\"],[0.4444444444444444,\"#bd3786\"],[0.5555555555555556,\"#d8576b\"],[0.6666666666666666,\"#ed7953\"],[0.7777777777777778,\"#fb9f3a\"],[0.8888888888888888,\"#fdca26\"],[1.0,\"#f0f921\"]],\"type\":\"heatmapgl\"}],\"histogram\":[{\"marker\":{\"pattern\":{\"fillmode\":\"overlay\",\"size\":10,\"solidity\":0.2}},\"type\":\"histogram\"}],\"histogram2d\":[{\"colorbar\":{\"outlinewidth\":0,\"ticks\":\"\"},\"colorscale\":[[0.0,\"#0d0887\"],[0.1111111111111111,\"#46039f\"],[0.2222222222222222,\"#7201a8\"],[0.3333333333333333,\"#9c179e\"],[0.4444444444444444,\"#bd3786\"],[0.5555555555555556,\"#d8576b\"],[0.6666666666666666,\"#ed7953\"],[0.7777777777777778,\"#fb9f3a\"],[0.8888888888888888,\"#fdca26\"],[1.0,\"#f0f921\"]],\"type\":\"histogram2d\"}],\"histogram2dcontour\":[{\"colorbar\":{\"outlinewidth\":0,\"ticks\":\"\"},\"colorscale\":[[0.0,\"#0d0887\"],[0.1111111111111111,\"#46039f\"],[0.2222222222222222,\"#7201a8\"],[0.3333333333333333,\"#9c179e\"],[0.4444444444444444,\"#bd3786\"],[0.5555555555555556,\"#d8576b\"],[0.6666666666666666,\"#ed7953\"],[0.7777777777777778,\"#fb9f3a\"],[0.8888888888888888,\"#fdca26\"],[1.0,\"#f0f921\"]],\"type\":\"histogram2dcontour\"}],\"mesh3d\":[{\"colorbar\":{\"outlinewidth\":0,\"ticks\":\"\"},\"type\":\"mesh3d\"}],\"parcoords\":[{\"line\":{\"colorbar\":{\"outlinewidth\":0,\"ticks\":\"\"}},\"type\":\"parcoords\"}],\"pie\":[{\"automargin\":true,\"type\":\"pie\"}],\"scatter\":[{\"marker\":{\"colorbar\":{\"outlinewidth\":0,\"ticks\":\"\"}},\"type\":\"scatter\"}],\"scatter3d\":[{\"line\":{\"colorbar\":{\"outlinewidth\":0,\"ticks\":\"\"}},\"marker\":{\"colorbar\":{\"outlinewidth\":0,\"ticks\":\"\"}},\"type\":\"scatter3d\"}],\"scattercarpet\":[{\"marker\":{\"colorbar\":{\"outlinewidth\":0,\"ticks\":\"\"}},\"type\":\"scattercarpet\"}],\"scattergeo\":[{\"marker\":{\"colorbar\":{\"outlinewidth\":0,\"ticks\":\"\"}},\"type\":\"scattergeo\"}],\"scattergl\":[{\"marker\":{\"colorbar\":{\"outlinewidth\":0,\"ticks\":\"\"}},\"type\":\"scattergl\"}],\"scattermapbox\":[{\"marker\":{\"colorbar\":{\"outlinewidth\":0,\"ticks\":\"\"}},\"type\":\"scattermapbox\"}],\"scatterpolar\":[{\"marker\":{\"colorbar\":{\"outlinewidth\":0,\"ticks\":\"\"}},\"type\":\"scatterpolar\"}],\"scatterpolargl\":[{\"marker\":{\"colorbar\":{\"outlinewidth\":0,\"ticks\":\"\"}},\"type\":\"scatterpolargl\"}],\"scatterternary\":[{\"marker\":{\"colorbar\":{\"outlinewidth\":0,\"ticks\":\"\"}},\"type\":\"scatterternary\"}],\"surface\":[{\"colorbar\":{\"outlinewidth\":0,\"ticks\":\"\"},\"colorscale\":[[0.0,\"#0d0887\"],[0.1111111111111111,\"#46039f\"],[0.2222222222222222,\"#7201a8\"],[0.3333333333333333,\"#9c179e\"],[0.4444444444444444,\"#bd3786\"],[0.5555555555555556,\"#d8576b\"],[0.6666666666666666,\"#ed7953\"],[0.7777777777777778,\"#fb9f3a\"],[0.8888888888888888,\"#fdca26\"],[1.0,\"#f0f921\"]],\"type\":\"surface\"}],\"table\":[{\"cells\":{\"fill\":{\"color\":\"#EBF0F8\"},\"line\":{\"color\":\"white\"}},\"header\":{\"fill\":{\"color\":\"#C8D4E3\"},\"line\":{\"color\":\"white\"}},\"type\":\"table\"}]},\"layout\":{\"annotationdefaults\":{\"arrowcolor\":\"#2a3f5f\",\"arrowhead\":0,\"arrowwidth\":1},\"autotypenumbers\":\"strict\",\"coloraxis\":{\"colorbar\":{\"outlinewidth\":0,\"ticks\":\"\"}},\"colorscale\":{\"diverging\":[[0,\"#8e0152\"],[0.1,\"#c51b7d\"],[0.2,\"#de77ae\"],[0.3,\"#f1b6da\"],[0.4,\"#fde0ef\"],[0.5,\"#f7f7f7\"],[0.6,\"#e6f5d0\"],[0.7,\"#b8e186\"],[0.8,\"#7fbc41\"],[0.9,\"#4d9221\"],[1,\"#276419\"]],\"sequential\":[[0.0,\"#0d0887\"],[0.1111111111111111,\"#46039f\"],[0.2222222222222222,\"#7201a8\"],[0.3333333333333333,\"#9c179e\"],[0.4444444444444444,\"#bd3786\"],[0.5555555555555556,\"#d8576b\"],[0.6666666666666666,\"#ed7953\"],[0.7777777777777778,\"#fb9f3a\"],[0.8888888888888888,\"#fdca26\"],[1.0,\"#f0f921\"]],\"sequentialminus\":[[0.0,\"#0d0887\"],[0.1111111111111111,\"#46039f\"],[0.2222222222222222,\"#7201a8\"],[0.3333333333333333,\"#9c179e\"],[0.4444444444444444,\"#bd3786\"],[0.5555555555555556,\"#d8576b\"],[0.6666666666666666,\"#ed7953\"],[0.7777777777777778,\"#fb9f3a\"],[0.8888888888888888,\"#fdca26\"],[1.0,\"#f0f921\"]]},\"colorway\":[\"#636efa\",\"#EF553B\",\"#00cc96\",\"#ab63fa\",\"#FFA15A\",\"#19d3f3\",\"#FF6692\",\"#B6E880\",\"#FF97FF\",\"#FECB52\"],\"font\":{\"color\":\"#2a3f5f\"},\"geo\":{\"bgcolor\":\"white\",\"lakecolor\":\"white\",\"landcolor\":\"#E5ECF6\",\"showlakes\":true,\"showland\":true,\"subunitcolor\":\"white\"},\"hoverlabel\":{\"align\":\"left\"},\"hovermode\":\"closest\",\"mapbox\":{\"style\":\"light\"},\"paper_bgcolor\":\"white\",\"plot_bgcolor\":\"#E5ECF6\",\"polar\":{\"angularaxis\":{\"gridcolor\":\"white\",\"linecolor\":\"white\",\"ticks\":\"\"},\"bgcolor\":\"#E5ECF6\",\"radialaxis\":{\"gridcolor\":\"white\",\"linecolor\":\"white\",\"ticks\":\"\"}},\"scene\":{\"xaxis\":{\"backgroundcolor\":\"#E5ECF6\",\"gridcolor\":\"white\",\"gridwidth\":2,\"linecolor\":\"white\",\"showbackground\":true,\"ticks\":\"\",\"zerolinecolor\":\"white\"},\"yaxis\":{\"backgroundcolor\":\"#E5ECF6\",\"gridcolor\":\"white\",\"gridwidth\":2,\"linecolor\":\"white\",\"showbackground\":true,\"ticks\":\"\",\"zerolinecolor\":\"white\"},\"zaxis\":{\"backgroundcolor\":\"#E5ECF6\",\"gridcolor\":\"white\",\"gridwidth\":2,\"linecolor\":\"white\",\"showbackground\":true,\"ticks\":\"\",\"zerolinecolor\":\"white\"}},\"shapedefaults\":{\"line\":{\"color\":\"#2a3f5f\"}},\"ternary\":{\"aaxis\":{\"gridcolor\":\"white\",\"linecolor\":\"white\",\"ticks\":\"\"},\"baxis\":{\"gridcolor\":\"white\",\"linecolor\":\"white\",\"ticks\":\"\"},\"bgcolor\":\"#E5ECF6\",\"caxis\":{\"gridcolor\":\"white\",\"linecolor\":\"white\",\"ticks\":\"\"}},\"title\":{\"x\":0.05},\"xaxis\":{\"automargin\":true,\"gridcolor\":\"white\",\"linecolor\":\"white\",\"ticks\":\"\",\"title\":{\"standoff\":15},\"zerolinecolor\":\"white\",\"zerolinewidth\":2},\"yaxis\":{\"automargin\":true,\"gridcolor\":\"white\",\"linecolor\":\"white\",\"ticks\":\"\",\"title\":{\"standoff\":15},\"zerolinecolor\":\"white\",\"zerolinewidth\":2}}},\"xaxis\":{\"anchor\":\"y\",\"domain\":[0.0,1.0],\"title\":{\"text\":\"State\"}},\"yaxis\":{\"anchor\":\"x\",\"domain\":[0.0,1.0],\"title\":{\"text\":\"% of US\"}}},                        {\"responsive\": true}                    ).then(function(){\n",
       "                            \n",
       "var gd = document.getElementById('df263870-cb5d-4f88-87bb-bb6f7f4e7b40');\n",
       "var x = new MutationObserver(function (mutations, observer) {{\n",
       "        var display = window.getComputedStyle(gd).display;\n",
       "        if (!display || display === 'none') {{\n",
       "            console.log([gd, 'removed!']);\n",
       "            Plotly.purge(gd);\n",
       "            observer.disconnect();\n",
       "        }}\n",
       "}});\n",
       "\n",
       "// Listen for the removal of the full notebook cells\n",
       "var notebookContainer = gd.closest('#notebook-container');\n",
       "if (notebookContainer) {{\n",
       "    x.observe(notebookContainer, {childList: true});\n",
       "}}\n",
       "\n",
       "// Listen for the clearing of the current output cell\n",
       "var outputEl = gd.closest('.output');\n",
       "if (outputEl) {{\n",
       "    x.observe(outputEl, {childList: true});\n",
       "}}\n",
       "\n",
       "                        })                };                });            </script>        </div>"
      ]
     },
     "metadata": {},
     "output_type": "display_data"
    }
   ],
   "source": [
    "##plotting % of  US population of each state.\n",
    "fig = px.bar(df, x=\"State\", y=\"% of US\", color=\"Compare\", barmode=\"group\")\n",
    "fig.show()"
   ]
  },
  {
   "cell_type": "markdown",
   "metadata": {},
   "source": [
    "** Summary We can see the population contribution of each state and also red bar shows the states those had more population growth in 2021 than 2010."
   ]
  },
  {
   "cell_type": "code",
   "execution_count": 112,
   "metadata": {},
   "outputs": [
    {
     "data": {
      "application/vnd.plotly.v1+json": {
       "config": {
        "plotlyServerURL": "https://plot.ly"
       },
       "data": [
        {
         "alignmentgroup": "True",
         "hovertemplate": "variable=White<br>State=%{x}<br>value=%{y}<extra></extra>",
         "legendgroup": "White",
         "marker": {
          "color": "#636efa",
          "pattern": {
           "shape": ""
          }
         },
         "name": "White",
         "offsetgroup": "White",
         "orientation": "v",
         "showlegend": true,
         "textposition": "auto",
         "type": "bar",
         "x": [
          "California",
          "Texas",
          "Florida",
          "New York",
          "Pennsylvania",
          "Illinois",
          "Ohio",
          "Georgia",
          "North Carolina",
          "Michigan",
          "New Jersey",
          "Virginia",
          "Washington",
          "Arizona",
          "Tennessee",
          "Massachusetts",
          "Indiana",
          "Missouri",
          "Maryland",
          "Colorado",
          "Wisconsin",
          "Minnesota",
          "South Carolina",
          "Alabama",
          "Louisiana",
          "Kentucky",
          "Oregon",
          "Oklahoma",
          "Connecticut",
          "Utah",
          "Puerto Rico",
          "Nevada",
          "Iowa",
          "Arkansas",
          "Mississippi",
          "Kansas",
          "New Mexico",
          "Nebraska",
          "Idaho",
          "West Virginia",
          "Hawaii",
          "New Hampshire",
          "Maine",
          "Montana",
          "Rhode Island",
          "Delaware",
          "South Dakota",
          "North Dakota",
          "Alaska",
          "District of Columbia",
          "Vermont",
          "Wyoming"
         ],
         "xaxis": "x",
         "y": [
          59.7,
          73.97,
          75.12,
          63.66,
          80.53,
          71.53,
          81.3,
          58.62,
          68.68,
          78.41,
          67.78,
          67.63,
          75.38,
          77.22,
          77.58,
          78.07,
          83.31,
          82.16,
          55.54,
          84,
          85.43,
          82.85,
          67.16,
          68.09,
          62.01,
          86.95,
          84.29,
          72.32,
          75.92,
          86.43,
          65.93,
          65.59,
          90.02,
          76.72,
          58.41,
          84.38,
          74.81,
          87.06,
          89.97,
          93.08,
          24.95,
          92.88,
          94.31,
          88.54,
          80.46,
          68.76,
          84.27,
          86.58,
          64.58,
          41.27,
          94.16,
          91.44
         ],
         "yaxis": "y"
        },
        {
         "alignmentgroup": "True",
         "hovertemplate": "variable=Black<br>State=%{x}<br>value=%{y}<extra></extra>",
         "legendgroup": "Black",
         "marker": {
          "color": "#EF553B",
          "pattern": {
           "shape": ""
          }
         },
         "name": "Black",
         "offsetgroup": "Black",
         "orientation": "v",
         "showlegend": true,
         "textposition": "auto",
         "type": "bar",
         "x": [
          "California",
          "Texas",
          "Florida",
          "New York",
          "Pennsylvania",
          "Illinois",
          "Ohio",
          "Georgia",
          "North Carolina",
          "Michigan",
          "New Jersey",
          "Virginia",
          "Washington",
          "Arizona",
          "Tennessee",
          "Massachusetts",
          "Indiana",
          "Missouri",
          "Maryland",
          "Colorado",
          "Wisconsin",
          "Minnesota",
          "South Carolina",
          "Alabama",
          "Louisiana",
          "Kentucky",
          "Oregon",
          "Oklahoma",
          "Connecticut",
          "Utah",
          "Puerto Rico",
          "Nevada",
          "Iowa",
          "Arkansas",
          "Mississippi",
          "Kansas",
          "New Mexico",
          "Nebraska",
          "Idaho",
          "West Virginia",
          "Hawaii",
          "New Hampshire",
          "Maine",
          "Montana",
          "Rhode Island",
          "Delaware",
          "South Dakota",
          "North Dakota",
          "Alaska",
          "District of Columbia",
          "Vermont",
          "Wyoming"
         ],
         "xaxis": "x",
         "y": [
          5.79,
          12.13,
          16.07,
          15.66,
          11.18,
          14.2,
          12.41,
          31.61,
          21.44,
          13.79,
          13.46,
          19.18,
          3.8,
          4.5,
          16.76,
          7.63,
          9.4,
          11.49,
          29.89,
          4.16,
          6.41,
          6.41,
          26.77,
          26.64,
          32.22,
          8.07,
          1.91,
          7.28,
          10.72,
          1.19,
          11.65,
          9.12,
          3.71,
          15.32,
          37.72,
          5.85,
          2.11,
          4.83,
          0.69,
          3.69,
          1.83,
          1.6,
          1.38,
          0.5,
          6.77,
          22.18,
          2.01,
          2.91,
          3.28,
          46.31,
          1.36,
          0.96
         ],
         "yaxis": "y"
        },
        {
         "alignmentgroup": "True",
         "hovertemplate": "variable=Indian<br>State=%{x}<br>value=%{y}<extra></extra>",
         "legendgroup": "Indian",
         "marker": {
          "color": "#00cc96",
          "pattern": {
           "shape": ""
          }
         },
         "name": "Indian",
         "offsetgroup": "Indian",
         "orientation": "v",
         "showlegend": true,
         "textposition": "auto",
         "type": "bar",
         "x": [
          "California",
          "Texas",
          "Florida",
          "New York",
          "Pennsylvania",
          "Illinois",
          "Ohio",
          "Georgia",
          "North Carolina",
          "Michigan",
          "New Jersey",
          "Virginia",
          "Washington",
          "Arizona",
          "Tennessee",
          "Massachusetts",
          "Indiana",
          "Missouri",
          "Maryland",
          "Colorado",
          "Wisconsin",
          "Minnesota",
          "South Carolina",
          "Alabama",
          "Louisiana",
          "Kentucky",
          "Oregon",
          "Oklahoma",
          "Connecticut",
          "Utah",
          "Puerto Rico",
          "Nevada",
          "Iowa",
          "Arkansas",
          "Mississippi",
          "Kansas",
          "New Mexico",
          "Nebraska",
          "Idaho",
          "West Virginia",
          "Hawaii",
          "New Hampshire",
          "Maine",
          "Montana",
          "Rhode Island",
          "Delaware",
          "South Dakota",
          "North Dakota",
          "Alaska",
          "District of Columbia",
          "Vermont",
          "Wyoming"
         ],
         "xaxis": "x",
         "y": [
          0.77,
          0.5,
          0.28,
          0.41,
          0.19,
          0.26,
          0.2,
          0.36,
          1.21,
          0.54,
          0.22,
          0.28,
          1.28,
          4.5,
          0.27,
          0.22,
          0.24,
          0.44,
          0.28,
          0.98,
          0.89,
          1.04,
          0.35,
          0.52,
          0.57,
          0.21,
          1.16,
          7.62,
          0.28,
          1.09,
          0.21,
          1.28,
          0.38,
          0.68,
          0.48,
          0.82,
          9.55,
          0.92,
          1.35,
          0.2,
          0.26,
          0.15,
          0.65,
          6.36,
          0.5,
          0.39,
          8.75,
          5.29,
          14.89,
          0.3,
          0.34,
          2.44
         ],
         "yaxis": "y"
        },
        {
         "alignmentgroup": "True",
         "hovertemplate": "variable=Asian<br>State=%{x}<br>value=%{y}<extra></extra>",
         "legendgroup": "Asian",
         "marker": {
          "color": "#ab63fa",
          "pattern": {
           "shape": ""
          }
         },
         "name": "Asian",
         "offsetgroup": "Asian",
         "orientation": "v",
         "showlegend": true,
         "textposition": "auto",
         "type": "bar",
         "x": [
          "California",
          "Texas",
          "Florida",
          "New York",
          "Pennsylvania",
          "Illinois",
          "Ohio",
          "Georgia",
          "North Carolina",
          "Michigan",
          "New Jersey",
          "Virginia",
          "Washington",
          "Arizona",
          "Tennessee",
          "Massachusetts",
          "Indiana",
          "Missouri",
          "Maryland",
          "Colorado",
          "Wisconsin",
          "Minnesota",
          "South Carolina",
          "Alabama",
          "Louisiana",
          "Kentucky",
          "Oregon",
          "Oklahoma",
          "Connecticut",
          "Utah",
          "Puerto Rico",
          "Nevada",
          "Iowa",
          "Arkansas",
          "Mississippi",
          "Kansas",
          "New Mexico",
          "Nebraska",
          "Idaho",
          "West Virginia",
          "Hawaii",
          "New Hampshire",
          "Maine",
          "Montana",
          "Rhode Island",
          "Delaware",
          "South Dakota",
          "North Dakota",
          "Alaska",
          "District of Columbia",
          "Vermont",
          "Wyoming"
         ],
         "xaxis": "x",
         "y": [
          14.49,
          4.8,
          2.73,
          8.42,
          3.41,
          5.47,
          2.22,
          3.98,
          2.85,
          3.13,
          9.46,
          6.4,
          8.53,
          3.31,
          1.75,
          6.6,
          2.28,
          1.98,
          6.28,
          3.18,
          2.79,
          4.82,
          1.57,
          1.36,
          1.73,
          1.47,
          4.37,
          2.17,
          4.51,
          2.32,
          0.19,
          8.15,
          2.41,
          1.52,
          0.99,
          2.95,
          1.56,
          2.38,
          1.41,
          0.8,
          37.79,
          2.68,
          1.13,
          0.79,
          3.4,
          3.87,
          1.45,
          1.45,
          6.23,
          3.98,
          1.68,
          0.86
         ],
         "yaxis": "y"
        },
        {
         "alignmentgroup": "True",
         "hovertemplate": "variable=Hawaiian<br>State=%{x}<br>value=%{y}<extra></extra>",
         "legendgroup": "Hawaiian",
         "marker": {
          "color": "#FFA15A",
          "pattern": {
           "shape": ""
          }
         },
         "name": "Hawaiian",
         "offsetgroup": "Hawaiian",
         "orientation": "v",
         "showlegend": true,
         "textposition": "auto",
         "type": "bar",
         "x": [
          "California",
          "Texas",
          "Florida",
          "New York",
          "Pennsylvania",
          "Illinois",
          "Ohio",
          "Georgia",
          "North Carolina",
          "Michigan",
          "New Jersey",
          "Virginia",
          "Washington",
          "Arizona",
          "Tennessee",
          "Massachusetts",
          "Indiana",
          "Missouri",
          "Maryland",
          "Colorado",
          "Wisconsin",
          "Minnesota",
          "South Carolina",
          "Alabama",
          "Louisiana",
          "Kentucky",
          "Oregon",
          "Oklahoma",
          "Connecticut",
          "Utah",
          "Puerto Rico",
          "Nevada",
          "Iowa",
          "Arkansas",
          "Mississippi",
          "Kansas",
          "New Mexico",
          "Nebraska",
          "Idaho",
          "West Virginia",
          "Hawaii",
          "New Hampshire",
          "Maine",
          "Montana",
          "Rhode Island",
          "Delaware",
          "South Dakota",
          "North Dakota",
          "Alaska",
          "District of Columbia",
          "Vermont",
          "Wyoming"
         ],
         "xaxis": "x",
         "y": [
          0.4,
          0.09,
          0.06,
          0.05,
          0.03,
          0.04,
          0.03,
          0.06,
          0.07,
          0.03,
          0.04,
          0.07,
          0.66,
          0.21,
          0.06,
          0.04,
          0.04,
          0.13,
          0.05,
          0.15,
          0.04,
          0.04,
          0.08,
          0.05,
          0.03,
          0.07,
          0.4,
          0.16,
          0.03,
          0.89,
          0.01,
          0.67,
          0.12,
          0.29,
          0.02,
          0.08,
          0.08,
          0.07,
          0.16,
          0.02,
          10.06,
          0.03,
          0.03,
          0.08,
          0.08,
          0.06,
          0.06,
          0.11,
          1.25,
          0.05,
          0.05,
          0.1
         ],
         "yaxis": "y"
        },
        {
         "alignmentgroup": "True",
         "hovertemplate": "variable=Other<br>State=%{x}<br>value=%{y}<extra></extra>",
         "legendgroup": "Other",
         "marker": {
          "color": "#19d3f3",
          "pattern": {
           "shape": ""
          }
         },
         "name": "Other",
         "offsetgroup": "Other",
         "orientation": "v",
         "showlegend": true,
         "textposition": "auto",
         "type": "bar",
         "x": [
          "California",
          "Texas",
          "Florida",
          "New York",
          "Pennsylvania",
          "Illinois",
          "Ohio",
          "Georgia",
          "North Carolina",
          "Michigan",
          "New Jersey",
          "Virginia",
          "Washington",
          "Arizona",
          "Tennessee",
          "Massachusetts",
          "Indiana",
          "Missouri",
          "Maryland",
          "Colorado",
          "Wisconsin",
          "Minnesota",
          "South Carolina",
          "Alabama",
          "Louisiana",
          "Kentucky",
          "Oregon",
          "Oklahoma",
          "Connecticut",
          "Utah",
          "Puerto Rico",
          "Nevada",
          "Iowa",
          "Arkansas",
          "Mississippi",
          "Kansas",
          "New Mexico",
          "Nebraska",
          "Idaho",
          "West Virginia",
          "Hawaii",
          "New Hampshire",
          "Maine",
          "Montana",
          "Rhode Island",
          "Delaware",
          "South Dakota",
          "North Dakota",
          "Alaska",
          "District of Columbia",
          "Vermont",
          "Wyoming"
         ],
         "xaxis": "x",
         "y": [
          18.85,
          8.51,
          5.73,
          11.81,
          4.65,
          8.5,
          3.85,
          5.36,
          5.75,
          4.1,
          9.04,
          6.44,
          10.35,
          10.26,
          3.58,
          7.44,
          4.73,
          3.8,
          7.96,
          7.53,
          4.44,
          4.84,
          4.07,
          3.34,
          3.44,
          3.23,
          7.87,
          10.46,
          8.54,
          8.08,
          22.01,
          15.18,
          3.36,
          5.47,
          2.38,
          5.92,
          11.9,
          4.73,
          6.42,
          2.21,
          25.12,
          2.65,
          2.5,
          3.73,
          8.8,
          4.75,
          3.45,
          3.66,
          9.76,
          8.08,
          2.4,
          4.19
         ],
         "yaxis": "y"
        }
       ],
       "layout": {
        "barmode": "relative",
        "legend": {
         "title": {
          "text": "variable"
         },
         "tracegroupgap": 0
        },
        "margin": {
         "t": 60
        },
        "template": {
         "data": {
          "bar": [
           {
            "error_x": {
             "color": "#2a3f5f"
            },
            "error_y": {
             "color": "#2a3f5f"
            },
            "marker": {
             "line": {
              "color": "#E5ECF6",
              "width": 0.5
             },
             "pattern": {
              "fillmode": "overlay",
              "size": 10,
              "solidity": 0.2
             }
            },
            "type": "bar"
           }
          ],
          "barpolar": [
           {
            "marker": {
             "line": {
              "color": "#E5ECF6",
              "width": 0.5
             },
             "pattern": {
              "fillmode": "overlay",
              "size": 10,
              "solidity": 0.2
             }
            },
            "type": "barpolar"
           }
          ],
          "carpet": [
           {
            "aaxis": {
             "endlinecolor": "#2a3f5f",
             "gridcolor": "white",
             "linecolor": "white",
             "minorgridcolor": "white",
             "startlinecolor": "#2a3f5f"
            },
            "baxis": {
             "endlinecolor": "#2a3f5f",
             "gridcolor": "white",
             "linecolor": "white",
             "minorgridcolor": "white",
             "startlinecolor": "#2a3f5f"
            },
            "type": "carpet"
           }
          ],
          "choropleth": [
           {
            "colorbar": {
             "outlinewidth": 0,
             "ticks": ""
            },
            "type": "choropleth"
           }
          ],
          "contour": [
           {
            "colorbar": {
             "outlinewidth": 0,
             "ticks": ""
            },
            "colorscale": [
             [
              0,
              "#0d0887"
             ],
             [
              0.1111111111111111,
              "#46039f"
             ],
             [
              0.2222222222222222,
              "#7201a8"
             ],
             [
              0.3333333333333333,
              "#9c179e"
             ],
             [
              0.4444444444444444,
              "#bd3786"
             ],
             [
              0.5555555555555556,
              "#d8576b"
             ],
             [
              0.6666666666666666,
              "#ed7953"
             ],
             [
              0.7777777777777778,
              "#fb9f3a"
             ],
             [
              0.8888888888888888,
              "#fdca26"
             ],
             [
              1,
              "#f0f921"
             ]
            ],
            "type": "contour"
           }
          ],
          "contourcarpet": [
           {
            "colorbar": {
             "outlinewidth": 0,
             "ticks": ""
            },
            "type": "contourcarpet"
           }
          ],
          "heatmap": [
           {
            "colorbar": {
             "outlinewidth": 0,
             "ticks": ""
            },
            "colorscale": [
             [
              0,
              "#0d0887"
             ],
             [
              0.1111111111111111,
              "#46039f"
             ],
             [
              0.2222222222222222,
              "#7201a8"
             ],
             [
              0.3333333333333333,
              "#9c179e"
             ],
             [
              0.4444444444444444,
              "#bd3786"
             ],
             [
              0.5555555555555556,
              "#d8576b"
             ],
             [
              0.6666666666666666,
              "#ed7953"
             ],
             [
              0.7777777777777778,
              "#fb9f3a"
             ],
             [
              0.8888888888888888,
              "#fdca26"
             ],
             [
              1,
              "#f0f921"
             ]
            ],
            "type": "heatmap"
           }
          ],
          "heatmapgl": [
           {
            "colorbar": {
             "outlinewidth": 0,
             "ticks": ""
            },
            "colorscale": [
             [
              0,
              "#0d0887"
             ],
             [
              0.1111111111111111,
              "#46039f"
             ],
             [
              0.2222222222222222,
              "#7201a8"
             ],
             [
              0.3333333333333333,
              "#9c179e"
             ],
             [
              0.4444444444444444,
              "#bd3786"
             ],
             [
              0.5555555555555556,
              "#d8576b"
             ],
             [
              0.6666666666666666,
              "#ed7953"
             ],
             [
              0.7777777777777778,
              "#fb9f3a"
             ],
             [
              0.8888888888888888,
              "#fdca26"
             ],
             [
              1,
              "#f0f921"
             ]
            ],
            "type": "heatmapgl"
           }
          ],
          "histogram": [
           {
            "marker": {
             "pattern": {
              "fillmode": "overlay",
              "size": 10,
              "solidity": 0.2
             }
            },
            "type": "histogram"
           }
          ],
          "histogram2d": [
           {
            "colorbar": {
             "outlinewidth": 0,
             "ticks": ""
            },
            "colorscale": [
             [
              0,
              "#0d0887"
             ],
             [
              0.1111111111111111,
              "#46039f"
             ],
             [
              0.2222222222222222,
              "#7201a8"
             ],
             [
              0.3333333333333333,
              "#9c179e"
             ],
             [
              0.4444444444444444,
              "#bd3786"
             ],
             [
              0.5555555555555556,
              "#d8576b"
             ],
             [
              0.6666666666666666,
              "#ed7953"
             ],
             [
              0.7777777777777778,
              "#fb9f3a"
             ],
             [
              0.8888888888888888,
              "#fdca26"
             ],
             [
              1,
              "#f0f921"
             ]
            ],
            "type": "histogram2d"
           }
          ],
          "histogram2dcontour": [
           {
            "colorbar": {
             "outlinewidth": 0,
             "ticks": ""
            },
            "colorscale": [
             [
              0,
              "#0d0887"
             ],
             [
              0.1111111111111111,
              "#46039f"
             ],
             [
              0.2222222222222222,
              "#7201a8"
             ],
             [
              0.3333333333333333,
              "#9c179e"
             ],
             [
              0.4444444444444444,
              "#bd3786"
             ],
             [
              0.5555555555555556,
              "#d8576b"
             ],
             [
              0.6666666666666666,
              "#ed7953"
             ],
             [
              0.7777777777777778,
              "#fb9f3a"
             ],
             [
              0.8888888888888888,
              "#fdca26"
             ],
             [
              1,
              "#f0f921"
             ]
            ],
            "type": "histogram2dcontour"
           }
          ],
          "mesh3d": [
           {
            "colorbar": {
             "outlinewidth": 0,
             "ticks": ""
            },
            "type": "mesh3d"
           }
          ],
          "parcoords": [
           {
            "line": {
             "colorbar": {
              "outlinewidth": 0,
              "ticks": ""
             }
            },
            "type": "parcoords"
           }
          ],
          "pie": [
           {
            "automargin": true,
            "type": "pie"
           }
          ],
          "scatter": [
           {
            "marker": {
             "colorbar": {
              "outlinewidth": 0,
              "ticks": ""
             }
            },
            "type": "scatter"
           }
          ],
          "scatter3d": [
           {
            "line": {
             "colorbar": {
              "outlinewidth": 0,
              "ticks": ""
             }
            },
            "marker": {
             "colorbar": {
              "outlinewidth": 0,
              "ticks": ""
             }
            },
            "type": "scatter3d"
           }
          ],
          "scattercarpet": [
           {
            "marker": {
             "colorbar": {
              "outlinewidth": 0,
              "ticks": ""
             }
            },
            "type": "scattercarpet"
           }
          ],
          "scattergeo": [
           {
            "marker": {
             "colorbar": {
              "outlinewidth": 0,
              "ticks": ""
             }
            },
            "type": "scattergeo"
           }
          ],
          "scattergl": [
           {
            "marker": {
             "colorbar": {
              "outlinewidth": 0,
              "ticks": ""
             }
            },
            "type": "scattergl"
           }
          ],
          "scattermapbox": [
           {
            "marker": {
             "colorbar": {
              "outlinewidth": 0,
              "ticks": ""
             }
            },
            "type": "scattermapbox"
           }
          ],
          "scatterpolar": [
           {
            "marker": {
             "colorbar": {
              "outlinewidth": 0,
              "ticks": ""
             }
            },
            "type": "scatterpolar"
           }
          ],
          "scatterpolargl": [
           {
            "marker": {
             "colorbar": {
              "outlinewidth": 0,
              "ticks": ""
             }
            },
            "type": "scatterpolargl"
           }
          ],
          "scatterternary": [
           {
            "marker": {
             "colorbar": {
              "outlinewidth": 0,
              "ticks": ""
             }
            },
            "type": "scatterternary"
           }
          ],
          "surface": [
           {
            "colorbar": {
             "outlinewidth": 0,
             "ticks": ""
            },
            "colorscale": [
             [
              0,
              "#0d0887"
             ],
             [
              0.1111111111111111,
              "#46039f"
             ],
             [
              0.2222222222222222,
              "#7201a8"
             ],
             [
              0.3333333333333333,
              "#9c179e"
             ],
             [
              0.4444444444444444,
              "#bd3786"
             ],
             [
              0.5555555555555556,
              "#d8576b"
             ],
             [
              0.6666666666666666,
              "#ed7953"
             ],
             [
              0.7777777777777778,
              "#fb9f3a"
             ],
             [
              0.8888888888888888,
              "#fdca26"
             ],
             [
              1,
              "#f0f921"
             ]
            ],
            "type": "surface"
           }
          ],
          "table": [
           {
            "cells": {
             "fill": {
              "color": "#EBF0F8"
             },
             "line": {
              "color": "white"
             }
            },
            "header": {
             "fill": {
              "color": "#C8D4E3"
             },
             "line": {
              "color": "white"
             }
            },
            "type": "table"
           }
          ]
         },
         "layout": {
          "annotationdefaults": {
           "arrowcolor": "#2a3f5f",
           "arrowhead": 0,
           "arrowwidth": 1
          },
          "autotypenumbers": "strict",
          "coloraxis": {
           "colorbar": {
            "outlinewidth": 0,
            "ticks": ""
           }
          },
          "colorscale": {
           "diverging": [
            [
             0,
             "#8e0152"
            ],
            [
             0.1,
             "#c51b7d"
            ],
            [
             0.2,
             "#de77ae"
            ],
            [
             0.3,
             "#f1b6da"
            ],
            [
             0.4,
             "#fde0ef"
            ],
            [
             0.5,
             "#f7f7f7"
            ],
            [
             0.6,
             "#e6f5d0"
            ],
            [
             0.7,
             "#b8e186"
            ],
            [
             0.8,
             "#7fbc41"
            ],
            [
             0.9,
             "#4d9221"
            ],
            [
             1,
             "#276419"
            ]
           ],
           "sequential": [
            [
             0,
             "#0d0887"
            ],
            [
             0.1111111111111111,
             "#46039f"
            ],
            [
             0.2222222222222222,
             "#7201a8"
            ],
            [
             0.3333333333333333,
             "#9c179e"
            ],
            [
             0.4444444444444444,
             "#bd3786"
            ],
            [
             0.5555555555555556,
             "#d8576b"
            ],
            [
             0.6666666666666666,
             "#ed7953"
            ],
            [
             0.7777777777777778,
             "#fb9f3a"
            ],
            [
             0.8888888888888888,
             "#fdca26"
            ],
            [
             1,
             "#f0f921"
            ]
           ],
           "sequentialminus": [
            [
             0,
             "#0d0887"
            ],
            [
             0.1111111111111111,
             "#46039f"
            ],
            [
             0.2222222222222222,
             "#7201a8"
            ],
            [
             0.3333333333333333,
             "#9c179e"
            ],
            [
             0.4444444444444444,
             "#bd3786"
            ],
            [
             0.5555555555555556,
             "#d8576b"
            ],
            [
             0.6666666666666666,
             "#ed7953"
            ],
            [
             0.7777777777777778,
             "#fb9f3a"
            ],
            [
             0.8888888888888888,
             "#fdca26"
            ],
            [
             1,
             "#f0f921"
            ]
           ]
          },
          "colorway": [
           "#636efa",
           "#EF553B",
           "#00cc96",
           "#ab63fa",
           "#FFA15A",
           "#19d3f3",
           "#FF6692",
           "#B6E880",
           "#FF97FF",
           "#FECB52"
          ],
          "font": {
           "color": "#2a3f5f"
          },
          "geo": {
           "bgcolor": "white",
           "lakecolor": "white",
           "landcolor": "#E5ECF6",
           "showlakes": true,
           "showland": true,
           "subunitcolor": "white"
          },
          "hoverlabel": {
           "align": "left"
          },
          "hovermode": "closest",
          "mapbox": {
           "style": "light"
          },
          "paper_bgcolor": "white",
          "plot_bgcolor": "#E5ECF6",
          "polar": {
           "angularaxis": {
            "gridcolor": "white",
            "linecolor": "white",
            "ticks": ""
           },
           "bgcolor": "#E5ECF6",
           "radialaxis": {
            "gridcolor": "white",
            "linecolor": "white",
            "ticks": ""
           }
          },
          "scene": {
           "xaxis": {
            "backgroundcolor": "#E5ECF6",
            "gridcolor": "white",
            "gridwidth": 2,
            "linecolor": "white",
            "showbackground": true,
            "ticks": "",
            "zerolinecolor": "white"
           },
           "yaxis": {
            "backgroundcolor": "#E5ECF6",
            "gridcolor": "white",
            "gridwidth": 2,
            "linecolor": "white",
            "showbackground": true,
            "ticks": "",
            "zerolinecolor": "white"
           },
           "zaxis": {
            "backgroundcolor": "#E5ECF6",
            "gridcolor": "white",
            "gridwidth": 2,
            "linecolor": "white",
            "showbackground": true,
            "ticks": "",
            "zerolinecolor": "white"
           }
          },
          "shapedefaults": {
           "line": {
            "color": "#2a3f5f"
           }
          },
          "ternary": {
           "aaxis": {
            "gridcolor": "white",
            "linecolor": "white",
            "ticks": ""
           },
           "baxis": {
            "gridcolor": "white",
            "linecolor": "white",
            "ticks": ""
           },
           "bgcolor": "#E5ECF6",
           "caxis": {
            "gridcolor": "white",
            "linecolor": "white",
            "ticks": ""
           }
          },
          "title": {
           "x": 0.05
          },
          "xaxis": {
           "automargin": true,
           "gridcolor": "white",
           "linecolor": "white",
           "ticks": "",
           "title": {
            "standoff": 15
           },
           "zerolinecolor": "white",
           "zerolinewidth": 2
          },
          "yaxis": {
           "automargin": true,
           "gridcolor": "white",
           "linecolor": "white",
           "ticks": "",
           "title": {
            "standoff": 15
           },
           "zerolinecolor": "white",
           "zerolinewidth": 2
          }
         }
        },
        "xaxis": {
         "anchor": "y",
         "domain": [
          0,
          1
         ],
         "title": {
          "text": "State"
         }
        },
        "yaxis": {
         "anchor": "x",
         "domain": [
          0,
          1
         ],
         "title": {
          "text": "value"
         }
        }
       }
      },
      "text/html": [
       "<div>                            <div id=\"9af733b4-a413-4f21-953c-7e3810988730\" class=\"plotly-graph-div\" style=\"height:525px; width:100%;\"></div>            <script type=\"text/javascript\">                require([\"plotly\"], function(Plotly) {                    window.PLOTLYENV=window.PLOTLYENV || {};                                    if (document.getElementById(\"9af733b4-a413-4f21-953c-7e3810988730\")) {                    Plotly.newPlot(                        \"9af733b4-a413-4f21-953c-7e3810988730\",                        [{\"alignmentgroup\":\"True\",\"hovertemplate\":\"variable=White<br>State=%{x}<br>value=%{y}<extra></extra>\",\"legendgroup\":\"White\",\"marker\":{\"color\":\"#636efa\",\"pattern\":{\"shape\":\"\"}},\"name\":\"White\",\"offsetgroup\":\"White\",\"orientation\":\"v\",\"showlegend\":true,\"textposition\":\"auto\",\"type\":\"bar\",\"x\":[\"California\",\"Texas\",\"Florida\",\"New York\",\"Pennsylvania\",\"Illinois\",\"Ohio\",\"Georgia\",\"North Carolina\",\"Michigan\",\"New Jersey\",\"Virginia\",\"Washington\",\"Arizona\",\"Tennessee\",\"Massachusetts\",\"Indiana\",\"Missouri\",\"Maryland\",\"Colorado\",\"Wisconsin\",\"Minnesota\",\"South Carolina\",\"Alabama\",\"Louisiana\",\"Kentucky\",\"Oregon\",\"Oklahoma\",\"Connecticut\",\"Utah\",\"Puerto Rico\",\"Nevada\",\"Iowa\",\"Arkansas\",\"Mississippi\",\"Kansas\",\"New Mexico\",\"Nebraska\",\"Idaho\",\"West Virginia\",\"Hawaii\",\"New Hampshire\",\"Maine\",\"Montana\",\"Rhode Island\",\"Delaware\",\"South Dakota\",\"North Dakota\",\"Alaska\",\"District of Columbia\",\"Vermont\",\"Wyoming\"],\"xaxis\":\"x\",\"y\":[59.7,73.97,75.12,63.66,80.53,71.53,81.3,58.62,68.68,78.41,67.78,67.63,75.38,77.22,77.58,78.07,83.31,82.16,55.54,84.0,85.43,82.85,67.16,68.09,62.01,86.95,84.29,72.32,75.92,86.43,65.93,65.59,90.02,76.72,58.41,84.38,74.81,87.06,89.97,93.08,24.95,92.88,94.31,88.54,80.46,68.76,84.27,86.58,64.58,41.27,94.16,91.44],\"yaxis\":\"y\"},{\"alignmentgroup\":\"True\",\"hovertemplate\":\"variable=Black<br>State=%{x}<br>value=%{y}<extra></extra>\",\"legendgroup\":\"Black\",\"marker\":{\"color\":\"#EF553B\",\"pattern\":{\"shape\":\"\"}},\"name\":\"Black\",\"offsetgroup\":\"Black\",\"orientation\":\"v\",\"showlegend\":true,\"textposition\":\"auto\",\"type\":\"bar\",\"x\":[\"California\",\"Texas\",\"Florida\",\"New York\",\"Pennsylvania\",\"Illinois\",\"Ohio\",\"Georgia\",\"North Carolina\",\"Michigan\",\"New Jersey\",\"Virginia\",\"Washington\",\"Arizona\",\"Tennessee\",\"Massachusetts\",\"Indiana\",\"Missouri\",\"Maryland\",\"Colorado\",\"Wisconsin\",\"Minnesota\",\"South Carolina\",\"Alabama\",\"Louisiana\",\"Kentucky\",\"Oregon\",\"Oklahoma\",\"Connecticut\",\"Utah\",\"Puerto Rico\",\"Nevada\",\"Iowa\",\"Arkansas\",\"Mississippi\",\"Kansas\",\"New Mexico\",\"Nebraska\",\"Idaho\",\"West Virginia\",\"Hawaii\",\"New Hampshire\",\"Maine\",\"Montana\",\"Rhode Island\",\"Delaware\",\"South Dakota\",\"North Dakota\",\"Alaska\",\"District of Columbia\",\"Vermont\",\"Wyoming\"],\"xaxis\":\"x\",\"y\":[5.79,12.13,16.07,15.66,11.18,14.2,12.41,31.61,21.44,13.79,13.46,19.18,3.8,4.5,16.76,7.63,9.4,11.49,29.89,4.16,6.41,6.41,26.77,26.64,32.22,8.07,1.91,7.28,10.72,1.19,11.65,9.12,3.71,15.32,37.72,5.85,2.11,4.83,0.69,3.69,1.83,1.6,1.38,0.5,6.77,22.18,2.01,2.91,3.28,46.31,1.36,0.96],\"yaxis\":\"y\"},{\"alignmentgroup\":\"True\",\"hovertemplate\":\"variable=Indian<br>State=%{x}<br>value=%{y}<extra></extra>\",\"legendgroup\":\"Indian\",\"marker\":{\"color\":\"#00cc96\",\"pattern\":{\"shape\":\"\"}},\"name\":\"Indian\",\"offsetgroup\":\"Indian\",\"orientation\":\"v\",\"showlegend\":true,\"textposition\":\"auto\",\"type\":\"bar\",\"x\":[\"California\",\"Texas\",\"Florida\",\"New York\",\"Pennsylvania\",\"Illinois\",\"Ohio\",\"Georgia\",\"North Carolina\",\"Michigan\",\"New Jersey\",\"Virginia\",\"Washington\",\"Arizona\",\"Tennessee\",\"Massachusetts\",\"Indiana\",\"Missouri\",\"Maryland\",\"Colorado\",\"Wisconsin\",\"Minnesota\",\"South Carolina\",\"Alabama\",\"Louisiana\",\"Kentucky\",\"Oregon\",\"Oklahoma\",\"Connecticut\",\"Utah\",\"Puerto Rico\",\"Nevada\",\"Iowa\",\"Arkansas\",\"Mississippi\",\"Kansas\",\"New Mexico\",\"Nebraska\",\"Idaho\",\"West Virginia\",\"Hawaii\",\"New Hampshire\",\"Maine\",\"Montana\",\"Rhode Island\",\"Delaware\",\"South Dakota\",\"North Dakota\",\"Alaska\",\"District of Columbia\",\"Vermont\",\"Wyoming\"],\"xaxis\":\"x\",\"y\":[0.77,0.5,0.28,0.41,0.19,0.26,0.2,0.36,1.21,0.54,0.22,0.28,1.28,4.5,0.27,0.22,0.24,0.44,0.28,0.98,0.89,1.04,0.35,0.52,0.57,0.21,1.16,7.62,0.28,1.09,0.21,1.28,0.38,0.68,0.48,0.82,9.55,0.92,1.35,0.2,0.26,0.15,0.65,6.36,0.5,0.39,8.75,5.29,14.89,0.3,0.34,2.44],\"yaxis\":\"y\"},{\"alignmentgroup\":\"True\",\"hovertemplate\":\"variable=Asian<br>State=%{x}<br>value=%{y}<extra></extra>\",\"legendgroup\":\"Asian\",\"marker\":{\"color\":\"#ab63fa\",\"pattern\":{\"shape\":\"\"}},\"name\":\"Asian\",\"offsetgroup\":\"Asian\",\"orientation\":\"v\",\"showlegend\":true,\"textposition\":\"auto\",\"type\":\"bar\",\"x\":[\"California\",\"Texas\",\"Florida\",\"New York\",\"Pennsylvania\",\"Illinois\",\"Ohio\",\"Georgia\",\"North Carolina\",\"Michigan\",\"New Jersey\",\"Virginia\",\"Washington\",\"Arizona\",\"Tennessee\",\"Massachusetts\",\"Indiana\",\"Missouri\",\"Maryland\",\"Colorado\",\"Wisconsin\",\"Minnesota\",\"South Carolina\",\"Alabama\",\"Louisiana\",\"Kentucky\",\"Oregon\",\"Oklahoma\",\"Connecticut\",\"Utah\",\"Puerto Rico\",\"Nevada\",\"Iowa\",\"Arkansas\",\"Mississippi\",\"Kansas\",\"New Mexico\",\"Nebraska\",\"Idaho\",\"West Virginia\",\"Hawaii\",\"New Hampshire\",\"Maine\",\"Montana\",\"Rhode Island\",\"Delaware\",\"South Dakota\",\"North Dakota\",\"Alaska\",\"District of Columbia\",\"Vermont\",\"Wyoming\"],\"xaxis\":\"x\",\"y\":[14.49,4.8,2.73,8.42,3.41,5.47,2.22,3.98,2.85,3.13,9.46,6.4,8.53,3.31,1.75,6.6,2.28,1.98,6.28,3.18,2.79,4.82,1.57,1.36,1.73,1.47,4.37,2.17,4.51,2.32,0.19,8.15,2.41,1.52,0.99,2.95,1.56,2.38,1.41,0.8,37.79,2.68,1.13,0.79,3.4,3.87,1.45,1.45,6.23,3.98,1.68,0.86],\"yaxis\":\"y\"},{\"alignmentgroup\":\"True\",\"hovertemplate\":\"variable=Hawaiian<br>State=%{x}<br>value=%{y}<extra></extra>\",\"legendgroup\":\"Hawaiian\",\"marker\":{\"color\":\"#FFA15A\",\"pattern\":{\"shape\":\"\"}},\"name\":\"Hawaiian\",\"offsetgroup\":\"Hawaiian\",\"orientation\":\"v\",\"showlegend\":true,\"textposition\":\"auto\",\"type\":\"bar\",\"x\":[\"California\",\"Texas\",\"Florida\",\"New York\",\"Pennsylvania\",\"Illinois\",\"Ohio\",\"Georgia\",\"North Carolina\",\"Michigan\",\"New Jersey\",\"Virginia\",\"Washington\",\"Arizona\",\"Tennessee\",\"Massachusetts\",\"Indiana\",\"Missouri\",\"Maryland\",\"Colorado\",\"Wisconsin\",\"Minnesota\",\"South Carolina\",\"Alabama\",\"Louisiana\",\"Kentucky\",\"Oregon\",\"Oklahoma\",\"Connecticut\",\"Utah\",\"Puerto Rico\",\"Nevada\",\"Iowa\",\"Arkansas\",\"Mississippi\",\"Kansas\",\"New Mexico\",\"Nebraska\",\"Idaho\",\"West Virginia\",\"Hawaii\",\"New Hampshire\",\"Maine\",\"Montana\",\"Rhode Island\",\"Delaware\",\"South Dakota\",\"North Dakota\",\"Alaska\",\"District of Columbia\",\"Vermont\",\"Wyoming\"],\"xaxis\":\"x\",\"y\":[0.4,0.09,0.06,0.05,0.03,0.04,0.03,0.06,0.07,0.03,0.04,0.07,0.66,0.21,0.06,0.04,0.04,0.13,0.05,0.15,0.04,0.04,0.08,0.05,0.03,0.07,0.4,0.16,0.03,0.89,0.01,0.67,0.12,0.29,0.02,0.08,0.08,0.07,0.16,0.02,10.06,0.03,0.03,0.08,0.08,0.06,0.06,0.11,1.25,0.05,0.05,0.1],\"yaxis\":\"y\"},{\"alignmentgroup\":\"True\",\"hovertemplate\":\"variable=Other<br>State=%{x}<br>value=%{y}<extra></extra>\",\"legendgroup\":\"Other\",\"marker\":{\"color\":\"#19d3f3\",\"pattern\":{\"shape\":\"\"}},\"name\":\"Other\",\"offsetgroup\":\"Other\",\"orientation\":\"v\",\"showlegend\":true,\"textposition\":\"auto\",\"type\":\"bar\",\"x\":[\"California\",\"Texas\",\"Florida\",\"New York\",\"Pennsylvania\",\"Illinois\",\"Ohio\",\"Georgia\",\"North Carolina\",\"Michigan\",\"New Jersey\",\"Virginia\",\"Washington\",\"Arizona\",\"Tennessee\",\"Massachusetts\",\"Indiana\",\"Missouri\",\"Maryland\",\"Colorado\",\"Wisconsin\",\"Minnesota\",\"South Carolina\",\"Alabama\",\"Louisiana\",\"Kentucky\",\"Oregon\",\"Oklahoma\",\"Connecticut\",\"Utah\",\"Puerto Rico\",\"Nevada\",\"Iowa\",\"Arkansas\",\"Mississippi\",\"Kansas\",\"New Mexico\",\"Nebraska\",\"Idaho\",\"West Virginia\",\"Hawaii\",\"New Hampshire\",\"Maine\",\"Montana\",\"Rhode Island\",\"Delaware\",\"South Dakota\",\"North Dakota\",\"Alaska\",\"District of Columbia\",\"Vermont\",\"Wyoming\"],\"xaxis\":\"x\",\"y\":[18.85,8.51,5.73,11.81,4.65,8.5,3.85,5.36,5.75,4.1,9.04,6.44,10.35,10.26,3.58,7.44,4.73,3.8,7.96,7.53,4.44,4.84,4.07,3.34,3.44,3.23,7.87,10.46,8.54,8.08,22.01,15.18,3.36,5.47,2.38,5.92,11.9,4.73,6.42,2.21,25.12,2.65,2.5,3.73,8.8,4.75,3.45,3.66,9.76,8.08,2.4,4.19],\"yaxis\":\"y\"}],                        {\"barmode\":\"relative\",\"legend\":{\"title\":{\"text\":\"variable\"},\"tracegroupgap\":0},\"margin\":{\"t\":60},\"template\":{\"data\":{\"bar\":[{\"error_x\":{\"color\":\"#2a3f5f\"},\"error_y\":{\"color\":\"#2a3f5f\"},\"marker\":{\"line\":{\"color\":\"#E5ECF6\",\"width\":0.5},\"pattern\":{\"fillmode\":\"overlay\",\"size\":10,\"solidity\":0.2}},\"type\":\"bar\"}],\"barpolar\":[{\"marker\":{\"line\":{\"color\":\"#E5ECF6\",\"width\":0.5},\"pattern\":{\"fillmode\":\"overlay\",\"size\":10,\"solidity\":0.2}},\"type\":\"barpolar\"}],\"carpet\":[{\"aaxis\":{\"endlinecolor\":\"#2a3f5f\",\"gridcolor\":\"white\",\"linecolor\":\"white\",\"minorgridcolor\":\"white\",\"startlinecolor\":\"#2a3f5f\"},\"baxis\":{\"endlinecolor\":\"#2a3f5f\",\"gridcolor\":\"white\",\"linecolor\":\"white\",\"minorgridcolor\":\"white\",\"startlinecolor\":\"#2a3f5f\"},\"type\":\"carpet\"}],\"choropleth\":[{\"colorbar\":{\"outlinewidth\":0,\"ticks\":\"\"},\"type\":\"choropleth\"}],\"contour\":[{\"colorbar\":{\"outlinewidth\":0,\"ticks\":\"\"},\"colorscale\":[[0.0,\"#0d0887\"],[0.1111111111111111,\"#46039f\"],[0.2222222222222222,\"#7201a8\"],[0.3333333333333333,\"#9c179e\"],[0.4444444444444444,\"#bd3786\"],[0.5555555555555556,\"#d8576b\"],[0.6666666666666666,\"#ed7953\"],[0.7777777777777778,\"#fb9f3a\"],[0.8888888888888888,\"#fdca26\"],[1.0,\"#f0f921\"]],\"type\":\"contour\"}],\"contourcarpet\":[{\"colorbar\":{\"outlinewidth\":0,\"ticks\":\"\"},\"type\":\"contourcarpet\"}],\"heatmap\":[{\"colorbar\":{\"outlinewidth\":0,\"ticks\":\"\"},\"colorscale\":[[0.0,\"#0d0887\"],[0.1111111111111111,\"#46039f\"],[0.2222222222222222,\"#7201a8\"],[0.3333333333333333,\"#9c179e\"],[0.4444444444444444,\"#bd3786\"],[0.5555555555555556,\"#d8576b\"],[0.6666666666666666,\"#ed7953\"],[0.7777777777777778,\"#fb9f3a\"],[0.8888888888888888,\"#fdca26\"],[1.0,\"#f0f921\"]],\"type\":\"heatmap\"}],\"heatmapgl\":[{\"colorbar\":{\"outlinewidth\":0,\"ticks\":\"\"},\"colorscale\":[[0.0,\"#0d0887\"],[0.1111111111111111,\"#46039f\"],[0.2222222222222222,\"#7201a8\"],[0.3333333333333333,\"#9c179e\"],[0.4444444444444444,\"#bd3786\"],[0.5555555555555556,\"#d8576b\"],[0.6666666666666666,\"#ed7953\"],[0.7777777777777778,\"#fb9f3a\"],[0.8888888888888888,\"#fdca26\"],[1.0,\"#f0f921\"]],\"type\":\"heatmapgl\"}],\"histogram\":[{\"marker\":{\"pattern\":{\"fillmode\":\"overlay\",\"size\":10,\"solidity\":0.2}},\"type\":\"histogram\"}],\"histogram2d\":[{\"colorbar\":{\"outlinewidth\":0,\"ticks\":\"\"},\"colorscale\":[[0.0,\"#0d0887\"],[0.1111111111111111,\"#46039f\"],[0.2222222222222222,\"#7201a8\"],[0.3333333333333333,\"#9c179e\"],[0.4444444444444444,\"#bd3786\"],[0.5555555555555556,\"#d8576b\"],[0.6666666666666666,\"#ed7953\"],[0.7777777777777778,\"#fb9f3a\"],[0.8888888888888888,\"#fdca26\"],[1.0,\"#f0f921\"]],\"type\":\"histogram2d\"}],\"histogram2dcontour\":[{\"colorbar\":{\"outlinewidth\":0,\"ticks\":\"\"},\"colorscale\":[[0.0,\"#0d0887\"],[0.1111111111111111,\"#46039f\"],[0.2222222222222222,\"#7201a8\"],[0.3333333333333333,\"#9c179e\"],[0.4444444444444444,\"#bd3786\"],[0.5555555555555556,\"#d8576b\"],[0.6666666666666666,\"#ed7953\"],[0.7777777777777778,\"#fb9f3a\"],[0.8888888888888888,\"#fdca26\"],[1.0,\"#f0f921\"]],\"type\":\"histogram2dcontour\"}],\"mesh3d\":[{\"colorbar\":{\"outlinewidth\":0,\"ticks\":\"\"},\"type\":\"mesh3d\"}],\"parcoords\":[{\"line\":{\"colorbar\":{\"outlinewidth\":0,\"ticks\":\"\"}},\"type\":\"parcoords\"}],\"pie\":[{\"automargin\":true,\"type\":\"pie\"}],\"scatter\":[{\"marker\":{\"colorbar\":{\"outlinewidth\":0,\"ticks\":\"\"}},\"type\":\"scatter\"}],\"scatter3d\":[{\"line\":{\"colorbar\":{\"outlinewidth\":0,\"ticks\":\"\"}},\"marker\":{\"colorbar\":{\"outlinewidth\":0,\"ticks\":\"\"}},\"type\":\"scatter3d\"}],\"scattercarpet\":[{\"marker\":{\"colorbar\":{\"outlinewidth\":0,\"ticks\":\"\"}},\"type\":\"scattercarpet\"}],\"scattergeo\":[{\"marker\":{\"colorbar\":{\"outlinewidth\":0,\"ticks\":\"\"}},\"type\":\"scattergeo\"}],\"scattergl\":[{\"marker\":{\"colorbar\":{\"outlinewidth\":0,\"ticks\":\"\"}},\"type\":\"scattergl\"}],\"scattermapbox\":[{\"marker\":{\"colorbar\":{\"outlinewidth\":0,\"ticks\":\"\"}},\"type\":\"scattermapbox\"}],\"scatterpolar\":[{\"marker\":{\"colorbar\":{\"outlinewidth\":0,\"ticks\":\"\"}},\"type\":\"scatterpolar\"}],\"scatterpolargl\":[{\"marker\":{\"colorbar\":{\"outlinewidth\":0,\"ticks\":\"\"}},\"type\":\"scatterpolargl\"}],\"scatterternary\":[{\"marker\":{\"colorbar\":{\"outlinewidth\":0,\"ticks\":\"\"}},\"type\":\"scatterternary\"}],\"surface\":[{\"colorbar\":{\"outlinewidth\":0,\"ticks\":\"\"},\"colorscale\":[[0.0,\"#0d0887\"],[0.1111111111111111,\"#46039f\"],[0.2222222222222222,\"#7201a8\"],[0.3333333333333333,\"#9c179e\"],[0.4444444444444444,\"#bd3786\"],[0.5555555555555556,\"#d8576b\"],[0.6666666666666666,\"#ed7953\"],[0.7777777777777778,\"#fb9f3a\"],[0.8888888888888888,\"#fdca26\"],[1.0,\"#f0f921\"]],\"type\":\"surface\"}],\"table\":[{\"cells\":{\"fill\":{\"color\":\"#EBF0F8\"},\"line\":{\"color\":\"white\"}},\"header\":{\"fill\":{\"color\":\"#C8D4E3\"},\"line\":{\"color\":\"white\"}},\"type\":\"table\"}]},\"layout\":{\"annotationdefaults\":{\"arrowcolor\":\"#2a3f5f\",\"arrowhead\":0,\"arrowwidth\":1},\"autotypenumbers\":\"strict\",\"coloraxis\":{\"colorbar\":{\"outlinewidth\":0,\"ticks\":\"\"}},\"colorscale\":{\"diverging\":[[0,\"#8e0152\"],[0.1,\"#c51b7d\"],[0.2,\"#de77ae\"],[0.3,\"#f1b6da\"],[0.4,\"#fde0ef\"],[0.5,\"#f7f7f7\"],[0.6,\"#e6f5d0\"],[0.7,\"#b8e186\"],[0.8,\"#7fbc41\"],[0.9,\"#4d9221\"],[1,\"#276419\"]],\"sequential\":[[0.0,\"#0d0887\"],[0.1111111111111111,\"#46039f\"],[0.2222222222222222,\"#7201a8\"],[0.3333333333333333,\"#9c179e\"],[0.4444444444444444,\"#bd3786\"],[0.5555555555555556,\"#d8576b\"],[0.6666666666666666,\"#ed7953\"],[0.7777777777777778,\"#fb9f3a\"],[0.8888888888888888,\"#fdca26\"],[1.0,\"#f0f921\"]],\"sequentialminus\":[[0.0,\"#0d0887\"],[0.1111111111111111,\"#46039f\"],[0.2222222222222222,\"#7201a8\"],[0.3333333333333333,\"#9c179e\"],[0.4444444444444444,\"#bd3786\"],[0.5555555555555556,\"#d8576b\"],[0.6666666666666666,\"#ed7953\"],[0.7777777777777778,\"#fb9f3a\"],[0.8888888888888888,\"#fdca26\"],[1.0,\"#f0f921\"]]},\"colorway\":[\"#636efa\",\"#EF553B\",\"#00cc96\",\"#ab63fa\",\"#FFA15A\",\"#19d3f3\",\"#FF6692\",\"#B6E880\",\"#FF97FF\",\"#FECB52\"],\"font\":{\"color\":\"#2a3f5f\"},\"geo\":{\"bgcolor\":\"white\",\"lakecolor\":\"white\",\"landcolor\":\"#E5ECF6\",\"showlakes\":true,\"showland\":true,\"subunitcolor\":\"white\"},\"hoverlabel\":{\"align\":\"left\"},\"hovermode\":\"closest\",\"mapbox\":{\"style\":\"light\"},\"paper_bgcolor\":\"white\",\"plot_bgcolor\":\"#E5ECF6\",\"polar\":{\"angularaxis\":{\"gridcolor\":\"white\",\"linecolor\":\"white\",\"ticks\":\"\"},\"bgcolor\":\"#E5ECF6\",\"radialaxis\":{\"gridcolor\":\"white\",\"linecolor\":\"white\",\"ticks\":\"\"}},\"scene\":{\"xaxis\":{\"backgroundcolor\":\"#E5ECF6\",\"gridcolor\":\"white\",\"gridwidth\":2,\"linecolor\":\"white\",\"showbackground\":true,\"ticks\":\"\",\"zerolinecolor\":\"white\"},\"yaxis\":{\"backgroundcolor\":\"#E5ECF6\",\"gridcolor\":\"white\",\"gridwidth\":2,\"linecolor\":\"white\",\"showbackground\":true,\"ticks\":\"\",\"zerolinecolor\":\"white\"},\"zaxis\":{\"backgroundcolor\":\"#E5ECF6\",\"gridcolor\":\"white\",\"gridwidth\":2,\"linecolor\":\"white\",\"showbackground\":true,\"ticks\":\"\",\"zerolinecolor\":\"white\"}},\"shapedefaults\":{\"line\":{\"color\":\"#2a3f5f\"}},\"ternary\":{\"aaxis\":{\"gridcolor\":\"white\",\"linecolor\":\"white\",\"ticks\":\"\"},\"baxis\":{\"gridcolor\":\"white\",\"linecolor\":\"white\",\"ticks\":\"\"},\"bgcolor\":\"#E5ECF6\",\"caxis\":{\"gridcolor\":\"white\",\"linecolor\":\"white\",\"ticks\":\"\"}},\"title\":{\"x\":0.05},\"xaxis\":{\"automargin\":true,\"gridcolor\":\"white\",\"linecolor\":\"white\",\"ticks\":\"\",\"title\":{\"standoff\":15},\"zerolinecolor\":\"white\",\"zerolinewidth\":2},\"yaxis\":{\"automargin\":true,\"gridcolor\":\"white\",\"linecolor\":\"white\",\"ticks\":\"\",\"title\":{\"standoff\":15},\"zerolinecolor\":\"white\",\"zerolinewidth\":2}}},\"xaxis\":{\"anchor\":\"y\",\"domain\":[0.0,1.0],\"title\":{\"text\":\"State\"}},\"yaxis\":{\"anchor\":\"x\",\"domain\":[0.0,1.0],\"title\":{\"text\":\"value\"}}},                        {\"responsive\": true}                    ).then(function(){\n",
       "                            \n",
       "var gd = document.getElementById('9af733b4-a413-4f21-953c-7e3810988730');\n",
       "var x = new MutationObserver(function (mutations, observer) {{\n",
       "        var display = window.getComputedStyle(gd).display;\n",
       "        if (!display || display === 'none') {{\n",
       "            console.log([gd, 'removed!']);\n",
       "            Plotly.purge(gd);\n",
       "            observer.disconnect();\n",
       "        }}\n",
       "}});\n",
       "\n",
       "// Listen for the removal of the full notebook cells\n",
       "var notebookContainer = gd.closest('#notebook-container');\n",
       "if (notebookContainer) {{\n",
       "    x.observe(notebookContainer, {childList: true});\n",
       "}}\n",
       "\n",
       "// Listen for the clearing of the current output cell\n",
       "var outputEl = gd.closest('.output');\n",
       "if (outputEl) {{\n",
       "    x.observe(outputEl, {childList: true});\n",
       "}}\n",
       "\n",
       "                        })                };                });            </script>        </div>"
      ]
     },
     "metadata": {},
     "output_type": "display_data"
    }
   ],
   "source": [
    "## plotting race of each state\n",
    "fig = px.bar(df, x = \"State\", y =[\"White\", \"Black\", \"Indian\", \"Asian\", \"Hawaiian\",\"Other\"])\n",
    "fig.show()"
   ]
  },
  {
   "cell_type": "markdown",
   "metadata": {},
   "source": [
    "**Summary : We can see the population by race for each state by hovering on the chart. Ex: Hawaii had 24.95% White population, 1.83% black population, 37.79 asian population, 10.06 Hawaiian, and 25.12 others."
   ]
  },
  {
   "cell_type": "code",
   "execution_count": 153,
   "metadata": {},
   "outputs": [
    {
     "data": {
      "application/vnd.plotly.v1+json": {
       "config": {
        "plotlyServerURL": "https://plot.ly"
       },
       "data": [
        {
         "dimensions": [
          {
           "axis": {
            "matches": true
           },
           "label": "White",
           "values": [
            59.7,
            73.97,
            75.12,
            63.66,
            80.53,
            71.53,
            81.3,
            58.62,
            68.68,
            78.41,
            67.78,
            67.63,
            75.38,
            77.22,
            77.58,
            78.07,
            83.31,
            82.16,
            55.54,
            84,
            85.43,
            82.85,
            67.16,
            68.09,
            62.01,
            86.95,
            84.29,
            72.32,
            75.92,
            86.43,
            65.93,
            65.59,
            90.02,
            76.72,
            58.41,
            84.38,
            74.81,
            87.06,
            89.97,
            93.08,
            24.95,
            92.88,
            94.31,
            88.54,
            80.46,
            68.76,
            84.27,
            86.58,
            64.58,
            41.27,
            94.16,
            91.44
           ]
          },
          {
           "axis": {
            "matches": true
           },
           "label": "Black",
           "values": [
            5.79,
            12.13,
            16.07,
            15.66,
            11.18,
            14.2,
            12.41,
            31.61,
            21.44,
            13.79,
            13.46,
            19.18,
            3.8,
            4.5,
            16.76,
            7.63,
            9.4,
            11.49,
            29.89,
            4.16,
            6.41,
            6.41,
            26.77,
            26.64,
            32.22,
            8.07,
            1.91,
            7.28,
            10.72,
            1.19,
            11.65,
            9.12,
            3.71,
            15.32,
            37.72,
            5.85,
            2.11,
            4.83,
            0.69,
            3.69,
            1.83,
            1.6,
            1.38,
            0.5,
            6.77,
            22.18,
            2.01,
            2.91,
            3.28,
            46.31,
            1.36,
            0.96
           ]
          },
          {
           "axis": {
            "matches": true
           },
           "label": "Indian",
           "values": [
            0.77,
            0.5,
            0.28,
            0.41,
            0.19,
            0.26,
            0.2,
            0.36,
            1.21,
            0.54,
            0.22,
            0.28,
            1.28,
            4.5,
            0.27,
            0.22,
            0.24,
            0.44,
            0.28,
            0.98,
            0.89,
            1.04,
            0.35,
            0.52,
            0.57,
            0.21,
            1.16,
            7.62,
            0.28,
            1.09,
            0.21,
            1.28,
            0.38,
            0.68,
            0.48,
            0.82,
            9.55,
            0.92,
            1.35,
            0.2,
            0.26,
            0.15,
            0.65,
            6.36,
            0.5,
            0.39,
            8.75,
            5.29,
            14.89,
            0.3,
            0.34,
            2.44
           ]
          },
          {
           "axis": {
            "matches": true
           },
           "label": "Asian",
           "values": [
            14.49,
            4.8,
            2.73,
            8.42,
            3.41,
            5.47,
            2.22,
            3.98,
            2.85,
            3.13,
            9.46,
            6.4,
            8.53,
            3.31,
            1.75,
            6.6,
            2.28,
            1.98,
            6.28,
            3.18,
            2.79,
            4.82,
            1.57,
            1.36,
            1.73,
            1.47,
            4.37,
            2.17,
            4.51,
            2.32,
            0.19,
            8.15,
            2.41,
            1.52,
            0.99,
            2.95,
            1.56,
            2.38,
            1.41,
            0.8,
            37.79,
            2.68,
            1.13,
            0.79,
            3.4,
            3.87,
            1.45,
            1.45,
            6.23,
            3.98,
            1.68,
            0.86
           ]
          }
         ],
         "hovertemplate": "%{xaxis.title.text}=%{x}<br>%{yaxis.title.text}=%{y}<br>2021 Population=%{marker.color}<extra></extra>",
         "legendgroup": "",
         "marker": {
          "color": [
           39613493,
           29730311,
           21944577,
           19299981,
           12804123,
           12569321,
           11714618,
           10830007,
           10701022,
           9992427,
           8874520,
           8603985,
           7796941,
           7520103,
           6944260,
           6912239,
           6805663,
           6169038,
           6065436,
           5893634,
           5852490,
           5706398,
           5277830,
           4934193,
           4627002,
           4480713,
           4289439,
           3990443,
           3552821,
           3310774,
           3194374,
           3185786,
           3167974,
           3033946,
           2966407,
           2917224,
           2105005,
           1951996,
           1860123,
           1767859,
           1406430,
           1372203,
           1354522,
           1085004,
           1061509,
           990334,
           896581,
           770026,
           724357,
           714153,
           623251,
           581075
          ],
          "coloraxis": "coloraxis",
          "symbol": "circle"
         },
         "name": "",
         "showlegend": false,
         "type": "splom"
        }
       ],
       "layout": {
        "coloraxis": {
         "colorbar": {
          "title": {
           "text": "2021 Population"
          }
         },
         "colorscale": [
          [
           0,
           "#0d0887"
          ],
          [
           0.1111111111111111,
           "#46039f"
          ],
          [
           0.2222222222222222,
           "#7201a8"
          ],
          [
           0.3333333333333333,
           "#9c179e"
          ],
          [
           0.4444444444444444,
           "#bd3786"
          ],
          [
           0.5555555555555556,
           "#d8576b"
          ],
          [
           0.6666666666666666,
           "#ed7953"
          ],
          [
           0.7777777777777778,
           "#fb9f3a"
          ],
          [
           0.8888888888888888,
           "#fdca26"
          ],
          [
           1,
           "#f0f921"
          ]
         ]
        },
        "dragmode": "select",
        "legend": {
         "tracegroupgap": 0
        },
        "margin": {
         "t": 60
        },
        "template": {
         "data": {
          "bar": [
           {
            "error_x": {
             "color": "#2a3f5f"
            },
            "error_y": {
             "color": "#2a3f5f"
            },
            "marker": {
             "line": {
              "color": "#E5ECF6",
              "width": 0.5
             },
             "pattern": {
              "fillmode": "overlay",
              "size": 10,
              "solidity": 0.2
             }
            },
            "type": "bar"
           }
          ],
          "barpolar": [
           {
            "marker": {
             "line": {
              "color": "#E5ECF6",
              "width": 0.5
             },
             "pattern": {
              "fillmode": "overlay",
              "size": 10,
              "solidity": 0.2
             }
            },
            "type": "barpolar"
           }
          ],
          "carpet": [
           {
            "aaxis": {
             "endlinecolor": "#2a3f5f",
             "gridcolor": "white",
             "linecolor": "white",
             "minorgridcolor": "white",
             "startlinecolor": "#2a3f5f"
            },
            "baxis": {
             "endlinecolor": "#2a3f5f",
             "gridcolor": "white",
             "linecolor": "white",
             "minorgridcolor": "white",
             "startlinecolor": "#2a3f5f"
            },
            "type": "carpet"
           }
          ],
          "choropleth": [
           {
            "colorbar": {
             "outlinewidth": 0,
             "ticks": ""
            },
            "type": "choropleth"
           }
          ],
          "contour": [
           {
            "colorbar": {
             "outlinewidth": 0,
             "ticks": ""
            },
            "colorscale": [
             [
              0,
              "#0d0887"
             ],
             [
              0.1111111111111111,
              "#46039f"
             ],
             [
              0.2222222222222222,
              "#7201a8"
             ],
             [
              0.3333333333333333,
              "#9c179e"
             ],
             [
              0.4444444444444444,
              "#bd3786"
             ],
             [
              0.5555555555555556,
              "#d8576b"
             ],
             [
              0.6666666666666666,
              "#ed7953"
             ],
             [
              0.7777777777777778,
              "#fb9f3a"
             ],
             [
              0.8888888888888888,
              "#fdca26"
             ],
             [
              1,
              "#f0f921"
             ]
            ],
            "type": "contour"
           }
          ],
          "contourcarpet": [
           {
            "colorbar": {
             "outlinewidth": 0,
             "ticks": ""
            },
            "type": "contourcarpet"
           }
          ],
          "heatmap": [
           {
            "colorbar": {
             "outlinewidth": 0,
             "ticks": ""
            },
            "colorscale": [
             [
              0,
              "#0d0887"
             ],
             [
              0.1111111111111111,
              "#46039f"
             ],
             [
              0.2222222222222222,
              "#7201a8"
             ],
             [
              0.3333333333333333,
              "#9c179e"
             ],
             [
              0.4444444444444444,
              "#bd3786"
             ],
             [
              0.5555555555555556,
              "#d8576b"
             ],
             [
              0.6666666666666666,
              "#ed7953"
             ],
             [
              0.7777777777777778,
              "#fb9f3a"
             ],
             [
              0.8888888888888888,
              "#fdca26"
             ],
             [
              1,
              "#f0f921"
             ]
            ],
            "type": "heatmap"
           }
          ],
          "heatmapgl": [
           {
            "colorbar": {
             "outlinewidth": 0,
             "ticks": ""
            },
            "colorscale": [
             [
              0,
              "#0d0887"
             ],
             [
              0.1111111111111111,
              "#46039f"
             ],
             [
              0.2222222222222222,
              "#7201a8"
             ],
             [
              0.3333333333333333,
              "#9c179e"
             ],
             [
              0.4444444444444444,
              "#bd3786"
             ],
             [
              0.5555555555555556,
              "#d8576b"
             ],
             [
              0.6666666666666666,
              "#ed7953"
             ],
             [
              0.7777777777777778,
              "#fb9f3a"
             ],
             [
              0.8888888888888888,
              "#fdca26"
             ],
             [
              1,
              "#f0f921"
             ]
            ],
            "type": "heatmapgl"
           }
          ],
          "histogram": [
           {
            "marker": {
             "pattern": {
              "fillmode": "overlay",
              "size": 10,
              "solidity": 0.2
             }
            },
            "type": "histogram"
           }
          ],
          "histogram2d": [
           {
            "colorbar": {
             "outlinewidth": 0,
             "ticks": ""
            },
            "colorscale": [
             [
              0,
              "#0d0887"
             ],
             [
              0.1111111111111111,
              "#46039f"
             ],
             [
              0.2222222222222222,
              "#7201a8"
             ],
             [
              0.3333333333333333,
              "#9c179e"
             ],
             [
              0.4444444444444444,
              "#bd3786"
             ],
             [
              0.5555555555555556,
              "#d8576b"
             ],
             [
              0.6666666666666666,
              "#ed7953"
             ],
             [
              0.7777777777777778,
              "#fb9f3a"
             ],
             [
              0.8888888888888888,
              "#fdca26"
             ],
             [
              1,
              "#f0f921"
             ]
            ],
            "type": "histogram2d"
           }
          ],
          "histogram2dcontour": [
           {
            "colorbar": {
             "outlinewidth": 0,
             "ticks": ""
            },
            "colorscale": [
             [
              0,
              "#0d0887"
             ],
             [
              0.1111111111111111,
              "#46039f"
             ],
             [
              0.2222222222222222,
              "#7201a8"
             ],
             [
              0.3333333333333333,
              "#9c179e"
             ],
             [
              0.4444444444444444,
              "#bd3786"
             ],
             [
              0.5555555555555556,
              "#d8576b"
             ],
             [
              0.6666666666666666,
              "#ed7953"
             ],
             [
              0.7777777777777778,
              "#fb9f3a"
             ],
             [
              0.8888888888888888,
              "#fdca26"
             ],
             [
              1,
              "#f0f921"
             ]
            ],
            "type": "histogram2dcontour"
           }
          ],
          "mesh3d": [
           {
            "colorbar": {
             "outlinewidth": 0,
             "ticks": ""
            },
            "type": "mesh3d"
           }
          ],
          "parcoords": [
           {
            "line": {
             "colorbar": {
              "outlinewidth": 0,
              "ticks": ""
             }
            },
            "type": "parcoords"
           }
          ],
          "pie": [
           {
            "automargin": true,
            "type": "pie"
           }
          ],
          "scatter": [
           {
            "marker": {
             "colorbar": {
              "outlinewidth": 0,
              "ticks": ""
             }
            },
            "type": "scatter"
           }
          ],
          "scatter3d": [
           {
            "line": {
             "colorbar": {
              "outlinewidth": 0,
              "ticks": ""
             }
            },
            "marker": {
             "colorbar": {
              "outlinewidth": 0,
              "ticks": ""
             }
            },
            "type": "scatter3d"
           }
          ],
          "scattercarpet": [
           {
            "marker": {
             "colorbar": {
              "outlinewidth": 0,
              "ticks": ""
             }
            },
            "type": "scattercarpet"
           }
          ],
          "scattergeo": [
           {
            "marker": {
             "colorbar": {
              "outlinewidth": 0,
              "ticks": ""
             }
            },
            "type": "scattergeo"
           }
          ],
          "scattergl": [
           {
            "marker": {
             "colorbar": {
              "outlinewidth": 0,
              "ticks": ""
             }
            },
            "type": "scattergl"
           }
          ],
          "scattermapbox": [
           {
            "marker": {
             "colorbar": {
              "outlinewidth": 0,
              "ticks": ""
             }
            },
            "type": "scattermapbox"
           }
          ],
          "scatterpolar": [
           {
            "marker": {
             "colorbar": {
              "outlinewidth": 0,
              "ticks": ""
             }
            },
            "type": "scatterpolar"
           }
          ],
          "scatterpolargl": [
           {
            "marker": {
             "colorbar": {
              "outlinewidth": 0,
              "ticks": ""
             }
            },
            "type": "scatterpolargl"
           }
          ],
          "scatterternary": [
           {
            "marker": {
             "colorbar": {
              "outlinewidth": 0,
              "ticks": ""
             }
            },
            "type": "scatterternary"
           }
          ],
          "surface": [
           {
            "colorbar": {
             "outlinewidth": 0,
             "ticks": ""
            },
            "colorscale": [
             [
              0,
              "#0d0887"
             ],
             [
              0.1111111111111111,
              "#46039f"
             ],
             [
              0.2222222222222222,
              "#7201a8"
             ],
             [
              0.3333333333333333,
              "#9c179e"
             ],
             [
              0.4444444444444444,
              "#bd3786"
             ],
             [
              0.5555555555555556,
              "#d8576b"
             ],
             [
              0.6666666666666666,
              "#ed7953"
             ],
             [
              0.7777777777777778,
              "#fb9f3a"
             ],
             [
              0.8888888888888888,
              "#fdca26"
             ],
             [
              1,
              "#f0f921"
             ]
            ],
            "type": "surface"
           }
          ],
          "table": [
           {
            "cells": {
             "fill": {
              "color": "#EBF0F8"
             },
             "line": {
              "color": "white"
             }
            },
            "header": {
             "fill": {
              "color": "#C8D4E3"
             },
             "line": {
              "color": "white"
             }
            },
            "type": "table"
           }
          ]
         },
         "layout": {
          "annotationdefaults": {
           "arrowcolor": "#2a3f5f",
           "arrowhead": 0,
           "arrowwidth": 1
          },
          "autotypenumbers": "strict",
          "coloraxis": {
           "colorbar": {
            "outlinewidth": 0,
            "ticks": ""
           }
          },
          "colorscale": {
           "diverging": [
            [
             0,
             "#8e0152"
            ],
            [
             0.1,
             "#c51b7d"
            ],
            [
             0.2,
             "#de77ae"
            ],
            [
             0.3,
             "#f1b6da"
            ],
            [
             0.4,
             "#fde0ef"
            ],
            [
             0.5,
             "#f7f7f7"
            ],
            [
             0.6,
             "#e6f5d0"
            ],
            [
             0.7,
             "#b8e186"
            ],
            [
             0.8,
             "#7fbc41"
            ],
            [
             0.9,
             "#4d9221"
            ],
            [
             1,
             "#276419"
            ]
           ],
           "sequential": [
            [
             0,
             "#0d0887"
            ],
            [
             0.1111111111111111,
             "#46039f"
            ],
            [
             0.2222222222222222,
             "#7201a8"
            ],
            [
             0.3333333333333333,
             "#9c179e"
            ],
            [
             0.4444444444444444,
             "#bd3786"
            ],
            [
             0.5555555555555556,
             "#d8576b"
            ],
            [
             0.6666666666666666,
             "#ed7953"
            ],
            [
             0.7777777777777778,
             "#fb9f3a"
            ],
            [
             0.8888888888888888,
             "#fdca26"
            ],
            [
             1,
             "#f0f921"
            ]
           ],
           "sequentialminus": [
            [
             0,
             "#0d0887"
            ],
            [
             0.1111111111111111,
             "#46039f"
            ],
            [
             0.2222222222222222,
             "#7201a8"
            ],
            [
             0.3333333333333333,
             "#9c179e"
            ],
            [
             0.4444444444444444,
             "#bd3786"
            ],
            [
             0.5555555555555556,
             "#d8576b"
            ],
            [
             0.6666666666666666,
             "#ed7953"
            ],
            [
             0.7777777777777778,
             "#fb9f3a"
            ],
            [
             0.8888888888888888,
             "#fdca26"
            ],
            [
             1,
             "#f0f921"
            ]
           ]
          },
          "colorway": [
           "#636efa",
           "#EF553B",
           "#00cc96",
           "#ab63fa",
           "#FFA15A",
           "#19d3f3",
           "#FF6692",
           "#B6E880",
           "#FF97FF",
           "#FECB52"
          ],
          "font": {
           "color": "#2a3f5f"
          },
          "geo": {
           "bgcolor": "white",
           "lakecolor": "white",
           "landcolor": "#E5ECF6",
           "showlakes": true,
           "showland": true,
           "subunitcolor": "white"
          },
          "hoverlabel": {
           "align": "left"
          },
          "hovermode": "closest",
          "mapbox": {
           "style": "light"
          },
          "paper_bgcolor": "white",
          "plot_bgcolor": "#E5ECF6",
          "polar": {
           "angularaxis": {
            "gridcolor": "white",
            "linecolor": "white",
            "ticks": ""
           },
           "bgcolor": "#E5ECF6",
           "radialaxis": {
            "gridcolor": "white",
            "linecolor": "white",
            "ticks": ""
           }
          },
          "scene": {
           "xaxis": {
            "backgroundcolor": "#E5ECF6",
            "gridcolor": "white",
            "gridwidth": 2,
            "linecolor": "white",
            "showbackground": true,
            "ticks": "",
            "zerolinecolor": "white"
           },
           "yaxis": {
            "backgroundcolor": "#E5ECF6",
            "gridcolor": "white",
            "gridwidth": 2,
            "linecolor": "white",
            "showbackground": true,
            "ticks": "",
            "zerolinecolor": "white"
           },
           "zaxis": {
            "backgroundcolor": "#E5ECF6",
            "gridcolor": "white",
            "gridwidth": 2,
            "linecolor": "white",
            "showbackground": true,
            "ticks": "",
            "zerolinecolor": "white"
           }
          },
          "shapedefaults": {
           "line": {
            "color": "#2a3f5f"
           }
          },
          "ternary": {
           "aaxis": {
            "gridcolor": "white",
            "linecolor": "white",
            "ticks": ""
           },
           "baxis": {
            "gridcolor": "white",
            "linecolor": "white",
            "ticks": ""
           },
           "bgcolor": "#E5ECF6",
           "caxis": {
            "gridcolor": "white",
            "linecolor": "white",
            "ticks": ""
           }
          },
          "title": {
           "x": 0.05
          },
          "xaxis": {
           "automargin": true,
           "gridcolor": "white",
           "linecolor": "white",
           "ticks": "",
           "title": {
            "standoff": 15
           },
           "zerolinecolor": "white",
           "zerolinewidth": 2
          },
          "yaxis": {
           "automargin": true,
           "gridcolor": "white",
           "linecolor": "white",
           "ticks": "",
           "title": {
            "standoff": 15
           },
           "zerolinecolor": "white",
           "zerolinewidth": 2
          }
         }
        }
       }
      },
      "text/html": [
       "<div>                            <div id=\"f94308c9-7642-4110-8ef6-26857ca2bb57\" class=\"plotly-graph-div\" style=\"height:525px; width:100%;\"></div>            <script type=\"text/javascript\">                require([\"plotly\"], function(Plotly) {                    window.PLOTLYENV=window.PLOTLYENV || {};                                    if (document.getElementById(\"f94308c9-7642-4110-8ef6-26857ca2bb57\")) {                    Plotly.newPlot(                        \"f94308c9-7642-4110-8ef6-26857ca2bb57\",                        [{\"dimensions\":[{\"axis\":{\"matches\":true},\"label\":\"White\",\"values\":[59.7,73.97,75.12,63.66,80.53,71.53,81.3,58.62,68.68,78.41,67.78,67.63,75.38,77.22,77.58,78.07,83.31,82.16,55.54,84.0,85.43,82.85,67.16,68.09,62.01,86.95,84.29,72.32,75.92,86.43,65.93,65.59,90.02,76.72,58.41,84.38,74.81,87.06,89.97,93.08,24.95,92.88,94.31,88.54,80.46,68.76,84.27,86.58,64.58,41.27,94.16,91.44]},{\"axis\":{\"matches\":true},\"label\":\"Black\",\"values\":[5.79,12.13,16.07,15.66,11.18,14.2,12.41,31.61,21.44,13.79,13.46,19.18,3.8,4.5,16.76,7.63,9.4,11.49,29.89,4.16,6.41,6.41,26.77,26.64,32.22,8.07,1.91,7.28,10.72,1.19,11.65,9.12,3.71,15.32,37.72,5.85,2.11,4.83,0.69,3.69,1.83,1.6,1.38,0.5,6.77,22.18,2.01,2.91,3.28,46.31,1.36,0.96]},{\"axis\":{\"matches\":true},\"label\":\"Indian\",\"values\":[0.77,0.5,0.28,0.41,0.19,0.26,0.2,0.36,1.21,0.54,0.22,0.28,1.28,4.5,0.27,0.22,0.24,0.44,0.28,0.98,0.89,1.04,0.35,0.52,0.57,0.21,1.16,7.62,0.28,1.09,0.21,1.28,0.38,0.68,0.48,0.82,9.55,0.92,1.35,0.2,0.26,0.15,0.65,6.36,0.5,0.39,8.75,5.29,14.89,0.3,0.34,2.44]},{\"axis\":{\"matches\":true},\"label\":\"Asian\",\"values\":[14.49,4.8,2.73,8.42,3.41,5.47,2.22,3.98,2.85,3.13,9.46,6.4,8.53,3.31,1.75,6.6,2.28,1.98,6.28,3.18,2.79,4.82,1.57,1.36,1.73,1.47,4.37,2.17,4.51,2.32,0.19,8.15,2.41,1.52,0.99,2.95,1.56,2.38,1.41,0.8,37.79,2.68,1.13,0.79,3.4,3.87,1.45,1.45,6.23,3.98,1.68,0.86]}],\"hovertemplate\":\"%{xaxis.title.text}=%{x}<br>%{yaxis.title.text}=%{y}<br>2021 Population=%{marker.color}<extra></extra>\",\"legendgroup\":\"\",\"marker\":{\"color\":[39613493,29730311,21944577,19299981,12804123,12569321,11714618,10830007,10701022,9992427,8874520,8603985,7796941,7520103,6944260,6912239,6805663,6169038,6065436,5893634,5852490,5706398,5277830,4934193,4627002,4480713,4289439,3990443,3552821,3310774,3194374,3185786,3167974,3033946,2966407,2917224,2105005,1951996,1860123,1767859,1406430,1372203,1354522,1085004,1061509,990334,896581,770026,724357,714153,623251,581075],\"coloraxis\":\"coloraxis\",\"symbol\":\"circle\"},\"name\":\"\",\"showlegend\":false,\"type\":\"splom\"}],                        {\"coloraxis\":{\"colorbar\":{\"title\":{\"text\":\"2021 Population\"}},\"colorscale\":[[0.0,\"#0d0887\"],[0.1111111111111111,\"#46039f\"],[0.2222222222222222,\"#7201a8\"],[0.3333333333333333,\"#9c179e\"],[0.4444444444444444,\"#bd3786\"],[0.5555555555555556,\"#d8576b\"],[0.6666666666666666,\"#ed7953\"],[0.7777777777777778,\"#fb9f3a\"],[0.8888888888888888,\"#fdca26\"],[1.0,\"#f0f921\"]]},\"dragmode\":\"select\",\"legend\":{\"tracegroupgap\":0},\"margin\":{\"t\":60},\"template\":{\"data\":{\"bar\":[{\"error_x\":{\"color\":\"#2a3f5f\"},\"error_y\":{\"color\":\"#2a3f5f\"},\"marker\":{\"line\":{\"color\":\"#E5ECF6\",\"width\":0.5},\"pattern\":{\"fillmode\":\"overlay\",\"size\":10,\"solidity\":0.2}},\"type\":\"bar\"}],\"barpolar\":[{\"marker\":{\"line\":{\"color\":\"#E5ECF6\",\"width\":0.5},\"pattern\":{\"fillmode\":\"overlay\",\"size\":10,\"solidity\":0.2}},\"type\":\"barpolar\"}],\"carpet\":[{\"aaxis\":{\"endlinecolor\":\"#2a3f5f\",\"gridcolor\":\"white\",\"linecolor\":\"white\",\"minorgridcolor\":\"white\",\"startlinecolor\":\"#2a3f5f\"},\"baxis\":{\"endlinecolor\":\"#2a3f5f\",\"gridcolor\":\"white\",\"linecolor\":\"white\",\"minorgridcolor\":\"white\",\"startlinecolor\":\"#2a3f5f\"},\"type\":\"carpet\"}],\"choropleth\":[{\"colorbar\":{\"outlinewidth\":0,\"ticks\":\"\"},\"type\":\"choropleth\"}],\"contour\":[{\"colorbar\":{\"outlinewidth\":0,\"ticks\":\"\"},\"colorscale\":[[0.0,\"#0d0887\"],[0.1111111111111111,\"#46039f\"],[0.2222222222222222,\"#7201a8\"],[0.3333333333333333,\"#9c179e\"],[0.4444444444444444,\"#bd3786\"],[0.5555555555555556,\"#d8576b\"],[0.6666666666666666,\"#ed7953\"],[0.7777777777777778,\"#fb9f3a\"],[0.8888888888888888,\"#fdca26\"],[1.0,\"#f0f921\"]],\"type\":\"contour\"}],\"contourcarpet\":[{\"colorbar\":{\"outlinewidth\":0,\"ticks\":\"\"},\"type\":\"contourcarpet\"}],\"heatmap\":[{\"colorbar\":{\"outlinewidth\":0,\"ticks\":\"\"},\"colorscale\":[[0.0,\"#0d0887\"],[0.1111111111111111,\"#46039f\"],[0.2222222222222222,\"#7201a8\"],[0.3333333333333333,\"#9c179e\"],[0.4444444444444444,\"#bd3786\"],[0.5555555555555556,\"#d8576b\"],[0.6666666666666666,\"#ed7953\"],[0.7777777777777778,\"#fb9f3a\"],[0.8888888888888888,\"#fdca26\"],[1.0,\"#f0f921\"]],\"type\":\"heatmap\"}],\"heatmapgl\":[{\"colorbar\":{\"outlinewidth\":0,\"ticks\":\"\"},\"colorscale\":[[0.0,\"#0d0887\"],[0.1111111111111111,\"#46039f\"],[0.2222222222222222,\"#7201a8\"],[0.3333333333333333,\"#9c179e\"],[0.4444444444444444,\"#bd3786\"],[0.5555555555555556,\"#d8576b\"],[0.6666666666666666,\"#ed7953\"],[0.7777777777777778,\"#fb9f3a\"],[0.8888888888888888,\"#fdca26\"],[1.0,\"#f0f921\"]],\"type\":\"heatmapgl\"}],\"histogram\":[{\"marker\":{\"pattern\":{\"fillmode\":\"overlay\",\"size\":10,\"solidity\":0.2}},\"type\":\"histogram\"}],\"histogram2d\":[{\"colorbar\":{\"outlinewidth\":0,\"ticks\":\"\"},\"colorscale\":[[0.0,\"#0d0887\"],[0.1111111111111111,\"#46039f\"],[0.2222222222222222,\"#7201a8\"],[0.3333333333333333,\"#9c179e\"],[0.4444444444444444,\"#bd3786\"],[0.5555555555555556,\"#d8576b\"],[0.6666666666666666,\"#ed7953\"],[0.7777777777777778,\"#fb9f3a\"],[0.8888888888888888,\"#fdca26\"],[1.0,\"#f0f921\"]],\"type\":\"histogram2d\"}],\"histogram2dcontour\":[{\"colorbar\":{\"outlinewidth\":0,\"ticks\":\"\"},\"colorscale\":[[0.0,\"#0d0887\"],[0.1111111111111111,\"#46039f\"],[0.2222222222222222,\"#7201a8\"],[0.3333333333333333,\"#9c179e\"],[0.4444444444444444,\"#bd3786\"],[0.5555555555555556,\"#d8576b\"],[0.6666666666666666,\"#ed7953\"],[0.7777777777777778,\"#fb9f3a\"],[0.8888888888888888,\"#fdca26\"],[1.0,\"#f0f921\"]],\"type\":\"histogram2dcontour\"}],\"mesh3d\":[{\"colorbar\":{\"outlinewidth\":0,\"ticks\":\"\"},\"type\":\"mesh3d\"}],\"parcoords\":[{\"line\":{\"colorbar\":{\"outlinewidth\":0,\"ticks\":\"\"}},\"type\":\"parcoords\"}],\"pie\":[{\"automargin\":true,\"type\":\"pie\"}],\"scatter\":[{\"marker\":{\"colorbar\":{\"outlinewidth\":0,\"ticks\":\"\"}},\"type\":\"scatter\"}],\"scatter3d\":[{\"line\":{\"colorbar\":{\"outlinewidth\":0,\"ticks\":\"\"}},\"marker\":{\"colorbar\":{\"outlinewidth\":0,\"ticks\":\"\"}},\"type\":\"scatter3d\"}],\"scattercarpet\":[{\"marker\":{\"colorbar\":{\"outlinewidth\":0,\"ticks\":\"\"}},\"type\":\"scattercarpet\"}],\"scattergeo\":[{\"marker\":{\"colorbar\":{\"outlinewidth\":0,\"ticks\":\"\"}},\"type\":\"scattergeo\"}],\"scattergl\":[{\"marker\":{\"colorbar\":{\"outlinewidth\":0,\"ticks\":\"\"}},\"type\":\"scattergl\"}],\"scattermapbox\":[{\"marker\":{\"colorbar\":{\"outlinewidth\":0,\"ticks\":\"\"}},\"type\":\"scattermapbox\"}],\"scatterpolar\":[{\"marker\":{\"colorbar\":{\"outlinewidth\":0,\"ticks\":\"\"}},\"type\":\"scatterpolar\"}],\"scatterpolargl\":[{\"marker\":{\"colorbar\":{\"outlinewidth\":0,\"ticks\":\"\"}},\"type\":\"scatterpolargl\"}],\"scatterternary\":[{\"marker\":{\"colorbar\":{\"outlinewidth\":0,\"ticks\":\"\"}},\"type\":\"scatterternary\"}],\"surface\":[{\"colorbar\":{\"outlinewidth\":0,\"ticks\":\"\"},\"colorscale\":[[0.0,\"#0d0887\"],[0.1111111111111111,\"#46039f\"],[0.2222222222222222,\"#7201a8\"],[0.3333333333333333,\"#9c179e\"],[0.4444444444444444,\"#bd3786\"],[0.5555555555555556,\"#d8576b\"],[0.6666666666666666,\"#ed7953\"],[0.7777777777777778,\"#fb9f3a\"],[0.8888888888888888,\"#fdca26\"],[1.0,\"#f0f921\"]],\"type\":\"surface\"}],\"table\":[{\"cells\":{\"fill\":{\"color\":\"#EBF0F8\"},\"line\":{\"color\":\"white\"}},\"header\":{\"fill\":{\"color\":\"#C8D4E3\"},\"line\":{\"color\":\"white\"}},\"type\":\"table\"}]},\"layout\":{\"annotationdefaults\":{\"arrowcolor\":\"#2a3f5f\",\"arrowhead\":0,\"arrowwidth\":1},\"autotypenumbers\":\"strict\",\"coloraxis\":{\"colorbar\":{\"outlinewidth\":0,\"ticks\":\"\"}},\"colorscale\":{\"diverging\":[[0,\"#8e0152\"],[0.1,\"#c51b7d\"],[0.2,\"#de77ae\"],[0.3,\"#f1b6da\"],[0.4,\"#fde0ef\"],[0.5,\"#f7f7f7\"],[0.6,\"#e6f5d0\"],[0.7,\"#b8e186\"],[0.8,\"#7fbc41\"],[0.9,\"#4d9221\"],[1,\"#276419\"]],\"sequential\":[[0.0,\"#0d0887\"],[0.1111111111111111,\"#46039f\"],[0.2222222222222222,\"#7201a8\"],[0.3333333333333333,\"#9c179e\"],[0.4444444444444444,\"#bd3786\"],[0.5555555555555556,\"#d8576b\"],[0.6666666666666666,\"#ed7953\"],[0.7777777777777778,\"#fb9f3a\"],[0.8888888888888888,\"#fdca26\"],[1.0,\"#f0f921\"]],\"sequentialminus\":[[0.0,\"#0d0887\"],[0.1111111111111111,\"#46039f\"],[0.2222222222222222,\"#7201a8\"],[0.3333333333333333,\"#9c179e\"],[0.4444444444444444,\"#bd3786\"],[0.5555555555555556,\"#d8576b\"],[0.6666666666666666,\"#ed7953\"],[0.7777777777777778,\"#fb9f3a\"],[0.8888888888888888,\"#fdca26\"],[1.0,\"#f0f921\"]]},\"colorway\":[\"#636efa\",\"#EF553B\",\"#00cc96\",\"#ab63fa\",\"#FFA15A\",\"#19d3f3\",\"#FF6692\",\"#B6E880\",\"#FF97FF\",\"#FECB52\"],\"font\":{\"color\":\"#2a3f5f\"},\"geo\":{\"bgcolor\":\"white\",\"lakecolor\":\"white\",\"landcolor\":\"#E5ECF6\",\"showlakes\":true,\"showland\":true,\"subunitcolor\":\"white\"},\"hoverlabel\":{\"align\":\"left\"},\"hovermode\":\"closest\",\"mapbox\":{\"style\":\"light\"},\"paper_bgcolor\":\"white\",\"plot_bgcolor\":\"#E5ECF6\",\"polar\":{\"angularaxis\":{\"gridcolor\":\"white\",\"linecolor\":\"white\",\"ticks\":\"\"},\"bgcolor\":\"#E5ECF6\",\"radialaxis\":{\"gridcolor\":\"white\",\"linecolor\":\"white\",\"ticks\":\"\"}},\"scene\":{\"xaxis\":{\"backgroundcolor\":\"#E5ECF6\",\"gridcolor\":\"white\",\"gridwidth\":2,\"linecolor\":\"white\",\"showbackground\":true,\"ticks\":\"\",\"zerolinecolor\":\"white\"},\"yaxis\":{\"backgroundcolor\":\"#E5ECF6\",\"gridcolor\":\"white\",\"gridwidth\":2,\"linecolor\":\"white\",\"showbackground\":true,\"ticks\":\"\",\"zerolinecolor\":\"white\"},\"zaxis\":{\"backgroundcolor\":\"#E5ECF6\",\"gridcolor\":\"white\",\"gridwidth\":2,\"linecolor\":\"white\",\"showbackground\":true,\"ticks\":\"\",\"zerolinecolor\":\"white\"}},\"shapedefaults\":{\"line\":{\"color\":\"#2a3f5f\"}},\"ternary\":{\"aaxis\":{\"gridcolor\":\"white\",\"linecolor\":\"white\",\"ticks\":\"\"},\"baxis\":{\"gridcolor\":\"white\",\"linecolor\":\"white\",\"ticks\":\"\"},\"bgcolor\":\"#E5ECF6\",\"caxis\":{\"gridcolor\":\"white\",\"linecolor\":\"white\",\"ticks\":\"\"}},\"title\":{\"x\":0.05},\"xaxis\":{\"automargin\":true,\"gridcolor\":\"white\",\"linecolor\":\"white\",\"ticks\":\"\",\"title\":{\"standoff\":15},\"zerolinecolor\":\"white\",\"zerolinewidth\":2},\"yaxis\":{\"automargin\":true,\"gridcolor\":\"white\",\"linecolor\":\"white\",\"ticks\":\"\",\"title\":{\"standoff\":15},\"zerolinecolor\":\"white\",\"zerolinewidth\":2}}}},                        {\"responsive\": true}                    ).then(function(){\n",
       "                            \n",
       "var gd = document.getElementById('f94308c9-7642-4110-8ef6-26857ca2bb57');\n",
       "var x = new MutationObserver(function (mutations, observer) {{\n",
       "        var display = window.getComputedStyle(gd).display;\n",
       "        if (!display || display === 'none') {{\n",
       "            console.log([gd, 'removed!']);\n",
       "            Plotly.purge(gd);\n",
       "            observer.disconnect();\n",
       "        }}\n",
       "}});\n",
       "\n",
       "// Listen for the removal of the full notebook cells\n",
       "var notebookContainer = gd.closest('#notebook-container');\n",
       "if (notebookContainer) {{\n",
       "    x.observe(notebookContainer, {childList: true});\n",
       "}}\n",
       "\n",
       "// Listen for the clearing of the current output cell\n",
       "var outputEl = gd.closest('.output');\n",
       "if (outputEl) {{\n",
       "    x.observe(outputEl, {childList: true});\n",
       "}}\n",
       "\n",
       "                        })                };                });            </script>        </div>"
      ]
     },
     "metadata": {},
     "output_type": "display_data"
    }
   ],
   "source": [
    "##Ploting the race and population relationship\n",
    "fig = px.scatter_matrix(df, dimensions=[\"White\", \"Black\", \"Indian\", \"Asian\"], color=\"2021 Population\")\n",
    "fig.show()"
   ]
  },
  {
   "cell_type": "markdown",
   "metadata": {},
   "source": [
    "**Summary: We can check  2021 population by race"
   ]
  },
  {
   "cell_type": "code",
   "execution_count": 172,
   "metadata": {},
   "outputs": [
    {
     "data": {
      "application/vnd.plotly.v1+json": {
       "config": {
        "plotlyServerURL": "https://plot.ly"
       },
       "data": [
        {
         "hovertemplate": "2021 Population=%{x}<br>% of US=%{y}<br>White=%{marker.color}<extra></extra>",
         "legendgroup": "",
         "marker": {
          "color": [
           63.66
          ],
          "coloraxis": "coloraxis",
          "symbol": "circle"
         },
         "mode": "markers",
         "name": "",
         "orientation": "v",
         "showlegend": false,
         "type": "scatter",
         "x": [
          19299981
         ],
         "xaxis": "x",
         "y": [
          5.77
         ],
         "yaxis": "y"
        }
       ],
       "layout": {
        "coloraxis": {
         "colorbar": {
          "title": {
           "text": "White"
          }
         },
         "colorscale": [
          [
           0,
           "#0d0887"
          ],
          [
           0.1111111111111111,
           "#46039f"
          ],
          [
           0.2222222222222222,
           "#7201a8"
          ],
          [
           0.3333333333333333,
           "#9c179e"
          ],
          [
           0.4444444444444444,
           "#bd3786"
          ],
          [
           0.5555555555555556,
           "#d8576b"
          ],
          [
           0.6666666666666666,
           "#ed7953"
          ],
          [
           0.7777777777777778,
           "#fb9f3a"
          ],
          [
           0.8888888888888888,
           "#fdca26"
          ],
          [
           1,
           "#f0f921"
          ]
         ]
        },
        "legend": {
         "tracegroupgap": 0
        },
        "margin": {
         "t": 60
        },
        "template": {
         "data": {
          "bar": [
           {
            "error_x": {
             "color": "#2a3f5f"
            },
            "error_y": {
             "color": "#2a3f5f"
            },
            "marker": {
             "line": {
              "color": "#E5ECF6",
              "width": 0.5
             },
             "pattern": {
              "fillmode": "overlay",
              "size": 10,
              "solidity": 0.2
             }
            },
            "type": "bar"
           }
          ],
          "barpolar": [
           {
            "marker": {
             "line": {
              "color": "#E5ECF6",
              "width": 0.5
             },
             "pattern": {
              "fillmode": "overlay",
              "size": 10,
              "solidity": 0.2
             }
            },
            "type": "barpolar"
           }
          ],
          "carpet": [
           {
            "aaxis": {
             "endlinecolor": "#2a3f5f",
             "gridcolor": "white",
             "linecolor": "white",
             "minorgridcolor": "white",
             "startlinecolor": "#2a3f5f"
            },
            "baxis": {
             "endlinecolor": "#2a3f5f",
             "gridcolor": "white",
             "linecolor": "white",
             "minorgridcolor": "white",
             "startlinecolor": "#2a3f5f"
            },
            "type": "carpet"
           }
          ],
          "choropleth": [
           {
            "colorbar": {
             "outlinewidth": 0,
             "ticks": ""
            },
            "type": "choropleth"
           }
          ],
          "contour": [
           {
            "colorbar": {
             "outlinewidth": 0,
             "ticks": ""
            },
            "colorscale": [
             [
              0,
              "#0d0887"
             ],
             [
              0.1111111111111111,
              "#46039f"
             ],
             [
              0.2222222222222222,
              "#7201a8"
             ],
             [
              0.3333333333333333,
              "#9c179e"
             ],
             [
              0.4444444444444444,
              "#bd3786"
             ],
             [
              0.5555555555555556,
              "#d8576b"
             ],
             [
              0.6666666666666666,
              "#ed7953"
             ],
             [
              0.7777777777777778,
              "#fb9f3a"
             ],
             [
              0.8888888888888888,
              "#fdca26"
             ],
             [
              1,
              "#f0f921"
             ]
            ],
            "type": "contour"
           }
          ],
          "contourcarpet": [
           {
            "colorbar": {
             "outlinewidth": 0,
             "ticks": ""
            },
            "type": "contourcarpet"
           }
          ],
          "heatmap": [
           {
            "colorbar": {
             "outlinewidth": 0,
             "ticks": ""
            },
            "colorscale": [
             [
              0,
              "#0d0887"
             ],
             [
              0.1111111111111111,
              "#46039f"
             ],
             [
              0.2222222222222222,
              "#7201a8"
             ],
             [
              0.3333333333333333,
              "#9c179e"
             ],
             [
              0.4444444444444444,
              "#bd3786"
             ],
             [
              0.5555555555555556,
              "#d8576b"
             ],
             [
              0.6666666666666666,
              "#ed7953"
             ],
             [
              0.7777777777777778,
              "#fb9f3a"
             ],
             [
              0.8888888888888888,
              "#fdca26"
             ],
             [
              1,
              "#f0f921"
             ]
            ],
            "type": "heatmap"
           }
          ],
          "heatmapgl": [
           {
            "colorbar": {
             "outlinewidth": 0,
             "ticks": ""
            },
            "colorscale": [
             [
              0,
              "#0d0887"
             ],
             [
              0.1111111111111111,
              "#46039f"
             ],
             [
              0.2222222222222222,
              "#7201a8"
             ],
             [
              0.3333333333333333,
              "#9c179e"
             ],
             [
              0.4444444444444444,
              "#bd3786"
             ],
             [
              0.5555555555555556,
              "#d8576b"
             ],
             [
              0.6666666666666666,
              "#ed7953"
             ],
             [
              0.7777777777777778,
              "#fb9f3a"
             ],
             [
              0.8888888888888888,
              "#fdca26"
             ],
             [
              1,
              "#f0f921"
             ]
            ],
            "type": "heatmapgl"
           }
          ],
          "histogram": [
           {
            "marker": {
             "pattern": {
              "fillmode": "overlay",
              "size": 10,
              "solidity": 0.2
             }
            },
            "type": "histogram"
           }
          ],
          "histogram2d": [
           {
            "colorbar": {
             "outlinewidth": 0,
             "ticks": ""
            },
            "colorscale": [
             [
              0,
              "#0d0887"
             ],
             [
              0.1111111111111111,
              "#46039f"
             ],
             [
              0.2222222222222222,
              "#7201a8"
             ],
             [
              0.3333333333333333,
              "#9c179e"
             ],
             [
              0.4444444444444444,
              "#bd3786"
             ],
             [
              0.5555555555555556,
              "#d8576b"
             ],
             [
              0.6666666666666666,
              "#ed7953"
             ],
             [
              0.7777777777777778,
              "#fb9f3a"
             ],
             [
              0.8888888888888888,
              "#fdca26"
             ],
             [
              1,
              "#f0f921"
             ]
            ],
            "type": "histogram2d"
           }
          ],
          "histogram2dcontour": [
           {
            "colorbar": {
             "outlinewidth": 0,
             "ticks": ""
            },
            "colorscale": [
             [
              0,
              "#0d0887"
             ],
             [
              0.1111111111111111,
              "#46039f"
             ],
             [
              0.2222222222222222,
              "#7201a8"
             ],
             [
              0.3333333333333333,
              "#9c179e"
             ],
             [
              0.4444444444444444,
              "#bd3786"
             ],
             [
              0.5555555555555556,
              "#d8576b"
             ],
             [
              0.6666666666666666,
              "#ed7953"
             ],
             [
              0.7777777777777778,
              "#fb9f3a"
             ],
             [
              0.8888888888888888,
              "#fdca26"
             ],
             [
              1,
              "#f0f921"
             ]
            ],
            "type": "histogram2dcontour"
           }
          ],
          "mesh3d": [
           {
            "colorbar": {
             "outlinewidth": 0,
             "ticks": ""
            },
            "type": "mesh3d"
           }
          ],
          "parcoords": [
           {
            "line": {
             "colorbar": {
              "outlinewidth": 0,
              "ticks": ""
             }
            },
            "type": "parcoords"
           }
          ],
          "pie": [
           {
            "automargin": true,
            "type": "pie"
           }
          ],
          "scatter": [
           {
            "marker": {
             "colorbar": {
              "outlinewidth": 0,
              "ticks": ""
             }
            },
            "type": "scatter"
           }
          ],
          "scatter3d": [
           {
            "line": {
             "colorbar": {
              "outlinewidth": 0,
              "ticks": ""
             }
            },
            "marker": {
             "colorbar": {
              "outlinewidth": 0,
              "ticks": ""
             }
            },
            "type": "scatter3d"
           }
          ],
          "scattercarpet": [
           {
            "marker": {
             "colorbar": {
              "outlinewidth": 0,
              "ticks": ""
             }
            },
            "type": "scattercarpet"
           }
          ],
          "scattergeo": [
           {
            "marker": {
             "colorbar": {
              "outlinewidth": 0,
              "ticks": ""
             }
            },
            "type": "scattergeo"
           }
          ],
          "scattergl": [
           {
            "marker": {
             "colorbar": {
              "outlinewidth": 0,
              "ticks": ""
             }
            },
            "type": "scattergl"
           }
          ],
          "scattermapbox": [
           {
            "marker": {
             "colorbar": {
              "outlinewidth": 0,
              "ticks": ""
             }
            },
            "type": "scattermapbox"
           }
          ],
          "scatterpolar": [
           {
            "marker": {
             "colorbar": {
              "outlinewidth": 0,
              "ticks": ""
             }
            },
            "type": "scatterpolar"
           }
          ],
          "scatterpolargl": [
           {
            "marker": {
             "colorbar": {
              "outlinewidth": 0,
              "ticks": ""
             }
            },
            "type": "scatterpolargl"
           }
          ],
          "scatterternary": [
           {
            "marker": {
             "colorbar": {
              "outlinewidth": 0,
              "ticks": ""
             }
            },
            "type": "scatterternary"
           }
          ],
          "surface": [
           {
            "colorbar": {
             "outlinewidth": 0,
             "ticks": ""
            },
            "colorscale": [
             [
              0,
              "#0d0887"
             ],
             [
              0.1111111111111111,
              "#46039f"
             ],
             [
              0.2222222222222222,
              "#7201a8"
             ],
             [
              0.3333333333333333,
              "#9c179e"
             ],
             [
              0.4444444444444444,
              "#bd3786"
             ],
             [
              0.5555555555555556,
              "#d8576b"
             ],
             [
              0.6666666666666666,
              "#ed7953"
             ],
             [
              0.7777777777777778,
              "#fb9f3a"
             ],
             [
              0.8888888888888888,
              "#fdca26"
             ],
             [
              1,
              "#f0f921"
             ]
            ],
            "type": "surface"
           }
          ],
          "table": [
           {
            "cells": {
             "fill": {
              "color": "#EBF0F8"
             },
             "line": {
              "color": "white"
             }
            },
            "header": {
             "fill": {
              "color": "#C8D4E3"
             },
             "line": {
              "color": "white"
             }
            },
            "type": "table"
           }
          ]
         },
         "layout": {
          "annotationdefaults": {
           "arrowcolor": "#2a3f5f",
           "arrowhead": 0,
           "arrowwidth": 1
          },
          "autotypenumbers": "strict",
          "coloraxis": {
           "colorbar": {
            "outlinewidth": 0,
            "ticks": ""
           }
          },
          "colorscale": {
           "diverging": [
            [
             0,
             "#8e0152"
            ],
            [
             0.1,
             "#c51b7d"
            ],
            [
             0.2,
             "#de77ae"
            ],
            [
             0.3,
             "#f1b6da"
            ],
            [
             0.4,
             "#fde0ef"
            ],
            [
             0.5,
             "#f7f7f7"
            ],
            [
             0.6,
             "#e6f5d0"
            ],
            [
             0.7,
             "#b8e186"
            ],
            [
             0.8,
             "#7fbc41"
            ],
            [
             0.9,
             "#4d9221"
            ],
            [
             1,
             "#276419"
            ]
           ],
           "sequential": [
            [
             0,
             "#0d0887"
            ],
            [
             0.1111111111111111,
             "#46039f"
            ],
            [
             0.2222222222222222,
             "#7201a8"
            ],
            [
             0.3333333333333333,
             "#9c179e"
            ],
            [
             0.4444444444444444,
             "#bd3786"
            ],
            [
             0.5555555555555556,
             "#d8576b"
            ],
            [
             0.6666666666666666,
             "#ed7953"
            ],
            [
             0.7777777777777778,
             "#fb9f3a"
            ],
            [
             0.8888888888888888,
             "#fdca26"
            ],
            [
             1,
             "#f0f921"
            ]
           ],
           "sequentialminus": [
            [
             0,
             "#0d0887"
            ],
            [
             0.1111111111111111,
             "#46039f"
            ],
            [
             0.2222222222222222,
             "#7201a8"
            ],
            [
             0.3333333333333333,
             "#9c179e"
            ],
            [
             0.4444444444444444,
             "#bd3786"
            ],
            [
             0.5555555555555556,
             "#d8576b"
            ],
            [
             0.6666666666666666,
             "#ed7953"
            ],
            [
             0.7777777777777778,
             "#fb9f3a"
            ],
            [
             0.8888888888888888,
             "#fdca26"
            ],
            [
             1,
             "#f0f921"
            ]
           ]
          },
          "colorway": [
           "#636efa",
           "#EF553B",
           "#00cc96",
           "#ab63fa",
           "#FFA15A",
           "#19d3f3",
           "#FF6692",
           "#B6E880",
           "#FF97FF",
           "#FECB52"
          ],
          "font": {
           "color": "#2a3f5f"
          },
          "geo": {
           "bgcolor": "white",
           "lakecolor": "white",
           "landcolor": "#E5ECF6",
           "showlakes": true,
           "showland": true,
           "subunitcolor": "white"
          },
          "hoverlabel": {
           "align": "left"
          },
          "hovermode": "closest",
          "mapbox": {
           "style": "light"
          },
          "paper_bgcolor": "white",
          "plot_bgcolor": "#E5ECF6",
          "polar": {
           "angularaxis": {
            "gridcolor": "white",
            "linecolor": "white",
            "ticks": ""
           },
           "bgcolor": "#E5ECF6",
           "radialaxis": {
            "gridcolor": "white",
            "linecolor": "white",
            "ticks": ""
           }
          },
          "scene": {
           "xaxis": {
            "backgroundcolor": "#E5ECF6",
            "gridcolor": "white",
            "gridwidth": 2,
            "linecolor": "white",
            "showbackground": true,
            "ticks": "",
            "zerolinecolor": "white"
           },
           "yaxis": {
            "backgroundcolor": "#E5ECF6",
            "gridcolor": "white",
            "gridwidth": 2,
            "linecolor": "white",
            "showbackground": true,
            "ticks": "",
            "zerolinecolor": "white"
           },
           "zaxis": {
            "backgroundcolor": "#E5ECF6",
            "gridcolor": "white",
            "gridwidth": 2,
            "linecolor": "white",
            "showbackground": true,
            "ticks": "",
            "zerolinecolor": "white"
           }
          },
          "shapedefaults": {
           "line": {
            "color": "#2a3f5f"
           }
          },
          "ternary": {
           "aaxis": {
            "gridcolor": "white",
            "linecolor": "white",
            "ticks": ""
           },
           "baxis": {
            "gridcolor": "white",
            "linecolor": "white",
            "ticks": ""
           },
           "bgcolor": "#E5ECF6",
           "caxis": {
            "gridcolor": "white",
            "linecolor": "white",
            "ticks": ""
           }
          },
          "title": {
           "x": 0.05
          },
          "xaxis": {
           "automargin": true,
           "gridcolor": "white",
           "linecolor": "white",
           "ticks": "",
           "title": {
            "standoff": 15
           },
           "zerolinecolor": "white",
           "zerolinewidth": 2
          },
          "yaxis": {
           "automargin": true,
           "gridcolor": "white",
           "linecolor": "white",
           "ticks": "",
           "title": {
            "standoff": 15
           },
           "zerolinecolor": "white",
           "zerolinewidth": 2
          }
         }
        },
        "xaxis": {
         "anchor": "y",
         "domain": [
          0,
          1
         ],
         "title": {
          "text": "2021 Population"
         }
        },
        "yaxis": {
         "anchor": "x",
         "domain": [
          0,
          1
         ],
         "title": {
          "text": "% of US"
         }
        }
       }
      },
      "text/html": [
       "<div>                            <div id=\"0ca0c22b-9a71-40f5-b1ec-ca1ddfb27329\" class=\"plotly-graph-div\" style=\"height:525px; width:100%;\"></div>            <script type=\"text/javascript\">                require([\"plotly\"], function(Plotly) {                    window.PLOTLYENV=window.PLOTLYENV || {};                                    if (document.getElementById(\"0ca0c22b-9a71-40f5-b1ec-ca1ddfb27329\")) {                    Plotly.newPlot(                        \"0ca0c22b-9a71-40f5-b1ec-ca1ddfb27329\",                        [{\"hovertemplate\":\"2021 Population=%{x}<br>% of US=%{y}<br>White=%{marker.color}<extra></extra>\",\"legendgroup\":\"\",\"marker\":{\"color\":[63.66],\"coloraxis\":\"coloraxis\",\"symbol\":\"circle\"},\"mode\":\"markers\",\"name\":\"\",\"orientation\":\"v\",\"showlegend\":false,\"type\":\"scatter\",\"x\":[19299981],\"xaxis\":\"x\",\"y\":[5.77],\"yaxis\":\"y\"}],                        {\"coloraxis\":{\"colorbar\":{\"title\":{\"text\":\"White\"}},\"colorscale\":[[0.0,\"#0d0887\"],[0.1111111111111111,\"#46039f\"],[0.2222222222222222,\"#7201a8\"],[0.3333333333333333,\"#9c179e\"],[0.4444444444444444,\"#bd3786\"],[0.5555555555555556,\"#d8576b\"],[0.6666666666666666,\"#ed7953\"],[0.7777777777777778,\"#fb9f3a\"],[0.8888888888888888,\"#fdca26\"],[1.0,\"#f0f921\"]]},\"legend\":{\"tracegroupgap\":0},\"margin\":{\"t\":60},\"template\":{\"data\":{\"bar\":[{\"error_x\":{\"color\":\"#2a3f5f\"},\"error_y\":{\"color\":\"#2a3f5f\"},\"marker\":{\"line\":{\"color\":\"#E5ECF6\",\"width\":0.5},\"pattern\":{\"fillmode\":\"overlay\",\"size\":10,\"solidity\":0.2}},\"type\":\"bar\"}],\"barpolar\":[{\"marker\":{\"line\":{\"color\":\"#E5ECF6\",\"width\":0.5},\"pattern\":{\"fillmode\":\"overlay\",\"size\":10,\"solidity\":0.2}},\"type\":\"barpolar\"}],\"carpet\":[{\"aaxis\":{\"endlinecolor\":\"#2a3f5f\",\"gridcolor\":\"white\",\"linecolor\":\"white\",\"minorgridcolor\":\"white\",\"startlinecolor\":\"#2a3f5f\"},\"baxis\":{\"endlinecolor\":\"#2a3f5f\",\"gridcolor\":\"white\",\"linecolor\":\"white\",\"minorgridcolor\":\"white\",\"startlinecolor\":\"#2a3f5f\"},\"type\":\"carpet\"}],\"choropleth\":[{\"colorbar\":{\"outlinewidth\":0,\"ticks\":\"\"},\"type\":\"choropleth\"}],\"contour\":[{\"colorbar\":{\"outlinewidth\":0,\"ticks\":\"\"},\"colorscale\":[[0.0,\"#0d0887\"],[0.1111111111111111,\"#46039f\"],[0.2222222222222222,\"#7201a8\"],[0.3333333333333333,\"#9c179e\"],[0.4444444444444444,\"#bd3786\"],[0.5555555555555556,\"#d8576b\"],[0.6666666666666666,\"#ed7953\"],[0.7777777777777778,\"#fb9f3a\"],[0.8888888888888888,\"#fdca26\"],[1.0,\"#f0f921\"]],\"type\":\"contour\"}],\"contourcarpet\":[{\"colorbar\":{\"outlinewidth\":0,\"ticks\":\"\"},\"type\":\"contourcarpet\"}],\"heatmap\":[{\"colorbar\":{\"outlinewidth\":0,\"ticks\":\"\"},\"colorscale\":[[0.0,\"#0d0887\"],[0.1111111111111111,\"#46039f\"],[0.2222222222222222,\"#7201a8\"],[0.3333333333333333,\"#9c179e\"],[0.4444444444444444,\"#bd3786\"],[0.5555555555555556,\"#d8576b\"],[0.6666666666666666,\"#ed7953\"],[0.7777777777777778,\"#fb9f3a\"],[0.8888888888888888,\"#fdca26\"],[1.0,\"#f0f921\"]],\"type\":\"heatmap\"}],\"heatmapgl\":[{\"colorbar\":{\"outlinewidth\":0,\"ticks\":\"\"},\"colorscale\":[[0.0,\"#0d0887\"],[0.1111111111111111,\"#46039f\"],[0.2222222222222222,\"#7201a8\"],[0.3333333333333333,\"#9c179e\"],[0.4444444444444444,\"#bd3786\"],[0.5555555555555556,\"#d8576b\"],[0.6666666666666666,\"#ed7953\"],[0.7777777777777778,\"#fb9f3a\"],[0.8888888888888888,\"#fdca26\"],[1.0,\"#f0f921\"]],\"type\":\"heatmapgl\"}],\"histogram\":[{\"marker\":{\"pattern\":{\"fillmode\":\"overlay\",\"size\":10,\"solidity\":0.2}},\"type\":\"histogram\"}],\"histogram2d\":[{\"colorbar\":{\"outlinewidth\":0,\"ticks\":\"\"},\"colorscale\":[[0.0,\"#0d0887\"],[0.1111111111111111,\"#46039f\"],[0.2222222222222222,\"#7201a8\"],[0.3333333333333333,\"#9c179e\"],[0.4444444444444444,\"#bd3786\"],[0.5555555555555556,\"#d8576b\"],[0.6666666666666666,\"#ed7953\"],[0.7777777777777778,\"#fb9f3a\"],[0.8888888888888888,\"#fdca26\"],[1.0,\"#f0f921\"]],\"type\":\"histogram2d\"}],\"histogram2dcontour\":[{\"colorbar\":{\"outlinewidth\":0,\"ticks\":\"\"},\"colorscale\":[[0.0,\"#0d0887\"],[0.1111111111111111,\"#46039f\"],[0.2222222222222222,\"#7201a8\"],[0.3333333333333333,\"#9c179e\"],[0.4444444444444444,\"#bd3786\"],[0.5555555555555556,\"#d8576b\"],[0.6666666666666666,\"#ed7953\"],[0.7777777777777778,\"#fb9f3a\"],[0.8888888888888888,\"#fdca26\"],[1.0,\"#f0f921\"]],\"type\":\"histogram2dcontour\"}],\"mesh3d\":[{\"colorbar\":{\"outlinewidth\":0,\"ticks\":\"\"},\"type\":\"mesh3d\"}],\"parcoords\":[{\"line\":{\"colorbar\":{\"outlinewidth\":0,\"ticks\":\"\"}},\"type\":\"parcoords\"}],\"pie\":[{\"automargin\":true,\"type\":\"pie\"}],\"scatter\":[{\"marker\":{\"colorbar\":{\"outlinewidth\":0,\"ticks\":\"\"}},\"type\":\"scatter\"}],\"scatter3d\":[{\"line\":{\"colorbar\":{\"outlinewidth\":0,\"ticks\":\"\"}},\"marker\":{\"colorbar\":{\"outlinewidth\":0,\"ticks\":\"\"}},\"type\":\"scatter3d\"}],\"scattercarpet\":[{\"marker\":{\"colorbar\":{\"outlinewidth\":0,\"ticks\":\"\"}},\"type\":\"scattercarpet\"}],\"scattergeo\":[{\"marker\":{\"colorbar\":{\"outlinewidth\":0,\"ticks\":\"\"}},\"type\":\"scattergeo\"}],\"scattergl\":[{\"marker\":{\"colorbar\":{\"outlinewidth\":0,\"ticks\":\"\"}},\"type\":\"scattergl\"}],\"scattermapbox\":[{\"marker\":{\"colorbar\":{\"outlinewidth\":0,\"ticks\":\"\"}},\"type\":\"scattermapbox\"}],\"scatterpolar\":[{\"marker\":{\"colorbar\":{\"outlinewidth\":0,\"ticks\":\"\"}},\"type\":\"scatterpolar\"}],\"scatterpolargl\":[{\"marker\":{\"colorbar\":{\"outlinewidth\":0,\"ticks\":\"\"}},\"type\":\"scatterpolargl\"}],\"scatterternary\":[{\"marker\":{\"colorbar\":{\"outlinewidth\":0,\"ticks\":\"\"}},\"type\":\"scatterternary\"}],\"surface\":[{\"colorbar\":{\"outlinewidth\":0,\"ticks\":\"\"},\"colorscale\":[[0.0,\"#0d0887\"],[0.1111111111111111,\"#46039f\"],[0.2222222222222222,\"#7201a8\"],[0.3333333333333333,\"#9c179e\"],[0.4444444444444444,\"#bd3786\"],[0.5555555555555556,\"#d8576b\"],[0.6666666666666666,\"#ed7953\"],[0.7777777777777778,\"#fb9f3a\"],[0.8888888888888888,\"#fdca26\"],[1.0,\"#f0f921\"]],\"type\":\"surface\"}],\"table\":[{\"cells\":{\"fill\":{\"color\":\"#EBF0F8\"},\"line\":{\"color\":\"white\"}},\"header\":{\"fill\":{\"color\":\"#C8D4E3\"},\"line\":{\"color\":\"white\"}},\"type\":\"table\"}]},\"layout\":{\"annotationdefaults\":{\"arrowcolor\":\"#2a3f5f\",\"arrowhead\":0,\"arrowwidth\":1},\"autotypenumbers\":\"strict\",\"coloraxis\":{\"colorbar\":{\"outlinewidth\":0,\"ticks\":\"\"}},\"colorscale\":{\"diverging\":[[0,\"#8e0152\"],[0.1,\"#c51b7d\"],[0.2,\"#de77ae\"],[0.3,\"#f1b6da\"],[0.4,\"#fde0ef\"],[0.5,\"#f7f7f7\"],[0.6,\"#e6f5d0\"],[0.7,\"#b8e186\"],[0.8,\"#7fbc41\"],[0.9,\"#4d9221\"],[1,\"#276419\"]],\"sequential\":[[0.0,\"#0d0887\"],[0.1111111111111111,\"#46039f\"],[0.2222222222222222,\"#7201a8\"],[0.3333333333333333,\"#9c179e\"],[0.4444444444444444,\"#bd3786\"],[0.5555555555555556,\"#d8576b\"],[0.6666666666666666,\"#ed7953\"],[0.7777777777777778,\"#fb9f3a\"],[0.8888888888888888,\"#fdca26\"],[1.0,\"#f0f921\"]],\"sequentialminus\":[[0.0,\"#0d0887\"],[0.1111111111111111,\"#46039f\"],[0.2222222222222222,\"#7201a8\"],[0.3333333333333333,\"#9c179e\"],[0.4444444444444444,\"#bd3786\"],[0.5555555555555556,\"#d8576b\"],[0.6666666666666666,\"#ed7953\"],[0.7777777777777778,\"#fb9f3a\"],[0.8888888888888888,\"#fdca26\"],[1.0,\"#f0f921\"]]},\"colorway\":[\"#636efa\",\"#EF553B\",\"#00cc96\",\"#ab63fa\",\"#FFA15A\",\"#19d3f3\",\"#FF6692\",\"#B6E880\",\"#FF97FF\",\"#FECB52\"],\"font\":{\"color\":\"#2a3f5f\"},\"geo\":{\"bgcolor\":\"white\",\"lakecolor\":\"white\",\"landcolor\":\"#E5ECF6\",\"showlakes\":true,\"showland\":true,\"subunitcolor\":\"white\"},\"hoverlabel\":{\"align\":\"left\"},\"hovermode\":\"closest\",\"mapbox\":{\"style\":\"light\"},\"paper_bgcolor\":\"white\",\"plot_bgcolor\":\"#E5ECF6\",\"polar\":{\"angularaxis\":{\"gridcolor\":\"white\",\"linecolor\":\"white\",\"ticks\":\"\"},\"bgcolor\":\"#E5ECF6\",\"radialaxis\":{\"gridcolor\":\"white\",\"linecolor\":\"white\",\"ticks\":\"\"}},\"scene\":{\"xaxis\":{\"backgroundcolor\":\"#E5ECF6\",\"gridcolor\":\"white\",\"gridwidth\":2,\"linecolor\":\"white\",\"showbackground\":true,\"ticks\":\"\",\"zerolinecolor\":\"white\"},\"yaxis\":{\"backgroundcolor\":\"#E5ECF6\",\"gridcolor\":\"white\",\"gridwidth\":2,\"linecolor\":\"white\",\"showbackground\":true,\"ticks\":\"\",\"zerolinecolor\":\"white\"},\"zaxis\":{\"backgroundcolor\":\"#E5ECF6\",\"gridcolor\":\"white\",\"gridwidth\":2,\"linecolor\":\"white\",\"showbackground\":true,\"ticks\":\"\",\"zerolinecolor\":\"white\"}},\"shapedefaults\":{\"line\":{\"color\":\"#2a3f5f\"}},\"ternary\":{\"aaxis\":{\"gridcolor\":\"white\",\"linecolor\":\"white\",\"ticks\":\"\"},\"baxis\":{\"gridcolor\":\"white\",\"linecolor\":\"white\",\"ticks\":\"\"},\"bgcolor\":\"#E5ECF6\",\"caxis\":{\"gridcolor\":\"white\",\"linecolor\":\"white\",\"ticks\":\"\"}},\"title\":{\"x\":0.05},\"xaxis\":{\"automargin\":true,\"gridcolor\":\"white\",\"linecolor\":\"white\",\"ticks\":\"\",\"title\":{\"standoff\":15},\"zerolinecolor\":\"white\",\"zerolinewidth\":2},\"yaxis\":{\"automargin\":true,\"gridcolor\":\"white\",\"linecolor\":\"white\",\"ticks\":\"\",\"title\":{\"standoff\":15},\"zerolinecolor\":\"white\",\"zerolinewidth\":2}}},\"xaxis\":{\"anchor\":\"y\",\"domain\":[0.0,1.0],\"title\":{\"text\":\"2021 Population\"}},\"yaxis\":{\"anchor\":\"x\",\"domain\":[0.0,1.0],\"title\":{\"text\":\"% of US\"}}},                        {\"responsive\": true}                    ).then(function(){\n",
       "                            \n",
       "var gd = document.getElementById('0ca0c22b-9a71-40f5-b1ec-ca1ddfb27329');\n",
       "var x = new MutationObserver(function (mutations, observer) {{\n",
       "        var display = window.getComputedStyle(gd).display;\n",
       "        if (!display || display === 'none') {{\n",
       "            console.log([gd, 'removed!']);\n",
       "            Plotly.purge(gd);\n",
       "            observer.disconnect();\n",
       "        }}\n",
       "}});\n",
       "\n",
       "// Listen for the removal of the full notebook cells\n",
       "var notebookContainer = gd.closest('#notebook-container');\n",
       "if (notebookContainer) {{\n",
       "    x.observe(notebookContainer, {childList: true});\n",
       "}}\n",
       "\n",
       "// Listen for the clearing of the current output cell\n",
       "var outputEl = gd.closest('.output');\n",
       "if (outputEl) {{\n",
       "    x.observe(outputEl, {childList: true});\n",
       "}}\n",
       "\n",
       "                        })                };                });            </script>        </div>"
      ]
     },
     "metadata": {},
     "output_type": "display_data"
    }
   ],
   "source": [
    "##Write query ,Total Population of new york and population percentage of US and white population\n",
    "fig = px.scatter(df.query(\"State=='New York'\"), x=\"2021 Population\", y=\"% of US\", color = 'White')\n",
    "fig.show()   \n"
   ]
  },
  {
   "cell_type": "markdown",
   "metadata": {},
   "source": [
    "**Summary : New york total population is 19.299M that is 5.77 % of total US population and 63.66 white population in New york"
   ]
  },
  {
   "cell_type": "markdown",
   "metadata": {},
   "source": [
    "# Comparing Plotly Vs Seaborn"
   ]
  },
  {
   "cell_type": "markdown",
   "metadata": {},
   "source": [
    "Seaborn is good for static plotting whereas Plotly can be used for inetractive plotting.The stacked bar chart for race distribution in plotly looks much better and is easy to undertand."
   ]
  },
  {
   "cell_type": "code",
   "execution_count": null,
   "metadata": {},
   "outputs": [],
   "source": []
  }
 ],
 "metadata": {
  "kernelspec": {
   "display_name": "Python 3",
   "language": "python",
   "name": "python3"
  },
  "language_info": {
   "codemirror_mode": {
    "name": "ipython",
    "version": 3
   },
   "file_extension": ".py",
   "mimetype": "text/x-python",
   "name": "python",
   "nbconvert_exporter": "python",
   "pygments_lexer": "ipython3",
   "version": "3.8.5"
  }
 },
 "nbformat": 4,
 "nbformat_minor": 4
}
